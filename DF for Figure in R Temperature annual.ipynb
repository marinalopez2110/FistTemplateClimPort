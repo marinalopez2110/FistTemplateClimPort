{
 "cells": [
  {
   "cell_type": "code",
   "execution_count": 1,
   "metadata": {},
   "outputs": [],
   "source": [
    "%load_ext autoreload\n",
    "%autoreload 2\n",
    "import xarray as xr\n",
    "import matplotlib.pyplot as plt\n",
    "import pandas as pd\n",
    "import processing_netcdf as pcdf\n",
    "import geopandas as gpd\n",
    "from geopandas import GeoDataFrame\n",
    "import shapely.geometry \n",
    "import numpy as np\n",
    "from shapely import geometry as gmty\n",
    "from geofeather import to_geofeather, from_geofeather\n",
    "import glob\n",
    "import os\n",
    "import pyarrow\n",
    "from xclim import ensembles as ens\n",
    "from xclim import subset"
   ]
  },
  {
   "cell_type": "code",
   "execution_count": 2,
   "metadata": {},
   "outputs": [],
   "source": [
    "import matplotlib.pyplot as plt"
   ]
  },
  {
   "cell_type": "code",
   "execution_count": 3,
   "metadata": {},
   "outputs": [],
   "source": [
    "folder = \"/scen3/scenario/netcdf/ouranos/portraits-clim-2.0/\""
   ]
  },
  {
   "cell_type": "markdown",
   "metadata": {},
   "source": [
    "# Select and open Region (Shapefile)"
   ]
  },
  {
   "cell_type": "code",
   "execution_count": null,
   "metadata": {},
   "outputs": [],
   "source": [
    "shapefile = (\"/home/mlopez/EXEC/Shapefiles/territoire_guide.shp\")\n",
    "poly = gpd.read_file(shapefile)\n",
    "poly= poly.to_crs('epsg:4326')\n",
    "#poly"
   ]
  },
  {
   "cell_type": "markdown",
   "metadata": {},
   "source": [
    "# Select variable"
   ]
  },
  {
   "cell_type": "code",
   "execution_count": 4,
   "metadata": {},
   "outputs": [
    {
     "data": {
      "text/plain": [
       "['/scen3/scenario/netcdf/ouranos/portraits-clim-2.0/ACCESS1-3_rcp45_tg_mean_annual.nc',\n",
       " '/scen3/scenario/netcdf/ouranos/portraits-clim-2.0/BNU-ESM_rcp45_tg_mean_annual.nc',\n",
       " '/scen3/scenario/netcdf/ouranos/portraits-clim-2.0/CanESM2_rcp45_tg_mean_annual.nc',\n",
       " '/scen3/scenario/netcdf/ouranos/portraits-clim-2.0/CMCC-CMS_rcp45_tg_mean_annual.nc',\n",
       " '/scen3/scenario/netcdf/ouranos/portraits-clim-2.0/GFDL-ESM2M_rcp45_tg_mean_annual.nc',\n",
       " '/scen3/scenario/netcdf/ouranos/portraits-clim-2.0/HadGEM2-CC_rcp45_tg_mean_annual.nc',\n",
       " '/scen3/scenario/netcdf/ouranos/portraits-clim-2.0/INM-CM4_rcp45_tg_mean_annual.nc',\n",
       " '/scen3/scenario/netcdf/ouranos/portraits-clim-2.0/IPSL-CM5A-LR_rcp45_tg_mean_annual.nc',\n",
       " '/scen3/scenario/netcdf/ouranos/portraits-clim-2.0/IPSL-CM5B-LR_rcp45_tg_mean_annual.nc',\n",
       " '/scen3/scenario/netcdf/ouranos/portraits-clim-2.0/MPI-ESM-LR_rcp45_tg_mean_annual.nc',\n",
       " '/scen3/scenario/netcdf/ouranos/portraits-clim-2.0/NorESM1-M_rcp45_tg_mean_annual.nc']"
      ]
     },
     "execution_count": 4,
     "metadata": {},
     "output_type": "execute_result"
    }
   ],
   "source": [
    "#Variable \n",
    "variable85=\"rcp85_tg_mean_annual\"\n",
    "variable45=\"rcp45_tg_mean_annual\"\n",
    "#variable=\"rcp[48]5_tg_mean_annual\"\n",
    "\n",
    "files85 = glob.glob(folder+\"*\"+variable85+\".nc\")\n",
    "files45 = glob.glob(folder+\"*\"+variable45+\".nc\")\n",
    "#ex: ACCESS1-3_rcp45_tn_mean_annual.nc\n",
    "files85\n",
    "files45\n"
   ]
  },
  {
   "cell_type": "markdown",
   "metadata": {},
   "source": [
    "# FOR RCP45 "
   ]
  },
  {
   "cell_type": "markdown",
   "metadata": {},
   "source": [
    "## Open Mask if already created or create it."
   ]
  },
  {
   "cell_type": "code",
   "execution_count": 5,
   "metadata": {},
   "outputs": [
    {
     "data": {
      "text/html": [
       "<pre>&lt;xarray.Dataset&gt;\n",
       "Dimensions:      (lat: 320, lon: 416, realization: 11, time: 151)\n",
       "Coordinates:\n",
       "  * lon          (lon) float32 -89.04521 -88.96188 ... -54.54659 -54.46326\n",
       "  * lat          (lat) float32 66.62331 66.53998 66.45665 ... 40.12437 40.04104\n",
       "  * time         (time) datetime64[ns] 1950-01-01 1951-01-01 ... 2100-01-01\n",
       "  * realization  (realization) int64 0 1 2 3 4 5 6 7 8 9 10\n",
       "Data variables:\n",
       "    tg_mean      (realization, time, lat, lon) float32 dask.array&lt;chunksize=(1, 10, 320, 416), meta=np.ndarray&gt;\n",
       "Attributes:\n",
       "    Conventions:     CF-1.5\n",
       "    title:           ACCESS1-3 model output prepared for CMIP5 historical\n",
       "    history:         CMIP5 compliant file produced from raw ACCESS model outp...\n",
       "    institution:     CSIRO (Commonwealth Scientific and Industrial Research O...\n",
       "    source:          ACCESS1-3 2011. Atmosphere: AGCM v1.0 (N96 grid-point, 1...\n",
       "    redistribution:  Redistribution prohibited. For internal use only.</pre>"
      ],
      "text/plain": [
       "<xarray.Dataset>\n",
       "Dimensions:      (lat: 320, lon: 416, realization: 11, time: 151)\n",
       "Coordinates:\n",
       "  * lon          (lon) float32 -89.04521 -88.96188 ... -54.54659 -54.46326\n",
       "  * lat          (lat) float32 66.62331 66.53998 66.45665 ... 40.12437 40.04104\n",
       "  * time         (time) datetime64[ns] 1950-01-01 1951-01-01 ... 2100-01-01\n",
       "  * realization  (realization) int64 0 1 2 3 4 5 6 7 8 9 10\n",
       "Data variables:\n",
       "    tg_mean      (realization, time, lat, lon) float32 dask.array<chunksize=(1, 10, 320, 416), meta=np.ndarray>\n",
       "Attributes:\n",
       "    Conventions:     CF-1.5\n",
       "    title:           ACCESS1-3 model output prepared for CMIP5 historical\n",
       "    history:         CMIP5 compliant file produced from raw ACCESS model outp...\n",
       "    institution:     CSIRO (Commonwealth Scientific and Industrial Research O...\n",
       "    source:          ACCESS1-3 2011. Atmosphere: AGCM v1.0 (N96 grid-point, 1...\n",
       "    redistribution:  Redistribution prohibited. For internal use only."
      ]
     },
     "execution_count": 5,
     "metadata": {},
     "output_type": "execute_result"
    }
   ],
   "source": [
    "dsEns45= ens.create_ensemble(files45)\n",
    "#dsEnsSeas45 = ens.create_ensemble(filesSeas)\n",
    "dsEns45\n"
   ]
  },
  {
   "cell_type": "code",
   "execution_count": null,
   "metadata": {},
   "outputs": [],
   "source": [
    "if os.path.exists(shapefile.replace('.shp','.nc')):\n",
    "    mask45 = xr.open_dataset(shapefile.replace('.shp','.nc'))\n",
    "    mask45 = mask45.__xarray_dataarray_variable__\n",
    "    \n",
    "else:\n",
    "    mask45= subset.create_mask(poly=poly, x_dim=dsEns45.lon, y_dim=dsEns45.lat)\n",
    "    mask45 = mask.T\n",
    "    mask45.to_netcdf(shapefile.replace('.shp','.nc'))"
   ]
  },
  {
   "cell_type": "code",
   "execution_count": null,
   "metadata": {},
   "outputs": [],
   "source": [
    "mask45.plot()"
   ]
  },
  {
   "cell_type": "markdown",
   "metadata": {},
   "source": [
    "# Figure - Time Series"
   ]
  },
  {
   "cell_type": "markdown",
   "metadata": {},
   "source": [
    "## Get the percentiles"
   ]
  },
  {
   "cell_type": "code",
   "execution_count": 6,
   "metadata": {},
   "outputs": [
    {
     "data": {
      "text/html": [
       "<pre>&lt;xarray.Dataset&gt;\n",
       "Dimensions:      (lat: 320, lon: 416, realization: 11, time: 151)\n",
       "Coordinates:\n",
       "  * lon          (lon) float32 -89.04521 -88.96188 ... -54.54659 -54.46326\n",
       "  * lat          (lat) float32 66.62331 66.53998 66.45665 ... 40.12437 40.04104\n",
       "  * time         (time) datetime64[ns] 1950-01-01 1951-01-01 ... 2100-01-01\n",
       "  * realization  (realization) int64 0 1 2 3 4 5 6 7 8 9 10\n",
       "Data variables:\n",
       "    tg_mean_p10  (time, lat, lon) float32 dask.array&lt;chunksize=(10, 320, 416), meta=np.ndarray&gt;\n",
       "    tg_mean_p50  (time, lat, lon) float32 dask.array&lt;chunksize=(10, 320, 416), meta=np.ndarray&gt;\n",
       "    tg_mean_p90  (time, lat, lon) float32 dask.array&lt;chunksize=(10, 320, 416), meta=np.ndarray&gt;\n",
       "Attributes:\n",
       "    Conventions:     CF-1.5\n",
       "    title:           ACCESS1-3 model output prepared for CMIP5 historical\n",
       "    history:         CMIP5 compliant file produced from raw ACCESS model outp...\n",
       "    institution:     CSIRO (Commonwealth Scientific and Industrial Research O...\n",
       "    source:          ACCESS1-3 2011. Atmosphere: AGCM v1.0 (N96 grid-point, 1...\n",
       "    redistribution:  Redistribution prohibited. For internal use only.</pre>"
      ],
      "text/plain": [
       "<xarray.Dataset>\n",
       "Dimensions:      (lat: 320, lon: 416, realization: 11, time: 151)\n",
       "Coordinates:\n",
       "  * lon          (lon) float32 -89.04521 -88.96188 ... -54.54659 -54.46326\n",
       "  * lat          (lat) float32 66.62331 66.53998 66.45665 ... 40.12437 40.04104\n",
       "  * time         (time) datetime64[ns] 1950-01-01 1951-01-01 ... 2100-01-01\n",
       "  * realization  (realization) int64 0 1 2 3 4 5 6 7 8 9 10\n",
       "Data variables:\n",
       "    tg_mean_p10  (time, lat, lon) float32 dask.array<chunksize=(10, 320, 416), meta=np.ndarray>\n",
       "    tg_mean_p50  (time, lat, lon) float32 dask.array<chunksize=(10, 320, 416), meta=np.ndarray>\n",
       "    tg_mean_p90  (time, lat, lon) float32 dask.array<chunksize=(10, 320, 416), meta=np.ndarray>\n",
       "Attributes:\n",
       "    Conventions:     CF-1.5\n",
       "    title:           ACCESS1-3 model output prepared for CMIP5 historical\n",
       "    history:         CMIP5 compliant file produced from raw ACCESS model outp...\n",
       "    institution:     CSIRO (Commonwealth Scientific and Industrial Research O...\n",
       "    source:          ACCESS1-3 2011. Atmosphere: AGCM v1.0 (N96 grid-point, 1...\n",
       "    redistribution:  Redistribution prohibited. For internal use only."
      ]
     },
     "execution_count": 6,
     "metadata": {},
     "output_type": "execute_result"
    }
   ],
   "source": [
    "# figure\n",
    "#dsEns45 = dsEns45.assign_coords({'region':mask45})\n",
    "# spatial means - grouby region mask\n",
    "#out45 = dsEns45.groupby(dsEns45.region).mean()\n",
    "#print(out45)\n",
    "# Calculate ensembles percentiles on regional means\n",
    "perctiles45 = ens.ensemble_percentiles(dsEns45)\n",
    "perctiles45"
   ]
  },
  {
   "cell_type": "markdown",
   "metadata": {},
   "source": [
    "## Convert in Dataframe"
   ]
  },
  {
   "cell_type": "code",
   "execution_count": 7,
   "metadata": {},
   "outputs": [],
   "source": [
    "dfper145 = perctiles45.to_dataframe().dropna()\n",
    "dfper45 = perctiles45.drop('realization').to_dataframe().dropna()\n",
    "dfmean45 = dfper45.reset_index()"
   ]
  },
  {
   "cell_type": "code",
   "execution_count": 8,
   "metadata": {},
   "outputs": [
    {
     "data": {
      "text/html": [
       "<div>\n",
       "<style scoped>\n",
       "    .dataframe tbody tr th:only-of-type {\n",
       "        vertical-align: middle;\n",
       "    }\n",
       "\n",
       "    .dataframe tbody tr th {\n",
       "        vertical-align: top;\n",
       "    }\n",
       "\n",
       "    .dataframe thead th {\n",
       "        text-align: right;\n",
       "    }\n",
       "</style>\n",
       "<table border=\"1\" class=\"dataframe\">\n",
       "  <thead>\n",
       "    <tr style=\"text-align: right;\">\n",
       "      <th></th>\n",
       "      <th>lat</th>\n",
       "      <th>lon</th>\n",
       "      <th>time</th>\n",
       "      <th>tg_mean_p10</th>\n",
       "      <th>tg_mean_p50</th>\n",
       "      <th>tg_mean_p90</th>\n",
       "    </tr>\n",
       "  </thead>\n",
       "  <tbody>\n",
       "    <tr>\n",
       "      <th>0</th>\n",
       "      <td>66.623306</td>\n",
       "      <td>-89.045212</td>\n",
       "      <td>1950-01-01</td>\n",
       "      <td>257.085693</td>\n",
       "      <td>258.653290</td>\n",
       "      <td>260.071655</td>\n",
       "    </tr>\n",
       "    <tr>\n",
       "      <th>1</th>\n",
       "      <td>66.623306</td>\n",
       "      <td>-89.045212</td>\n",
       "      <td>1951-01-01</td>\n",
       "      <td>256.835785</td>\n",
       "      <td>258.389740</td>\n",
       "      <td>259.078644</td>\n",
       "    </tr>\n",
       "    <tr>\n",
       "      <th>2</th>\n",
       "      <td>66.623306</td>\n",
       "      <td>-89.045212</td>\n",
       "      <td>1952-01-01</td>\n",
       "      <td>257.146881</td>\n",
       "      <td>258.677917</td>\n",
       "      <td>259.168579</td>\n",
       "    </tr>\n",
       "    <tr>\n",
       "      <th>3</th>\n",
       "      <td>66.623306</td>\n",
       "      <td>-89.045212</td>\n",
       "      <td>1953-01-01</td>\n",
       "      <td>257.813049</td>\n",
       "      <td>258.613068</td>\n",
       "      <td>259.164734</td>\n",
       "    </tr>\n",
       "    <tr>\n",
       "      <th>4</th>\n",
       "      <td>66.623306</td>\n",
       "      <td>-89.045212</td>\n",
       "      <td>1954-01-01</td>\n",
       "      <td>258.522583</td>\n",
       "      <td>259.148529</td>\n",
       "      <td>259.997162</td>\n",
       "    </tr>\n",
       "    <tr>\n",
       "      <th>...</th>\n",
       "      <td>...</td>\n",
       "      <td>...</td>\n",
       "      <td>...</td>\n",
       "      <td>...</td>\n",
       "      <td>...</td>\n",
       "      <td>...</td>\n",
       "    </tr>\n",
       "    <tr>\n",
       "      <th>11507101</th>\n",
       "      <td>40.041039</td>\n",
       "      <td>-74.045807</td>\n",
       "      <td>2096-01-01</td>\n",
       "      <td>287.267639</td>\n",
       "      <td>287.622437</td>\n",
       "      <td>289.489594</td>\n",
       "    </tr>\n",
       "    <tr>\n",
       "      <th>11507102</th>\n",
       "      <td>40.041039</td>\n",
       "      <td>-74.045807</td>\n",
       "      <td>2097-01-01</td>\n",
       "      <td>286.741150</td>\n",
       "      <td>287.997528</td>\n",
       "      <td>288.674133</td>\n",
       "    </tr>\n",
       "    <tr>\n",
       "      <th>11507103</th>\n",
       "      <td>40.041039</td>\n",
       "      <td>-74.045807</td>\n",
       "      <td>2098-01-01</td>\n",
       "      <td>286.326630</td>\n",
       "      <td>287.628967</td>\n",
       "      <td>288.842590</td>\n",
       "    </tr>\n",
       "    <tr>\n",
       "      <th>11507104</th>\n",
       "      <td>40.041039</td>\n",
       "      <td>-74.045807</td>\n",
       "      <td>2099-01-01</td>\n",
       "      <td>286.937592</td>\n",
       "      <td>287.839813</td>\n",
       "      <td>290.203461</td>\n",
       "    </tr>\n",
       "    <tr>\n",
       "      <th>11507105</th>\n",
       "      <td>40.041039</td>\n",
       "      <td>-74.045807</td>\n",
       "      <td>2100-01-01</td>\n",
       "      <td>286.248108</td>\n",
       "      <td>288.106812</td>\n",
       "      <td>288.576843</td>\n",
       "    </tr>\n",
       "  </tbody>\n",
       "</table>\n",
       "<p>11507106 rows × 6 columns</p>\n",
       "</div>"
      ],
      "text/plain": [
       "                lat        lon       time  tg_mean_p10  tg_mean_p50  \\\n",
       "0         66.623306 -89.045212 1950-01-01   257.085693   258.653290   \n",
       "1         66.623306 -89.045212 1951-01-01   256.835785   258.389740   \n",
       "2         66.623306 -89.045212 1952-01-01   257.146881   258.677917   \n",
       "3         66.623306 -89.045212 1953-01-01   257.813049   258.613068   \n",
       "4         66.623306 -89.045212 1954-01-01   258.522583   259.148529   \n",
       "...             ...        ...        ...          ...          ...   \n",
       "11507101  40.041039 -74.045807 2096-01-01   287.267639   287.622437   \n",
       "11507102  40.041039 -74.045807 2097-01-01   286.741150   287.997528   \n",
       "11507103  40.041039 -74.045807 2098-01-01   286.326630   287.628967   \n",
       "11507104  40.041039 -74.045807 2099-01-01   286.937592   287.839813   \n",
       "11507105  40.041039 -74.045807 2100-01-01   286.248108   288.106812   \n",
       "\n",
       "          tg_mean_p90  \n",
       "0          260.071655  \n",
       "1          259.078644  \n",
       "2          259.168579  \n",
       "3          259.164734  \n",
       "4          259.997162  \n",
       "...               ...  \n",
       "11507101   289.489594  \n",
       "11507102   288.674133  \n",
       "11507103   288.842590  \n",
       "11507104   290.203461  \n",
       "11507105   288.576843  \n",
       "\n",
       "[11507106 rows x 6 columns]"
      ]
     },
     "execution_count": 8,
     "metadata": {},
     "output_type": "execute_result"
    }
   ],
   "source": [
    "dfmean45"
   ]
  },
  {
   "cell_type": "code",
   "execution_count": null,
   "metadata": {},
   "outputs": [],
   "source": [
    "# TO-DO \n",
    "- Cut by region\n",
    "- Continue with below operatons within the loop for each region for rcp45, rcp85 and "
   ]
  },
  {
   "cell_type": "markdown",
   "metadata": {},
   "source": [
    "## Get mean by year"
   ]
  },
  {
   "cell_type": "code",
   "execution_count": null,
   "metadata": {},
   "outputs": [],
   "source": [
    "dfmean452 = dfmean45.groupby([\"time\"]).mean()"
   ]
  },
  {
   "cell_type": "markdown",
   "metadata": {},
   "source": [
    "## 4th degre polynomium"
   ]
  },
  {
   "cell_type": "code",
   "execution_count": null,
   "metadata": {},
   "outputs": [],
   "source": [
    "def polysmooth(years, y, degree):\n",
    "    coef = np.polyfit(years, y, degree)\n",
    "    return np.polyval(coef,years)"
   ]
  },
  {
   "cell_type": "code",
   "execution_count": null,
   "metadata": {},
   "outputs": [],
   "source": [
    "years = dfmean452.reset_index().time.dt.year\n",
    "#years\n",
    "#years.values\n",
    "df452 = dfmean452.reset_index()\n",
    "df452"
   ]
  },
  {
   "cell_type": "code",
   "execution_count": null,
   "metadata": {},
   "outputs": [],
   "source": [
    "rp1 = polysmooth(years,dfmean452.tg_mean_p10,4)\n",
    "rp5 = polysmooth(years,dfmean452.tg_mean_p50,4)\n",
    "rp9 = polysmooth(years,dfmean452.tg_mean_p90,4)"
   ]
  },
  {
   "cell_type": "markdown",
   "metadata": {},
   "source": [
    "## Create DF to plot TimeSeries graph in R"
   ]
  },
  {
   "cell_type": "code",
   "execution_count": null,
   "metadata": {},
   "outputs": [],
   "source": [
    "df45 = pd.DataFrame()\n",
    "df45[\"time\"] = years.values\n",
    "df45[\"tg_mean_p10\"] = rp1\n",
    "df45[\"tg_mean_p50\"] = rp5\n",
    "df45[\"tg_mean_p90\"] = rp9\n",
    "df45[\"tg_mean_p10\"] = round(df45[\"tg_mean_p10\"]-273.15, 2)\n",
    "df45[\"tg_mean_p50\"] = round(df45[\"tg_mean_p50\"]-273.15, 2)\n",
    "df45[\"tg_mean_p90\"] = round(df45[\"tg_mean_p90\"]-273.15, 2)"
   ]
  },
  {
   "cell_type": "code",
   "execution_count": null,
   "metadata": {},
   "outputs": [],
   "source": [
    "df45"
   ]
  },
  {
   "cell_type": "markdown",
   "metadata": {},
   "source": [
    "### TODO:\n",
    "- This dataframe should include both models (RCP 4.5 nad 8.5) and observations (historic)\n",
    "- I should add labels and similar colors into the shiny graph"
   ]
  },
  {
   "cell_type": "code",
   "execution_count": null,
   "metadata": {},
   "outputs": [],
   "source": [
    "df.to_csv(\"p4tgmean.csv\")"
   ]
  },
  {
   "cell_type": "code",
   "execution_count": null,
   "metadata": {},
   "outputs": [],
   "source": [
    "plt.plot(years, rp5, markersize='10', color='red')\n",
    "plt.fill_between(years, polysmooth(years, dfmean2.tg_mean_p10- 273.15,4), polysmooth(years, dfmean2.tg_mean_p90- 273.15,4), alpha=0.3, color='red')"
   ]
  },
  {
   "cell_type": "code",
   "execution_count": null,
   "metadata": {},
   "outputs": [],
   "source": [
    "dfmean2.to_csv(\"timeseries.csv\")"
   ]
  },
  {
   "cell_type": "markdown",
   "metadata": {},
   "source": [
    "### NOTE: this example was for the whole region. \n",
    "### TODO: \n",
    "- Split DF by regions and get same graph for each region\n",
    "- Convert degrees in Celsius"
   ]
  }
 ],
 "metadata": {
  "kernelspec": {
   "display_name": "Python 3",
   "language": "python",
   "name": "python3"
  },
  "language_info": {
   "codemirror_mode": {
    "name": "ipython",
    "version": 3
   },
   "file_extension": ".py",
   "mimetype": "text/x-python",
   "name": "python",
   "nbconvert_exporter": "python",
   "pygments_lexer": "ipython3",
   "version": "3.8.1"
  }
 },
 "nbformat": 4,
 "nbformat_minor": 4
}

{
 "cells": [
  {
   "cell_type": "code",
   "execution_count": 1,
   "metadata": {},
   "outputs": [],
   "source": [
    "import numpy as np\n",
    "import os\n",
    "import pandas as pd\n",
    "import xarray as xr"
   ]
  },
  {
   "cell_type": "code",
   "execution_count": 2,
   "metadata": {},
   "outputs": [],
   "source": [
    "import nc_time_axis"
   ]
  },
  {
   "cell_type": "code",
   "execution_count": 3,
   "metadata": {},
   "outputs": [],
   "source": [
    "import glob"
   ]
  },
  {
   "cell_type": "code",
   "execution_count": 100,
   "metadata": {},
   "outputs": [],
   "source": [
    "folder = \"/scen3/scenario/netcdf/ouranos/cb-oura-1.0/\"\n",
    "out_folder = \"/home/mlopez/EXEC/TimeMeansMap/TaxMaxrcp85\""
   ]
  },
  {
   "cell_type": "code",
   "execution_count": 101,
   "metadata": {},
   "outputs": [],
   "source": [
    "model = \"IPSL-CM5B-LR\"\n",
    "files = []"
   ]
  },
  {
   "cell_type": "markdown",
   "metadata": {},
   "source": [
    "# 11 models:\n",
    "BNU-ESM rcp85 ok\n",
    "NorESM1-M rcp85 ok\n",
    "MPI-ESM-LR\n",
    "IPSL-CM5B-LR\n",
    "IPSL-CM5A-LR\n",
    "INM-CM4\n",
    "HadGEM2-CC\n",
    "GFDL-ESM2M\n",
    "CMCC-CMS\n",
    "CanESM2\n",
    "ACCESS1-3"
   ]
  },
  {
   "cell_type": "code",
   "execution_count": 102,
   "metadata": {},
   "outputs": [],
   "source": [
    "files1900 = glob.glob(folder+\"tasmax*\"+model+\"*rcp85*19[8-9][0-9].nc\")"
   ]
  },
  {
   "cell_type": "code",
   "execution_count": 103,
   "metadata": {},
   "outputs": [
    {
     "data": {
      "text/plain": [
       "['/scen3/scenario/netcdf/ouranos/cb-oura-1.0/tasmax_day_IPSL-CM5B-LR_rcp85_r1i1p1_na10kgrid_qm-moving-50bins-detrend_1980.nc',\n",
       " '/scen3/scenario/netcdf/ouranos/cb-oura-1.0/tasmax_day_IPSL-CM5B-LR_rcp85_r1i1p1_na10kgrid_qm-moving-50bins-detrend_1981.nc',\n",
       " '/scen3/scenario/netcdf/ouranos/cb-oura-1.0/tasmax_day_IPSL-CM5B-LR_rcp85_r1i1p1_na10kgrid_qm-moving-50bins-detrend_1982.nc',\n",
       " '/scen3/scenario/netcdf/ouranos/cb-oura-1.0/tasmax_day_IPSL-CM5B-LR_rcp85_r1i1p1_na10kgrid_qm-moving-50bins-detrend_1983.nc',\n",
       " '/scen3/scenario/netcdf/ouranos/cb-oura-1.0/tasmax_day_IPSL-CM5B-LR_rcp85_r1i1p1_na10kgrid_qm-moving-50bins-detrend_1984.nc',\n",
       " '/scen3/scenario/netcdf/ouranos/cb-oura-1.0/tasmax_day_IPSL-CM5B-LR_rcp85_r1i1p1_na10kgrid_qm-moving-50bins-detrend_1985.nc',\n",
       " '/scen3/scenario/netcdf/ouranos/cb-oura-1.0/tasmax_day_IPSL-CM5B-LR_rcp85_r1i1p1_na10kgrid_qm-moving-50bins-detrend_1986.nc',\n",
       " '/scen3/scenario/netcdf/ouranos/cb-oura-1.0/tasmax_day_IPSL-CM5B-LR_rcp85_r1i1p1_na10kgrid_qm-moving-50bins-detrend_1987.nc',\n",
       " '/scen3/scenario/netcdf/ouranos/cb-oura-1.0/tasmax_day_IPSL-CM5B-LR_rcp85_r1i1p1_na10kgrid_qm-moving-50bins-detrend_1988.nc',\n",
       " '/scen3/scenario/netcdf/ouranos/cb-oura-1.0/tasmax_day_IPSL-CM5B-LR_rcp85_r1i1p1_na10kgrid_qm-moving-50bins-detrend_1989.nc',\n",
       " '/scen3/scenario/netcdf/ouranos/cb-oura-1.0/tasmax_day_IPSL-CM5B-LR_rcp85_r1i1p1_na10kgrid_qm-moving-50bins-detrend_1990.nc',\n",
       " '/scen3/scenario/netcdf/ouranos/cb-oura-1.0/tasmax_day_IPSL-CM5B-LR_rcp85_r1i1p1_na10kgrid_qm-moving-50bins-detrend_1991.nc',\n",
       " '/scen3/scenario/netcdf/ouranos/cb-oura-1.0/tasmax_day_IPSL-CM5B-LR_rcp85_r1i1p1_na10kgrid_qm-moving-50bins-detrend_1992.nc',\n",
       " '/scen3/scenario/netcdf/ouranos/cb-oura-1.0/tasmax_day_IPSL-CM5B-LR_rcp85_r1i1p1_na10kgrid_qm-moving-50bins-detrend_1993.nc',\n",
       " '/scen3/scenario/netcdf/ouranos/cb-oura-1.0/tasmax_day_IPSL-CM5B-LR_rcp85_r1i1p1_na10kgrid_qm-moving-50bins-detrend_1994.nc',\n",
       " '/scen3/scenario/netcdf/ouranos/cb-oura-1.0/tasmax_day_IPSL-CM5B-LR_rcp85_r1i1p1_na10kgrid_qm-moving-50bins-detrend_1995.nc',\n",
       " '/scen3/scenario/netcdf/ouranos/cb-oura-1.0/tasmax_day_IPSL-CM5B-LR_rcp85_r1i1p1_na10kgrid_qm-moving-50bins-detrend_1996.nc',\n",
       " '/scen3/scenario/netcdf/ouranos/cb-oura-1.0/tasmax_day_IPSL-CM5B-LR_rcp85_r1i1p1_na10kgrid_qm-moving-50bins-detrend_1997.nc',\n",
       " '/scen3/scenario/netcdf/ouranos/cb-oura-1.0/tasmax_day_IPSL-CM5B-LR_rcp85_r1i1p1_na10kgrid_qm-moving-50bins-detrend_1998.nc',\n",
       " '/scen3/scenario/netcdf/ouranos/cb-oura-1.0/tasmax_day_IPSL-CM5B-LR_rcp85_r1i1p1_na10kgrid_qm-moving-50bins-detrend_1999.nc']"
      ]
     },
     "execution_count": 103,
     "metadata": {},
     "output_type": "execute_result"
    }
   ],
   "source": [
    "files1900"
   ]
  },
  {
   "cell_type": "code",
   "execution_count": 104,
   "metadata": {},
   "outputs": [
    {
     "data": {
      "text/plain": [
       "20"
      ]
     },
     "execution_count": 104,
     "metadata": {},
     "output_type": "execute_result"
    }
   ],
   "source": [
    "len(files1900)"
   ]
  },
  {
   "cell_type": "code",
   "execution_count": 105,
   "metadata": {},
   "outputs": [],
   "source": [
    "files2000 = glob.glob(folder+\"tasmax*\"+model+\"*rcp85**20[0-9][0-9].nc\")"
   ]
  },
  {
   "cell_type": "code",
   "execution_count": 106,
   "metadata": {},
   "outputs": [
    {
     "data": {
      "text/plain": [
       "['/scen3/scenario/netcdf/ouranos/cb-oura-1.0/tasmax_day_IPSL-CM5B-LR_rcp85_r1i1p1_na10kgrid_qm-moving-50bins-detrend_2000.nc',\n",
       " '/scen3/scenario/netcdf/ouranos/cb-oura-1.0/tasmax_day_IPSL-CM5B-LR_rcp85_r1i1p1_na10kgrid_qm-moving-50bins-detrend_2001.nc',\n",
       " '/scen3/scenario/netcdf/ouranos/cb-oura-1.0/tasmax_day_IPSL-CM5B-LR_rcp85_r1i1p1_na10kgrid_qm-moving-50bins-detrend_2002.nc',\n",
       " '/scen3/scenario/netcdf/ouranos/cb-oura-1.0/tasmax_day_IPSL-CM5B-LR_rcp85_r1i1p1_na10kgrid_qm-moving-50bins-detrend_2003.nc',\n",
       " '/scen3/scenario/netcdf/ouranos/cb-oura-1.0/tasmax_day_IPSL-CM5B-LR_rcp85_r1i1p1_na10kgrid_qm-moving-50bins-detrend_2004.nc',\n",
       " '/scen3/scenario/netcdf/ouranos/cb-oura-1.0/tasmax_day_IPSL-CM5B-LR_rcp85_r1i1p1_na10kgrid_qm-moving-50bins-detrend_2005.nc',\n",
       " '/scen3/scenario/netcdf/ouranos/cb-oura-1.0/tasmax_day_IPSL-CM5B-LR_rcp85_r1i1p1_na10kgrid_qm-moving-50bins-detrend_2006.nc',\n",
       " '/scen3/scenario/netcdf/ouranos/cb-oura-1.0/tasmax_day_IPSL-CM5B-LR_rcp85_r1i1p1_na10kgrid_qm-moving-50bins-detrend_2007.nc',\n",
       " '/scen3/scenario/netcdf/ouranos/cb-oura-1.0/tasmax_day_IPSL-CM5B-LR_rcp85_r1i1p1_na10kgrid_qm-moving-50bins-detrend_2008.nc',\n",
       " '/scen3/scenario/netcdf/ouranos/cb-oura-1.0/tasmax_day_IPSL-CM5B-LR_rcp85_r1i1p1_na10kgrid_qm-moving-50bins-detrend_2009.nc',\n",
       " '/scen3/scenario/netcdf/ouranos/cb-oura-1.0/tasmax_day_IPSL-CM5B-LR_rcp85_r1i1p1_na10kgrid_qm-moving-50bins-detrend_2010.nc',\n",
       " '/scen3/scenario/netcdf/ouranos/cb-oura-1.0/tasmax_day_IPSL-CM5B-LR_rcp85_r1i1p1_na10kgrid_qm-moving-50bins-detrend_2011.nc',\n",
       " '/scen3/scenario/netcdf/ouranos/cb-oura-1.0/tasmax_day_IPSL-CM5B-LR_rcp85_r1i1p1_na10kgrid_qm-moving-50bins-detrend_2012.nc',\n",
       " '/scen3/scenario/netcdf/ouranos/cb-oura-1.0/tasmax_day_IPSL-CM5B-LR_rcp85_r1i1p1_na10kgrid_qm-moving-50bins-detrend_2013.nc',\n",
       " '/scen3/scenario/netcdf/ouranos/cb-oura-1.0/tasmax_day_IPSL-CM5B-LR_rcp85_r1i1p1_na10kgrid_qm-moving-50bins-detrend_2014.nc',\n",
       " '/scen3/scenario/netcdf/ouranos/cb-oura-1.0/tasmax_day_IPSL-CM5B-LR_rcp85_r1i1p1_na10kgrid_qm-moving-50bins-detrend_2015.nc',\n",
       " '/scen3/scenario/netcdf/ouranos/cb-oura-1.0/tasmax_day_IPSL-CM5B-LR_rcp85_r1i1p1_na10kgrid_qm-moving-50bins-detrend_2016.nc',\n",
       " '/scen3/scenario/netcdf/ouranos/cb-oura-1.0/tasmax_day_IPSL-CM5B-LR_rcp85_r1i1p1_na10kgrid_qm-moving-50bins-detrend_2017.nc',\n",
       " '/scen3/scenario/netcdf/ouranos/cb-oura-1.0/tasmax_day_IPSL-CM5B-LR_rcp85_r1i1p1_na10kgrid_qm-moving-50bins-detrend_2018.nc',\n",
       " '/scen3/scenario/netcdf/ouranos/cb-oura-1.0/tasmax_day_IPSL-CM5B-LR_rcp85_r1i1p1_na10kgrid_qm-moving-50bins-detrend_2019.nc',\n",
       " '/scen3/scenario/netcdf/ouranos/cb-oura-1.0/tasmax_day_IPSL-CM5B-LR_rcp85_r1i1p1_na10kgrid_qm-moving-50bins-detrend_2020.nc',\n",
       " '/scen3/scenario/netcdf/ouranos/cb-oura-1.0/tasmax_day_IPSL-CM5B-LR_rcp85_r1i1p1_na10kgrid_qm-moving-50bins-detrend_2021.nc',\n",
       " '/scen3/scenario/netcdf/ouranos/cb-oura-1.0/tasmax_day_IPSL-CM5B-LR_rcp85_r1i1p1_na10kgrid_qm-moving-50bins-detrend_2022.nc',\n",
       " '/scen3/scenario/netcdf/ouranos/cb-oura-1.0/tasmax_day_IPSL-CM5B-LR_rcp85_r1i1p1_na10kgrid_qm-moving-50bins-detrend_2023.nc',\n",
       " '/scen3/scenario/netcdf/ouranos/cb-oura-1.0/tasmax_day_IPSL-CM5B-LR_rcp85_r1i1p1_na10kgrid_qm-moving-50bins-detrend_2024.nc',\n",
       " '/scen3/scenario/netcdf/ouranos/cb-oura-1.0/tasmax_day_IPSL-CM5B-LR_rcp85_r1i1p1_na10kgrid_qm-moving-50bins-detrend_2025.nc',\n",
       " '/scen3/scenario/netcdf/ouranos/cb-oura-1.0/tasmax_day_IPSL-CM5B-LR_rcp85_r1i1p1_na10kgrid_qm-moving-50bins-detrend_2026.nc',\n",
       " '/scen3/scenario/netcdf/ouranos/cb-oura-1.0/tasmax_day_IPSL-CM5B-LR_rcp85_r1i1p1_na10kgrid_qm-moving-50bins-detrend_2027.nc',\n",
       " '/scen3/scenario/netcdf/ouranos/cb-oura-1.0/tasmax_day_IPSL-CM5B-LR_rcp85_r1i1p1_na10kgrid_qm-moving-50bins-detrend_2028.nc',\n",
       " '/scen3/scenario/netcdf/ouranos/cb-oura-1.0/tasmax_day_IPSL-CM5B-LR_rcp85_r1i1p1_na10kgrid_qm-moving-50bins-detrend_2029.nc',\n",
       " '/scen3/scenario/netcdf/ouranos/cb-oura-1.0/tasmax_day_IPSL-CM5B-LR_rcp85_r1i1p1_na10kgrid_qm-moving-50bins-detrend_2030.nc',\n",
       " '/scen3/scenario/netcdf/ouranos/cb-oura-1.0/tasmax_day_IPSL-CM5B-LR_rcp85_r1i1p1_na10kgrid_qm-moving-50bins-detrend_2031.nc',\n",
       " '/scen3/scenario/netcdf/ouranos/cb-oura-1.0/tasmax_day_IPSL-CM5B-LR_rcp85_r1i1p1_na10kgrid_qm-moving-50bins-detrend_2032.nc',\n",
       " '/scen3/scenario/netcdf/ouranos/cb-oura-1.0/tasmax_day_IPSL-CM5B-LR_rcp85_r1i1p1_na10kgrid_qm-moving-50bins-detrend_2033.nc',\n",
       " '/scen3/scenario/netcdf/ouranos/cb-oura-1.0/tasmax_day_IPSL-CM5B-LR_rcp85_r1i1p1_na10kgrid_qm-moving-50bins-detrend_2034.nc',\n",
       " '/scen3/scenario/netcdf/ouranos/cb-oura-1.0/tasmax_day_IPSL-CM5B-LR_rcp85_r1i1p1_na10kgrid_qm-moving-50bins-detrend_2035.nc',\n",
       " '/scen3/scenario/netcdf/ouranos/cb-oura-1.0/tasmax_day_IPSL-CM5B-LR_rcp85_r1i1p1_na10kgrid_qm-moving-50bins-detrend_2036.nc',\n",
       " '/scen3/scenario/netcdf/ouranos/cb-oura-1.0/tasmax_day_IPSL-CM5B-LR_rcp85_r1i1p1_na10kgrid_qm-moving-50bins-detrend_2037.nc',\n",
       " '/scen3/scenario/netcdf/ouranos/cb-oura-1.0/tasmax_day_IPSL-CM5B-LR_rcp85_r1i1p1_na10kgrid_qm-moving-50bins-detrend_2038.nc',\n",
       " '/scen3/scenario/netcdf/ouranos/cb-oura-1.0/tasmax_day_IPSL-CM5B-LR_rcp85_r1i1p1_na10kgrid_qm-moving-50bins-detrend_2039.nc',\n",
       " '/scen3/scenario/netcdf/ouranos/cb-oura-1.0/tasmax_day_IPSL-CM5B-LR_rcp85_r1i1p1_na10kgrid_qm-moving-50bins-detrend_2040.nc',\n",
       " '/scen3/scenario/netcdf/ouranos/cb-oura-1.0/tasmax_day_IPSL-CM5B-LR_rcp85_r1i1p1_na10kgrid_qm-moving-50bins-detrend_2041.nc',\n",
       " '/scen3/scenario/netcdf/ouranos/cb-oura-1.0/tasmax_day_IPSL-CM5B-LR_rcp85_r1i1p1_na10kgrid_qm-moving-50bins-detrend_2042.nc',\n",
       " '/scen3/scenario/netcdf/ouranos/cb-oura-1.0/tasmax_day_IPSL-CM5B-LR_rcp85_r1i1p1_na10kgrid_qm-moving-50bins-detrend_2043.nc',\n",
       " '/scen3/scenario/netcdf/ouranos/cb-oura-1.0/tasmax_day_IPSL-CM5B-LR_rcp85_r1i1p1_na10kgrid_qm-moving-50bins-detrend_2044.nc',\n",
       " '/scen3/scenario/netcdf/ouranos/cb-oura-1.0/tasmax_day_IPSL-CM5B-LR_rcp85_r1i1p1_na10kgrid_qm-moving-50bins-detrend_2045.nc',\n",
       " '/scen3/scenario/netcdf/ouranos/cb-oura-1.0/tasmax_day_IPSL-CM5B-LR_rcp85_r1i1p1_na10kgrid_qm-moving-50bins-detrend_2046.nc',\n",
       " '/scen3/scenario/netcdf/ouranos/cb-oura-1.0/tasmax_day_IPSL-CM5B-LR_rcp85_r1i1p1_na10kgrid_qm-moving-50bins-detrend_2047.nc',\n",
       " '/scen3/scenario/netcdf/ouranos/cb-oura-1.0/tasmax_day_IPSL-CM5B-LR_rcp85_r1i1p1_na10kgrid_qm-moving-50bins-detrend_2048.nc',\n",
       " '/scen3/scenario/netcdf/ouranos/cb-oura-1.0/tasmax_day_IPSL-CM5B-LR_rcp85_r1i1p1_na10kgrid_qm-moving-50bins-detrend_2049.nc',\n",
       " '/scen3/scenario/netcdf/ouranos/cb-oura-1.0/tasmax_day_IPSL-CM5B-LR_rcp85_r1i1p1_na10kgrid_qm-moving-50bins-detrend_2050.nc',\n",
       " '/scen3/scenario/netcdf/ouranos/cb-oura-1.0/tasmax_day_IPSL-CM5B-LR_rcp85_r1i1p1_na10kgrid_qm-moving-50bins-detrend_2051.nc',\n",
       " '/scen3/scenario/netcdf/ouranos/cb-oura-1.0/tasmax_day_IPSL-CM5B-LR_rcp85_r1i1p1_na10kgrid_qm-moving-50bins-detrend_2052.nc',\n",
       " '/scen3/scenario/netcdf/ouranos/cb-oura-1.0/tasmax_day_IPSL-CM5B-LR_rcp85_r1i1p1_na10kgrid_qm-moving-50bins-detrend_2053.nc',\n",
       " '/scen3/scenario/netcdf/ouranos/cb-oura-1.0/tasmax_day_IPSL-CM5B-LR_rcp85_r1i1p1_na10kgrid_qm-moving-50bins-detrend_2054.nc',\n",
       " '/scen3/scenario/netcdf/ouranos/cb-oura-1.0/tasmax_day_IPSL-CM5B-LR_rcp85_r1i1p1_na10kgrid_qm-moving-50bins-detrend_2055.nc',\n",
       " '/scen3/scenario/netcdf/ouranos/cb-oura-1.0/tasmax_day_IPSL-CM5B-LR_rcp85_r1i1p1_na10kgrid_qm-moving-50bins-detrend_2056.nc',\n",
       " '/scen3/scenario/netcdf/ouranos/cb-oura-1.0/tasmax_day_IPSL-CM5B-LR_rcp85_r1i1p1_na10kgrid_qm-moving-50bins-detrend_2057.nc',\n",
       " '/scen3/scenario/netcdf/ouranos/cb-oura-1.0/tasmax_day_IPSL-CM5B-LR_rcp85_r1i1p1_na10kgrid_qm-moving-50bins-detrend_2058.nc',\n",
       " '/scen3/scenario/netcdf/ouranos/cb-oura-1.0/tasmax_day_IPSL-CM5B-LR_rcp85_r1i1p1_na10kgrid_qm-moving-50bins-detrend_2059.nc',\n",
       " '/scen3/scenario/netcdf/ouranos/cb-oura-1.0/tasmax_day_IPSL-CM5B-LR_rcp85_r1i1p1_na10kgrid_qm-moving-50bins-detrend_2060.nc',\n",
       " '/scen3/scenario/netcdf/ouranos/cb-oura-1.0/tasmax_day_IPSL-CM5B-LR_rcp85_r1i1p1_na10kgrid_qm-moving-50bins-detrend_2061.nc',\n",
       " '/scen3/scenario/netcdf/ouranos/cb-oura-1.0/tasmax_day_IPSL-CM5B-LR_rcp85_r1i1p1_na10kgrid_qm-moving-50bins-detrend_2062.nc',\n",
       " '/scen3/scenario/netcdf/ouranos/cb-oura-1.0/tasmax_day_IPSL-CM5B-LR_rcp85_r1i1p1_na10kgrid_qm-moving-50bins-detrend_2063.nc',\n",
       " '/scen3/scenario/netcdf/ouranos/cb-oura-1.0/tasmax_day_IPSL-CM5B-LR_rcp85_r1i1p1_na10kgrid_qm-moving-50bins-detrend_2064.nc',\n",
       " '/scen3/scenario/netcdf/ouranos/cb-oura-1.0/tasmax_day_IPSL-CM5B-LR_rcp85_r1i1p1_na10kgrid_qm-moving-50bins-detrend_2065.nc',\n",
       " '/scen3/scenario/netcdf/ouranos/cb-oura-1.0/tasmax_day_IPSL-CM5B-LR_rcp85_r1i1p1_na10kgrid_qm-moving-50bins-detrend_2066.nc',\n",
       " '/scen3/scenario/netcdf/ouranos/cb-oura-1.0/tasmax_day_IPSL-CM5B-LR_rcp85_r1i1p1_na10kgrid_qm-moving-50bins-detrend_2067.nc',\n",
       " '/scen3/scenario/netcdf/ouranos/cb-oura-1.0/tasmax_day_IPSL-CM5B-LR_rcp85_r1i1p1_na10kgrid_qm-moving-50bins-detrend_2068.nc',\n",
       " '/scen3/scenario/netcdf/ouranos/cb-oura-1.0/tasmax_day_IPSL-CM5B-LR_rcp85_r1i1p1_na10kgrid_qm-moving-50bins-detrend_2069.nc',\n",
       " '/scen3/scenario/netcdf/ouranos/cb-oura-1.0/tasmax_day_IPSL-CM5B-LR_rcp85_r1i1p1_na10kgrid_qm-moving-50bins-detrend_2070.nc',\n",
       " '/scen3/scenario/netcdf/ouranos/cb-oura-1.0/tasmax_day_IPSL-CM5B-LR_rcp85_r1i1p1_na10kgrid_qm-moving-50bins-detrend_2071.nc',\n",
       " '/scen3/scenario/netcdf/ouranos/cb-oura-1.0/tasmax_day_IPSL-CM5B-LR_rcp85_r1i1p1_na10kgrid_qm-moving-50bins-detrend_2072.nc',\n",
       " '/scen3/scenario/netcdf/ouranos/cb-oura-1.0/tasmax_day_IPSL-CM5B-LR_rcp85_r1i1p1_na10kgrid_qm-moving-50bins-detrend_2073.nc',\n",
       " '/scen3/scenario/netcdf/ouranos/cb-oura-1.0/tasmax_day_IPSL-CM5B-LR_rcp85_r1i1p1_na10kgrid_qm-moving-50bins-detrend_2074.nc',\n",
       " '/scen3/scenario/netcdf/ouranos/cb-oura-1.0/tasmax_day_IPSL-CM5B-LR_rcp85_r1i1p1_na10kgrid_qm-moving-50bins-detrend_2075.nc',\n",
       " '/scen3/scenario/netcdf/ouranos/cb-oura-1.0/tasmax_day_IPSL-CM5B-LR_rcp85_r1i1p1_na10kgrid_qm-moving-50bins-detrend_2076.nc',\n",
       " '/scen3/scenario/netcdf/ouranos/cb-oura-1.0/tasmax_day_IPSL-CM5B-LR_rcp85_r1i1p1_na10kgrid_qm-moving-50bins-detrend_2077.nc',\n",
       " '/scen3/scenario/netcdf/ouranos/cb-oura-1.0/tasmax_day_IPSL-CM5B-LR_rcp85_r1i1p1_na10kgrid_qm-moving-50bins-detrend_2078.nc',\n",
       " '/scen3/scenario/netcdf/ouranos/cb-oura-1.0/tasmax_day_IPSL-CM5B-LR_rcp85_r1i1p1_na10kgrid_qm-moving-50bins-detrend_2079.nc',\n",
       " '/scen3/scenario/netcdf/ouranos/cb-oura-1.0/tasmax_day_IPSL-CM5B-LR_rcp85_r1i1p1_na10kgrid_qm-moving-50bins-detrend_2080.nc',\n",
       " '/scen3/scenario/netcdf/ouranos/cb-oura-1.0/tasmax_day_IPSL-CM5B-LR_rcp85_r1i1p1_na10kgrid_qm-moving-50bins-detrend_2081.nc',\n",
       " '/scen3/scenario/netcdf/ouranos/cb-oura-1.0/tasmax_day_IPSL-CM5B-LR_rcp85_r1i1p1_na10kgrid_qm-moving-50bins-detrend_2082.nc',\n",
       " '/scen3/scenario/netcdf/ouranos/cb-oura-1.0/tasmax_day_IPSL-CM5B-LR_rcp85_r1i1p1_na10kgrid_qm-moving-50bins-detrend_2083.nc',\n",
       " '/scen3/scenario/netcdf/ouranos/cb-oura-1.0/tasmax_day_IPSL-CM5B-LR_rcp85_r1i1p1_na10kgrid_qm-moving-50bins-detrend_2084.nc',\n",
       " '/scen3/scenario/netcdf/ouranos/cb-oura-1.0/tasmax_day_IPSL-CM5B-LR_rcp85_r1i1p1_na10kgrid_qm-moving-50bins-detrend_2085.nc',\n",
       " '/scen3/scenario/netcdf/ouranos/cb-oura-1.0/tasmax_day_IPSL-CM5B-LR_rcp85_r1i1p1_na10kgrid_qm-moving-50bins-detrend_2086.nc',\n",
       " '/scen3/scenario/netcdf/ouranos/cb-oura-1.0/tasmax_day_IPSL-CM5B-LR_rcp85_r1i1p1_na10kgrid_qm-moving-50bins-detrend_2087.nc',\n",
       " '/scen3/scenario/netcdf/ouranos/cb-oura-1.0/tasmax_day_IPSL-CM5B-LR_rcp85_r1i1p1_na10kgrid_qm-moving-50bins-detrend_2088.nc',\n",
       " '/scen3/scenario/netcdf/ouranos/cb-oura-1.0/tasmax_day_IPSL-CM5B-LR_rcp85_r1i1p1_na10kgrid_qm-moving-50bins-detrend_2089.nc',\n",
       " '/scen3/scenario/netcdf/ouranos/cb-oura-1.0/tasmax_day_IPSL-CM5B-LR_rcp85_r1i1p1_na10kgrid_qm-moving-50bins-detrend_2090.nc',\n",
       " '/scen3/scenario/netcdf/ouranos/cb-oura-1.0/tasmax_day_IPSL-CM5B-LR_rcp85_r1i1p1_na10kgrid_qm-moving-50bins-detrend_2091.nc',\n",
       " '/scen3/scenario/netcdf/ouranos/cb-oura-1.0/tasmax_day_IPSL-CM5B-LR_rcp85_r1i1p1_na10kgrid_qm-moving-50bins-detrend_2092.nc',\n",
       " '/scen3/scenario/netcdf/ouranos/cb-oura-1.0/tasmax_day_IPSL-CM5B-LR_rcp85_r1i1p1_na10kgrid_qm-moving-50bins-detrend_2093.nc',\n",
       " '/scen3/scenario/netcdf/ouranos/cb-oura-1.0/tasmax_day_IPSL-CM5B-LR_rcp85_r1i1p1_na10kgrid_qm-moving-50bins-detrend_2094.nc',\n",
       " '/scen3/scenario/netcdf/ouranos/cb-oura-1.0/tasmax_day_IPSL-CM5B-LR_rcp85_r1i1p1_na10kgrid_qm-moving-50bins-detrend_2095.nc',\n",
       " '/scen3/scenario/netcdf/ouranos/cb-oura-1.0/tasmax_day_IPSL-CM5B-LR_rcp85_r1i1p1_na10kgrid_qm-moving-50bins-detrend_2096.nc',\n",
       " '/scen3/scenario/netcdf/ouranos/cb-oura-1.0/tasmax_day_IPSL-CM5B-LR_rcp85_r1i1p1_na10kgrid_qm-moving-50bins-detrend_2097.nc',\n",
       " '/scen3/scenario/netcdf/ouranos/cb-oura-1.0/tasmax_day_IPSL-CM5B-LR_rcp85_r1i1p1_na10kgrid_qm-moving-50bins-detrend_2098.nc',\n",
       " '/scen3/scenario/netcdf/ouranos/cb-oura-1.0/tasmax_day_IPSL-CM5B-LR_rcp85_r1i1p1_na10kgrid_qm-moving-50bins-detrend_2099.nc']"
      ]
     },
     "execution_count": 106,
     "metadata": {},
     "output_type": "execute_result"
    }
   ],
   "source": [
    "files2000"
   ]
  },
  {
   "cell_type": "code",
   "execution_count": 107,
   "metadata": {},
   "outputs": [
    {
     "data": {
      "text/plain": [
       "100"
      ]
     },
     "execution_count": 107,
     "metadata": {},
     "output_type": "execute_result"
    }
   ],
   "source": [
    "len(files2000)"
   ]
  },
  {
   "cell_type": "code",
   "execution_count": 108,
   "metadata": {},
   "outputs": [],
   "source": [
    "files2100 = glob.glob(folder+\"tasmax*\"+model+\"*rcp85**2100.nc\")"
   ]
  },
  {
   "cell_type": "code",
   "execution_count": 109,
   "metadata": {},
   "outputs": [
    {
     "name": "stdout",
     "output_type": "stream",
     "text": [
      "['/scen3/scenario/netcdf/ouranos/cb-oura-1.0/tasmax_day_IPSL-CM5B-LR_rcp85_r1i1p1_na10kgrid_qm-moving-50bins-detrend_2100.nc']\n"
     ]
    },
    {
     "data": {
      "text/plain": [
       "1"
      ]
     },
     "execution_count": 109,
     "metadata": {},
     "output_type": "execute_result"
    }
   ],
   "source": [
    "print(files2100)\n",
    "len(files2100)"
   ]
  },
  {
   "cell_type": "code",
   "execution_count": 110,
   "metadata": {},
   "outputs": [],
   "source": [
    "files = files1900 + files2000 + files2100"
   ]
  },
  {
   "cell_type": "code",
   "execution_count": 111,
   "metadata": {},
   "outputs": [
    {
     "data": {
      "text/plain": [
       "121"
      ]
     },
     "execution_count": 111,
     "metadata": {},
     "output_type": "execute_result"
    }
   ],
   "source": [
    "len(files)"
   ]
  },
  {
   "cell_type": "code",
   "execution_count": 112,
   "metadata": {},
   "outputs": [
    {
     "data": {
      "text/plain": [
       "['/scen3/scenario/netcdf/ouranos/cb-oura-1.0/tasmax_day_IPSL-CM5B-LR_rcp85_r1i1p1_na10kgrid_qm-moving-50bins-detrend_1980.nc',\n",
       " '/scen3/scenario/netcdf/ouranos/cb-oura-1.0/tasmax_day_IPSL-CM5B-LR_rcp85_r1i1p1_na10kgrid_qm-moving-50bins-detrend_1981.nc',\n",
       " '/scen3/scenario/netcdf/ouranos/cb-oura-1.0/tasmax_day_IPSL-CM5B-LR_rcp85_r1i1p1_na10kgrid_qm-moving-50bins-detrend_1982.nc',\n",
       " '/scen3/scenario/netcdf/ouranos/cb-oura-1.0/tasmax_day_IPSL-CM5B-LR_rcp85_r1i1p1_na10kgrid_qm-moving-50bins-detrend_1983.nc',\n",
       " '/scen3/scenario/netcdf/ouranos/cb-oura-1.0/tasmax_day_IPSL-CM5B-LR_rcp85_r1i1p1_na10kgrid_qm-moving-50bins-detrend_1984.nc',\n",
       " '/scen3/scenario/netcdf/ouranos/cb-oura-1.0/tasmax_day_IPSL-CM5B-LR_rcp85_r1i1p1_na10kgrid_qm-moving-50bins-detrend_1985.nc',\n",
       " '/scen3/scenario/netcdf/ouranos/cb-oura-1.0/tasmax_day_IPSL-CM5B-LR_rcp85_r1i1p1_na10kgrid_qm-moving-50bins-detrend_1986.nc',\n",
       " '/scen3/scenario/netcdf/ouranos/cb-oura-1.0/tasmax_day_IPSL-CM5B-LR_rcp85_r1i1p1_na10kgrid_qm-moving-50bins-detrend_1987.nc',\n",
       " '/scen3/scenario/netcdf/ouranos/cb-oura-1.0/tasmax_day_IPSL-CM5B-LR_rcp85_r1i1p1_na10kgrid_qm-moving-50bins-detrend_1988.nc',\n",
       " '/scen3/scenario/netcdf/ouranos/cb-oura-1.0/tasmax_day_IPSL-CM5B-LR_rcp85_r1i1p1_na10kgrid_qm-moving-50bins-detrend_1989.nc',\n",
       " '/scen3/scenario/netcdf/ouranos/cb-oura-1.0/tasmax_day_IPSL-CM5B-LR_rcp85_r1i1p1_na10kgrid_qm-moving-50bins-detrend_1990.nc',\n",
       " '/scen3/scenario/netcdf/ouranos/cb-oura-1.0/tasmax_day_IPSL-CM5B-LR_rcp85_r1i1p1_na10kgrid_qm-moving-50bins-detrend_1991.nc',\n",
       " '/scen3/scenario/netcdf/ouranos/cb-oura-1.0/tasmax_day_IPSL-CM5B-LR_rcp85_r1i1p1_na10kgrid_qm-moving-50bins-detrend_1992.nc',\n",
       " '/scen3/scenario/netcdf/ouranos/cb-oura-1.0/tasmax_day_IPSL-CM5B-LR_rcp85_r1i1p1_na10kgrid_qm-moving-50bins-detrend_1993.nc',\n",
       " '/scen3/scenario/netcdf/ouranos/cb-oura-1.0/tasmax_day_IPSL-CM5B-LR_rcp85_r1i1p1_na10kgrid_qm-moving-50bins-detrend_1994.nc',\n",
       " '/scen3/scenario/netcdf/ouranos/cb-oura-1.0/tasmax_day_IPSL-CM5B-LR_rcp85_r1i1p1_na10kgrid_qm-moving-50bins-detrend_1995.nc',\n",
       " '/scen3/scenario/netcdf/ouranos/cb-oura-1.0/tasmax_day_IPSL-CM5B-LR_rcp85_r1i1p1_na10kgrid_qm-moving-50bins-detrend_1996.nc',\n",
       " '/scen3/scenario/netcdf/ouranos/cb-oura-1.0/tasmax_day_IPSL-CM5B-LR_rcp85_r1i1p1_na10kgrid_qm-moving-50bins-detrend_1997.nc',\n",
       " '/scen3/scenario/netcdf/ouranos/cb-oura-1.0/tasmax_day_IPSL-CM5B-LR_rcp85_r1i1p1_na10kgrid_qm-moving-50bins-detrend_1998.nc',\n",
       " '/scen3/scenario/netcdf/ouranos/cb-oura-1.0/tasmax_day_IPSL-CM5B-LR_rcp85_r1i1p1_na10kgrid_qm-moving-50bins-detrend_1999.nc',\n",
       " '/scen3/scenario/netcdf/ouranos/cb-oura-1.0/tasmax_day_IPSL-CM5B-LR_rcp85_r1i1p1_na10kgrid_qm-moving-50bins-detrend_2000.nc',\n",
       " '/scen3/scenario/netcdf/ouranos/cb-oura-1.0/tasmax_day_IPSL-CM5B-LR_rcp85_r1i1p1_na10kgrid_qm-moving-50bins-detrend_2001.nc',\n",
       " '/scen3/scenario/netcdf/ouranos/cb-oura-1.0/tasmax_day_IPSL-CM5B-LR_rcp85_r1i1p1_na10kgrid_qm-moving-50bins-detrend_2002.nc',\n",
       " '/scen3/scenario/netcdf/ouranos/cb-oura-1.0/tasmax_day_IPSL-CM5B-LR_rcp85_r1i1p1_na10kgrid_qm-moving-50bins-detrend_2003.nc',\n",
       " '/scen3/scenario/netcdf/ouranos/cb-oura-1.0/tasmax_day_IPSL-CM5B-LR_rcp85_r1i1p1_na10kgrid_qm-moving-50bins-detrend_2004.nc',\n",
       " '/scen3/scenario/netcdf/ouranos/cb-oura-1.0/tasmax_day_IPSL-CM5B-LR_rcp85_r1i1p1_na10kgrid_qm-moving-50bins-detrend_2005.nc',\n",
       " '/scen3/scenario/netcdf/ouranos/cb-oura-1.0/tasmax_day_IPSL-CM5B-LR_rcp85_r1i1p1_na10kgrid_qm-moving-50bins-detrend_2006.nc',\n",
       " '/scen3/scenario/netcdf/ouranos/cb-oura-1.0/tasmax_day_IPSL-CM5B-LR_rcp85_r1i1p1_na10kgrid_qm-moving-50bins-detrend_2007.nc',\n",
       " '/scen3/scenario/netcdf/ouranos/cb-oura-1.0/tasmax_day_IPSL-CM5B-LR_rcp85_r1i1p1_na10kgrid_qm-moving-50bins-detrend_2008.nc',\n",
       " '/scen3/scenario/netcdf/ouranos/cb-oura-1.0/tasmax_day_IPSL-CM5B-LR_rcp85_r1i1p1_na10kgrid_qm-moving-50bins-detrend_2009.nc',\n",
       " '/scen3/scenario/netcdf/ouranos/cb-oura-1.0/tasmax_day_IPSL-CM5B-LR_rcp85_r1i1p1_na10kgrid_qm-moving-50bins-detrend_2010.nc',\n",
       " '/scen3/scenario/netcdf/ouranos/cb-oura-1.0/tasmax_day_IPSL-CM5B-LR_rcp85_r1i1p1_na10kgrid_qm-moving-50bins-detrend_2011.nc',\n",
       " '/scen3/scenario/netcdf/ouranos/cb-oura-1.0/tasmax_day_IPSL-CM5B-LR_rcp85_r1i1p1_na10kgrid_qm-moving-50bins-detrend_2012.nc',\n",
       " '/scen3/scenario/netcdf/ouranos/cb-oura-1.0/tasmax_day_IPSL-CM5B-LR_rcp85_r1i1p1_na10kgrid_qm-moving-50bins-detrend_2013.nc',\n",
       " '/scen3/scenario/netcdf/ouranos/cb-oura-1.0/tasmax_day_IPSL-CM5B-LR_rcp85_r1i1p1_na10kgrid_qm-moving-50bins-detrend_2014.nc',\n",
       " '/scen3/scenario/netcdf/ouranos/cb-oura-1.0/tasmax_day_IPSL-CM5B-LR_rcp85_r1i1p1_na10kgrid_qm-moving-50bins-detrend_2015.nc',\n",
       " '/scen3/scenario/netcdf/ouranos/cb-oura-1.0/tasmax_day_IPSL-CM5B-LR_rcp85_r1i1p1_na10kgrid_qm-moving-50bins-detrend_2016.nc',\n",
       " '/scen3/scenario/netcdf/ouranos/cb-oura-1.0/tasmax_day_IPSL-CM5B-LR_rcp85_r1i1p1_na10kgrid_qm-moving-50bins-detrend_2017.nc',\n",
       " '/scen3/scenario/netcdf/ouranos/cb-oura-1.0/tasmax_day_IPSL-CM5B-LR_rcp85_r1i1p1_na10kgrid_qm-moving-50bins-detrend_2018.nc',\n",
       " '/scen3/scenario/netcdf/ouranos/cb-oura-1.0/tasmax_day_IPSL-CM5B-LR_rcp85_r1i1p1_na10kgrid_qm-moving-50bins-detrend_2019.nc',\n",
       " '/scen3/scenario/netcdf/ouranos/cb-oura-1.0/tasmax_day_IPSL-CM5B-LR_rcp85_r1i1p1_na10kgrid_qm-moving-50bins-detrend_2020.nc',\n",
       " '/scen3/scenario/netcdf/ouranos/cb-oura-1.0/tasmax_day_IPSL-CM5B-LR_rcp85_r1i1p1_na10kgrid_qm-moving-50bins-detrend_2021.nc',\n",
       " '/scen3/scenario/netcdf/ouranos/cb-oura-1.0/tasmax_day_IPSL-CM5B-LR_rcp85_r1i1p1_na10kgrid_qm-moving-50bins-detrend_2022.nc',\n",
       " '/scen3/scenario/netcdf/ouranos/cb-oura-1.0/tasmax_day_IPSL-CM5B-LR_rcp85_r1i1p1_na10kgrid_qm-moving-50bins-detrend_2023.nc',\n",
       " '/scen3/scenario/netcdf/ouranos/cb-oura-1.0/tasmax_day_IPSL-CM5B-LR_rcp85_r1i1p1_na10kgrid_qm-moving-50bins-detrend_2024.nc',\n",
       " '/scen3/scenario/netcdf/ouranos/cb-oura-1.0/tasmax_day_IPSL-CM5B-LR_rcp85_r1i1p1_na10kgrid_qm-moving-50bins-detrend_2025.nc',\n",
       " '/scen3/scenario/netcdf/ouranos/cb-oura-1.0/tasmax_day_IPSL-CM5B-LR_rcp85_r1i1p1_na10kgrid_qm-moving-50bins-detrend_2026.nc',\n",
       " '/scen3/scenario/netcdf/ouranos/cb-oura-1.0/tasmax_day_IPSL-CM5B-LR_rcp85_r1i1p1_na10kgrid_qm-moving-50bins-detrend_2027.nc',\n",
       " '/scen3/scenario/netcdf/ouranos/cb-oura-1.0/tasmax_day_IPSL-CM5B-LR_rcp85_r1i1p1_na10kgrid_qm-moving-50bins-detrend_2028.nc',\n",
       " '/scen3/scenario/netcdf/ouranos/cb-oura-1.0/tasmax_day_IPSL-CM5B-LR_rcp85_r1i1p1_na10kgrid_qm-moving-50bins-detrend_2029.nc',\n",
       " '/scen3/scenario/netcdf/ouranos/cb-oura-1.0/tasmax_day_IPSL-CM5B-LR_rcp85_r1i1p1_na10kgrid_qm-moving-50bins-detrend_2030.nc',\n",
       " '/scen3/scenario/netcdf/ouranos/cb-oura-1.0/tasmax_day_IPSL-CM5B-LR_rcp85_r1i1p1_na10kgrid_qm-moving-50bins-detrend_2031.nc',\n",
       " '/scen3/scenario/netcdf/ouranos/cb-oura-1.0/tasmax_day_IPSL-CM5B-LR_rcp85_r1i1p1_na10kgrid_qm-moving-50bins-detrend_2032.nc',\n",
       " '/scen3/scenario/netcdf/ouranos/cb-oura-1.0/tasmax_day_IPSL-CM5B-LR_rcp85_r1i1p1_na10kgrid_qm-moving-50bins-detrend_2033.nc',\n",
       " '/scen3/scenario/netcdf/ouranos/cb-oura-1.0/tasmax_day_IPSL-CM5B-LR_rcp85_r1i1p1_na10kgrid_qm-moving-50bins-detrend_2034.nc',\n",
       " '/scen3/scenario/netcdf/ouranos/cb-oura-1.0/tasmax_day_IPSL-CM5B-LR_rcp85_r1i1p1_na10kgrid_qm-moving-50bins-detrend_2035.nc',\n",
       " '/scen3/scenario/netcdf/ouranos/cb-oura-1.0/tasmax_day_IPSL-CM5B-LR_rcp85_r1i1p1_na10kgrid_qm-moving-50bins-detrend_2036.nc',\n",
       " '/scen3/scenario/netcdf/ouranos/cb-oura-1.0/tasmax_day_IPSL-CM5B-LR_rcp85_r1i1p1_na10kgrid_qm-moving-50bins-detrend_2037.nc',\n",
       " '/scen3/scenario/netcdf/ouranos/cb-oura-1.0/tasmax_day_IPSL-CM5B-LR_rcp85_r1i1p1_na10kgrid_qm-moving-50bins-detrend_2038.nc',\n",
       " '/scen3/scenario/netcdf/ouranos/cb-oura-1.0/tasmax_day_IPSL-CM5B-LR_rcp85_r1i1p1_na10kgrid_qm-moving-50bins-detrend_2039.nc',\n",
       " '/scen3/scenario/netcdf/ouranos/cb-oura-1.0/tasmax_day_IPSL-CM5B-LR_rcp85_r1i1p1_na10kgrid_qm-moving-50bins-detrend_2040.nc',\n",
       " '/scen3/scenario/netcdf/ouranos/cb-oura-1.0/tasmax_day_IPSL-CM5B-LR_rcp85_r1i1p1_na10kgrid_qm-moving-50bins-detrend_2041.nc',\n",
       " '/scen3/scenario/netcdf/ouranos/cb-oura-1.0/tasmax_day_IPSL-CM5B-LR_rcp85_r1i1p1_na10kgrid_qm-moving-50bins-detrend_2042.nc',\n",
       " '/scen3/scenario/netcdf/ouranos/cb-oura-1.0/tasmax_day_IPSL-CM5B-LR_rcp85_r1i1p1_na10kgrid_qm-moving-50bins-detrend_2043.nc',\n",
       " '/scen3/scenario/netcdf/ouranos/cb-oura-1.0/tasmax_day_IPSL-CM5B-LR_rcp85_r1i1p1_na10kgrid_qm-moving-50bins-detrend_2044.nc',\n",
       " '/scen3/scenario/netcdf/ouranos/cb-oura-1.0/tasmax_day_IPSL-CM5B-LR_rcp85_r1i1p1_na10kgrid_qm-moving-50bins-detrend_2045.nc',\n",
       " '/scen3/scenario/netcdf/ouranos/cb-oura-1.0/tasmax_day_IPSL-CM5B-LR_rcp85_r1i1p1_na10kgrid_qm-moving-50bins-detrend_2046.nc',\n",
       " '/scen3/scenario/netcdf/ouranos/cb-oura-1.0/tasmax_day_IPSL-CM5B-LR_rcp85_r1i1p1_na10kgrid_qm-moving-50bins-detrend_2047.nc',\n",
       " '/scen3/scenario/netcdf/ouranos/cb-oura-1.0/tasmax_day_IPSL-CM5B-LR_rcp85_r1i1p1_na10kgrid_qm-moving-50bins-detrend_2048.nc',\n",
       " '/scen3/scenario/netcdf/ouranos/cb-oura-1.0/tasmax_day_IPSL-CM5B-LR_rcp85_r1i1p1_na10kgrid_qm-moving-50bins-detrend_2049.nc',\n",
       " '/scen3/scenario/netcdf/ouranos/cb-oura-1.0/tasmax_day_IPSL-CM5B-LR_rcp85_r1i1p1_na10kgrid_qm-moving-50bins-detrend_2050.nc',\n",
       " '/scen3/scenario/netcdf/ouranos/cb-oura-1.0/tasmax_day_IPSL-CM5B-LR_rcp85_r1i1p1_na10kgrid_qm-moving-50bins-detrend_2051.nc',\n",
       " '/scen3/scenario/netcdf/ouranos/cb-oura-1.0/tasmax_day_IPSL-CM5B-LR_rcp85_r1i1p1_na10kgrid_qm-moving-50bins-detrend_2052.nc',\n",
       " '/scen3/scenario/netcdf/ouranos/cb-oura-1.0/tasmax_day_IPSL-CM5B-LR_rcp85_r1i1p1_na10kgrid_qm-moving-50bins-detrend_2053.nc',\n",
       " '/scen3/scenario/netcdf/ouranos/cb-oura-1.0/tasmax_day_IPSL-CM5B-LR_rcp85_r1i1p1_na10kgrid_qm-moving-50bins-detrend_2054.nc',\n",
       " '/scen3/scenario/netcdf/ouranos/cb-oura-1.0/tasmax_day_IPSL-CM5B-LR_rcp85_r1i1p1_na10kgrid_qm-moving-50bins-detrend_2055.nc',\n",
       " '/scen3/scenario/netcdf/ouranos/cb-oura-1.0/tasmax_day_IPSL-CM5B-LR_rcp85_r1i1p1_na10kgrid_qm-moving-50bins-detrend_2056.nc',\n",
       " '/scen3/scenario/netcdf/ouranos/cb-oura-1.0/tasmax_day_IPSL-CM5B-LR_rcp85_r1i1p1_na10kgrid_qm-moving-50bins-detrend_2057.nc',\n",
       " '/scen3/scenario/netcdf/ouranos/cb-oura-1.0/tasmax_day_IPSL-CM5B-LR_rcp85_r1i1p1_na10kgrid_qm-moving-50bins-detrend_2058.nc',\n",
       " '/scen3/scenario/netcdf/ouranos/cb-oura-1.0/tasmax_day_IPSL-CM5B-LR_rcp85_r1i1p1_na10kgrid_qm-moving-50bins-detrend_2059.nc',\n",
       " '/scen3/scenario/netcdf/ouranos/cb-oura-1.0/tasmax_day_IPSL-CM5B-LR_rcp85_r1i1p1_na10kgrid_qm-moving-50bins-detrend_2060.nc',\n",
       " '/scen3/scenario/netcdf/ouranos/cb-oura-1.0/tasmax_day_IPSL-CM5B-LR_rcp85_r1i1p1_na10kgrid_qm-moving-50bins-detrend_2061.nc',\n",
       " '/scen3/scenario/netcdf/ouranos/cb-oura-1.0/tasmax_day_IPSL-CM5B-LR_rcp85_r1i1p1_na10kgrid_qm-moving-50bins-detrend_2062.nc',\n",
       " '/scen3/scenario/netcdf/ouranos/cb-oura-1.0/tasmax_day_IPSL-CM5B-LR_rcp85_r1i1p1_na10kgrid_qm-moving-50bins-detrend_2063.nc',\n",
       " '/scen3/scenario/netcdf/ouranos/cb-oura-1.0/tasmax_day_IPSL-CM5B-LR_rcp85_r1i1p1_na10kgrid_qm-moving-50bins-detrend_2064.nc',\n",
       " '/scen3/scenario/netcdf/ouranos/cb-oura-1.0/tasmax_day_IPSL-CM5B-LR_rcp85_r1i1p1_na10kgrid_qm-moving-50bins-detrend_2065.nc',\n",
       " '/scen3/scenario/netcdf/ouranos/cb-oura-1.0/tasmax_day_IPSL-CM5B-LR_rcp85_r1i1p1_na10kgrid_qm-moving-50bins-detrend_2066.nc',\n",
       " '/scen3/scenario/netcdf/ouranos/cb-oura-1.0/tasmax_day_IPSL-CM5B-LR_rcp85_r1i1p1_na10kgrid_qm-moving-50bins-detrend_2067.nc',\n",
       " '/scen3/scenario/netcdf/ouranos/cb-oura-1.0/tasmax_day_IPSL-CM5B-LR_rcp85_r1i1p1_na10kgrid_qm-moving-50bins-detrend_2068.nc',\n",
       " '/scen3/scenario/netcdf/ouranos/cb-oura-1.0/tasmax_day_IPSL-CM5B-LR_rcp85_r1i1p1_na10kgrid_qm-moving-50bins-detrend_2069.nc',\n",
       " '/scen3/scenario/netcdf/ouranos/cb-oura-1.0/tasmax_day_IPSL-CM5B-LR_rcp85_r1i1p1_na10kgrid_qm-moving-50bins-detrend_2070.nc',\n",
       " '/scen3/scenario/netcdf/ouranos/cb-oura-1.0/tasmax_day_IPSL-CM5B-LR_rcp85_r1i1p1_na10kgrid_qm-moving-50bins-detrend_2071.nc',\n",
       " '/scen3/scenario/netcdf/ouranos/cb-oura-1.0/tasmax_day_IPSL-CM5B-LR_rcp85_r1i1p1_na10kgrid_qm-moving-50bins-detrend_2072.nc',\n",
       " '/scen3/scenario/netcdf/ouranos/cb-oura-1.0/tasmax_day_IPSL-CM5B-LR_rcp85_r1i1p1_na10kgrid_qm-moving-50bins-detrend_2073.nc',\n",
       " '/scen3/scenario/netcdf/ouranos/cb-oura-1.0/tasmax_day_IPSL-CM5B-LR_rcp85_r1i1p1_na10kgrid_qm-moving-50bins-detrend_2074.nc',\n",
       " '/scen3/scenario/netcdf/ouranos/cb-oura-1.0/tasmax_day_IPSL-CM5B-LR_rcp85_r1i1p1_na10kgrid_qm-moving-50bins-detrend_2075.nc',\n",
       " '/scen3/scenario/netcdf/ouranos/cb-oura-1.0/tasmax_day_IPSL-CM5B-LR_rcp85_r1i1p1_na10kgrid_qm-moving-50bins-detrend_2076.nc',\n",
       " '/scen3/scenario/netcdf/ouranos/cb-oura-1.0/tasmax_day_IPSL-CM5B-LR_rcp85_r1i1p1_na10kgrid_qm-moving-50bins-detrend_2077.nc',\n",
       " '/scen3/scenario/netcdf/ouranos/cb-oura-1.0/tasmax_day_IPSL-CM5B-LR_rcp85_r1i1p1_na10kgrid_qm-moving-50bins-detrend_2078.nc',\n",
       " '/scen3/scenario/netcdf/ouranos/cb-oura-1.0/tasmax_day_IPSL-CM5B-LR_rcp85_r1i1p1_na10kgrid_qm-moving-50bins-detrend_2079.nc',\n",
       " '/scen3/scenario/netcdf/ouranos/cb-oura-1.0/tasmax_day_IPSL-CM5B-LR_rcp85_r1i1p1_na10kgrid_qm-moving-50bins-detrend_2080.nc',\n",
       " '/scen3/scenario/netcdf/ouranos/cb-oura-1.0/tasmax_day_IPSL-CM5B-LR_rcp85_r1i1p1_na10kgrid_qm-moving-50bins-detrend_2081.nc',\n",
       " '/scen3/scenario/netcdf/ouranos/cb-oura-1.0/tasmax_day_IPSL-CM5B-LR_rcp85_r1i1p1_na10kgrid_qm-moving-50bins-detrend_2082.nc',\n",
       " '/scen3/scenario/netcdf/ouranos/cb-oura-1.0/tasmax_day_IPSL-CM5B-LR_rcp85_r1i1p1_na10kgrid_qm-moving-50bins-detrend_2083.nc',\n",
       " '/scen3/scenario/netcdf/ouranos/cb-oura-1.0/tasmax_day_IPSL-CM5B-LR_rcp85_r1i1p1_na10kgrid_qm-moving-50bins-detrend_2084.nc',\n",
       " '/scen3/scenario/netcdf/ouranos/cb-oura-1.0/tasmax_day_IPSL-CM5B-LR_rcp85_r1i1p1_na10kgrid_qm-moving-50bins-detrend_2085.nc',\n",
       " '/scen3/scenario/netcdf/ouranos/cb-oura-1.0/tasmax_day_IPSL-CM5B-LR_rcp85_r1i1p1_na10kgrid_qm-moving-50bins-detrend_2086.nc',\n",
       " '/scen3/scenario/netcdf/ouranos/cb-oura-1.0/tasmax_day_IPSL-CM5B-LR_rcp85_r1i1p1_na10kgrid_qm-moving-50bins-detrend_2087.nc',\n",
       " '/scen3/scenario/netcdf/ouranos/cb-oura-1.0/tasmax_day_IPSL-CM5B-LR_rcp85_r1i1p1_na10kgrid_qm-moving-50bins-detrend_2088.nc',\n",
       " '/scen3/scenario/netcdf/ouranos/cb-oura-1.0/tasmax_day_IPSL-CM5B-LR_rcp85_r1i1p1_na10kgrid_qm-moving-50bins-detrend_2089.nc',\n",
       " '/scen3/scenario/netcdf/ouranos/cb-oura-1.0/tasmax_day_IPSL-CM5B-LR_rcp85_r1i1p1_na10kgrid_qm-moving-50bins-detrend_2090.nc',\n",
       " '/scen3/scenario/netcdf/ouranos/cb-oura-1.0/tasmax_day_IPSL-CM5B-LR_rcp85_r1i1p1_na10kgrid_qm-moving-50bins-detrend_2091.nc',\n",
       " '/scen3/scenario/netcdf/ouranos/cb-oura-1.0/tasmax_day_IPSL-CM5B-LR_rcp85_r1i1p1_na10kgrid_qm-moving-50bins-detrend_2092.nc',\n",
       " '/scen3/scenario/netcdf/ouranos/cb-oura-1.0/tasmax_day_IPSL-CM5B-LR_rcp85_r1i1p1_na10kgrid_qm-moving-50bins-detrend_2093.nc',\n",
       " '/scen3/scenario/netcdf/ouranos/cb-oura-1.0/tasmax_day_IPSL-CM5B-LR_rcp85_r1i1p1_na10kgrid_qm-moving-50bins-detrend_2094.nc',\n",
       " '/scen3/scenario/netcdf/ouranos/cb-oura-1.0/tasmax_day_IPSL-CM5B-LR_rcp85_r1i1p1_na10kgrid_qm-moving-50bins-detrend_2095.nc',\n",
       " '/scen3/scenario/netcdf/ouranos/cb-oura-1.0/tasmax_day_IPSL-CM5B-LR_rcp85_r1i1p1_na10kgrid_qm-moving-50bins-detrend_2096.nc',\n",
       " '/scen3/scenario/netcdf/ouranos/cb-oura-1.0/tasmax_day_IPSL-CM5B-LR_rcp85_r1i1p1_na10kgrid_qm-moving-50bins-detrend_2097.nc',\n",
       " '/scen3/scenario/netcdf/ouranos/cb-oura-1.0/tasmax_day_IPSL-CM5B-LR_rcp85_r1i1p1_na10kgrid_qm-moving-50bins-detrend_2098.nc',\n",
       " '/scen3/scenario/netcdf/ouranos/cb-oura-1.0/tasmax_day_IPSL-CM5B-LR_rcp85_r1i1p1_na10kgrid_qm-moving-50bins-detrend_2099.nc',\n",
       " '/scen3/scenario/netcdf/ouranos/cb-oura-1.0/tasmax_day_IPSL-CM5B-LR_rcp85_r1i1p1_na10kgrid_qm-moving-50bins-detrend_2100.nc']"
      ]
     },
     "execution_count": 112,
     "metadata": {},
     "output_type": "execute_result"
    }
   ],
   "source": [
    "files"
   ]
  },
  {
   "cell_type": "code",
   "execution_count": 113,
   "metadata": {},
   "outputs": [
    {
     "name": "stdout",
     "output_type": "stream",
     "text": [
      "tasmax_day_IPSL-CM5B-LR_rcp85_r1i1p1_na10kgrid_qm-moving-50bins-detrend_1980.nc\n"
     ]
    },
    {
     "name": "stderr",
     "output_type": "stream",
     "text": [
      "<ipython-input-113-468836aa4017>:8: RuntimeWarning: Converting a CFTimeIndex with dates from a non-standard calendar, 'noleap', to a pandas.DatetimeIndex, which uses dates from the standard calendar.  This may lead to subtle errors in operations that depend on the length of time between dates.\n",
      "  new_index = data.indexes['time'].to_datetimeindex()\n"
     ]
    },
    {
     "name": "stdout",
     "output_type": "stream",
     "text": [
      "tasmax_day_IPSL-CM5B-LR_rcp85_r1i1p1_na10kgrid_qm-moving-50bins-detrend_1981.nc\n",
      "tasmax_day_IPSL-CM5B-LR_rcp85_r1i1p1_na10kgrid_qm-moving-50bins-detrend_1982.nc\n",
      "tasmax_day_IPSL-CM5B-LR_rcp85_r1i1p1_na10kgrid_qm-moving-50bins-detrend_1983.nc\n",
      "tasmax_day_IPSL-CM5B-LR_rcp85_r1i1p1_na10kgrid_qm-moving-50bins-detrend_1984.nc\n",
      "tasmax_day_IPSL-CM5B-LR_rcp85_r1i1p1_na10kgrid_qm-moving-50bins-detrend_1985.nc\n",
      "tasmax_day_IPSL-CM5B-LR_rcp85_r1i1p1_na10kgrid_qm-moving-50bins-detrend_1986.nc\n",
      "tasmax_day_IPSL-CM5B-LR_rcp85_r1i1p1_na10kgrid_qm-moving-50bins-detrend_1987.nc\n",
      "tasmax_day_IPSL-CM5B-LR_rcp85_r1i1p1_na10kgrid_qm-moving-50bins-detrend_1988.nc\n",
      "tasmax_day_IPSL-CM5B-LR_rcp85_r1i1p1_na10kgrid_qm-moving-50bins-detrend_1989.nc\n",
      "tasmax_day_IPSL-CM5B-LR_rcp85_r1i1p1_na10kgrid_qm-moving-50bins-detrend_1990.nc\n",
      "tasmax_day_IPSL-CM5B-LR_rcp85_r1i1p1_na10kgrid_qm-moving-50bins-detrend_1991.nc\n",
      "tasmax_day_IPSL-CM5B-LR_rcp85_r1i1p1_na10kgrid_qm-moving-50bins-detrend_1992.nc\n",
      "tasmax_day_IPSL-CM5B-LR_rcp85_r1i1p1_na10kgrid_qm-moving-50bins-detrend_1993.nc\n",
      "tasmax_day_IPSL-CM5B-LR_rcp85_r1i1p1_na10kgrid_qm-moving-50bins-detrend_1994.nc\n",
      "tasmax_day_IPSL-CM5B-LR_rcp85_r1i1p1_na10kgrid_qm-moving-50bins-detrend_1995.nc\n",
      "tasmax_day_IPSL-CM5B-LR_rcp85_r1i1p1_na10kgrid_qm-moving-50bins-detrend_1996.nc\n",
      "tasmax_day_IPSL-CM5B-LR_rcp85_r1i1p1_na10kgrid_qm-moving-50bins-detrend_1997.nc\n",
      "tasmax_day_IPSL-CM5B-LR_rcp85_r1i1p1_na10kgrid_qm-moving-50bins-detrend_1998.nc\n",
      "tasmax_day_IPSL-CM5B-LR_rcp85_r1i1p1_na10kgrid_qm-moving-50bins-detrend_1999.nc\n",
      "tasmax_day_IPSL-CM5B-LR_rcp85_r1i1p1_na10kgrid_qm-moving-50bins-detrend_2000.nc\n",
      "tasmax_day_IPSL-CM5B-LR_rcp85_r1i1p1_na10kgrid_qm-moving-50bins-detrend_2001.nc\n",
      "tasmax_day_IPSL-CM5B-LR_rcp85_r1i1p1_na10kgrid_qm-moving-50bins-detrend_2002.nc\n",
      "tasmax_day_IPSL-CM5B-LR_rcp85_r1i1p1_na10kgrid_qm-moving-50bins-detrend_2003.nc\n",
      "tasmax_day_IPSL-CM5B-LR_rcp85_r1i1p1_na10kgrid_qm-moving-50bins-detrend_2004.nc\n",
      "tasmax_day_IPSL-CM5B-LR_rcp85_r1i1p1_na10kgrid_qm-moving-50bins-detrend_2005.nc\n",
      "tasmax_day_IPSL-CM5B-LR_rcp85_r1i1p1_na10kgrid_qm-moving-50bins-detrend_2006.nc\n",
      "tasmax_day_IPSL-CM5B-LR_rcp85_r1i1p1_na10kgrid_qm-moving-50bins-detrend_2007.nc\n",
      "tasmax_day_IPSL-CM5B-LR_rcp85_r1i1p1_na10kgrid_qm-moving-50bins-detrend_2008.nc\n",
      "tasmax_day_IPSL-CM5B-LR_rcp85_r1i1p1_na10kgrid_qm-moving-50bins-detrend_2009.nc\n",
      "tasmax_day_IPSL-CM5B-LR_rcp85_r1i1p1_na10kgrid_qm-moving-50bins-detrend_2010.nc\n",
      "tasmax_day_IPSL-CM5B-LR_rcp85_r1i1p1_na10kgrid_qm-moving-50bins-detrend_2011.nc\n",
      "tasmax_day_IPSL-CM5B-LR_rcp85_r1i1p1_na10kgrid_qm-moving-50bins-detrend_2012.nc\n",
      "tasmax_day_IPSL-CM5B-LR_rcp85_r1i1p1_na10kgrid_qm-moving-50bins-detrend_2013.nc\n",
      "tasmax_day_IPSL-CM5B-LR_rcp85_r1i1p1_na10kgrid_qm-moving-50bins-detrend_2014.nc\n",
      "tasmax_day_IPSL-CM5B-LR_rcp85_r1i1p1_na10kgrid_qm-moving-50bins-detrend_2015.nc\n",
      "tasmax_day_IPSL-CM5B-LR_rcp85_r1i1p1_na10kgrid_qm-moving-50bins-detrend_2016.nc\n",
      "tasmax_day_IPSL-CM5B-LR_rcp85_r1i1p1_na10kgrid_qm-moving-50bins-detrend_2017.nc\n",
      "tasmax_day_IPSL-CM5B-LR_rcp85_r1i1p1_na10kgrid_qm-moving-50bins-detrend_2018.nc\n",
      "tasmax_day_IPSL-CM5B-LR_rcp85_r1i1p1_na10kgrid_qm-moving-50bins-detrend_2019.nc\n",
      "tasmax_day_IPSL-CM5B-LR_rcp85_r1i1p1_na10kgrid_qm-moving-50bins-detrend_2020.nc\n",
      "tasmax_day_IPSL-CM5B-LR_rcp85_r1i1p1_na10kgrid_qm-moving-50bins-detrend_2021.nc\n",
      "tasmax_day_IPSL-CM5B-LR_rcp85_r1i1p1_na10kgrid_qm-moving-50bins-detrend_2022.nc\n",
      "tasmax_day_IPSL-CM5B-LR_rcp85_r1i1p1_na10kgrid_qm-moving-50bins-detrend_2023.nc\n",
      "tasmax_day_IPSL-CM5B-LR_rcp85_r1i1p1_na10kgrid_qm-moving-50bins-detrend_2024.nc\n",
      "tasmax_day_IPSL-CM5B-LR_rcp85_r1i1p1_na10kgrid_qm-moving-50bins-detrend_2025.nc\n",
      "tasmax_day_IPSL-CM5B-LR_rcp85_r1i1p1_na10kgrid_qm-moving-50bins-detrend_2026.nc\n",
      "tasmax_day_IPSL-CM5B-LR_rcp85_r1i1p1_na10kgrid_qm-moving-50bins-detrend_2027.nc\n",
      "tasmax_day_IPSL-CM5B-LR_rcp85_r1i1p1_na10kgrid_qm-moving-50bins-detrend_2028.nc\n",
      "tasmax_day_IPSL-CM5B-LR_rcp85_r1i1p1_na10kgrid_qm-moving-50bins-detrend_2029.nc\n",
      "tasmax_day_IPSL-CM5B-LR_rcp85_r1i1p1_na10kgrid_qm-moving-50bins-detrend_2030.nc\n",
      "tasmax_day_IPSL-CM5B-LR_rcp85_r1i1p1_na10kgrid_qm-moving-50bins-detrend_2031.nc\n",
      "tasmax_day_IPSL-CM5B-LR_rcp85_r1i1p1_na10kgrid_qm-moving-50bins-detrend_2032.nc\n",
      "tasmax_day_IPSL-CM5B-LR_rcp85_r1i1p1_na10kgrid_qm-moving-50bins-detrend_2033.nc\n",
      "tasmax_day_IPSL-CM5B-LR_rcp85_r1i1p1_na10kgrid_qm-moving-50bins-detrend_2034.nc\n",
      "tasmax_day_IPSL-CM5B-LR_rcp85_r1i1p1_na10kgrid_qm-moving-50bins-detrend_2035.nc\n",
      "tasmax_day_IPSL-CM5B-LR_rcp85_r1i1p1_na10kgrid_qm-moving-50bins-detrend_2036.nc\n",
      "tasmax_day_IPSL-CM5B-LR_rcp85_r1i1p1_na10kgrid_qm-moving-50bins-detrend_2037.nc\n",
      "tasmax_day_IPSL-CM5B-LR_rcp85_r1i1p1_na10kgrid_qm-moving-50bins-detrend_2038.nc\n",
      "tasmax_day_IPSL-CM5B-LR_rcp85_r1i1p1_na10kgrid_qm-moving-50bins-detrend_2039.nc\n",
      "tasmax_day_IPSL-CM5B-LR_rcp85_r1i1p1_na10kgrid_qm-moving-50bins-detrend_2040.nc\n",
      "tasmax_day_IPSL-CM5B-LR_rcp85_r1i1p1_na10kgrid_qm-moving-50bins-detrend_2041.nc\n",
      "tasmax_day_IPSL-CM5B-LR_rcp85_r1i1p1_na10kgrid_qm-moving-50bins-detrend_2042.nc\n",
      "tasmax_day_IPSL-CM5B-LR_rcp85_r1i1p1_na10kgrid_qm-moving-50bins-detrend_2043.nc\n",
      "tasmax_day_IPSL-CM5B-LR_rcp85_r1i1p1_na10kgrid_qm-moving-50bins-detrend_2044.nc\n",
      "tasmax_day_IPSL-CM5B-LR_rcp85_r1i1p1_na10kgrid_qm-moving-50bins-detrend_2045.nc\n",
      "tasmax_day_IPSL-CM5B-LR_rcp85_r1i1p1_na10kgrid_qm-moving-50bins-detrend_2046.nc\n",
      "tasmax_day_IPSL-CM5B-LR_rcp85_r1i1p1_na10kgrid_qm-moving-50bins-detrend_2047.nc\n",
      "tasmax_day_IPSL-CM5B-LR_rcp85_r1i1p1_na10kgrid_qm-moving-50bins-detrend_2048.nc\n",
      "tasmax_day_IPSL-CM5B-LR_rcp85_r1i1p1_na10kgrid_qm-moving-50bins-detrend_2049.nc\n",
      "tasmax_day_IPSL-CM5B-LR_rcp85_r1i1p1_na10kgrid_qm-moving-50bins-detrend_2050.nc\n",
      "tasmax_day_IPSL-CM5B-LR_rcp85_r1i1p1_na10kgrid_qm-moving-50bins-detrend_2051.nc\n",
      "tasmax_day_IPSL-CM5B-LR_rcp85_r1i1p1_na10kgrid_qm-moving-50bins-detrend_2052.nc\n",
      "tasmax_day_IPSL-CM5B-LR_rcp85_r1i1p1_na10kgrid_qm-moving-50bins-detrend_2053.nc\n",
      "tasmax_day_IPSL-CM5B-LR_rcp85_r1i1p1_na10kgrid_qm-moving-50bins-detrend_2054.nc\n",
      "tasmax_day_IPSL-CM5B-LR_rcp85_r1i1p1_na10kgrid_qm-moving-50bins-detrend_2055.nc\n",
      "tasmax_day_IPSL-CM5B-LR_rcp85_r1i1p1_na10kgrid_qm-moving-50bins-detrend_2056.nc\n",
      "tasmax_day_IPSL-CM5B-LR_rcp85_r1i1p1_na10kgrid_qm-moving-50bins-detrend_2057.nc\n",
      "tasmax_day_IPSL-CM5B-LR_rcp85_r1i1p1_na10kgrid_qm-moving-50bins-detrend_2058.nc\n",
      "tasmax_day_IPSL-CM5B-LR_rcp85_r1i1p1_na10kgrid_qm-moving-50bins-detrend_2059.nc\n",
      "tasmax_day_IPSL-CM5B-LR_rcp85_r1i1p1_na10kgrid_qm-moving-50bins-detrend_2060.nc\n",
      "tasmax_day_IPSL-CM5B-LR_rcp85_r1i1p1_na10kgrid_qm-moving-50bins-detrend_2061.nc\n",
      "tasmax_day_IPSL-CM5B-LR_rcp85_r1i1p1_na10kgrid_qm-moving-50bins-detrend_2062.nc\n",
      "tasmax_day_IPSL-CM5B-LR_rcp85_r1i1p1_na10kgrid_qm-moving-50bins-detrend_2063.nc\n",
      "tasmax_day_IPSL-CM5B-LR_rcp85_r1i1p1_na10kgrid_qm-moving-50bins-detrend_2064.nc\n",
      "tasmax_day_IPSL-CM5B-LR_rcp85_r1i1p1_na10kgrid_qm-moving-50bins-detrend_2065.nc\n",
      "tasmax_day_IPSL-CM5B-LR_rcp85_r1i1p1_na10kgrid_qm-moving-50bins-detrend_2066.nc\n",
      "tasmax_day_IPSL-CM5B-LR_rcp85_r1i1p1_na10kgrid_qm-moving-50bins-detrend_2067.nc\n",
      "tasmax_day_IPSL-CM5B-LR_rcp85_r1i1p1_na10kgrid_qm-moving-50bins-detrend_2068.nc\n",
      "tasmax_day_IPSL-CM5B-LR_rcp85_r1i1p1_na10kgrid_qm-moving-50bins-detrend_2069.nc\n",
      "tasmax_day_IPSL-CM5B-LR_rcp85_r1i1p1_na10kgrid_qm-moving-50bins-detrend_2070.nc\n",
      "tasmax_day_IPSL-CM5B-LR_rcp85_r1i1p1_na10kgrid_qm-moving-50bins-detrend_2071.nc\n",
      "tasmax_day_IPSL-CM5B-LR_rcp85_r1i1p1_na10kgrid_qm-moving-50bins-detrend_2072.nc\n",
      "tasmax_day_IPSL-CM5B-LR_rcp85_r1i1p1_na10kgrid_qm-moving-50bins-detrend_2073.nc\n",
      "tasmax_day_IPSL-CM5B-LR_rcp85_r1i1p1_na10kgrid_qm-moving-50bins-detrend_2074.nc\n",
      "tasmax_day_IPSL-CM5B-LR_rcp85_r1i1p1_na10kgrid_qm-moving-50bins-detrend_2075.nc\n",
      "tasmax_day_IPSL-CM5B-LR_rcp85_r1i1p1_na10kgrid_qm-moving-50bins-detrend_2076.nc\n",
      "tasmax_day_IPSL-CM5B-LR_rcp85_r1i1p1_na10kgrid_qm-moving-50bins-detrend_2077.nc\n",
      "tasmax_day_IPSL-CM5B-LR_rcp85_r1i1p1_na10kgrid_qm-moving-50bins-detrend_2078.nc\n",
      "tasmax_day_IPSL-CM5B-LR_rcp85_r1i1p1_na10kgrid_qm-moving-50bins-detrend_2079.nc\n",
      "tasmax_day_IPSL-CM5B-LR_rcp85_r1i1p1_na10kgrid_qm-moving-50bins-detrend_2080.nc\n",
      "tasmax_day_IPSL-CM5B-LR_rcp85_r1i1p1_na10kgrid_qm-moving-50bins-detrend_2081.nc\n",
      "tasmax_day_IPSL-CM5B-LR_rcp85_r1i1p1_na10kgrid_qm-moving-50bins-detrend_2082.nc\n",
      "tasmax_day_IPSL-CM5B-LR_rcp85_r1i1p1_na10kgrid_qm-moving-50bins-detrend_2083.nc\n"
     ]
    },
    {
     "name": "stdout",
     "output_type": "stream",
     "text": [
      "tasmax_day_IPSL-CM5B-LR_rcp85_r1i1p1_na10kgrid_qm-moving-50bins-detrend_2084.nc\n",
      "tasmax_day_IPSL-CM5B-LR_rcp85_r1i1p1_na10kgrid_qm-moving-50bins-detrend_2085.nc\n",
      "tasmax_day_IPSL-CM5B-LR_rcp85_r1i1p1_na10kgrid_qm-moving-50bins-detrend_2086.nc\n",
      "tasmax_day_IPSL-CM5B-LR_rcp85_r1i1p1_na10kgrid_qm-moving-50bins-detrend_2087.nc\n",
      "tasmax_day_IPSL-CM5B-LR_rcp85_r1i1p1_na10kgrid_qm-moving-50bins-detrend_2088.nc\n",
      "tasmax_day_IPSL-CM5B-LR_rcp85_r1i1p1_na10kgrid_qm-moving-50bins-detrend_2089.nc\n",
      "tasmax_day_IPSL-CM5B-LR_rcp85_r1i1p1_na10kgrid_qm-moving-50bins-detrend_2090.nc\n",
      "tasmax_day_IPSL-CM5B-LR_rcp85_r1i1p1_na10kgrid_qm-moving-50bins-detrend_2091.nc\n",
      "tasmax_day_IPSL-CM5B-LR_rcp85_r1i1p1_na10kgrid_qm-moving-50bins-detrend_2092.nc\n",
      "tasmax_day_IPSL-CM5B-LR_rcp85_r1i1p1_na10kgrid_qm-moving-50bins-detrend_2093.nc\n",
      "tasmax_day_IPSL-CM5B-LR_rcp85_r1i1p1_na10kgrid_qm-moving-50bins-detrend_2094.nc\n",
      "tasmax_day_IPSL-CM5B-LR_rcp85_r1i1p1_na10kgrid_qm-moving-50bins-detrend_2095.nc\n",
      "tasmax_day_IPSL-CM5B-LR_rcp85_r1i1p1_na10kgrid_qm-moving-50bins-detrend_2096.nc\n",
      "tasmax_day_IPSL-CM5B-LR_rcp85_r1i1p1_na10kgrid_qm-moving-50bins-detrend_2097.nc\n",
      "tasmax_day_IPSL-CM5B-LR_rcp85_r1i1p1_na10kgrid_qm-moving-50bins-detrend_2098.nc\n",
      "tasmax_day_IPSL-CM5B-LR_rcp85_r1i1p1_na10kgrid_qm-moving-50bins-detrend_2099.nc\n",
      "tasmax_day_IPSL-CM5B-LR_rcp85_r1i1p1_na10kgrid_qm-moving-50bins-detrend_2100.nc\n"
     ]
    }
   ],
   "source": [
    "#7.49- = 4min - 30 files\n",
    "#8.31 - \n",
    "for file in files:\n",
    "    fname = os.path.basename(file)\n",
    "    fbase = os.path.splitext(fname)[0]\n",
    "    print(fname)\n",
    "    data = xr.open_dataset(file)\n",
    "    new_index = data.indexes['time'].to_datetimeindex()\n",
    "    data['time'] = new_index\n",
    "    time_mean = data.mean(dim=[\"time\"])\n",
    "    time_mean.to_netcdf(out_folder+fbase+\".nc\")\n",
    "    small_df = time_mean.tasmax.to_dataframe().dropna()\n",
    "    small_df.reset_index().to_feather(out_folder + fbase + \".feather\")"
   ]
  },
  {
   "cell_type": "code",
   "execution_count": 114,
   "metadata": {},
   "outputs": [],
   "source": [
    "time_mean.to_netcdf(out_folder+fname)"
   ]
  },
  {
   "cell_type": "code",
   "execution_count": 115,
   "metadata": {},
   "outputs": [
    {
     "data": {
      "text/html": [
       "<pre>&lt;xarray.Dataset&gt;\n",
       "Dimensions:       (lat: 700, lon: 1064, time: 365, ts: 3)\n",
       "Coordinates:\n",
       "  * ts            (ts) float32 nan nan nan\n",
       "  * time          (time) datetime64[ns] 2100-01-01 2100-01-02 ... 2100-12-31\n",
       "  * lat           (lat) float32 83.28931 83.20598 83.12265 ... 25.12497 25.04164\n",
       "  * lon           (lon) float32 -141.04314 -140.9598 ... -52.54667 -52.46334\n",
       "Data variables:\n",
       "    time_vectors  (time, ts) int32 2100 1 1 2100 1 2 ... 2100 12 30 2100 12 31\n",
       "    tasmax        (time, lat, lon) float32 nan nan nan nan ... nan nan nan nan\n",
       "Attributes:\n",
       "    Conventions:     CF-1.5\n",
       "    title:           IPSL-CM5B-LR model output prepared for CMIP5 historical\n",
       "    history:         2012-01-28T12:43:13Z CMOR rewrote data to comply with CF...\n",
       "    institution:     IPSL (Institut Pierre Simon Laplace, Paris, France)\n",
       "    source:          IPSL-CM5B-LR (2011) : atmos : LMDZ5 (LMDZ5_NPv3.1, 96x95...\n",
       "    redistribution:  Redistribution prohibited. For internal use only.</pre>"
      ],
      "text/plain": [
       "<xarray.Dataset>\n",
       "Dimensions:       (lat: 700, lon: 1064, time: 365, ts: 3)\n",
       "Coordinates:\n",
       "  * ts            (ts) float32 nan nan nan\n",
       "  * time          (time) datetime64[ns] 2100-01-01 2100-01-02 ... 2100-12-31\n",
       "  * lat           (lat) float32 83.28931 83.20598 83.12265 ... 25.12497 25.04164\n",
       "  * lon           (lon) float32 -141.04314 -140.9598 ... -52.54667 -52.46334\n",
       "Data variables:\n",
       "    time_vectors  (time, ts) int32 2100 1 1 2100 1 2 ... 2100 12 30 2100 12 31\n",
       "    tasmax        (time, lat, lon) float32 nan nan nan nan ... nan nan nan nan\n",
       "Attributes:\n",
       "    Conventions:     CF-1.5\n",
       "    title:           IPSL-CM5B-LR model output prepared for CMIP5 historical\n",
       "    history:         2012-01-28T12:43:13Z CMOR rewrote data to comply with CF...\n",
       "    institution:     IPSL (Institut Pierre Simon Laplace, Paris, France)\n",
       "    source:          IPSL-CM5B-LR (2011) : atmos : LMDZ5 (LMDZ5_NPv3.1, 96x95...\n",
       "    redistribution:  Redistribution prohibited. For internal use only."
      ]
     },
     "execution_count": 115,
     "metadata": {},
     "output_type": "execute_result"
    }
   ],
   "source": [
    "data"
   ]
  },
  {
   "cell_type": "code",
   "execution_count": 116,
   "metadata": {},
   "outputs": [
    {
     "data": {
      "text/html": [
       "<div>\n",
       "<style scoped>\n",
       "    .dataframe tbody tr th:only-of-type {\n",
       "        vertical-align: middle;\n",
       "    }\n",
       "\n",
       "    .dataframe tbody tr th {\n",
       "        vertical-align: top;\n",
       "    }\n",
       "\n",
       "    .dataframe thead th {\n",
       "        text-align: right;\n",
       "    }\n",
       "</style>\n",
       "<table border=\"1\" class=\"dataframe\">\n",
       "  <thead>\n",
       "    <tr style=\"text-align: right;\">\n",
       "      <th></th>\n",
       "      <th></th>\n",
       "      <th>tasmax</th>\n",
       "    </tr>\n",
       "    <tr>\n",
       "      <th>lat</th>\n",
       "      <th>lon</th>\n",
       "      <th></th>\n",
       "    </tr>\n",
       "  </thead>\n",
       "  <tbody>\n",
       "    <tr>\n",
       "      <th rowspan=\"5\" valign=\"top\">66.623306</th>\n",
       "      <th>-89.045212</th>\n",
       "      <td>270.951355</td>\n",
       "    </tr>\n",
       "    <tr>\n",
       "      <th>-88.961884</th>\n",
       "      <td>271.058929</td>\n",
       "    </tr>\n",
       "    <tr>\n",
       "      <th>-88.878548</th>\n",
       "      <td>271.060883</td>\n",
       "    </tr>\n",
       "    <tr>\n",
       "      <th>-88.795219</th>\n",
       "      <td>271.125671</td>\n",
       "    </tr>\n",
       "    <tr>\n",
       "      <th>-88.711891</th>\n",
       "      <td>271.219299</td>\n",
       "    </tr>\n",
       "    <tr>\n",
       "      <th>...</th>\n",
       "      <th>...</th>\n",
       "      <td>...</td>\n",
       "    </tr>\n",
       "    <tr>\n",
       "      <th rowspan=\"5\" valign=\"top\">40.041039</th>\n",
       "      <th>-74.379128</th>\n",
       "      <td>297.475952</td>\n",
       "    </tr>\n",
       "    <tr>\n",
       "      <th>-74.295799</th>\n",
       "      <td>297.438568</td>\n",
       "    </tr>\n",
       "    <tr>\n",
       "      <th>-74.212471</th>\n",
       "      <td>297.372345</td>\n",
       "    </tr>\n",
       "    <tr>\n",
       "      <th>-74.129143</th>\n",
       "      <td>297.321503</td>\n",
       "    </tr>\n",
       "    <tr>\n",
       "      <th>-74.045807</th>\n",
       "      <td>297.102661</td>\n",
       "    </tr>\n",
       "  </tbody>\n",
       "</table>\n",
       "<p>76206 rows × 1 columns</p>\n",
       "</div>"
      ],
      "text/plain": [
       "                          tasmax\n",
       "lat       lon                   \n",
       "66.623306 -89.045212  270.951355\n",
       "          -88.961884  271.058929\n",
       "          -88.878548  271.060883\n",
       "          -88.795219  271.125671\n",
       "          -88.711891  271.219299\n",
       "...                          ...\n",
       "40.041039 -74.379128  297.475952\n",
       "          -74.295799  297.438568\n",
       "          -74.212471  297.372345\n",
       "          -74.129143  297.321503\n",
       "          -74.045807  297.102661\n",
       "\n",
       "[76206 rows x 1 columns]"
      ]
     },
     "execution_count": 116,
     "metadata": {},
     "output_type": "execute_result"
    }
   ],
   "source": [
    "small_df"
   ]
  },
  {
   "cell_type": "code",
   "execution_count": 117,
   "metadata": {},
   "outputs": [
    {
     "name": "stdout",
     "output_type": "stream",
     "text": [
      "CPU times: user 109 ms, sys: 24.8 ms, total: 133 ms\n",
      "Wall time: 251 ms\n"
     ]
    },
    {
     "data": {
      "text/plain": [
       "<matplotlib.collections.QuadMesh at 0x7f21afd385e0>"
      ]
     },
     "execution_count": 117,
     "metadata": {},
     "output_type": "execute_result"
    },
    {
     "data": {
      "image/png": "[encoded data removed]",
      "text/plain": [
       "<Figure size 432x288 with 2 Axes>"
      ]
     },
     "metadata": {
      "needs_background": "light"
     },
     "output_type": "display_data"
    }
   ],
   "source": [
    "# 12:10\n",
    "%time time_mean.tasmax.plot()"
   ]
  }
 ],
 "metadata": {
  "kernelspec": {
   "display_name": "Python 3",
   "language": "python",
   "name": "python3"
  },
  "language_info": {
   "codemirror_mode": {
    "name": "ipython",
    "version": 3
   },
   "file_extension": ".py",
   "mimetype": "text/x-python",
   "name": "python",
   "nbconvert_exporter": "python",
   "pygments_lexer": "ipython3",
   "version": "3.8.1"
  }
 },
 "nbformat": 4,
 "nbformat_minor": 4
}

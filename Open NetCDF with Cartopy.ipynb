{
 "cells": [
  {
   "cell_type": "code",
   "execution_count": 1,
   "metadata": {},
   "outputs": [],
   "source": [
    "import numpy as np\n",
    "import pandas as pd\n",
    "import matplotlib.pyplot as plt\n",
    "import xarray as xr\n",
    "import cartopy.crs as ccrs"
   ]
  },
  {
   "cell_type": "code",
   "execution_count": 4,
   "metadata": {},
   "outputs": [],
   "source": [
    "tempMax = xr.open_dataset(\"/home/mlopez/EXEC/Données test/tasmax_day_BNU-ESM_rcp45_r1i1p1_na10kgrid_qm-moving-50bins-detrend_1956.nc\")"
   ]
  },
  {
   "cell_type": "code",
   "execution_count": 5,
   "metadata": {},
   "outputs": [
    {
     "data": {
      "text/html": [
       "<pre>&lt;xarray.Dataset&gt;\n",
       "Dimensions:       (lat: 700, lon: 1064, time: 365, ts: 3)\n",
       "Coordinates:\n",
       "  * ts            (ts) float32 nan nan nan\n",
       "  * time          (time) object 1956-01-01 00:00:00 ... 1956-12-31 00:00:00\n",
       "  * lat           (lat) float32 83.28931 83.20598 83.12265 ... 25.12497 25.04164\n",
       "  * lon           (lon) float32 -141.04314 -140.9598 ... -52.54667 -52.46334\n",
       "Data variables:\n",
       "    time_vectors  (time, ts) int32 ...\n",
       "    tasmax        (time, lat, lon) float32 ...\n",
       "Attributes:\n",
       "    Conventions:     CF-1.5\n",
       "    title:           BNU-ESM model output prepared for CMIP5 historical\n",
       "    history:         2012-03-12T06:02:50Z CMOR rewrote data to comply with CF...\n",
       "    institution:     GCESS,BNU,Beijing,China\n",
       "    source:          BNU-ESM\\n30-day moving window 50-bins quantile mapping w...\n",
       "    redistribution:  Redistribution prohibited. For internal use only.</pre>"
      ],
      "text/plain": [
       "<xarray.Dataset>\n",
       "Dimensions:       (lat: 700, lon: 1064, time: 365, ts: 3)\n",
       "Coordinates:\n",
       "  * ts            (ts) float32 nan nan nan\n",
       "  * time          (time) object 1956-01-01 00:00:00 ... 1956-12-31 00:00:00\n",
       "  * lat           (lat) float32 83.28931 83.20598 83.12265 ... 25.12497 25.04164\n",
       "  * lon           (lon) float32 -141.04314 -140.9598 ... -52.54667 -52.46334\n",
       "Data variables:\n",
       "    time_vectors  (time, ts) int32 ...\n",
       "    tasmax        (time, lat, lon) float32 ...\n",
       "Attributes:\n",
       "    Conventions:     CF-1.5\n",
       "    title:           BNU-ESM model output prepared for CMIP5 historical\n",
       "    history:         2012-03-12T06:02:50Z CMOR rewrote data to comply with CF...\n",
       "    institution:     GCESS,BNU,Beijing,China\n",
       "    source:          BNU-ESM\\n30-day moving window 50-bins quantile mapping w...\n",
       "    redistribution:  Redistribution prohibited. For internal use only."
      ]
     },
     "execution_count": 5,
     "metadata": {},
     "output_type": "execute_result"
    }
   ],
   "source": [
    "tempMax"
   ]
  },
  {
   "cell_type": "code",
   "execution_count": 6,
   "metadata": {},
   "outputs": [
    {
     "data": {
      "text/plain": [
       "Frozen({'ts': <xarray.IndexVariable 'ts' (ts: 3)>\n",
       "array([nan, nan, nan], dtype=float32), 'time': <xarray.IndexVariable 'time' (time: 365)>\n",
       "array([cftime.DatetimeNoLeap(1956-01-01 00:00:00),\n",
       "       cftime.DatetimeNoLeap(1956-01-02 00:00:00),\n",
       "       cftime.DatetimeNoLeap(1956-01-03 00:00:00), ...,\n",
       "       cftime.DatetimeNoLeap(1956-12-29 00:00:00),\n",
       "       cftime.DatetimeNoLeap(1956-12-30 00:00:00),\n",
       "       cftime.DatetimeNoLeap(1956-12-31 00:00:00)], dtype=object)\n",
       "Attributes:\n",
       "    axis:           T\n",
       "    long_name:      time\n",
       "    standard_name:  time, 'time_vectors': <xarray.Variable (time: 365, ts: 3)>\n",
       "array([[1956,    1,    1],\n",
       "       [1956,    1,    2],\n",
       "       [1956,    1,    3],\n",
       "       ...,\n",
       "       [1956,   12,   29],\n",
       "       [1956,   12,   30],\n",
       "       [1956,   12,   31]], dtype=int32), 'lat': <xarray.IndexVariable 'lat' (lat: 700)>\n",
       "array([83.28931, 83.20598, 83.12265, ..., 25.2083 , 25.12497, 25.04164],\n",
       "      dtype=float32)\n",
       "Attributes:\n",
       "    axis:           Y\n",
       "    units:          degrees_north\n",
       "    long_name:      latitude\n",
       "    standard_name:  latitude, 'lon': <xarray.IndexVariable 'lon' (lon: 1064)>\n",
       "array([-141.04314, -140.9598 , -140.87646, ...,  -52.63   ,  -52.54667,\n",
       "        -52.46334], dtype=float32)\n",
       "Attributes:\n",
       "    axis:           X\n",
       "    units:          degrees_east\n",
       "    long_name:      longitude\n",
       "    standard_name:  longitude, 'tasmax': <xarray.Variable (time: 365, lat: 700, lon: 1064)>\n",
       "[271852000 values with dtype=float32]\n",
       "Attributes:\n",
       "    units:          K\n",
       "    long_name:      air_temperature\n",
       "    standard_name:  air_temperature})"
      ]
     },
     "execution_count": 6,
     "metadata": {},
     "output_type": "execute_result"
    }
   ],
   "source": [
    "tempMax.variables"
   ]
  },
  {
   "cell_type": "code",
   "execution_count": 7,
   "metadata": {},
   "outputs": [
    {
     "data": {
      "text/plain": [
       "<bound method Mapping.values of <xarray.Dataset>\n",
       "Dimensions:       (lat: 700, lon: 1064, time: 365, ts: 3)\n",
       "Coordinates:\n",
       "  * ts            (ts) float32 nan nan nan\n",
       "  * time          (time) object 1956-01-01 00:00:00 ... 1956-12-31 00:00:00\n",
       "  * lat           (lat) float32 83.28931 83.20598 83.12265 ... 25.12497 25.04164\n",
       "  * lon           (lon) float32 -141.04314 -140.9598 ... -52.54667 -52.46334\n",
       "Data variables:\n",
       "    time_vectors  (time, ts) int32 1956 1 1 1956 1 2 ... 1956 12 30 1956 12 31\n",
       "    tasmax        (time, lat, lon) float32 ...\n",
       "Attributes:\n",
       "    Conventions:     CF-1.5\n",
       "    title:           BNU-ESM model output prepared for CMIP5 historical\n",
       "    history:         2012-03-12T06:02:50Z CMOR rewrote data to comply with CF...\n",
       "    institution:     GCESS,BNU,Beijing,China\n",
       "    source:          BNU-ESM\\n30-day moving window 50-bins quantile mapping w...\n",
       "    redistribution:  Redistribution prohibited. For internal use only.>"
      ]
     },
     "execution_count": 7,
     "metadata": {},
     "output_type": "execute_result"
    }
   ],
   "source": [
    "tempMax.values"
   ]
  },
  {
   "cell_type": "code",
   "execution_count": 8,
   "metadata": {},
   "outputs": [
    {
     "data": {
      "text/plain": [
       "Frozen(SortedKeysDict({'ts': 3, 'time': 365, 'lat': 700, 'lon': 1064}))"
      ]
     },
     "execution_count": 8,
     "metadata": {},
     "output_type": "execute_result"
    }
   ],
   "source": [
    "tempMax.dims"
   ]
  },
  {
   "cell_type": "code",
   "execution_count": 9,
   "metadata": {},
   "outputs": [
    {
     "data": {
      "text/plain": [
       "Coordinates:\n",
       "  * ts       (ts) float32 nan nan nan\n",
       "  * time     (time) object 1956-01-01 00:00:00 ... 1956-12-31 00:00:00\n",
       "  * lat      (lat) float32 83.28931 83.20598 83.12265 ... 25.12497 25.04164\n",
       "  * lon      (lon) float32 -141.04314 -140.9598 ... -52.54667 -52.46334"
      ]
     },
     "execution_count": 9,
     "metadata": {},
     "output_type": "execute_result"
    }
   ],
   "source": [
    "tempMax.coords"
   ]
  },
  {
   "cell_type": "code",
   "execution_count": 10,
   "metadata": {},
   "outputs": [
    {
     "data": {
      "text/plain": [
       "{'Conventions': 'CF-1.5',\n",
       " 'title': 'BNU-ESM model output prepared for CMIP5 historical',\n",
       " 'history': '2012-03-12T06:02:50Z CMOR rewrote data to comply with CF standards and CMIP5 requirements.\\n2016-01-18T22:18:22: Interpolate to nrcan_livneh grid.\\n2016-02-10T09:50:01: Bias correction using nrcan_livneh.',\n",
       " 'institution': 'GCESS,BNU,Beijing,China',\n",
       " 'source': 'BNU-ESM\\n30-day moving window 50-bins quantile mapping with detrending.',\n",
       " 'redistribution': 'Redistribution prohibited. For internal use only.'}"
      ]
     },
     "execution_count": 10,
     "metadata": {},
     "output_type": "execute_result"
    }
   ],
   "source": [
    "tempMax.attrs"
   ]
  },
  {
   "cell_type": "code",
   "execution_count": 13,
   "metadata": {},
   "outputs": [],
   "source": [
    "# Extract Temperature \n",
    "# Select nearest\n",
    "# Drop NaN, convert to Celcius\n",
    "da = tempMax.tasmax.sel(method='nearest').dropna(dim='time') - 273.15  # or .ffill(dim='time')"
   ]
  },
  {
   "cell_type": "code",
   "execution_count": 14,
   "metadata": {},
   "outputs": [
    {
     "data": {
      "text/html": [
       "<pre>&lt;xarray.DataArray &#x27;tasmax&#x27; (time: 0, lat: 700, lon: 1064)&gt;\n",
       "array([], shape=(0, 700, 1064), dtype=float32)\n",
       "Coordinates:\n",
       "  * time     (time) object \n",
       "  * lat      (lat) float32 83.28931 83.20598 83.12265 ... 25.12497 25.04164\n",
       "  * lon      (lon) float32 -141.04314 -140.9598 ... -52.54667 -52.46334</pre>"
      ],
      "text/plain": [
       "<xarray.DataArray 'tasmax' (time: 0, lat: 700, lon: 1064)>\n",
       "array([], shape=(0, 700, 1064), dtype=float32)\n",
       "Coordinates:\n",
       "  * time     (time) object \n",
       "  * lat      (lat) float32 83.28931 83.20598 83.12265 ... 25.12497 25.04164\n",
       "  * lon      (lon) float32 -141.04314 -140.9598 ... -52.54667 -52.46334"
      ]
     },
     "execution_count": 14,
     "metadata": {},
     "output_type": "execute_result"
    }
   ],
   "source": [
    "da"
   ]
  },
  {
   "cell_type": "code",
   "execution_count": 20,
   "metadata": {},
   "outputs": [
    {
     "data": {
      "text/html": [
       "<pre>&lt;xarray.DataArray &#x27;tasmax&#x27; (time: 365, lat: 700, lon: 1064)&gt;\n",
       "array([[[nan, nan, ..., nan, nan],\n",
       "        [nan, nan, ..., nan, nan],\n",
       "        ...,\n",
       "        [nan, nan, ..., nan, nan],\n",
       "        [nan, nan, ..., nan, nan]],\n",
       "\n",
       "       [[nan, nan, ..., nan, nan],\n",
       "        [nan, nan, ..., nan, nan],\n",
       "        ...,\n",
       "        [nan, nan, ..., nan, nan],\n",
       "        [nan, nan, ..., nan, nan]],\n",
       "\n",
       "       ...,\n",
       "\n",
       "       [[nan, nan, ..., nan, nan],\n",
       "        [nan, nan, ..., nan, nan],\n",
       "        ...,\n",
       "        [nan, nan, ..., nan, nan],\n",
       "        [nan, nan, ..., nan, nan]],\n",
       "\n",
       "       [[nan, nan, ..., nan, nan],\n",
       "        [nan, nan, ..., nan, nan],\n",
       "        ...,\n",
       "        [nan, nan, ..., nan, nan],\n",
       "        [nan, nan, ..., nan, nan]]], dtype=float32)\n",
       "Coordinates:\n",
       "  * time     (time) object 1956-01-01 00:00:00 ... 1956-12-31 00:00:00\n",
       "  * lat      (lat) float32 83.28931 83.20598 83.12265 ... 25.12497 25.04164\n",
       "  * lon      (lon) float32 -141.04314 -140.9598 ... -52.54667 -52.46334</pre>"
      ],
      "text/plain": [
       "<xarray.DataArray 'tasmax' (time: 365, lat: 700, lon: 1064)>\n",
       "array([[[nan, nan, ..., nan, nan],\n",
       "        [nan, nan, ..., nan, nan],\n",
       "        ...,\n",
       "        [nan, nan, ..., nan, nan],\n",
       "        [nan, nan, ..., nan, nan]],\n",
       "\n",
       "       [[nan, nan, ..., nan, nan],\n",
       "        [nan, nan, ..., nan, nan],\n",
       "        ...,\n",
       "        [nan, nan, ..., nan, nan],\n",
       "        [nan, nan, ..., nan, nan]],\n",
       "\n",
       "       ...,\n",
       "\n",
       "       [[nan, nan, ..., nan, nan],\n",
       "        [nan, nan, ..., nan, nan],\n",
       "        ...,\n",
       "        [nan, nan, ..., nan, nan],\n",
       "        [nan, nan, ..., nan, nan]],\n",
       "\n",
       "       [[nan, nan, ..., nan, nan],\n",
       "        [nan, nan, ..., nan, nan],\n",
       "        ...,\n",
       "        [nan, nan, ..., nan, nan],\n",
       "        [nan, nan, ..., nan, nan]]], dtype=float32)\n",
       "Coordinates:\n",
       "  * time     (time) object 1956-01-01 00:00:00 ... 1956-12-31 00:00:00\n",
       "  * lat      (lat) float32 83.28931 83.20598 83.12265 ... 25.12497 25.04164\n",
       "  * lon      (lon) float32 -141.04314 -140.9598 ... -52.54667 -52.46334"
      ]
     },
     "execution_count": 20,
     "metadata": {},
     "output_type": "execute_result"
    }
   ],
   "source": [
    "da1 = tempMax.tasmax.sel(time=slice('1956-01-01', '1956-12-31')) - 273.15 \n",
    "da1"
   ]
  },
  {
   "cell_type": "code",
   "execution_count": 21,
   "metadata": {},
   "outputs": [
    {
     "data": {
      "image/png": "[encoded data removed]",
      "text/plain": [
       "<Figure size 432x288 with 1 Axes>"
      ]
     },
     "metadata": {
      "needs_background": "light"
     },
     "output_type": "display_data"
    }
   ],
   "source": [
    "da1.plot()\n",
    "plt.show()"
   ]
  },
  {
   "cell_type": "code",
   "execution_count": 22,
   "metadata": {},
   "outputs": [
    {
     "data": {
      "text/plain": [
       "array([[[nan, nan, nan, ..., nan, nan, nan],\n",
       "        [nan, nan, nan, ..., nan, nan, nan],\n",
       "        [nan, nan, nan, ..., nan, nan, nan],\n",
       "        ...,\n",
       "        [nan, nan, nan, ..., nan, nan, nan],\n",
       "        [nan, nan, nan, ..., nan, nan, nan],\n",
       "        [nan, nan, nan, ..., nan, nan, nan]],\n",
       "\n",
       "       [[nan, nan, nan, ..., nan, nan, nan],\n",
       "        [nan, nan, nan, ..., nan, nan, nan],\n",
       "        [nan, nan, nan, ..., nan, nan, nan],\n",
       "        ...,\n",
       "        [nan, nan, nan, ..., nan, nan, nan],\n",
       "        [nan, nan, nan, ..., nan, nan, nan],\n",
       "        [nan, nan, nan, ..., nan, nan, nan]],\n",
       "\n",
       "       [[nan, nan, nan, ..., nan, nan, nan],\n",
       "        [nan, nan, nan, ..., nan, nan, nan],\n",
       "        [nan, nan, nan, ..., nan, nan, nan],\n",
       "        ...,\n",
       "        [nan, nan, nan, ..., nan, nan, nan],\n",
       "        [nan, nan, nan, ..., nan, nan, nan],\n",
       "        [nan, nan, nan, ..., nan, nan, nan]],\n",
       "\n",
       "       ...,\n",
       "\n",
       "       [[nan, nan, nan, ..., nan, nan, nan],\n",
       "        [nan, nan, nan, ..., nan, nan, nan],\n",
       "        [nan, nan, nan, ..., nan, nan, nan],\n",
       "        ...,\n",
       "        [nan, nan, nan, ..., nan, nan, nan],\n",
       "        [nan, nan, nan, ..., nan, nan, nan],\n",
       "        [nan, nan, nan, ..., nan, nan, nan]],\n",
       "\n",
       "       [[nan, nan, nan, ..., nan, nan, nan],\n",
       "        [nan, nan, nan, ..., nan, nan, nan],\n",
       "        [nan, nan, nan, ..., nan, nan, nan],\n",
       "        ...,\n",
       "        [nan, nan, nan, ..., nan, nan, nan],\n",
       "        [nan, nan, nan, ..., nan, nan, nan],\n",
       "        [nan, nan, nan, ..., nan, nan, nan]],\n",
       "\n",
       "       [[nan, nan, nan, ..., nan, nan, nan],\n",
       "        [nan, nan, nan, ..., nan, nan, nan],\n",
       "        [nan, nan, nan, ..., nan, nan, nan],\n",
       "        ...,\n",
       "        [nan, nan, nan, ..., nan, nan, nan],\n",
       "        [nan, nan, nan, ..., nan, nan, nan],\n",
       "        [nan, nan, nan, ..., nan, nan, nan]]], dtype=float32)"
      ]
     },
     "execution_count": 22,
     "metadata": {},
     "output_type": "execute_result"
    }
   ],
   "source": [
    "da_numpy = da1.values\n",
    "da_numpy"
   ]
  },
  {
   "cell_type": "code",
   "execution_count": 19,
   "metadata": {},
   "outputs": [],
   "source": []
  }
 ],
 "metadata": {
  "kernelspec": {
   "display_name": "Python 3",
   "language": "python",
   "name": "python3"
  },
  "language_info": {
   "codemirror_mode": {
    "name": "ipython",
    "version": 3
   },
   "file_extension": ".py",
   "mimetype": "text/x-python",
   "name": "python",
   "nbconvert_exporter": "python",
   "pygments_lexer": "ipython3",
   "version": "3.7.3"
  }
 },
 "nbformat": 4,
 "nbformat_minor": 2
}

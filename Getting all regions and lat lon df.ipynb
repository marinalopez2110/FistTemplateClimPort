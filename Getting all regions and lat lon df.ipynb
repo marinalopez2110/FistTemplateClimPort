{
 "cells": [
  {
   "cell_type": "code",
   "execution_count": 1,
   "metadata": {},
   "outputs": [],
   "source": [
    "import pathlib\n",
    "from xclim import subset\n",
    "import xarray as xr\n",
    "import geopandas as gpd\n",
    "from shapely.geometry import Point\n",
    "import matplotlib.pyplot as plt\n",
    "import numpy as np\n",
    "import pandas as pd\n",
    "import os\n",
    "import glob"
   ]
  },
  {
   "cell_type": "code",
   "execution_count": 2,
   "metadata": {},
   "outputs": [],
   "source": [
    "# Path to files\n",
    "path = \"/home/mlopez/EXEC/Tg_annual_11_models/\"\n",
    "json = pathlib.Path(\"/home/mlopez/EXEC/Shapefiles/territoire_guide.shp\")"
   ]
  },
  {
   "cell_type": "code",
   "execution_count": 3,
   "metadata": {},
   "outputs": [
    {
     "data": {
      "text/plain": [
       "['/home/mlopez/EXEC/Tg_annual_11_models/ACCESS1-3_rcp45_tg_mean_annual.nc',\n",
       " '/home/mlopez/EXEC/Tg_annual_11_models/BNU-ESM_rcp45_tg_mean_annual.nc',\n",
       " '/home/mlopez/EXEC/Tg_annual_11_models/CanESM2_rcp45_tg_mean_annual.nc',\n",
       " '/home/mlopez/EXEC/Tg_annual_11_models/CMCC-CMS_rcp45_tg_mean_annual.nc',\n",
       " '/home/mlopez/EXEC/Tg_annual_11_models/GFDL-ESM2M_rcp45_tg_mean_annual.nc',\n",
       " '/home/mlopez/EXEC/Tg_annual_11_models/HadGEM2-CC_rcp45_tg_mean_annual.nc',\n",
       " '/home/mlopez/EXEC/Tg_annual_11_models/INM-CM4_rcp45_tg_mean_annual.nc',\n",
       " '/home/mlopez/EXEC/Tg_annual_11_models/IPSL-CM5A-LR_rcp45_tg_mean_annual.nc',\n",
       " '/home/mlopez/EXEC/Tg_annual_11_models/MPI-ESM-LR_rcp45_tg_mean_annual.nc',\n",
       " '/home/mlopez/EXEC/Tg_annual_11_models/NorESM1-M_rcp45_tg_mean_annual.nc',\n",
       " '/home/mlopez/EXEC/Tg_annual_11_models/NRCAN_obs_tg_mean_annual.nc']"
      ]
     },
     "execution_count": 3,
     "metadata": {},
     "output_type": "execute_result"
    }
   ],
   "source": [
    "files = list(glob.glob(os.path.join(path,'*.*')))\n",
    "files"
   ]
  },
  {
   "cell_type": "code",
   "execution_count": 4,
   "metadata": {},
   "outputs": [],
   "source": [
    "ds1 = xr.open_dataset(files[0])"
   ]
  },
  {
   "cell_type": "code",
   "execution_count": 5,
   "metadata": {},
   "outputs": [
    {
     "data": {
      "text/html": [
       "<pre>&lt;xarray.Dataset&gt;\n",
       "Dimensions:  (lat: 320, lon: 416, time: 151)\n",
       "Coordinates:\n",
       "  * time     (time) datetime64[ns] 1950-01-01 1951-01-01 ... 2100-01-01\n",
       "  * lat      (lat) float32 66.62331 66.53998 66.45665 ... 40.12437 40.04104\n",
       "  * lon      (lon) float32 -89.04521 -88.96188 -88.87855 ... -54.54659 -54.46326\n",
       "Data variables:\n",
       "    tg_mean  (time, lat, lon) float32 ...\n",
       "Attributes:\n",
       "    Conventions:     CF-1.5\n",
       "    title:           ACCESS1-3 model output prepared for CMIP5 historical\n",
       "    history:         CMIP5 compliant file produced from raw ACCESS model outp...\n",
       "    institution:     CSIRO (Commonwealth Scientific and Industrial Research O...\n",
       "    source:          ACCESS1-3 2011. Atmosphere: AGCM v1.0 (N96 grid-point, 1...\n",
       "    redistribution:  Redistribution prohibited. For internal use only.</pre>"
      ],
      "text/plain": [
       "<xarray.Dataset>\n",
       "Dimensions:  (lat: 320, lon: 416, time: 151)\n",
       "Coordinates:\n",
       "  * time     (time) datetime64[ns] 1950-01-01 1951-01-01 ... 2100-01-01\n",
       "  * lat      (lat) float32 66.62331 66.53998 66.45665 ... 40.12437 40.04104\n",
       "  * lon      (lon) float32 -89.04521 -88.96188 -88.87855 ... -54.54659 -54.46326\n",
       "Data variables:\n",
       "    tg_mean  (time, lat, lon) float32 ...\n",
       "Attributes:\n",
       "    Conventions:     CF-1.5\n",
       "    title:           ACCESS1-3 model output prepared for CMIP5 historical\n",
       "    history:         CMIP5 compliant file produced from raw ACCESS model outp...\n",
       "    institution:     CSIRO (Commonwealth Scientific and Industrial Research O...\n",
       "    source:          ACCESS1-3 2011. Atmosphere: AGCM v1.0 (N96 grid-point, 1...\n",
       "    redistribution:  Redistribution prohibited. For internal use only."
      ]
     },
     "execution_count": 5,
     "metadata": {},
     "output_type": "execute_result"
    }
   ],
   "source": [
    "ds1"
   ]
  },
  {
   "cell_type": "code",
   "execution_count": 6,
   "metadata": {},
   "outputs": [],
   "source": [
    "import itertools"
   ]
  },
  {
   "cell_type": "code",
   "execution_count": 7,
   "metadata": {},
   "outputs": [],
   "source": [
    "df = pd.DataFrame()"
   ]
  },
  {
   "cell_type": "code",
   "execution_count": 14,
   "metadata": {},
   "outputs": [],
   "source": [
    "datasets = [xr.open_dataset(f) for f in files]\n",
    "latlon_df_0 = pd.concat(pd.DataFrame(itertools.product(ds.lat.values, ds.lon.values), columns=[\"lat\",\"lon\"]) for ds in datasets).drop_duplicates([\"lat\",\"lon\"])\n",
    "latlon_df = gpd.GeoDataFrame(latlon_df_0)\n",
    "latlon_df[\"geometry\"] = [Point(lon, lat) for (lat,lon) in zip(latlon_df.lat, latlon_df.lon)]"
   ]
  },
  {
   "cell_type": "code",
   "execution_count": 16,
   "metadata": {},
   "outputs": [
    {
     "data": {
      "text/html": [
       "<div>\n",
       "<style scoped>\n",
       "    .dataframe tbody tr th:only-of-type {\n",
       "        vertical-align: middle;\n",
       "    }\n",
       "\n",
       "    .dataframe tbody tr th {\n",
       "        vertical-align: top;\n",
       "    }\n",
       "\n",
       "    .dataframe thead th {\n",
       "        text-align: right;\n",
       "    }\n",
       "</style>\n",
       "<table border=\"1\" class=\"dataframe\">\n",
       "  <thead>\n",
       "    <tr style=\"text-align: right;\">\n",
       "      <th></th>\n",
       "      <th>lat</th>\n",
       "      <th>lon</th>\n",
       "      <th>geometry</th>\n",
       "    </tr>\n",
       "  </thead>\n",
       "  <tbody>\n",
       "    <tr>\n",
       "      <th>0</th>\n",
       "      <td>66.623306</td>\n",
       "      <td>-89.045212</td>\n",
       "      <td>POINT (-89.04521 66.62331)</td>\n",
       "    </tr>\n",
       "    <tr>\n",
       "      <th>1</th>\n",
       "      <td>66.623306</td>\n",
       "      <td>-88.961884</td>\n",
       "      <td>POINT (-88.96188 66.62331)</td>\n",
       "    </tr>\n",
       "    <tr>\n",
       "      <th>2</th>\n",
       "      <td>66.623306</td>\n",
       "      <td>-88.878548</td>\n",
       "      <td>POINT (-88.87855 66.62331)</td>\n",
       "    </tr>\n",
       "    <tr>\n",
       "      <th>3</th>\n",
       "      <td>66.623306</td>\n",
       "      <td>-88.795219</td>\n",
       "      <td>POINT (-88.79522 66.62331)</td>\n",
       "    </tr>\n",
       "    <tr>\n",
       "      <th>4</th>\n",
       "      <td>66.623306</td>\n",
       "      <td>-88.711891</td>\n",
       "      <td>POINT (-88.71189 66.62331)</td>\n",
       "    </tr>\n",
       "    <tr>\n",
       "      <th>...</th>\n",
       "      <td>...</td>\n",
       "      <td>...</td>\n",
       "      <td>...</td>\n",
       "    </tr>\n",
       "    <tr>\n",
       "      <th>544675</th>\n",
       "      <td>41.041668</td>\n",
       "      <td>-52.375004</td>\n",
       "      <td>POINT (-52.37500 41.04167)</td>\n",
       "    </tr>\n",
       "    <tr>\n",
       "      <th>544676</th>\n",
       "      <td>41.041668</td>\n",
       "      <td>-52.291672</td>\n",
       "      <td>POINT (-52.29167 41.04167)</td>\n",
       "    </tr>\n",
       "    <tr>\n",
       "      <th>544677</th>\n",
       "      <td>41.041668</td>\n",
       "      <td>-52.208336</td>\n",
       "      <td>POINT (-52.20834 41.04167)</td>\n",
       "    </tr>\n",
       "    <tr>\n",
       "      <th>544678</th>\n",
       "      <td>41.041668</td>\n",
       "      <td>-52.125004</td>\n",
       "      <td>POINT (-52.12500 41.04167)</td>\n",
       "    </tr>\n",
       "    <tr>\n",
       "      <th>544679</th>\n",
       "      <td>41.041668</td>\n",
       "      <td>-52.041672</td>\n",
       "      <td>POINT (-52.04167 41.04167)</td>\n",
       "    </tr>\n",
       "  </tbody>\n",
       "</table>\n",
       "<p>677800 rows × 3 columns</p>\n",
       "</div>"
      ],
      "text/plain": [
       "              lat        lon                    geometry\n",
       "0       66.623306 -89.045212  POINT (-89.04521 66.62331)\n",
       "1       66.623306 -88.961884  POINT (-88.96188 66.62331)\n",
       "2       66.623306 -88.878548  POINT (-88.87855 66.62331)\n",
       "3       66.623306 -88.795219  POINT (-88.79522 66.62331)\n",
       "4       66.623306 -88.711891  POINT (-88.71189 66.62331)\n",
       "...           ...        ...                         ...\n",
       "544675  41.041668 -52.375004  POINT (-52.37500 41.04167)\n",
       "544676  41.041668 -52.291672  POINT (-52.29167 41.04167)\n",
       "544677  41.041668 -52.208336  POINT (-52.20834 41.04167)\n",
       "544678  41.041668 -52.125004  POINT (-52.12500 41.04167)\n",
       "544679  41.041668 -52.041672  POINT (-52.04167 41.04167)\n",
       "\n",
       "[677800 rows x 3 columns]"
      ]
     },
     "execution_count": 16,
     "metadata": {},
     "output_type": "execute_result"
    }
   ],
   "source": [
    "latlon_df"
   ]
  },
  {
   "cell_type": "code",
   "execution_count": 17,
   "metadata": {},
   "outputs": [
    {
     "data": {
      "text/html": [
       "<div>\n",
       "<style scoped>\n",
       "    .dataframe tbody tr th:only-of-type {\n",
       "        vertical-align: middle;\n",
       "    }\n",
       "\n",
       "    .dataframe tbody tr th {\n",
       "        vertical-align: top;\n",
       "    }\n",
       "\n",
       "    .dataframe thead th {\n",
       "        text-align: right;\n",
       "    }\n",
       "</style>\n",
       "<table border=\"1\" class=\"dataframe\">\n",
       "  <thead>\n",
       "    <tr style=\"text-align: right;\">\n",
       "      <th></th>\n",
       "      <th>TER_GUIDE</th>\n",
       "      <th>geometry</th>\n",
       "    </tr>\n",
       "  </thead>\n",
       "  <tbody>\n",
       "    <tr>\n",
       "      <th>0</th>\n",
       "      <td>1a</td>\n",
       "      <td>MULTIPOLYGON (((-72.70926 46.28173, -72.69524 ...</td>\n",
       "    </tr>\n",
       "    <tr>\n",
       "      <th>1</th>\n",
       "      <td>2a</td>\n",
       "      <td>POLYGON ((-76.08748 46.47438, -76.08807 46.475...</td>\n",
       "    </tr>\n",
       "    <tr>\n",
       "      <th>2</th>\n",
       "      <td>2b</td>\n",
       "      <td>MULTIPOLYGON (((-70.81729 47.01784, -70.81045 ...</td>\n",
       "    </tr>\n",
       "    <tr>\n",
       "      <th>3</th>\n",
       "      <td>2c</td>\n",
       "      <td>POLYGON ((-72.38130 45.65191, -72.38112 45.652...</td>\n",
       "    </tr>\n",
       "    <tr>\n",
       "      <th>4</th>\n",
       "      <td>3ab</td>\n",
       "      <td>POLYGON ((-79.06541 47.29977, -79.06474 47.299...</td>\n",
       "    </tr>\n",
       "  </tbody>\n",
       "</table>\n",
       "</div>"
      ],
      "text/plain": [
       "  TER_GUIDE                                           geometry\n",
       "0        1a  MULTIPOLYGON (((-72.70926 46.28173, -72.69524 ...\n",
       "1        2a  POLYGON ((-76.08748 46.47438, -76.08807 46.475...\n",
       "2        2b  MULTIPOLYGON (((-70.81729 47.01784, -70.81045 ...\n",
       "3        2c  POLYGON ((-72.38130 45.65191, -72.38112 45.652...\n",
       "4       3ab  POLYGON ((-79.06541 47.29977, -79.06474 47.299..."
      ]
     },
     "execution_count": 17,
     "metadata": {},
     "output_type": "execute_result"
    }
   ],
   "source": [
    "shape = gpd.read_file(json)\n",
    "#Reading Shapefiles in right coordinate system\n",
    "shape = shape.to_crs({'init': 'epsg:4326'})\n",
    "shape.head()"
   ]
  },
  {
   "cell_type": "code",
   "execution_count": 21,
   "metadata": {},
   "outputs": [
    {
     "name": "stdout",
     "output_type": "stream",
     "text": [
      "CPU times: user 22.8 s, sys: 2.04 s, total: 24.8 s\n",
      "Wall time: 1.65 s\n"
     ]
    }
   ],
   "source": [
    "%time latlon_res = gpd.sjoin(latlon_df, shape, op=\"within\")"
   ]
  },
  {
   "cell_type": "code",
   "execution_count": 22,
   "metadata": {},
   "outputs": [
    {
     "data": {
      "text/html": [
       "<div>\n",
       "<style scoped>\n",
       "    .dataframe tbody tr th:only-of-type {\n",
       "        vertical-align: middle;\n",
       "    }\n",
       "\n",
       "    .dataframe tbody tr th {\n",
       "        vertical-align: top;\n",
       "    }\n",
       "\n",
       "    .dataframe thead th {\n",
       "        text-align: right;\n",
       "    }\n",
       "</style>\n",
       "<table border=\"1\" class=\"dataframe\">\n",
       "  <thead>\n",
       "    <tr style=\"text-align: right;\">\n",
       "      <th></th>\n",
       "      <th>lat</th>\n",
       "      <th>lon</th>\n",
       "      <th>geometry</th>\n",
       "      <th>index_right</th>\n",
       "      <th>TER_GUIDE</th>\n",
       "    </tr>\n",
       "  </thead>\n",
       "  <tbody>\n",
       "    <tr>\n",
       "      <th>68896</th>\n",
       "      <td>52.873859</td>\n",
       "      <td>-67.712730</td>\n",
       "      <td>POINT (-67.71273 52.87386)</td>\n",
       "      <td>24</td>\n",
       "      <td>6opqr</td>\n",
       "    </tr>\n",
       "    <tr>\n",
       "      <th>68897</th>\n",
       "      <td>52.873859</td>\n",
       "      <td>-67.629402</td>\n",
       "      <td>POINT (-67.62940 52.87386)</td>\n",
       "      <td>24</td>\n",
       "      <td>6opqr</td>\n",
       "    </tr>\n",
       "    <tr>\n",
       "      <th>68898</th>\n",
       "      <td>52.873859</td>\n",
       "      <td>-67.546066</td>\n",
       "      <td>POINT (-67.54607 52.87386)</td>\n",
       "      <td>24</td>\n",
       "      <td>6opqr</td>\n",
       "    </tr>\n",
       "    <tr>\n",
       "      <th>69312</th>\n",
       "      <td>52.790531</td>\n",
       "      <td>-67.712730</td>\n",
       "      <td>POINT (-67.71273 52.79053)</td>\n",
       "      <td>24</td>\n",
       "      <td>6opqr</td>\n",
       "    </tr>\n",
       "    <tr>\n",
       "      <th>69313</th>\n",
       "      <td>52.790531</td>\n",
       "      <td>-67.629402</td>\n",
       "      <td>POINT (-67.62940 52.79053)</td>\n",
       "      <td>24</td>\n",
       "      <td>6opqr</td>\n",
       "    </tr>\n",
       "    <tr>\n",
       "      <th>...</th>\n",
       "      <td>...</td>\n",
       "      <td>...</td>\n",
       "      <td>...</td>\n",
       "      <td>...</td>\n",
       "      <td>...</td>\n",
       "    </tr>\n",
       "    <tr>\n",
       "      <th>107945</th>\n",
       "      <td>45.040840</td>\n",
       "      <td>-72.295883</td>\n",
       "      <td>POINT (-72.29588 45.04084)</td>\n",
       "      <td>3</td>\n",
       "      <td>2c</td>\n",
       "    </tr>\n",
       "    <tr>\n",
       "      <th>107946</th>\n",
       "      <td>45.040840</td>\n",
       "      <td>-72.212547</td>\n",
       "      <td>POINT (-72.21255 45.04084)</td>\n",
       "      <td>3</td>\n",
       "      <td>2c</td>\n",
       "    </tr>\n",
       "    <tr>\n",
       "      <th>107947</th>\n",
       "      <td>45.040840</td>\n",
       "      <td>-72.129219</td>\n",
       "      <td>POINT (-72.12922 45.04084)</td>\n",
       "      <td>3</td>\n",
       "      <td>2c</td>\n",
       "    </tr>\n",
       "    <tr>\n",
       "      <th>107948</th>\n",
       "      <td>45.040840</td>\n",
       "      <td>-72.045891</td>\n",
       "      <td>POINT (-72.04589 45.04084)</td>\n",
       "      <td>3</td>\n",
       "      <td>2c</td>\n",
       "    </tr>\n",
       "    <tr>\n",
       "      <th>107949</th>\n",
       "      <td>45.040840</td>\n",
       "      <td>-71.962563</td>\n",
       "      <td>POINT (-71.96256 45.04084)</td>\n",
       "      <td>3</td>\n",
       "      <td>2c</td>\n",
       "    </tr>\n",
       "  </tbody>\n",
       "</table>\n",
       "<p>17996 rows × 5 columns</p>\n",
       "</div>"
      ],
      "text/plain": [
       "              lat        lon                    geometry  index_right  \\\n",
       "68896   52.873859 -67.712730  POINT (-67.71273 52.87386)           24   \n",
       "68897   52.873859 -67.629402  POINT (-67.62940 52.87386)           24   \n",
       "68898   52.873859 -67.546066  POINT (-67.54607 52.87386)           24   \n",
       "69312   52.790531 -67.712730  POINT (-67.71273 52.79053)           24   \n",
       "69313   52.790531 -67.629402  POINT (-67.62940 52.79053)           24   \n",
       "...           ...        ...                         ...          ...   \n",
       "107945  45.040840 -72.295883  POINT (-72.29588 45.04084)            3   \n",
       "107946  45.040840 -72.212547  POINT (-72.21255 45.04084)            3   \n",
       "107947  45.040840 -72.129219  POINT (-72.12922 45.04084)            3   \n",
       "107948  45.040840 -72.045891  POINT (-72.04589 45.04084)            3   \n",
       "107949  45.040840 -71.962563  POINT (-71.96256 45.04084)            3   \n",
       "\n",
       "       TER_GUIDE  \n",
       "68896      6opqr  \n",
       "68897      6opqr  \n",
       "68898      6opqr  \n",
       "69312      6opqr  \n",
       "69313      6opqr  \n",
       "...          ...  \n",
       "107945        2c  \n",
       "107946        2c  \n",
       "107947        2c  \n",
       "107948        2c  \n",
       "107949        2c  \n",
       "\n",
       "[17996 rows x 5 columns]"
      ]
     },
     "execution_count": 22,
     "metadata": {},
     "output_type": "execute_result"
    }
   ],
   "source": [
    "latlon_res"
   ]
  },
  {
   "cell_type": "code",
   "execution_count": null,
   "metadata": {},
   "outputs": [],
   "source": []
  },
  {
   "cell_type": "markdown",
   "metadata": {},
   "source": [
    "TODO:\n",
    "\n",
    "1. Load a shapefile\n",
    "2. Do the sjoin with that file\n",
    "3. Save the result to a file. OR turn the above into a script, since it's perfectly fine to recompute each time you need it."
   ]
  }
 ],
 "metadata": {
  "kernelspec": {
   "display_name": "Python 3",
   "language": "python",
   "name": "python3"
  },
  "language_info": {
   "codemirror_mode": {
    "name": "ipython",
    "version": 3
   },
   "file_extension": ".py",
   "mimetype": "text/x-python",
   "name": "python",
   "nbconvert_exporter": "python",
   "pygments_lexer": "ipython3",
   "version": "3.8.1"
  }
 },
 "nbformat": 4,
 "nbformat_minor": 4
}

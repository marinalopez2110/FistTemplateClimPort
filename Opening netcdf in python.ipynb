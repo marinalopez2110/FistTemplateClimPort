{
 "cells": [
  {
   "cell_type": "code",
   "execution_count": 1,
   "metadata": {},
   "outputs": [],
   "source": [
    "import numpy as np\n",
    "import datetime as dt\n",
    "import matplotlib.pyplot as plt"
   ]
  },
  {
   "cell_type": "code",
   "execution_count": 2,
   "metadata": {},
   "outputs": [],
   "source": [
    "import xarray as xr\n",
    "import cartopy.crs as ccrs"
   ]
  },
  {
   "cell_type": "code",
   "execution_count": 3,
   "metadata": {},
   "outputs": [],
   "source": [
    "from netCDF4 import Dataset"
   ]
  },
  {
   "cell_type": "code",
   "execution_count": 4,
   "metadata": {},
   "outputs": [],
   "source": [
    "import matplotlib.patches as mpatches"
   ]
  },
  {
   "cell_type": "code",
   "execution_count": 5,
   "metadata": {},
   "outputs": [],
   "source": [
    "file = \"/home/mlopez/EXEC/Données test/tasmax_day_BNU-ESM_rcp45_r1i1p1_na10kgrid_qm-moving-50bins-detrend_1956.nc\""
   ]
  },
  {
   "cell_type": "code",
   "execution_count": 6,
   "metadata": {},
   "outputs": [
    {
     "name": "stdout",
     "output_type": "stream",
     "text": [
      "ts\n",
      "time\n",
      "time_vectors\n",
      "lat\n",
      "lon\n",
      "tasmax\n"
     ]
    }
   ],
   "source": [
    "nc=Dataset(file, 'r')\n",
    "for i in nc.variables:\n",
    "    print (i)"
   ]
  },
  {
   "cell_type": "code",
   "execution_count": 7,
   "metadata": {},
   "outputs": [
    {
     "name": "stdout",
     "output_type": "stream",
     "text": [
      "(3,)\n",
      "(365,)\n",
      "(365, 3)\n",
      "(700,)\n",
      "(1064,)\n",
      "(365, 700, 1064)\n"
     ]
    }
   ],
   "source": [
    "for i in nc.variables:\n",
    "    print (nc.variables[i].shape)"
   ]
  },
  {
   "cell_type": "code",
   "execution_count": 8,
   "metadata": {},
   "outputs": [],
   "source": [
    "temperature = nc.variables['tasmax'][:]\n",
    "latitude = nc.variables['lat'][:]"
   ]
  },
  {
   "cell_type": "code",
   "execution_count": 10,
   "metadata": {},
   "outputs": [
    {
     "data": {
      "text/plain": [
       "masked_array(data=[83.28931, 83.20598, 83.12265, 83.03932, 82.95599,\n",
       "                   82.87266, 82.78933, 82.706  , 82.62267, 82.53934,\n",
       "                   82.45601, 82.37268, 82.28935, 82.20602, 82.12269,\n",
       "                   82.03936, 81.95603, 81.8727 , 81.78937, 81.70604,\n",
       "                   81.62271, 81.53938, 81.45605, 81.37272, 81.28939,\n",
       "                   81.20606, 81.12273, 81.0394 , 80.95607, 80.87274,\n",
       "                   80.78941, 80.70608, 80.62275, 80.53942, 80.45609,\n",
       "                   80.37276, 80.28943, 80.2061 , 80.12277, 80.03944,\n",
       "                   79.95611, 79.87278, 79.78945, 79.70612, 79.62279,\n",
       "                   79.53946, 79.45613, 79.3728 , 79.28947, 79.20614,\n",
       "                   79.12281, 79.03948, 78.95615, 78.87282, 78.78949,\n",
       "                   78.70616, 78.62283, 78.5395 , 78.45617, 78.37284,\n",
       "                   78.28951, 78.20618, 78.12285, 78.03952, 77.95619,\n",
       "                   77.87286, 77.78953, 77.7062 , 77.62287, 77.53954,\n",
       "                   77.45621, 77.37288, 77.28955, 77.20622, 77.12289,\n",
       "                   77.03956, 76.95623, 76.8729 , 76.78957, 76.70624,\n",
       "                   76.62291, 76.53958, 76.45625, 76.37292, 76.28959,\n",
       "                   76.20626, 76.12293, 76.0396 , 75.95627, 75.87294,\n",
       "                   75.78961, 75.70628, 75.62295, 75.53962, 75.45629,\n",
       "                   75.37296, 75.28963, 75.2063 , 75.12297, 75.03964,\n",
       "                   74.95631, 74.87298, 74.78965, 74.70632, 74.62299,\n",
       "                   74.53966, 74.45633, 74.373  , 74.28967, 74.20634,\n",
       "                   74.12301, 74.03968, 73.95635, 73.87302, 73.78969,\n",
       "                   73.70636, 73.62303, 73.5397 , 73.45637, 73.37304,\n",
       "                   73.28971, 73.20638, 73.12305, 73.03972, 72.95639,\n",
       "                   72.87306, 72.78973, 72.7064 , 72.62307, 72.53974,\n",
       "                   72.45641, 72.37308, 72.28975, 72.20642, 72.12309,\n",
       "                   72.03976, 71.95643, 71.8731 , 71.78977, 71.70644,\n",
       "                   71.62311, 71.53978, 71.45645, 71.37312, 71.28979,\n",
       "                   71.20646, 71.12313, 71.0398 , 70.95647, 70.87314,\n",
       "                   70.78981, 70.70648, 70.62315, 70.53982, 70.45649,\n",
       "                   70.37316, 70.28983, 70.2065 , 70.12317, 70.03984,\n",
       "                   69.95651, 69.87318, 69.78985, 69.70652, 69.62319,\n",
       "                   69.53986, 69.45653, 69.3732 , 69.28987, 69.20654,\n",
       "                   69.12321, 69.03988, 68.95655, 68.87322, 68.78989,\n",
       "                   68.70656, 68.62323, 68.5399 , 68.45657, 68.37324,\n",
       "                   68.28991, 68.20658, 68.12325, 68.03992, 67.95659,\n",
       "                   67.87326, 67.78993, 67.7066 , 67.62327, 67.53994,\n",
       "                   67.45661, 67.37328, 67.28995, 67.20662, 67.12329,\n",
       "                   67.03996, 66.95663, 66.8733 , 66.78997, 66.70664,\n",
       "                   66.62331, 66.53998, 66.45665, 66.37332, 66.28999,\n",
       "                   66.20666, 66.12333, 66.04   , 65.95667, 65.87334,\n",
       "                   65.79001, 65.70668, 65.62335, 65.54002, 65.45669,\n",
       "                   65.37336, 65.29003, 65.2067 , 65.12337, 65.04004,\n",
       "                   64.95671, 64.87338, 64.79005, 64.70672, 64.62339,\n",
       "                   64.54006, 64.45673, 64.3734 , 64.29007, 64.20674,\n",
       "                   64.12341, 64.04008, 63.95675, 63.87342, 63.79009,\n",
       "                   63.70676, 63.62343, 63.5401 , 63.45677, 63.37344,\n",
       "                   63.29011, 63.20678, 63.12345, 63.04012, 62.95679,\n",
       "                   62.87346, 62.79013, 62.7068 , 62.62347, 62.54014,\n",
       "                   62.45681, 62.37348, 62.29015, 62.20682, 62.12349,\n",
       "                   62.04016, 61.95683, 61.8735 , 61.79017, 61.70684,\n",
       "                   61.62351, 61.54018, 61.45685, 61.37352, 61.29019,\n",
       "                   61.20686, 61.12353, 61.0402 , 60.95687, 60.87354,\n",
       "                   60.79021, 60.70688, 60.62355, 60.54022, 60.45689,\n",
       "                   60.37356, 60.29023, 60.2069 , 60.12357, 60.04024,\n",
       "                   59.95691, 59.87358, 59.79025, 59.70692, 59.62359,\n",
       "                   59.54026, 59.45693, 59.3736 , 59.29027, 59.20694,\n",
       "                   59.12361, 59.04028, 58.95695, 58.87362, 58.79029,\n",
       "                   58.70696, 58.62363, 58.5403 , 58.45697, 58.37364,\n",
       "                   58.29031, 58.20698, 58.12365, 58.04032, 57.95699,\n",
       "                   57.87366, 57.79033, 57.707  , 57.62367, 57.54034,\n",
       "                   57.45701, 57.37368, 57.29035, 57.20702, 57.12369,\n",
       "                   57.04036, 56.95703, 56.8737 , 56.79037, 56.70704,\n",
       "                   56.62371, 56.54038, 56.45705, 56.37372, 56.29039,\n",
       "                   56.20706, 56.12373, 56.0404 , 55.95707, 55.87374,\n",
       "                   55.79041, 55.70708, 55.62375, 55.54042, 55.45709,\n",
       "                   55.37376, 55.29043, 55.2071 , 55.12377, 55.04044,\n",
       "                   54.95711, 54.87378, 54.79045, 54.70712, 54.62379,\n",
       "                   54.54046, 54.45713, 54.3738 , 54.29047, 54.20714,\n",
       "                   54.12381, 54.04048, 53.95715, 53.87382, 53.79049,\n",
       "                   53.70716, 53.62383, 53.5405 , 53.45717, 53.37384,\n",
       "                   53.29051, 53.20718, 53.12385, 53.04052, 52.95719,\n",
       "                   52.87386, 52.79053, 52.7072 , 52.62387, 52.54054,\n",
       "                   52.45721, 52.37388, 52.29055, 52.20722, 52.12389,\n",
       "                   52.04056, 51.95723, 51.8739 , 51.79057, 51.70724,\n",
       "                   51.62391, 51.54058, 51.45725, 51.37392, 51.29059,\n",
       "                   51.20726, 51.12393, 51.0406 , 50.95727, 50.87394,\n",
       "                   50.79061, 50.70728, 50.62395, 50.54062, 50.45729,\n",
       "                   50.37396, 50.29063, 50.2073 , 50.12397, 50.04064,\n",
       "                   49.95731, 49.87398, 49.79065, 49.70732, 49.62399,\n",
       "                   49.54066, 49.45733, 49.374  , 49.29067, 49.20734,\n",
       "                   49.12401, 49.04068, 48.95735, 48.87402, 48.79069,\n",
       "                   48.70736, 48.62403, 48.5407 , 48.45737, 48.37404,\n",
       "                   48.29071, 48.20738, 48.12405, 48.04072, 47.95739,\n",
       "                   47.87406, 47.79073, 47.7074 , 47.62407, 47.54074,\n",
       "                   47.45741, 47.37408, 47.29075, 47.20742, 47.12409,\n",
       "                   47.04076, 46.95743, 46.8741 , 46.79077, 46.70744,\n",
       "                   46.62411, 46.54078, 46.45745, 46.37412, 46.29079,\n",
       "                   46.20746, 46.12413, 46.0408 , 45.95747, 45.87414,\n",
       "                   45.79081, 45.70748, 45.62415, 45.54082, 45.45749,\n",
       "                   45.37416, 45.29083, 45.2075 , 45.12417, 45.04084,\n",
       "                   44.95751, 44.87418, 44.79085, 44.70752, 44.62419,\n",
       "                   44.54086, 44.45753, 44.3742 , 44.29087, 44.20754,\n",
       "                   44.12421, 44.04088, 43.95755, 43.87422, 43.79089,\n",
       "                   43.70756, 43.62423, 43.5409 , 43.45757, 43.37424,\n",
       "                   43.29091, 43.20758, 43.12425, 43.04092, 42.95759,\n",
       "                   42.87426, 42.79093, 42.7076 , 42.62427, 42.54094,\n",
       "                   42.45761, 42.37428, 42.29095, 42.20762, 42.12429,\n",
       "                   42.04096, 41.95763, 41.8743 , 41.79097, 41.70764,\n",
       "                   41.62431, 41.54098, 41.45765, 41.37432, 41.29099,\n",
       "                   41.20766, 41.12433, 41.041  , 40.95767, 40.87434,\n",
       "                   40.79101, 40.70768, 40.62435, 40.54102, 40.45769,\n",
       "                   40.37436, 40.29103, 40.2077 , 40.12437, 40.04104,\n",
       "                   39.95771, 39.87438, 39.79105, 39.70772, 39.62439,\n",
       "                   39.54106, 39.45773, 39.3744 , 39.29107, 39.20774,\n",
       "                   39.12441, 39.04108, 38.95775, 38.87442, 38.79109,\n",
       "                   38.70776, 38.62443, 38.5411 , 38.45777, 38.37444,\n",
       "                   38.29111, 38.20778, 38.12445, 38.04112, 37.95779,\n",
       "                   37.87446, 37.79113, 37.7078 , 37.62447, 37.54114,\n",
       "                   37.45781, 37.37448, 37.29115, 37.20782, 37.12449,\n",
       "                   37.04116, 36.95783, 36.8745 , 36.79117, 36.70784,\n",
       "                   36.62451, 36.54118, 36.45785, 36.37452, 36.29119,\n",
       "                   36.20786, 36.12453, 36.0412 , 35.95787, 35.87454,\n",
       "                   35.79121, 35.70788, 35.62455, 35.54122, 35.45789,\n",
       "                   35.37456, 35.29123, 35.2079 , 35.12457, 35.04124,\n",
       "                   34.95791, 34.87458, 34.79125, 34.70792, 34.62459,\n",
       "                   34.54126, 34.45793, 34.3746 , 34.29127, 34.20794,\n",
       "                   34.12461, 34.04128, 33.95795, 33.87462, 33.79129,\n",
       "                   33.70796, 33.62463, 33.5413 , 33.45797, 33.37464,\n",
       "                   33.29131, 33.20798, 33.12465, 33.04132, 32.95799,\n",
       "                   32.87466, 32.79133, 32.708  , 32.62467, 32.54134,\n",
       "                   32.45801, 32.37468, 32.29135, 32.20802, 32.12469,\n",
       "                   32.04136, 31.95803, 31.8747 , 31.79137, 31.70804,\n",
       "                   31.62471, 31.54138, 31.45805, 31.37472, 31.29139,\n",
       "                   31.20806, 31.12473, 31.0414 , 30.95807, 30.87474,\n",
       "                   30.79141, 30.70808, 30.62475, 30.54142, 30.45809,\n",
       "                   30.37476, 30.29143, 30.2081 , 30.12477, 30.04144,\n",
       "                   29.95811, 29.87478, 29.79145, 29.70812, 29.62479,\n",
       "                   29.54146, 29.45813, 29.3748 , 29.29147, 29.20814,\n",
       "                   29.12481, 29.04148, 28.95815, 28.87482, 28.79149,\n",
       "                   28.70816, 28.62483, 28.5415 , 28.45817, 28.37484,\n",
       "                   28.29151, 28.20818, 28.12485, 28.04152, 27.95819,\n",
       "                   27.87486, 27.79153, 27.7082 , 27.62487, 27.54154,\n",
       "                   27.45821, 27.37488, 27.29155, 27.20822, 27.12489,\n",
       "                   27.04156, 26.95823, 26.8749 , 26.79157, 26.70824,\n",
       "                   26.62491, 26.54158, 26.45825, 26.37492, 26.29159,\n",
       "                   26.20826, 26.12493, 26.0416 , 25.95827, 25.87494,\n",
       "                   25.79161, 25.70828, 25.62495, 25.54162, 25.45829,\n",
       "                   25.37496, 25.29163, 25.2083 , 25.12497, 25.04164],\n",
       "             mask=False,\n",
       "       fill_value=1e+20,\n",
       "            dtype=float32)"
      ]
     },
     "execution_count": 10,
     "metadata": {},
     "output_type": "execute_result"
    }
   ],
   "source": [
    "latitude"
   ]
  },
  {
   "cell_type": "code",
   "execution_count": 15,
   "metadata": {},
   "outputs": [],
   "source": [
    "longitude = nc.variables['lon'][:]"
   ]
  },
  {
   "cell_type": "code",
   "execution_count": 16,
   "metadata": {},
   "outputs": [
    {
     "data": {
      "text/plain": [
       "masked_array(data=[-141.04314, -140.9598 , -140.87646, ...,  -52.63   ,\n",
       "                    -52.54667,  -52.46334],\n",
       "             mask=False,\n",
       "       fill_value=1e+20,\n",
       "            dtype=float32)"
      ]
     },
     "execution_count": 16,
     "metadata": {},
     "output_type": "execute_result"
    }
   ],
   "source": [
    "longitude"
   ]
  },
  {
   "cell_type": "code",
   "execution_count": 12,
   "metadata": {},
   "outputs": [],
   "source": [
    "#temperature #masked array"
   ]
  },
  {
   "cell_type": "code",
   "execution_count": 13,
   "metadata": {},
   "outputs": [],
   "source": [
    "tasmax = xr.open_dataset(file)"
   ]
  },
  {
   "cell_type": "code",
   "execution_count": 14,
   "metadata": {},
   "outputs": [
    {
     "data": {
      "text/html": [
       "<pre>&lt;xarray.Dataset&gt;\n",
       "Dimensions:       (lat: 700, lon: 1064, time: 365, ts: 3)\n",
       "Coordinates:\n",
       "  * ts            (ts) float32 nan nan nan\n",
       "  * time          (time) object 1956-01-01 00:00:00 ... 1956-12-31 00:00:00\n",
       "  * lat           (lat) float32 83.28931 83.20598 83.12265 ... 25.12497 25.04164\n",
       "  * lon           (lon) float32 -141.04314 -140.9598 ... -52.54667 -52.46334\n",
       "Data variables:\n",
       "    time_vectors  (time, ts) int32 ...\n",
       "    tasmax        (time, lat, lon) float32 ...\n",
       "Attributes:\n",
       "    Conventions:     CF-1.5\n",
       "    title:           BNU-ESM model output prepared for CMIP5 historical\n",
       "    history:         2012-03-12T06:02:50Z CMOR rewrote data to comply with CF...\n",
       "    institution:     GCESS,BNU,Beijing,China\n",
       "    source:          BNU-ESM\\n30-day moving window 50-bins quantile mapping w...\n",
       "    redistribution:  Redistribution prohibited. For internal use only.</pre>"
      ],
      "text/plain": [
       "<xarray.Dataset>\n",
       "Dimensions:       (lat: 700, lon: 1064, time: 365, ts: 3)\n",
       "Coordinates:\n",
       "  * ts            (ts) float32 nan nan nan\n",
       "  * time          (time) object 1956-01-01 00:00:00 ... 1956-12-31 00:00:00\n",
       "  * lat           (lat) float32 83.28931 83.20598 83.12265 ... 25.12497 25.04164\n",
       "  * lon           (lon) float32 -141.04314 -140.9598 ... -52.54667 -52.46334\n",
       "Data variables:\n",
       "    time_vectors  (time, ts) int32 ...\n",
       "    tasmax        (time, lat, lon) float32 ...\n",
       "Attributes:\n",
       "    Conventions:     CF-1.5\n",
       "    title:           BNU-ESM model output prepared for CMIP5 historical\n",
       "    history:         2012-03-12T06:02:50Z CMOR rewrote data to comply with CF...\n",
       "    institution:     GCESS,BNU,Beijing,China\n",
       "    source:          BNU-ESM\\n30-day moving window 50-bins quantile mapping w...\n",
       "    redistribution:  Redistribution prohibited. For internal use only."
      ]
     },
     "execution_count": 14,
     "metadata": {},
     "output_type": "execute_result"
    }
   ],
   "source": [
    "tasmax"
   ]
  },
  {
   "cell_type": "code",
   "execution_count": 38,
   "metadata": {},
   "outputs": [
    {
     "ename": "TypeError",
     "evalue": "Input must be a 2D array.",
     "output_type": "error",
     "traceback": [
      "\u001b[0;31m---------------------------------------------------------------------------\u001b[0m",
      "\u001b[0;31mTypeError\u001b[0m                                 Traceback (most recent call last)",
      "\u001b[0;32m<ipython-input-38-6e0cc68de22d>\u001b[0m in \u001b[0;36m<module>\u001b[0;34m()\u001b[0m\n\u001b[1;32m      1\u001b[0m \u001b[0;31m#ax = plt.axes(projection=ccrs.PlateCarree())\u001b[0m\u001b[0;34m\u001b[0m\u001b[0;34m\u001b[0m\u001b[0;34m\u001b[0m\u001b[0m\n\u001b[1;32m      2\u001b[0m \u001b[0;34m\u001b[0m\u001b[0m\n\u001b[0;32m----> 3\u001b[0;31m \u001b[0mplt\u001b[0m\u001b[0;34m.\u001b[0m\u001b[0mcontourf\u001b[0m\u001b[0;34m(\u001b[0m\u001b[0mtasmax\u001b[0m\u001b[0;34m.\u001b[0m\u001b[0mto_array\u001b[0m\u001b[0;34m(\u001b[0m\u001b[0;34m)\u001b[0m\u001b[0;34m)\u001b[0m\u001b[0;34m\u001b[0m\u001b[0;34m\u001b[0m\u001b[0m\n\u001b[0m\u001b[1;32m      4\u001b[0m \u001b[0;34m\u001b[0m\u001b[0m\n\u001b[1;32m      5\u001b[0m \u001b[0;31m#ax.coastlines()\u001b[0m\u001b[0;34m\u001b[0m\u001b[0;34m\u001b[0m\u001b[0;34m\u001b[0m\u001b[0m\n",
      "\u001b[0;32m~/EXEC/anaconda3/lib/python3.7/site-packages/matplotlib/pyplot.py\u001b[0m in \u001b[0;36mcontourf\u001b[0;34m(data, *args, **kwargs)\u001b[0m\n\u001b[1;32m   2522\u001b[0m     __ret = gca().contourf(\n\u001b[1;32m   2523\u001b[0m         \u001b[0;34m*\u001b[0m\u001b[0margs\u001b[0m\u001b[0;34m,\u001b[0m \u001b[0;34m**\u001b[0m\u001b[0;34m(\u001b[0m\u001b[0;34m{\u001b[0m\u001b[0;34m\"data\"\u001b[0m\u001b[0;34m:\u001b[0m \u001b[0mdata\u001b[0m\u001b[0;34m}\u001b[0m \u001b[0;32mif\u001b[0m \u001b[0mdata\u001b[0m \u001b[0;32mis\u001b[0m \u001b[0;32mnot\u001b[0m \u001b[0;32mNone\u001b[0m \u001b[0;32melse\u001b[0m \u001b[0;34m{\u001b[0m\u001b[0;34m}\u001b[0m\u001b[0;34m)\u001b[0m\u001b[0;34m,\u001b[0m\u001b[0;34m\u001b[0m\u001b[0;34m\u001b[0m\u001b[0m\n\u001b[0;32m-> 2524\u001b[0;31m         **kwargs)\n\u001b[0m\u001b[1;32m   2525\u001b[0m     \u001b[0;32mif\u001b[0m \u001b[0m__ret\u001b[0m\u001b[0;34m.\u001b[0m\u001b[0m_A\u001b[0m \u001b[0;32mis\u001b[0m \u001b[0;32mnot\u001b[0m \u001b[0;32mNone\u001b[0m\u001b[0;34m:\u001b[0m \u001b[0msci\u001b[0m\u001b[0;34m(\u001b[0m\u001b[0m__ret\u001b[0m\u001b[0;34m)\u001b[0m  \u001b[0;31m# noqa\u001b[0m\u001b[0;34m\u001b[0m\u001b[0;34m\u001b[0m\u001b[0m\n\u001b[1;32m   2526\u001b[0m     \u001b[0;32mreturn\u001b[0m \u001b[0m__ret\u001b[0m\u001b[0;34m\u001b[0m\u001b[0;34m\u001b[0m\u001b[0m\n",
      "\u001b[0;32m~/EXEC/anaconda3/lib/python3.7/site-packages/matplotlib/__init__.py\u001b[0m in \u001b[0;36minner\u001b[0;34m(ax, data, *args, **kwargs)\u001b[0m\n\u001b[1;32m   1597\u001b[0m     \u001b[0;32mdef\u001b[0m \u001b[0minner\u001b[0m\u001b[0;34m(\u001b[0m\u001b[0max\u001b[0m\u001b[0;34m,\u001b[0m \u001b[0;34m*\u001b[0m\u001b[0margs\u001b[0m\u001b[0;34m,\u001b[0m \u001b[0mdata\u001b[0m\u001b[0;34m=\u001b[0m\u001b[0;32mNone\u001b[0m\u001b[0;34m,\u001b[0m \u001b[0;34m**\u001b[0m\u001b[0mkwargs\u001b[0m\u001b[0;34m)\u001b[0m\u001b[0;34m:\u001b[0m\u001b[0;34m\u001b[0m\u001b[0;34m\u001b[0m\u001b[0m\n\u001b[1;32m   1598\u001b[0m         \u001b[0;32mif\u001b[0m \u001b[0mdata\u001b[0m \u001b[0;32mis\u001b[0m \u001b[0;32mNone\u001b[0m\u001b[0;34m:\u001b[0m\u001b[0;34m\u001b[0m\u001b[0;34m\u001b[0m\u001b[0m\n\u001b[0;32m-> 1599\u001b[0;31m             \u001b[0;32mreturn\u001b[0m \u001b[0mfunc\u001b[0m\u001b[0;34m(\u001b[0m\u001b[0max\u001b[0m\u001b[0;34m,\u001b[0m \u001b[0;34m*\u001b[0m\u001b[0mmap\u001b[0m\u001b[0;34m(\u001b[0m\u001b[0msanitize_sequence\u001b[0m\u001b[0;34m,\u001b[0m \u001b[0margs\u001b[0m\u001b[0;34m)\u001b[0m\u001b[0;34m,\u001b[0m \u001b[0;34m**\u001b[0m\u001b[0mkwargs\u001b[0m\u001b[0;34m)\u001b[0m\u001b[0;34m\u001b[0m\u001b[0;34m\u001b[0m\u001b[0m\n\u001b[0m\u001b[1;32m   1600\u001b[0m \u001b[0;34m\u001b[0m\u001b[0m\n\u001b[1;32m   1601\u001b[0m         \u001b[0mbound\u001b[0m \u001b[0;34m=\u001b[0m \u001b[0mnew_sig\u001b[0m\u001b[0;34m.\u001b[0m\u001b[0mbind\u001b[0m\u001b[0;34m(\u001b[0m\u001b[0max\u001b[0m\u001b[0;34m,\u001b[0m \u001b[0;34m*\u001b[0m\u001b[0margs\u001b[0m\u001b[0;34m,\u001b[0m \u001b[0;34m**\u001b[0m\u001b[0mkwargs\u001b[0m\u001b[0;34m)\u001b[0m\u001b[0;34m\u001b[0m\u001b[0;34m\u001b[0m\u001b[0m\n",
      "\u001b[0;32m~/EXEC/anaconda3/lib/python3.7/site-packages/matplotlib/axes/_axes.py\u001b[0m in \u001b[0;36mcontourf\u001b[0;34m(self, *args, **kwargs)\u001b[0m\n\u001b[1;32m   6428\u001b[0m     \u001b[0;32mdef\u001b[0m \u001b[0mcontourf\u001b[0m\u001b[0;34m(\u001b[0m\u001b[0mself\u001b[0m\u001b[0;34m,\u001b[0m \u001b[0;34m*\u001b[0m\u001b[0margs\u001b[0m\u001b[0;34m,\u001b[0m \u001b[0;34m**\u001b[0m\u001b[0mkwargs\u001b[0m\u001b[0;34m)\u001b[0m\u001b[0;34m:\u001b[0m\u001b[0;34m\u001b[0m\u001b[0;34m\u001b[0m\u001b[0m\n\u001b[1;32m   6429\u001b[0m         \u001b[0mkwargs\u001b[0m\u001b[0;34m[\u001b[0m\u001b[0;34m'filled'\u001b[0m\u001b[0;34m]\u001b[0m \u001b[0;34m=\u001b[0m \u001b[0;32mTrue\u001b[0m\u001b[0;34m\u001b[0m\u001b[0;34m\u001b[0m\u001b[0m\n\u001b[0;32m-> 6430\u001b[0;31m         \u001b[0mcontours\u001b[0m \u001b[0;34m=\u001b[0m \u001b[0mmcontour\u001b[0m\u001b[0;34m.\u001b[0m\u001b[0mQuadContourSet\u001b[0m\u001b[0;34m(\u001b[0m\u001b[0mself\u001b[0m\u001b[0;34m,\u001b[0m \u001b[0;34m*\u001b[0m\u001b[0margs\u001b[0m\u001b[0;34m,\u001b[0m \u001b[0;34m**\u001b[0m\u001b[0mkwargs\u001b[0m\u001b[0;34m)\u001b[0m\u001b[0;34m\u001b[0m\u001b[0;34m\u001b[0m\u001b[0m\n\u001b[0m\u001b[1;32m   6431\u001b[0m         \u001b[0mself\u001b[0m\u001b[0;34m.\u001b[0m\u001b[0mautoscale_view\u001b[0m\u001b[0;34m(\u001b[0m\u001b[0;34m)\u001b[0m\u001b[0;34m\u001b[0m\u001b[0;34m\u001b[0m\u001b[0m\n\u001b[1;32m   6432\u001b[0m         \u001b[0;32mreturn\u001b[0m \u001b[0mcontours\u001b[0m\u001b[0;34m\u001b[0m\u001b[0;34m\u001b[0m\u001b[0m\n",
      "\u001b[0;32m~/EXEC/anaconda3/lib/python3.7/site-packages/matplotlib/contour.py\u001b[0m in \u001b[0;36m__init__\u001b[0;34m(self, ax, levels, filled, linewidths, linestyles, alpha, origin, extent, cmap, colors, norm, vmin, vmax, extend, antialiased, *args, **kwargs)\u001b[0m\n\u001b[1;32m    853\u001b[0m         \u001b[0mself\u001b[0m\u001b[0;34m.\u001b[0m\u001b[0m_transform\u001b[0m \u001b[0;34m=\u001b[0m \u001b[0mkwargs\u001b[0m\u001b[0;34m.\u001b[0m\u001b[0mpop\u001b[0m\u001b[0;34m(\u001b[0m\u001b[0;34m'transform'\u001b[0m\u001b[0;34m,\u001b[0m \u001b[0;32mNone\u001b[0m\u001b[0;34m)\u001b[0m\u001b[0;34m\u001b[0m\u001b[0;34m\u001b[0m\u001b[0m\n\u001b[1;32m    854\u001b[0m \u001b[0;34m\u001b[0m\u001b[0m\n\u001b[0;32m--> 855\u001b[0;31m         \u001b[0mkwargs\u001b[0m \u001b[0;34m=\u001b[0m \u001b[0mself\u001b[0m\u001b[0;34m.\u001b[0m\u001b[0m_process_args\u001b[0m\u001b[0;34m(\u001b[0m\u001b[0;34m*\u001b[0m\u001b[0margs\u001b[0m\u001b[0;34m,\u001b[0m \u001b[0;34m**\u001b[0m\u001b[0mkwargs\u001b[0m\u001b[0;34m)\u001b[0m\u001b[0;34m\u001b[0m\u001b[0;34m\u001b[0m\u001b[0m\n\u001b[0m\u001b[1;32m    856\u001b[0m         \u001b[0mself\u001b[0m\u001b[0;34m.\u001b[0m\u001b[0m_process_levels\u001b[0m\u001b[0;34m(\u001b[0m\u001b[0;34m)\u001b[0m\u001b[0;34m\u001b[0m\u001b[0;34m\u001b[0m\u001b[0m\n\u001b[1;32m    857\u001b[0m \u001b[0;34m\u001b[0m\u001b[0m\n",
      "\u001b[0;32m~/EXEC/anaconda3/lib/python3.7/site-packages/matplotlib/contour.py\u001b[0m in \u001b[0;36m_process_args\u001b[0;34m(self, *args, **kwargs)\u001b[0m\n\u001b[1;32m   1454\u001b[0m                 \u001b[0mself\u001b[0m\u001b[0;34m.\u001b[0m\u001b[0m_corner_mask\u001b[0m \u001b[0;34m=\u001b[0m \u001b[0mmpl\u001b[0m\u001b[0;34m.\u001b[0m\u001b[0mrcParams\u001b[0m\u001b[0;34m[\u001b[0m\u001b[0;34m'contour.corner_mask'\u001b[0m\u001b[0;34m]\u001b[0m\u001b[0;34m\u001b[0m\u001b[0;34m\u001b[0m\u001b[0m\n\u001b[1;32m   1455\u001b[0m \u001b[0;34m\u001b[0m\u001b[0m\n\u001b[0;32m-> 1456\u001b[0;31m             \u001b[0mx\u001b[0m\u001b[0;34m,\u001b[0m \u001b[0my\u001b[0m\u001b[0;34m,\u001b[0m \u001b[0mz\u001b[0m \u001b[0;34m=\u001b[0m \u001b[0mself\u001b[0m\u001b[0;34m.\u001b[0m\u001b[0m_contour_args\u001b[0m\u001b[0;34m(\u001b[0m\u001b[0margs\u001b[0m\u001b[0;34m,\u001b[0m \u001b[0mkwargs\u001b[0m\u001b[0;34m)\u001b[0m\u001b[0;34m\u001b[0m\u001b[0;34m\u001b[0m\u001b[0m\n\u001b[0m\u001b[1;32m   1457\u001b[0m \u001b[0;34m\u001b[0m\u001b[0m\n\u001b[1;32m   1458\u001b[0m             \u001b[0m_mask\u001b[0m \u001b[0;34m=\u001b[0m \u001b[0mma\u001b[0m\u001b[0;34m.\u001b[0m\u001b[0mgetmask\u001b[0m\u001b[0;34m(\u001b[0m\u001b[0mz\u001b[0m\u001b[0;34m)\u001b[0m\u001b[0;34m\u001b[0m\u001b[0;34m\u001b[0m\u001b[0m\n",
      "\u001b[0;32m~/EXEC/anaconda3/lib/python3.7/site-packages/matplotlib/contour.py\u001b[0m in \u001b[0;36m_contour_args\u001b[0;34m(self, args, kwargs)\u001b[0m\n\u001b[1;32m   1509\u001b[0m         \u001b[0;32mif\u001b[0m \u001b[0mNargs\u001b[0m \u001b[0;34m<=\u001b[0m \u001b[0;36m2\u001b[0m\u001b[0;34m:\u001b[0m\u001b[0;34m\u001b[0m\u001b[0;34m\u001b[0m\u001b[0m\n\u001b[1;32m   1510\u001b[0m             \u001b[0mz\u001b[0m \u001b[0;34m=\u001b[0m \u001b[0mma\u001b[0m\u001b[0;34m.\u001b[0m\u001b[0masarray\u001b[0m\u001b[0;34m(\u001b[0m\u001b[0margs\u001b[0m\u001b[0;34m[\u001b[0m\u001b[0;36m0\u001b[0m\u001b[0;34m]\u001b[0m\u001b[0;34m,\u001b[0m \u001b[0mdtype\u001b[0m\u001b[0;34m=\u001b[0m\u001b[0mnp\u001b[0m\u001b[0;34m.\u001b[0m\u001b[0mfloat64\u001b[0m\u001b[0;34m)\u001b[0m\u001b[0;34m\u001b[0m\u001b[0;34m\u001b[0m\u001b[0m\n\u001b[0;32m-> 1511\u001b[0;31m             \u001b[0mx\u001b[0m\u001b[0;34m,\u001b[0m \u001b[0my\u001b[0m \u001b[0;34m=\u001b[0m \u001b[0mself\u001b[0m\u001b[0;34m.\u001b[0m\u001b[0m_initialize_x_y\u001b[0m\u001b[0;34m(\u001b[0m\u001b[0mz\u001b[0m\u001b[0;34m)\u001b[0m\u001b[0;34m\u001b[0m\u001b[0;34m\u001b[0m\u001b[0m\n\u001b[0m\u001b[1;32m   1512\u001b[0m             \u001b[0margs\u001b[0m \u001b[0;34m=\u001b[0m \u001b[0margs\u001b[0m\u001b[0;34m[\u001b[0m\u001b[0;36m1\u001b[0m\u001b[0;34m:\u001b[0m\u001b[0;34m]\u001b[0m\u001b[0;34m\u001b[0m\u001b[0;34m\u001b[0m\u001b[0m\n\u001b[1;32m   1513\u001b[0m         \u001b[0;32melif\u001b[0m \u001b[0mNargs\u001b[0m \u001b[0;34m<=\u001b[0m \u001b[0;36m4\u001b[0m\u001b[0;34m:\u001b[0m\u001b[0;34m\u001b[0m\u001b[0;34m\u001b[0m\u001b[0m\n",
      "\u001b[0;32m~/EXEC/anaconda3/lib/python3.7/site-packages/matplotlib/contour.py\u001b[0m in \u001b[0;36m_initialize_x_y\u001b[0;34m(self, z)\u001b[0m\n\u001b[1;32m   1597\u001b[0m         \"\"\"\n\u001b[1;32m   1598\u001b[0m         \u001b[0;32mif\u001b[0m \u001b[0mz\u001b[0m\u001b[0;34m.\u001b[0m\u001b[0mndim\u001b[0m \u001b[0;34m!=\u001b[0m \u001b[0;36m2\u001b[0m\u001b[0;34m:\u001b[0m\u001b[0;34m\u001b[0m\u001b[0;34m\u001b[0m\u001b[0m\n\u001b[0;32m-> 1599\u001b[0;31m             \u001b[0;32mraise\u001b[0m \u001b[0mTypeError\u001b[0m\u001b[0;34m(\u001b[0m\u001b[0;34m\"Input must be a 2D array.\"\u001b[0m\u001b[0;34m)\u001b[0m\u001b[0;34m\u001b[0m\u001b[0;34m\u001b[0m\u001b[0m\n\u001b[0m\u001b[1;32m   1600\u001b[0m         \u001b[0;32melif\u001b[0m \u001b[0mz\u001b[0m\u001b[0;34m.\u001b[0m\u001b[0mshape\u001b[0m\u001b[0;34m[\u001b[0m\u001b[0;36m0\u001b[0m\u001b[0;34m]\u001b[0m \u001b[0;34m<\u001b[0m \u001b[0;36m2\u001b[0m \u001b[0;32mor\u001b[0m \u001b[0mz\u001b[0m\u001b[0;34m.\u001b[0m\u001b[0mshape\u001b[0m\u001b[0;34m[\u001b[0m\u001b[0;36m1\u001b[0m\u001b[0;34m]\u001b[0m \u001b[0;34m<\u001b[0m \u001b[0;36m2\u001b[0m\u001b[0;34m:\u001b[0m\u001b[0;34m\u001b[0m\u001b[0;34m\u001b[0m\u001b[0m\n\u001b[1;32m   1601\u001b[0m             \u001b[0;32mraise\u001b[0m \u001b[0mTypeError\u001b[0m\u001b[0;34m(\u001b[0m\u001b[0;34m\"Input z must be at least a 2x2 array.\"\u001b[0m\u001b[0;34m)\u001b[0m\u001b[0;34m\u001b[0m\u001b[0;34m\u001b[0m\u001b[0m\n",
      "\u001b[0;31mTypeError\u001b[0m: Input must be a 2D array."
     ]
    },
    {
     "data": {
      "image/png": "[encoded data removed]",
      "text/plain": [
       "<Figure size 432x288 with 1 Axes>"
      ]
     },
     "metadata": {
      "needs_background": "light"
     },
     "output_type": "display_data"
    }
   ],
   "source": [
    "#ax = plt.axes(projection=ccrs.PlateCarree())\n",
    "\n",
    "plt.contourf(tasmax.to_array())\n",
    "\n",
    "#ax.coastlines()\n",
    "\n",
    "plt.show()"
   ]
  }
 ],
 "metadata": {
  "kernelspec": {
   "display_name": "Python 3",
   "language": "python",
   "name": "python3"
  },
  "language_info": {
   "codemirror_mode": {
    "name": "ipython",
    "version": 3
   },
   "file_extension": ".py",
   "mimetype": "text/x-python",
   "name": "python",
   "nbconvert_exporter": "python",
   "pygments_lexer": "ipython3",
   "version": "3.7.3"
  }
 },
 "nbformat": 4,
 "nbformat_minor": 2
}

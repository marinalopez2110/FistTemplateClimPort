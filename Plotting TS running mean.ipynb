{
 "cells": [
  {
   "cell_type": "code",
   "execution_count": 1,
   "metadata": {},
   "outputs": [],
   "source": [
    "import numpy as np\n",
    "import pandas as pd\n",
    "import matplotlib.pyplot as plt\n",
    "import xarray as xr"
   ]
  },
  {
   "cell_type": "code",
   "execution_count": 12,
   "metadata": {},
   "outputs": [],
   "source": [
    "import matplotlib.patches as mpatches"
   ]
  },
  {
   "cell_type": "code",
   "execution_count": 24,
   "metadata": {},
   "outputs": [
    {
     "name": "stderr",
     "output_type": "stream",
     "text": [
      "<ipython-input-24-9bcb720f94e7>:3: RuntimeWarning: Converting a CFTimeIndex with dates from a non-standard calendar, 'noleap', to a pandas.DatetimeIndex, which uses dates from the standard calendar.  This may lead to subtle errors in operations that depend on the length of time between dates.\n",
      "  ds['time'] = index.to_datetimeindex()\n"
     ]
    },
    {
     "data": {
      "text/html": [
       "<pre>&lt;xarray.Dataset&gt;\n",
       "Dimensions:  (lat: 320, lon: 416, time: 151)\n",
       "Coordinates:\n",
       "  * time     (time) datetime64[ns] 1950-01-01 1951-01-01 ... 2100-01-01\n",
       "  * lon      (lon) float32 -89.04521 -88.96188 -88.87855 ... -54.54659 -54.46326\n",
       "  * lat      (lat) float32 66.62331 66.53998 66.45665 ... 40.12437 40.04104\n",
       "Data variables:\n",
       "    tn_mean  (time, lat, lon) float32 ...\n",
       "Attributes:\n",
       "    Conventions:     CF-1.5\n",
       "    title:           NorESM1-M model output prepared for CMIP5 historical\n",
       "    history:         2011-06-01T01:20:15Z CMOR rewrote data to comply with CF...\n",
       "    institution:     Norwegian Climate Centre\n",
       "    source:          NorESM1-M 2011  atmosphere: CAM-Oslo (CAM4-Oslo-noresm-v...\n",
       "    redistribution:  Redistribution prohibited. For internal use only.</pre>"
      ],
      "text/plain": [
       "<xarray.Dataset>\n",
       "Dimensions:  (lat: 320, lon: 416, time: 151)\n",
       "Coordinates:\n",
       "  * time     (time) datetime64[ns] 1950-01-01 1951-01-01 ... 2100-01-01\n",
       "  * lon      (lon) float32 -89.04521 -88.96188 -88.87855 ... -54.54659 -54.46326\n",
       "  * lat      (lat) float32 66.62331 66.53998 66.45665 ... 40.12437 40.04104\n",
       "Data variables:\n",
       "    tn_mean  (time, lat, lon) float32 ...\n",
       "Attributes:\n",
       "    Conventions:     CF-1.5\n",
       "    title:           NorESM1-M model output prepared for CMIP5 historical\n",
       "    history:         2011-06-01T01:20:15Z CMOR rewrote data to comply with CF...\n",
       "    institution:     Norwegian Climate Centre\n",
       "    source:          NorESM1-M 2011  atmosphere: CAM-Oslo (CAM4-Oslo-noresm-v...\n",
       "    redistribution:  Redistribution prohibited. For internal use only."
      ]
     },
     "execution_count": 24,
     "metadata": {},
     "output_type": "execute_result"
    }
   ],
   "source": [
    "ds = xr.open_dataset(\"/home/mlopez/EXEC/Processed Data Varibales/NorESM1-M_rcp45_tn_mean_annual.nc\")\n",
    "index = ds.indexes['time']\n",
    "ds['time'] = index.to_datetimeindex()\n",
    "ds"
   ]
  },
  {
   "cell_type": "code",
   "execution_count": 25,
   "metadata": {},
   "outputs": [
    {
     "data": {
      "text/html": [
       "<div>\n",
       "<style scoped>\n",
       "    .dataframe tbody tr th:only-of-type {\n",
       "        vertical-align: middle;\n",
       "    }\n",
       "\n",
       "    .dataframe tbody tr th {\n",
       "        vertical-align: top;\n",
       "    }\n",
       "\n",
       "    .dataframe thead th {\n",
       "        text-align: right;\n",
       "    }\n",
       "</style>\n",
       "<table border=\"1\" class=\"dataframe\">\n",
       "  <thead>\n",
       "    <tr style=\"text-align: right;\">\n",
       "      <th></th>\n",
       "      <th>lat</th>\n",
       "      <th>lon</th>\n",
       "      <th>time</th>\n",
       "      <th>tn_mean</th>\n",
       "    </tr>\n",
       "  </thead>\n",
       "  <tbody>\n",
       "    <tr>\n",
       "      <th>0</th>\n",
       "      <td>66.623306</td>\n",
       "      <td>-89.045212</td>\n",
       "      <td>1950-01-01</td>\n",
       "      <td>257.204071</td>\n",
       "    </tr>\n",
       "    <tr>\n",
       "      <th>1</th>\n",
       "      <td>66.623306</td>\n",
       "      <td>-89.045212</td>\n",
       "      <td>1951-01-01</td>\n",
       "      <td>255.538437</td>\n",
       "    </tr>\n",
       "    <tr>\n",
       "      <th>2</th>\n",
       "      <td>66.623306</td>\n",
       "      <td>-89.045212</td>\n",
       "      <td>1952-01-01</td>\n",
       "      <td>255.467987</td>\n",
       "    </tr>\n",
       "    <tr>\n",
       "      <th>3</th>\n",
       "      <td>66.623306</td>\n",
       "      <td>-89.045212</td>\n",
       "      <td>1953-01-01</td>\n",
       "      <td>254.634674</td>\n",
       "    </tr>\n",
       "    <tr>\n",
       "      <th>4</th>\n",
       "      <td>66.623306</td>\n",
       "      <td>-89.045212</td>\n",
       "      <td>1954-01-01</td>\n",
       "      <td>255.788116</td>\n",
       "    </tr>\n",
       "    <tr>\n",
       "      <th>...</th>\n",
       "      <td>...</td>\n",
       "      <td>...</td>\n",
       "      <td>...</td>\n",
       "      <td>...</td>\n",
       "    </tr>\n",
       "    <tr>\n",
       "      <th>11507101</th>\n",
       "      <td>40.041039</td>\n",
       "      <td>-74.045807</td>\n",
       "      <td>2096-01-01</td>\n",
       "      <td>282.007874</td>\n",
       "    </tr>\n",
       "    <tr>\n",
       "      <th>11507102</th>\n",
       "      <td>40.041039</td>\n",
       "      <td>-74.045807</td>\n",
       "      <td>2097-01-01</td>\n",
       "      <td>281.860657</td>\n",
       "    </tr>\n",
       "    <tr>\n",
       "      <th>11507103</th>\n",
       "      <td>40.041039</td>\n",
       "      <td>-74.045807</td>\n",
       "      <td>2098-01-01</td>\n",
       "      <td>281.271240</td>\n",
       "    </tr>\n",
       "    <tr>\n",
       "      <th>11507104</th>\n",
       "      <td>40.041039</td>\n",
       "      <td>-74.045807</td>\n",
       "      <td>2099-01-01</td>\n",
       "      <td>282.671326</td>\n",
       "    </tr>\n",
       "    <tr>\n",
       "      <th>11507105</th>\n",
       "      <td>40.041039</td>\n",
       "      <td>-74.045807</td>\n",
       "      <td>2100-01-01</td>\n",
       "      <td>281.702484</td>\n",
       "    </tr>\n",
       "  </tbody>\n",
       "</table>\n",
       "<p>11507106 rows × 4 columns</p>\n",
       "</div>"
      ],
      "text/plain": [
       "                lat        lon       time     tn_mean\n",
       "0         66.623306 -89.045212 1950-01-01  257.204071\n",
       "1         66.623306 -89.045212 1951-01-01  255.538437\n",
       "2         66.623306 -89.045212 1952-01-01  255.467987\n",
       "3         66.623306 -89.045212 1953-01-01  254.634674\n",
       "4         66.623306 -89.045212 1954-01-01  255.788116\n",
       "...             ...        ...        ...         ...\n",
       "11507101  40.041039 -74.045807 2096-01-01  282.007874\n",
       "11507102  40.041039 -74.045807 2097-01-01  281.860657\n",
       "11507103  40.041039 -74.045807 2098-01-01  281.271240\n",
       "11507104  40.041039 -74.045807 2099-01-01  282.671326\n",
       "11507105  40.041039 -74.045807 2100-01-01  281.702484\n",
       "\n",
       "[11507106 rows x 4 columns]"
      ]
     },
     "execution_count": 25,
     "metadata": {},
     "output_type": "execute_result"
    }
   ],
   "source": [
    "df = ds.to_dataframe().dropna().reset_index()\n",
    "df"
   ]
  },
  {
   "cell_type": "code",
   "execution_count": 26,
   "metadata": {},
   "outputs": [
    {
     "data": {
      "text/html": [
       "<div>\n",
       "<style scoped>\n",
       "    .dataframe tbody tr th:only-of-type {\n",
       "        vertical-align: middle;\n",
       "    }\n",
       "\n",
       "    .dataframe tbody tr th {\n",
       "        vertical-align: top;\n",
       "    }\n",
       "\n",
       "    .dataframe thead th {\n",
       "        text-align: right;\n",
       "    }\n",
       "</style>\n",
       "<table border=\"1\" class=\"dataframe\">\n",
       "  <thead>\n",
       "    <tr style=\"text-align: right;\">\n",
       "      <th></th>\n",
       "      <th>lat</th>\n",
       "      <th>lon</th>\n",
       "      <th>tn_mean</th>\n",
       "    </tr>\n",
       "    <tr>\n",
       "      <th>time</th>\n",
       "      <th></th>\n",
       "      <th></th>\n",
       "      <th></th>\n",
       "    </tr>\n",
       "  </thead>\n",
       "  <tbody>\n",
       "    <tr>\n",
       "      <th>1950-01-01</th>\n",
       "      <td>52.173106</td>\n",
       "      <td>-73.902198</td>\n",
       "      <td>268.828857</td>\n",
       "    </tr>\n",
       "    <tr>\n",
       "      <th>1951-01-01</th>\n",
       "      <td>52.173106</td>\n",
       "      <td>-73.902198</td>\n",
       "      <td>267.152435</td>\n",
       "    </tr>\n",
       "    <tr>\n",
       "      <th>1952-01-01</th>\n",
       "      <td>52.173106</td>\n",
       "      <td>-73.902198</td>\n",
       "      <td>266.864594</td>\n",
       "    </tr>\n",
       "    <tr>\n",
       "      <th>1953-01-01</th>\n",
       "      <td>52.173106</td>\n",
       "      <td>-73.902198</td>\n",
       "      <td>266.514038</td>\n",
       "    </tr>\n",
       "    <tr>\n",
       "      <th>1954-01-01</th>\n",
       "      <td>52.173106</td>\n",
       "      <td>-73.902198</td>\n",
       "      <td>267.385040</td>\n",
       "    </tr>\n",
       "    <tr>\n",
       "      <th>...</th>\n",
       "      <td>...</td>\n",
       "      <td>...</td>\n",
       "      <td>...</td>\n",
       "    </tr>\n",
       "    <tr>\n",
       "      <th>2096-01-01</th>\n",
       "      <td>52.173106</td>\n",
       "      <td>-73.902198</td>\n",
       "      <td>271.467773</td>\n",
       "    </tr>\n",
       "    <tr>\n",
       "      <th>2097-01-01</th>\n",
       "      <td>52.173106</td>\n",
       "      <td>-73.902198</td>\n",
       "      <td>271.235321</td>\n",
       "    </tr>\n",
       "    <tr>\n",
       "      <th>2098-01-01</th>\n",
       "      <td>52.173106</td>\n",
       "      <td>-73.902198</td>\n",
       "      <td>272.091034</td>\n",
       "    </tr>\n",
       "    <tr>\n",
       "      <th>2099-01-01</th>\n",
       "      <td>52.173106</td>\n",
       "      <td>-73.902198</td>\n",
       "      <td>272.195099</td>\n",
       "    </tr>\n",
       "    <tr>\n",
       "      <th>2100-01-01</th>\n",
       "      <td>52.173106</td>\n",
       "      <td>-73.902198</td>\n",
       "      <td>271.527740</td>\n",
       "    </tr>\n",
       "  </tbody>\n",
       "</table>\n",
       "<p>151 rows × 3 columns</p>\n",
       "</div>"
      ],
      "text/plain": [
       "                  lat        lon     tn_mean\n",
       "time                                        \n",
       "1950-01-01  52.173106 -73.902198  268.828857\n",
       "1951-01-01  52.173106 -73.902198  267.152435\n",
       "1952-01-01  52.173106 -73.902198  266.864594\n",
       "1953-01-01  52.173106 -73.902198  266.514038\n",
       "1954-01-01  52.173106 -73.902198  267.385040\n",
       "...               ...        ...         ...\n",
       "2096-01-01  52.173106 -73.902198  271.467773\n",
       "2097-01-01  52.173106 -73.902198  271.235321\n",
       "2098-01-01  52.173106 -73.902198  272.091034\n",
       "2099-01-01  52.173106 -73.902198  272.195099\n",
       "2100-01-01  52.173106 -73.902198  271.527740\n",
       "\n",
       "[151 rows x 3 columns]"
      ]
     },
     "execution_count": 26,
     "metadata": {},
     "output_type": "execute_result"
    }
   ],
   "source": [
    "AllCoordTnMean = df.groupby(\"time\").mean()\n",
    "AllCoordTnMean"
   ]
  },
  {
   "cell_type": "code",
   "execution_count": 27,
   "metadata": {},
   "outputs": [
    {
     "data": {
      "text/html": [
       "<div>\n",
       "<style scoped>\n",
       "    .dataframe tbody tr th:only-of-type {\n",
       "        vertical-align: middle;\n",
       "    }\n",
       "\n",
       "    .dataframe tbody tr th {\n",
       "        vertical-align: top;\n",
       "    }\n",
       "\n",
       "    .dataframe thead th {\n",
       "        text-align: right;\n",
       "    }\n",
       "</style>\n",
       "<table border=\"1\" class=\"dataframe\">\n",
       "  <thead>\n",
       "    <tr style=\"text-align: right;\">\n",
       "      <th></th>\n",
       "      <th>lat</th>\n",
       "      <th>lon</th>\n",
       "      <th>tn_mean</th>\n",
       "      <th>tn_meanC</th>\n",
       "    </tr>\n",
       "    <tr>\n",
       "      <th>time</th>\n",
       "      <th></th>\n",
       "      <th></th>\n",
       "      <th></th>\n",
       "      <th></th>\n",
       "    </tr>\n",
       "  </thead>\n",
       "  <tbody>\n",
       "    <tr>\n",
       "      <th>1950-01-01</th>\n",
       "      <td>52.173106</td>\n",
       "      <td>-73.902198</td>\n",
       "      <td>268.828857</td>\n",
       "      <td>-4.321136</td>\n",
       "    </tr>\n",
       "    <tr>\n",
       "      <th>1951-01-01</th>\n",
       "      <td>52.173106</td>\n",
       "      <td>-73.902198</td>\n",
       "      <td>267.152435</td>\n",
       "      <td>-5.997559</td>\n",
       "    </tr>\n",
       "    <tr>\n",
       "      <th>1952-01-01</th>\n",
       "      <td>52.173106</td>\n",
       "      <td>-73.902198</td>\n",
       "      <td>266.864594</td>\n",
       "      <td>-6.285400</td>\n",
       "    </tr>\n",
       "    <tr>\n",
       "      <th>1953-01-01</th>\n",
       "      <td>52.173106</td>\n",
       "      <td>-73.902198</td>\n",
       "      <td>266.514038</td>\n",
       "      <td>-6.635956</td>\n",
       "    </tr>\n",
       "    <tr>\n",
       "      <th>1954-01-01</th>\n",
       "      <td>52.173106</td>\n",
       "      <td>-73.902198</td>\n",
       "      <td>267.385040</td>\n",
       "      <td>-5.764954</td>\n",
       "    </tr>\n",
       "    <tr>\n",
       "      <th>...</th>\n",
       "      <td>...</td>\n",
       "      <td>...</td>\n",
       "      <td>...</td>\n",
       "      <td>...</td>\n",
       "    </tr>\n",
       "    <tr>\n",
       "      <th>2096-01-01</th>\n",
       "      <td>52.173106</td>\n",
       "      <td>-73.902198</td>\n",
       "      <td>271.467773</td>\n",
       "      <td>-1.682220</td>\n",
       "    </tr>\n",
       "    <tr>\n",
       "      <th>2097-01-01</th>\n",
       "      <td>52.173106</td>\n",
       "      <td>-73.902198</td>\n",
       "      <td>271.235321</td>\n",
       "      <td>-1.914673</td>\n",
       "    </tr>\n",
       "    <tr>\n",
       "      <th>2098-01-01</th>\n",
       "      <td>52.173106</td>\n",
       "      <td>-73.902198</td>\n",
       "      <td>272.091034</td>\n",
       "      <td>-1.058960</td>\n",
       "    </tr>\n",
       "    <tr>\n",
       "      <th>2099-01-01</th>\n",
       "      <td>52.173106</td>\n",
       "      <td>-73.902198</td>\n",
       "      <td>272.195099</td>\n",
       "      <td>-0.954895</td>\n",
       "    </tr>\n",
       "    <tr>\n",
       "      <th>2100-01-01</th>\n",
       "      <td>52.173106</td>\n",
       "      <td>-73.902198</td>\n",
       "      <td>271.527740</td>\n",
       "      <td>-1.622253</td>\n",
       "    </tr>\n",
       "  </tbody>\n",
       "</table>\n",
       "<p>151 rows × 4 columns</p>\n",
       "</div>"
      ],
      "text/plain": [
       "                  lat        lon     tn_mean  tn_meanC\n",
       "time                                                  \n",
       "1950-01-01  52.173106 -73.902198  268.828857 -4.321136\n",
       "1951-01-01  52.173106 -73.902198  267.152435 -5.997559\n",
       "1952-01-01  52.173106 -73.902198  266.864594 -6.285400\n",
       "1953-01-01  52.173106 -73.902198  266.514038 -6.635956\n",
       "1954-01-01  52.173106 -73.902198  267.385040 -5.764954\n",
       "...               ...        ...         ...       ...\n",
       "2096-01-01  52.173106 -73.902198  271.467773 -1.682220\n",
       "2097-01-01  52.173106 -73.902198  271.235321 -1.914673\n",
       "2098-01-01  52.173106 -73.902198  272.091034 -1.058960\n",
       "2099-01-01  52.173106 -73.902198  272.195099 -0.954895\n",
       "2100-01-01  52.173106 -73.902198  271.527740 -1.622253\n",
       "\n",
       "[151 rows x 4 columns]"
      ]
     },
     "execution_count": 27,
     "metadata": {},
     "output_type": "execute_result"
    }
   ],
   "source": [
    "TnMeanC = AllCoordTnMean\n",
    "TnMeanC[\"tn_meanC\"] = TnMeanC[\"tn_mean\"] - 273.15\n",
    "TnMeanC"
   ]
  },
  {
   "cell_type": "code",
   "execution_count": 49,
   "metadata": {},
   "outputs": [
    {
     "data": {
      "text/plain": [
       "0      1950\n",
       "1      1951\n",
       "2      1952\n",
       "3      1953\n",
       "4      1954\n",
       "       ... \n",
       "146    2096\n",
       "147    2097\n",
       "148    2098\n",
       "149    2099\n",
       "150    2100\n",
       "Name: time, Length: 151, dtype: int64"
      ]
     },
     "execution_count": 49,
     "metadata": {},
     "output_type": "execute_result"
    }
   ],
   "source": [
    "TnMeanC.reset_index().time.dt.year"
   ]
  },
  {
   "cell_type": "code",
   "execution_count": 58,
   "metadata": {},
   "outputs": [],
   "source": [
    "def polysmooth(years, y, degree):\n",
    "    coef = np.polyfit(years, y, degree)\n",
    "    return np.polyval(coef,years)"
   ]
  },
  {
   "cell_type": "code",
   "execution_count": 88,
   "metadata": {},
   "outputs": [],
   "source": [
    "T = TnMeanC.tn_meanC\n",
    "years = TnMeanC.reset_index().time.dt.year\n",
    "smtemp = polysmooth(years,T,2)"
   ]
  },
  {
   "cell_type": "code",
   "execution_count": 57,
   "metadata": {},
   "outputs": [],
   "source": [
    "a = abs(T-smtemp)"
   ]
  },
  {
   "cell_type": "code",
   "execution_count": null,
   "metadata": {},
   "outputs": [],
   "source": []
  },
  {
   "cell_type": "code",
   "execution_count": 89,
   "metadata": {},
   "outputs": [
    {
     "data": {
      "text/plain": [
       "<ErrorbarContainer object of 3 artists>"
      ]
     },
     "execution_count": 89,
     "metadata": {},
     "output_type": "execute_result"
    },
    {
     "data": {
      "image/png": "[encoded data removed]",
      "text/plain": [
       "<Figure size 432x288 with 1 Axes>"
      ]
     },
     "metadata": {
      "needs_background": "light"
     },
     "output_type": "display_data"
    }
   ],
   "source": [
    "plt.errorbar(years, smtemp, yerr=polysmooth(years,abs(T-smtemp),2), markersize='10', ecolor='blue',capsize=4, elinewidth=2)"
   ]
  },
  {
   "cell_type": "code",
   "execution_count": 56,
   "metadata": {
    "scrolled": true
   },
   "outputs": [
    {
     "data": {
      "text/plain": [
       "Text(0.5, 1.0, 'Temperature Moyenne')"
      ]
     },
     "execution_count": 56,
     "metadata": {},
     "output_type": "execute_result"
    },
    {
     "data": {
      "image/png": "[encoded data removed]",
      "text/plain": [
       "<Figure size 1080x720 with 1 Axes>"
      ]
     },
     "metadata": {
      "needs_background": "light"
     },
     "output_type": "display_data"
    }
   ],
   "source": [
    "# plot time series\n",
    "#roll = TnMeanC['tn_meanC'].rolling(50, center=True)\n",
    "#roll.mean().plot.line('o-',color='blue',figsize=(15,10))\n",
    "#plt.fill_between(roll.mean().index, roll.mean()-roll.std(), roll.mean()+roll.std())\n",
    "TnMeanC.tn_meanC.interpolate(\"cubic\").plot.line('o-',color='blue',figsize=(15,10))\n",
    "\n",
    "# add colour reference\n",
    "blue_patch = mpatches.Patch(color='blue', label='Temperature Moyenne')\n",
    "plt.legend(handles=[blue_patch])\n",
    "\n",
    "# add titles\n",
    "plt.xlabel('Date')\n",
    "plt.ylabel('Temperature (C)')\n",
    "plt.title('Temperature Moyenne')"
   ]
  },
  {
   "cell_type": "code",
   "execution_count": null,
   "metadata": {},
   "outputs": [],
   "source": []
  }
 ],
 "metadata": {
  "kernelspec": {
   "display_name": "Python 3",
   "language": "python",
   "name": "python3"
  },
  "language_info": {
   "codemirror_mode": {
    "name": "ipython",
    "version": 3
   },
   "file_extension": ".py",
   "mimetype": "text/x-python",
   "name": "python",
   "nbconvert_exporter": "python",
   "pygments_lexer": "ipython3",
   "version": "3.8.1"
  }
 },
 "nbformat": 4,
 "nbformat_minor": 2
}

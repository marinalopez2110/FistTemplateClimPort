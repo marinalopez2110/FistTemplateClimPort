{
 "cells": [
  {
   "cell_type": "code",
   "execution_count": 1,
   "metadata": {},
   "outputs": [],
   "source": [
    "import numpy as np\n",
    "import pandas as pd\n",
    "import matplotlib.pyplot as plt\n",
    "import xarray as xr\n",
    "import cartopy.crs as ccrs"
   ]
  },
  {
   "cell_type": "code",
   "execution_count": 4,
   "metadata": {},
   "outputs": [],
   "source": [
    "tempMax = xr.open_dataset(\"/home/mlopez/EXEC/Données test/tasmax_day_BNU-ESM_rcp45_r1i1p1_na10kgrid_qm-moving-50bins-detrend_1956.nc\")"
   ]
  },
  {
   "cell_type": "code",
   "execution_count": 5,
   "metadata": {},
   "outputs": [
    {
     "data": {
      "text/html": [
       "<pre>&lt;xarray.Dataset&gt;\n",
       "Dimensions:       (lat: 700, lon: 1064, time: 365, ts: 3)\n",
       "Coordinates:\n",
       "  * ts            (ts) float32 nan nan nan\n",
       "  * time          (time) object 1956-01-01 00:00:00 ... 1956-12-31 00:00:00\n",
       "  * lat           (lat) float32 83.28931 83.20598 83.12265 ... 25.12497 25.04164\n",
       "  * lon           (lon) float32 -141.04314 -140.9598 ... -52.54667 -52.46334\n",
       "Data variables:\n",
       "    time_vectors  (time, ts) int32 ...\n",
       "    tasmax        (time, lat, lon) float32 ...\n",
       "Attributes:\n",
       "    Conventions:     CF-1.5\n",
       "    title:           BNU-ESM model output prepared for CMIP5 historical\n",
       "    history:         2012-03-12T06:02:50Z CMOR rewrote data to comply with CF...\n",
       "    institution:     GCESS,BNU,Beijing,China\n",
       "    source:          BNU-ESM\\n30-day moving window 50-bins quantile mapping w...\n",
       "    redistribution:  Redistribution prohibited. For internal use only.</pre>"
      ],
      "text/plain": [
       "<xarray.Dataset>\n",
       "Dimensions:       (lat: 700, lon: 1064, time: 365, ts: 3)\n",
       "Coordinates:\n",
       "  * ts            (ts) float32 nan nan nan\n",
       "  * time          (time) object 1956-01-01 00:00:00 ... 1956-12-31 00:00:00\n",
       "  * lat           (lat) float32 83.28931 83.20598 83.12265 ... 25.12497 25.04164\n",
       "  * lon           (lon) float32 -141.04314 -140.9598 ... -52.54667 -52.46334\n",
       "Data variables:\n",
       "    time_vectors  (time, ts) int32 ...\n",
       "    tasmax        (time, lat, lon) float32 ...\n",
       "Attributes:\n",
       "    Conventions:     CF-1.5\n",
       "    title:           BNU-ESM model output prepared for CMIP5 historical\n",
       "    history:         2012-03-12T06:02:50Z CMOR rewrote data to comply with CF...\n",
       "    institution:     GCESS,BNU,Beijing,China\n",
       "    source:          BNU-ESM\\n30-day moving window 50-bins quantile mapping w...\n",
       "    redistribution:  Redistribution prohibited. For internal use only."
      ]
     },
     "execution_count": 5,
     "metadata": {},
     "output_type": "execute_result"
    }
   ],
   "source": [
    "tempMax"
   ]
  },
  {
   "cell_type": "code",
   "execution_count": 61,
   "metadata": {},
   "outputs": [
    {
     "data": {
      "text/plain": [
       "{nan, nan, nan}"
      ]
     },
     "execution_count": 61,
     "metadata": {},
     "output_type": "execute_result"
    }
   ],
   "source": [
    "set(tempMax.ts.values)"
   ]
  },
  {
   "cell_type": "code",
   "execution_count": 47,
   "metadata": {},
   "outputs": [
    {
     "data": {
      "text/plain": [
       "700"
      ]
     },
     "execution_count": 47,
     "metadata": {},
     "output_type": "execute_result"
    }
   ],
   "source": [
    "LatSize = tempMax.lat.size\n",
    "LatSize\n"
   ]
  },
  {
   "cell_type": "code",
   "execution_count": 48,
   "metadata": {},
   "outputs": [
    {
     "data": {
      "text/plain": [
       "1064"
      ]
     },
     "execution_count": 48,
     "metadata": {},
     "output_type": "execute_result"
    }
   ],
   "source": [
    "LonSize = tempMax.lon.size\n",
    "LonSize"
   ]
  },
  {
   "cell_type": "code",
   "execution_count": 77,
   "metadata": {},
   "outputs": [
    {
     "data": {
      "text/html": [
       "<div>\n",
       "<style scoped>\n",
       "    .dataframe tbody tr th:only-of-type {\n",
       "        vertical-align: middle;\n",
       "    }\n",
       "\n",
       "    .dataframe tbody tr th {\n",
       "        vertical-align: top;\n",
       "    }\n",
       "\n",
       "    .dataframe thead th {\n",
       "        text-align: right;\n",
       "    }\n",
       "</style>\n",
       "<table border=\"1\" class=\"dataframe\">\n",
       "  <thead>\n",
       "    <tr style=\"text-align: right;\">\n",
       "      <th></th>\n",
       "      <th></th>\n",
       "      <th></th>\n",
       "      <th></th>\n",
       "      <th>time_vectors</th>\n",
       "      <th>tasmax</th>\n",
       "    </tr>\n",
       "    <tr>\n",
       "      <th>lat</th>\n",
       "      <th>lon</th>\n",
       "      <th>time</th>\n",
       "      <th>ts</th>\n",
       "      <th></th>\n",
       "      <th></th>\n",
       "    </tr>\n",
       "  </thead>\n",
       "  <tbody>\n",
       "    <tr>\n",
       "      <th rowspan=\"5\" valign=\"top\">66.623306</th>\n",
       "      <th rowspan=\"5\" valign=\"top\">-89.045212</th>\n",
       "      <th rowspan=\"3\" valign=\"top\">1956-01-01 00:00:00</th>\n",
       "      <th>NaN</th>\n",
       "      <td>1956</td>\n",
       "      <td>240.807495</td>\n",
       "    </tr>\n",
       "    <tr>\n",
       "      <th>NaN</th>\n",
       "      <td>1</td>\n",
       "      <td>240.807495</td>\n",
       "    </tr>\n",
       "    <tr>\n",
       "      <th>NaN</th>\n",
       "      <td>1</td>\n",
       "      <td>240.807495</td>\n",
       "    </tr>\n",
       "    <tr>\n",
       "      <th rowspan=\"2\" valign=\"top\">1956-01-02 00:00:00</th>\n",
       "      <th>NaN</th>\n",
       "      <td>1956</td>\n",
       "      <td>242.874939</td>\n",
       "    </tr>\n",
       "    <tr>\n",
       "      <th>NaN</th>\n",
       "      <td>1</td>\n",
       "      <td>242.874939</td>\n",
       "    </tr>\n",
       "    <tr>\n",
       "      <th>...</th>\n",
       "      <th>...</th>\n",
       "      <th>...</th>\n",
       "      <th>...</th>\n",
       "      <td>...</td>\n",
       "      <td>...</td>\n",
       "    </tr>\n",
       "    <tr>\n",
       "      <th rowspan=\"5\" valign=\"top\">40.041039</th>\n",
       "      <th rowspan=\"5\" valign=\"top\">-74.045807</th>\n",
       "      <th rowspan=\"2\" valign=\"top\">1956-12-30 00:00:00</th>\n",
       "      <th>NaN</th>\n",
       "      <td>12</td>\n",
       "      <td>284.645111</td>\n",
       "    </tr>\n",
       "    <tr>\n",
       "      <th>NaN</th>\n",
       "      <td>30</td>\n",
       "      <td>284.645111</td>\n",
       "    </tr>\n",
       "    <tr>\n",
       "      <th rowspan=\"3\" valign=\"top\">1956-12-31 00:00:00</th>\n",
       "      <th>NaN</th>\n",
       "      <td>1956</td>\n",
       "      <td>282.990845</td>\n",
       "    </tr>\n",
       "    <tr>\n",
       "      <th>NaN</th>\n",
       "      <td>12</td>\n",
       "      <td>282.990845</td>\n",
       "    </tr>\n",
       "    <tr>\n",
       "      <th>NaN</th>\n",
       "      <td>31</td>\n",
       "      <td>282.990845</td>\n",
       "    </tr>\n",
       "  </tbody>\n",
       "</table>\n",
       "<p>83445570 rows × 2 columns</p>\n",
       "</div>"
      ],
      "text/plain": [
       "                                              time_vectors      tasmax\n",
       "lat       lon        time                ts                           \n",
       "66.623306 -89.045212 1956-01-01 00:00:00 NaN          1956  240.807495\n",
       "                                         NaN             1  240.807495\n",
       "                                         NaN             1  240.807495\n",
       "                     1956-01-02 00:00:00 NaN          1956  242.874939\n",
       "                                         NaN             1  242.874939\n",
       "...                                                    ...         ...\n",
       "40.041039 -74.045807 1956-12-30 00:00:00 NaN            12  284.645111\n",
       "                                         NaN            30  284.645111\n",
       "                     1956-12-31 00:00:00 NaN          1956  282.990845\n",
       "                                         NaN            12  282.990845\n",
       "                                         NaN            31  282.990845\n",
       "\n",
       "[83445570 rows x 2 columns]"
      ]
     },
     "execution_count": 77,
     "metadata": {},
     "output_type": "execute_result"
    }
   ],
   "source": [
    "#Not useful, tasmax is all NAN and data is not well distributed. Process is more complex. \n",
    "#Make same as R, first, transform into vector and matrix, then DF\n",
    "df = tempMax.to_dataframe().dropna()\n",
    "df\n"
   ]
  },
  {
   "cell_type": "code",
   "execution_count": 83,
   "metadata": {},
   "outputs": [
    {
     "data": {
      "text/html": [
       "<div>\n",
       "<style scoped>\n",
       "    .dataframe tbody tr th:only-of-type {\n",
       "        vertical-align: middle;\n",
       "    }\n",
       "\n",
       "    .dataframe tbody tr th {\n",
       "        vertical-align: top;\n",
       "    }\n",
       "\n",
       "    .dataframe thead th {\n",
       "        text-align: right;\n",
       "    }\n",
       "</style>\n",
       "<table border=\"1\" class=\"dataframe\">\n",
       "  <thead>\n",
       "    <tr style=\"text-align: right;\">\n",
       "      <th></th>\n",
       "      <th>time_vectors</th>\n",
       "      <th>tasmax</th>\n",
       "    </tr>\n",
       "    <tr>\n",
       "      <th>time</th>\n",
       "      <th></th>\n",
       "      <th></th>\n",
       "    </tr>\n",
       "  </thead>\n",
       "  <tbody>\n",
       "    <tr>\n",
       "      <th>1956-01-01 00:00:00</th>\n",
       "      <td>652.666667</td>\n",
       "      <td>261.011810</td>\n",
       "    </tr>\n",
       "    <tr>\n",
       "      <th>1956-01-02 00:00:00</th>\n",
       "      <td>653.000000</td>\n",
       "      <td>263.771912</td>\n",
       "    </tr>\n",
       "    <tr>\n",
       "      <th>1956-01-03 00:00:00</th>\n",
       "      <td>653.333333</td>\n",
       "      <td>264.666656</td>\n",
       "    </tr>\n",
       "    <tr>\n",
       "      <th>1956-01-04 00:00:00</th>\n",
       "      <td>653.666667</td>\n",
       "      <td>263.498505</td>\n",
       "    </tr>\n",
       "    <tr>\n",
       "      <th>1956-01-05 00:00:00</th>\n",
       "      <td>654.000000</td>\n",
       "      <td>261.698914</td>\n",
       "    </tr>\n",
       "    <tr>\n",
       "      <th>...</th>\n",
       "      <td>...</td>\n",
       "      <td>...</td>\n",
       "    </tr>\n",
       "    <tr>\n",
       "      <th>1956-12-27 00:00:00</th>\n",
       "      <td>665.000000</td>\n",
       "      <td>263.063080</td>\n",
       "    </tr>\n",
       "    <tr>\n",
       "      <th>1956-12-28 00:00:00</th>\n",
       "      <td>665.333333</td>\n",
       "      <td>267.987579</td>\n",
       "    </tr>\n",
       "    <tr>\n",
       "      <th>1956-12-29 00:00:00</th>\n",
       "      <td>665.666667</td>\n",
       "      <td>269.903564</td>\n",
       "    </tr>\n",
       "    <tr>\n",
       "      <th>1956-12-30 00:00:00</th>\n",
       "      <td>666.000000</td>\n",
       "      <td>265.647491</td>\n",
       "    </tr>\n",
       "    <tr>\n",
       "      <th>1956-12-31 00:00:00</th>\n",
       "      <td>666.333333</td>\n",
       "      <td>261.813263</td>\n",
       "    </tr>\n",
       "  </tbody>\n",
       "</table>\n",
       "<p>365 rows × 2 columns</p>\n",
       "</div>"
      ],
      "text/plain": [
       "                     time_vectors      tasmax\n",
       "time                                         \n",
       "1956-01-01 00:00:00    652.666667  261.011810\n",
       "1956-01-02 00:00:00    653.000000  263.771912\n",
       "1956-01-03 00:00:00    653.333333  264.666656\n",
       "1956-01-04 00:00:00    653.666667  263.498505\n",
       "1956-01-05 00:00:00    654.000000  261.698914\n",
       "...                           ...         ...\n",
       "1956-12-27 00:00:00    665.000000  263.063080\n",
       "1956-12-28 00:00:00    665.333333  267.987579\n",
       "1956-12-29 00:00:00    665.666667  269.903564\n",
       "1956-12-30 00:00:00    666.000000  265.647491\n",
       "1956-12-31 00:00:00    666.333333  261.813263\n",
       "\n",
       "[365 rows x 2 columns]"
      ]
     },
     "execution_count": 83,
     "metadata": {},
     "output_type": "execute_result"
    }
   ],
   "source": [
    "AllcoordTempMean = df.groupby(\"time\").mean()\n",
    "AllcoordTempMean"
   ]
  },
  {
   "cell_type": "code",
   "execution_count": 84,
   "metadata": {},
   "outputs": [
    {
     "data": {
      "text/html": [
       "<div>\n",
       "<style scoped>\n",
       "    .dataframe tbody tr th:only-of-type {\n",
       "        vertical-align: middle;\n",
       "    }\n",
       "\n",
       "    .dataframe tbody tr th {\n",
       "        vertical-align: top;\n",
       "    }\n",
       "\n",
       "    .dataframe thead th {\n",
       "        text-align: right;\n",
       "    }\n",
       "</style>\n",
       "<table border=\"1\" class=\"dataframe\">\n",
       "  <thead>\n",
       "    <tr style=\"text-align: right;\">\n",
       "      <th></th>\n",
       "      <th>time_vectors</th>\n",
       "      <th>tasmax</th>\n",
       "      <th>tasmaxC</th>\n",
       "    </tr>\n",
       "    <tr>\n",
       "      <th>time</th>\n",
       "      <th></th>\n",
       "      <th></th>\n",
       "      <th></th>\n",
       "    </tr>\n",
       "  </thead>\n",
       "  <tbody>\n",
       "    <tr>\n",
       "      <th>1956-01-01 00:00:00</th>\n",
       "      <td>652.666667</td>\n",
       "      <td>261.011810</td>\n",
       "      <td>-12.138184</td>\n",
       "    </tr>\n",
       "    <tr>\n",
       "      <th>1956-01-02 00:00:00</th>\n",
       "      <td>653.000000</td>\n",
       "      <td>263.771912</td>\n",
       "      <td>-9.378082</td>\n",
       "    </tr>\n",
       "    <tr>\n",
       "      <th>1956-01-03 00:00:00</th>\n",
       "      <td>653.333333</td>\n",
       "      <td>264.666656</td>\n",
       "      <td>-8.483337</td>\n",
       "    </tr>\n",
       "    <tr>\n",
       "      <th>1956-01-04 00:00:00</th>\n",
       "      <td>653.666667</td>\n",
       "      <td>263.498505</td>\n",
       "      <td>-9.651489</td>\n",
       "    </tr>\n",
       "    <tr>\n",
       "      <th>1956-01-05 00:00:00</th>\n",
       "      <td>654.000000</td>\n",
       "      <td>261.698914</td>\n",
       "      <td>-11.451080</td>\n",
       "    </tr>\n",
       "    <tr>\n",
       "      <th>...</th>\n",
       "      <td>...</td>\n",
       "      <td>...</td>\n",
       "      <td>...</td>\n",
       "    </tr>\n",
       "    <tr>\n",
       "      <th>1956-12-27 00:00:00</th>\n",
       "      <td>665.000000</td>\n",
       "      <td>263.063080</td>\n",
       "      <td>-10.086914</td>\n",
       "    </tr>\n",
       "    <tr>\n",
       "      <th>1956-12-28 00:00:00</th>\n",
       "      <td>665.333333</td>\n",
       "      <td>267.987579</td>\n",
       "      <td>-5.162415</td>\n",
       "    </tr>\n",
       "    <tr>\n",
       "      <th>1956-12-29 00:00:00</th>\n",
       "      <td>665.666667</td>\n",
       "      <td>269.903564</td>\n",
       "      <td>-3.246429</td>\n",
       "    </tr>\n",
       "    <tr>\n",
       "      <th>1956-12-30 00:00:00</th>\n",
       "      <td>666.000000</td>\n",
       "      <td>265.647491</td>\n",
       "      <td>-7.502502</td>\n",
       "    </tr>\n",
       "    <tr>\n",
       "      <th>1956-12-31 00:00:00</th>\n",
       "      <td>666.333333</td>\n",
       "      <td>261.813263</td>\n",
       "      <td>-11.336731</td>\n",
       "    </tr>\n",
       "  </tbody>\n",
       "</table>\n",
       "<p>365 rows × 3 columns</p>\n",
       "</div>"
      ],
      "text/plain": [
       "                     time_vectors      tasmax    tasmaxC\n",
       "time                                                    \n",
       "1956-01-01 00:00:00    652.666667  261.011810 -12.138184\n",
       "1956-01-02 00:00:00    653.000000  263.771912  -9.378082\n",
       "1956-01-03 00:00:00    653.333333  264.666656  -8.483337\n",
       "1956-01-04 00:00:00    653.666667  263.498505  -9.651489\n",
       "1956-01-05 00:00:00    654.000000  261.698914 -11.451080\n",
       "...                           ...         ...        ...\n",
       "1956-12-27 00:00:00    665.000000  263.063080 -10.086914\n",
       "1956-12-28 00:00:00    665.333333  267.987579  -5.162415\n",
       "1956-12-29 00:00:00    665.666667  269.903564  -3.246429\n",
       "1956-12-30 00:00:00    666.000000  265.647491  -7.502502\n",
       "1956-12-31 00:00:00    666.333333  261.813263 -11.336731\n",
       "\n",
       "[365 rows x 3 columns]"
      ]
     },
     "execution_count": 84,
     "metadata": {},
     "output_type": "execute_result"
    }
   ],
   "source": [
    "TempMeanC = AllcoordTempMean\n",
    "TempMeanC[\"tasmaxC\"] = TempMeanC[\"tasmax\"] -273.15\n",
    "TempMeanC\n"
   ]
  },
  {
   "cell_type": "code",
   "execution_count": 85,
   "metadata": {},
   "outputs": [
    {
     "ename": "NameError",
     "evalue": "name 'mpatches' is not defined",
     "output_type": "error",
     "traceback": [
      "\u001b[0;31m---------------------------------------------------------------------------\u001b[0m",
      "\u001b[0;31mNameError\u001b[0m                                 Traceback (most recent call last)",
      "\u001b[0;32m<ipython-input-85-1864776a1f99>\u001b[0m in \u001b[0;36m<module>\u001b[0;34m()\u001b[0m\n\u001b[1;32m      3\u001b[0m \u001b[0;34m\u001b[0m\u001b[0m\n\u001b[1;32m      4\u001b[0m \u001b[0;31m# add colour reference\u001b[0m\u001b[0;34m\u001b[0m\u001b[0;34m\u001b[0m\u001b[0;34m\u001b[0m\u001b[0m\n\u001b[0;32m----> 5\u001b[0;31m \u001b[0mblue_patch\u001b[0m \u001b[0;34m=\u001b[0m \u001b[0mmpatches\u001b[0m\u001b[0;34m.\u001b[0m\u001b[0mPatch\u001b[0m\u001b[0;34m(\u001b[0m\u001b[0mcolor\u001b[0m\u001b[0;34m=\u001b[0m\u001b[0;34m'blue'\u001b[0m\u001b[0;34m,\u001b[0m \u001b[0mlabel\u001b[0m\u001b[0;34m=\u001b[0m\u001b[0;34m'Temperature Maximale'\u001b[0m\u001b[0;34m)\u001b[0m\u001b[0;34m\u001b[0m\u001b[0;34m\u001b[0m\u001b[0m\n\u001b[0m\u001b[1;32m      6\u001b[0m \u001b[0mplt\u001b[0m\u001b[0;34m.\u001b[0m\u001b[0mlegend\u001b[0m\u001b[0;34m(\u001b[0m\u001b[0mhandles\u001b[0m\u001b[0;34m=\u001b[0m\u001b[0;34m[\u001b[0m\u001b[0mblue_patch\u001b[0m\u001b[0;34m,\u001b[0m\u001b[0;34m]\u001b[0m\u001b[0;34m)\u001b[0m\u001b[0;34m\u001b[0m\u001b[0;34m\u001b[0m\u001b[0m\n\u001b[1;32m      7\u001b[0m \u001b[0;34m\u001b[0m\u001b[0m\n",
      "\u001b[0;31mNameError\u001b[0m: name 'mpatches' is not defined"
     ]
    },
    {
     "data": {
      "image/png": "[encoded data removed]",
      "text/plain": [
       "<Figure size 1080x720 with 1 Axes>"
      ]
     },
     "metadata": {
      "needs_background": "light"
     },
     "output_type": "display_data"
    }
   ],
   "source": [
    "# plot time series\n",
    "TempMeanC['tasmaxC'].plot.line('o-',color='blue',figsize=(15,10))\n",
    "\n",
    "# add colour reference\n",
    "blue_patch = mpatches.Patch(color='blue', label='Temperature Maximale')\n",
    "plt.legend(handles=[blue_patch,])\n",
    "\n",
    "# add titles\n",
    "plt.x('Date')\n",
    "plt.ylabel('Temperature (C)')\n",
    "plt.title('Temperature Maximale')\n"
   ]
  },
  {
   "cell_type": "code",
   "execution_count": 51,
   "metadata": {},
   "outputs": [
    {
     "data": {
      "text/html": [
       "<pre>&lt;xarray.IndexVariable &#x27;lon&#x27; (lon: 1064)&gt;\n",
       "array([-141.04314, -140.9598 , -140.87646, ...,  -52.63   ,  -52.54667,\n",
       "        -52.46334], dtype=float32)\n",
       "Attributes:\n",
       "    axis:           X\n",
       "    units:          degrees_east\n",
       "    long_name:      longitude\n",
       "    standard_name:  longitude</pre>"
      ],
      "text/plain": [
       "<xarray.IndexVariable 'lon' (lon: 1064)>\n",
       "array([-141.04314, -140.9598 , -140.87646, ...,  -52.63   ,  -52.54667,\n",
       "        -52.46334], dtype=float32)\n",
       "Attributes:\n",
       "    axis:           X\n",
       "    units:          degrees_east\n",
       "    long_name:      longitude\n",
       "    standard_name:  longitude"
      ]
     },
     "execution_count": 51,
     "metadata": {},
     "output_type": "execute_result"
    }
   ],
   "source": [
    "lon = tempMax.variables['lon'][:]\n",
    "lon"
   ]
  },
  {
   "cell_type": "code",
   "execution_count": 52,
   "metadata": {},
   "outputs": [
    {
     "data": {
      "text/html": [
       "<pre>&lt;xarray.IndexVariable &#x27;lat&#x27; (lat: 700)&gt;\n",
       "array([83.28931, 83.20598, 83.12265, ..., 25.2083 , 25.12497, 25.04164],\n",
       "      dtype=float32)\n",
       "Attributes:\n",
       "    axis:           Y\n",
       "    units:          degrees_north\n",
       "    long_name:      latitude\n",
       "    standard_name:  latitude</pre>"
      ],
      "text/plain": [
       "<xarray.IndexVariable 'lat' (lat: 700)>\n",
       "array([83.28931, 83.20598, 83.12265, ..., 25.2083 , 25.12497, 25.04164],\n",
       "      dtype=float32)\n",
       "Attributes:\n",
       "    axis:           Y\n",
       "    units:          degrees_north\n",
       "    long_name:      latitude\n",
       "    standard_name:  latitude"
      ]
     },
     "execution_count": 52,
     "metadata": {},
     "output_type": "execute_result"
    }
   ],
   "source": [
    "lat = tempMax.variables['lat'][:]\n",
    "lat"
   ]
  },
  {
   "cell_type": "code",
   "execution_count": 53,
   "metadata": {},
   "outputs": [
    {
     "data": {
      "text/html": [
       "<pre>&lt;xarray.IndexVariable &#x27;time&#x27; (time: 365)&gt;\n",
       "array([cftime.DatetimeNoLeap(1956-01-01 00:00:00),\n",
       "       cftime.DatetimeNoLeap(1956-01-02 00:00:00),\n",
       "       cftime.DatetimeNoLeap(1956-01-03 00:00:00), ...,\n",
       "       cftime.DatetimeNoLeap(1956-12-29 00:00:00),\n",
       "       cftime.DatetimeNoLeap(1956-12-30 00:00:00),\n",
       "       cftime.DatetimeNoLeap(1956-12-31 00:00:00)], dtype=object)\n",
       "Attributes:\n",
       "    axis:           T\n",
       "    long_name:      time\n",
       "    standard_name:  time</pre>"
      ],
      "text/plain": [
       "<xarray.IndexVariable 'time' (time: 365)>\n",
       "array([cftime.DatetimeNoLeap(1956-01-01 00:00:00),\n",
       "       cftime.DatetimeNoLeap(1956-01-02 00:00:00),\n",
       "       cftime.DatetimeNoLeap(1956-01-03 00:00:00), ...,\n",
       "       cftime.DatetimeNoLeap(1956-12-29 00:00:00),\n",
       "       cftime.DatetimeNoLeap(1956-12-30 00:00:00),\n",
       "       cftime.DatetimeNoLeap(1956-12-31 00:00:00)], dtype=object)\n",
       "Attributes:\n",
       "    axis:           T\n",
       "    long_name:      time\n",
       "    standard_name:  time"
      ]
     },
     "execution_count": 53,
     "metadata": {},
     "output_type": "execute_result"
    }
   ],
   "source": [
    "tasmax = tempMax.variables['tasmax'][:]\n",
    "time = tempMax.variables['time']\n",
    "time\n"
   ]
  },
  {
   "cell_type": "code",
   "execution_count": 54,
   "metadata": {},
   "outputs": [
    {
     "data": {
      "text/html": [
       "<pre>&lt;xarray.Variable (time: 365, lat: 700, lon: 1064)&gt;\n",
       "array([[[nan, nan, ..., nan, nan],\n",
       "        [nan, nan, ..., nan, nan],\n",
       "        ...,\n",
       "        [nan, nan, ..., nan, nan],\n",
       "        [nan, nan, ..., nan, nan]],\n",
       "\n",
       "       [[nan, nan, ..., nan, nan],\n",
       "        [nan, nan, ..., nan, nan],\n",
       "        ...,\n",
       "        [nan, nan, ..., nan, nan],\n",
       "        [nan, nan, ..., nan, nan]],\n",
       "\n",
       "       ...,\n",
       "\n",
       "       [[nan, nan, ..., nan, nan],\n",
       "        [nan, nan, ..., nan, nan],\n",
       "        ...,\n",
       "        [nan, nan, ..., nan, nan],\n",
       "        [nan, nan, ..., nan, nan]],\n",
       "\n",
       "       [[nan, nan, ..., nan, nan],\n",
       "        [nan, nan, ..., nan, nan],\n",
       "        ...,\n",
       "        [nan, nan, ..., nan, nan],\n",
       "        [nan, nan, ..., nan, nan]]], dtype=float32)\n",
       "Attributes:\n",
       "    units:          K\n",
       "    long_name:      air_temperature\n",
       "    standard_name:  air_temperature</pre>"
      ],
      "text/plain": [
       "<xarray.Variable (time: 365, lat: 700, lon: 1064)>\n",
       "array([[[nan, nan, ..., nan, nan],\n",
       "        [nan, nan, ..., nan, nan],\n",
       "        ...,\n",
       "        [nan, nan, ..., nan, nan],\n",
       "        [nan, nan, ..., nan, nan]],\n",
       "\n",
       "       [[nan, nan, ..., nan, nan],\n",
       "        [nan, nan, ..., nan, nan],\n",
       "        ...,\n",
       "        [nan, nan, ..., nan, nan],\n",
       "        [nan, nan, ..., nan, nan]],\n",
       "\n",
       "       ...,\n",
       "\n",
       "       [[nan, nan, ..., nan, nan],\n",
       "        [nan, nan, ..., nan, nan],\n",
       "        ...,\n",
       "        [nan, nan, ..., nan, nan],\n",
       "        [nan, nan, ..., nan, nan]],\n",
       "\n",
       "       [[nan, nan, ..., nan, nan],\n",
       "        [nan, nan, ..., nan, nan],\n",
       "        ...,\n",
       "        [nan, nan, ..., nan, nan],\n",
       "        [nan, nan, ..., nan, nan]]], dtype=float32)\n",
       "Attributes:\n",
       "    units:          K\n",
       "    long_name:      air_temperature\n",
       "    standard_name:  air_temperature"
      ]
     },
     "execution_count": 54,
     "metadata": {},
     "output_type": "execute_result"
    }
   ],
   "source": [
    "tasmax"
   ]
  },
  {
   "cell_type": "code",
   "execution_count": 6,
   "metadata": {},
   "outputs": [
    {
     "data": {
      "text/plain": [
       "Frozen({'ts': <xarray.IndexVariable 'ts' (ts: 3)>\n",
       "array([nan, nan, nan], dtype=float32), 'time': <xarray.IndexVariable 'time' (time: 365)>\n",
       "array([cftime.DatetimeNoLeap(1956-01-01 00:00:00),\n",
       "       cftime.DatetimeNoLeap(1956-01-02 00:00:00),\n",
       "       cftime.DatetimeNoLeap(1956-01-03 00:00:00), ...,\n",
       "       cftime.DatetimeNoLeap(1956-12-29 00:00:00),\n",
       "       cftime.DatetimeNoLeap(1956-12-30 00:00:00),\n",
       "       cftime.DatetimeNoLeap(1956-12-31 00:00:00)], dtype=object)\n",
       "Attributes:\n",
       "    axis:           T\n",
       "    long_name:      time\n",
       "    standard_name:  time, 'time_vectors': <xarray.Variable (time: 365, ts: 3)>\n",
       "array([[1956,    1,    1],\n",
       "       [1956,    1,    2],\n",
       "       [1956,    1,    3],\n",
       "       ...,\n",
       "       [1956,   12,   29],\n",
       "       [1956,   12,   30],\n",
       "       [1956,   12,   31]], dtype=int32), 'lat': <xarray.IndexVariable 'lat' (lat: 700)>\n",
       "array([83.28931, 83.20598, 83.12265, ..., 25.2083 , 25.12497, 25.04164],\n",
       "      dtype=float32)\n",
       "Attributes:\n",
       "    axis:           Y\n",
       "    units:          degrees_north\n",
       "    long_name:      latitude\n",
       "    standard_name:  latitude, 'lon': <xarray.IndexVariable 'lon' (lon: 1064)>\n",
       "array([-141.04314, -140.9598 , -140.87646, ...,  -52.63   ,  -52.54667,\n",
       "        -52.46334], dtype=float32)\n",
       "Attributes:\n",
       "    axis:           X\n",
       "    units:          degrees_east\n",
       "    long_name:      longitude\n",
       "    standard_name:  longitude, 'tasmax': <xarray.Variable (time: 365, lat: 700, lon: 1064)>\n",
       "[271852000 values with dtype=float32]\n",
       "Attributes:\n",
       "    units:          K\n",
       "    long_name:      air_temperature\n",
       "    standard_name:  air_temperature})"
      ]
     },
     "execution_count": 6,
     "metadata": {},
     "output_type": "execute_result"
    }
   ],
   "source": [
    "tempMax.variables"
   ]
  },
  {
   "cell_type": "code",
   "execution_count": 7,
   "metadata": {},
   "outputs": [
    {
     "data": {
      "text/plain": [
       "<bound method Mapping.values of <xarray.Dataset>\n",
       "Dimensions:       (lat: 700, lon: 1064, time: 365, ts: 3)\n",
       "Coordinates:\n",
       "  * ts            (ts) float32 nan nan nan\n",
       "  * time          (time) object 1956-01-01 00:00:00 ... 1956-12-31 00:00:00\n",
       "  * lat           (lat) float32 83.28931 83.20598 83.12265 ... 25.12497 25.04164\n",
       "  * lon           (lon) float32 -141.04314 -140.9598 ... -52.54667 -52.46334\n",
       "Data variables:\n",
       "    time_vectors  (time, ts) int32 1956 1 1 1956 1 2 ... 1956 12 30 1956 12 31\n",
       "    tasmax        (time, lat, lon) float32 ...\n",
       "Attributes:\n",
       "    Conventions:     CF-1.5\n",
       "    title:           BNU-ESM model output prepared for CMIP5 historical\n",
       "    history:         2012-03-12T06:02:50Z CMOR rewrote data to comply with CF...\n",
       "    institution:     GCESS,BNU,Beijing,China\n",
       "    source:          BNU-ESM\\n30-day moving window 50-bins quantile mapping w...\n",
       "    redistribution:  Redistribution prohibited. For internal use only.>"
      ]
     },
     "execution_count": 7,
     "metadata": {},
     "output_type": "execute_result"
    }
   ],
   "source": [
    "tempMax.values "
   ]
  },
  {
   "cell_type": "code",
   "execution_count": 8,
   "metadata": {},
   "outputs": [
    {
     "data": {
      "text/plain": [
       "Frozen(SortedKeysDict({'ts': 3, 'time': 365, 'lat': 700, 'lon': 1064}))"
      ]
     },
     "execution_count": 8,
     "metadata": {},
     "output_type": "execute_result"
    }
   ],
   "source": [
    "tempMax.dims"
   ]
  },
  {
   "cell_type": "code",
   "execution_count": 9,
   "metadata": {},
   "outputs": [
    {
     "data": {
      "text/plain": [
       "Coordinates:\n",
       "  * ts       (ts) float32 nan nan nan\n",
       "  * time     (time) object 1956-01-01 00:00:00 ... 1956-12-31 00:00:00\n",
       "  * lat      (lat) float32 83.28931 83.20598 83.12265 ... 25.12497 25.04164\n",
       "  * lon      (lon) float32 -141.04314 -140.9598 ... -52.54667 -52.46334"
      ]
     },
     "execution_count": 9,
     "metadata": {},
     "output_type": "execute_result"
    }
   ],
   "source": [
    "tempMax.coords"
   ]
  },
  {
   "cell_type": "code",
   "execution_count": 10,
   "metadata": {},
   "outputs": [
    {
     "data": {
      "text/plain": [
       "{'Conventions': 'CF-1.5',\n",
       " 'title': 'BNU-ESM model output prepared for CMIP5 historical',\n",
       " 'history': '2012-03-12T06:02:50Z CMOR rewrote data to comply with CF standards and CMIP5 requirements.\\n2016-01-18T22:18:22: Interpolate to nrcan_livneh grid.\\n2016-02-10T09:50:01: Bias correction using nrcan_livneh.',\n",
       " 'institution': 'GCESS,BNU,Beijing,China',\n",
       " 'source': 'BNU-ESM\\n30-day moving window 50-bins quantile mapping with detrending.',\n",
       " 'redistribution': 'Redistribution prohibited. For internal use only.'}"
      ]
     },
     "execution_count": 10,
     "metadata": {},
     "output_type": "execute_result"
    }
   ],
   "source": [
    "tempMax.attrs"
   ]
  },
  {
   "cell_type": "code",
   "execution_count": 13,
   "metadata": {},
   "outputs": [],
   "source": [
    "# Extract Temperature \n",
    "# Select nearest\n",
    "# Drop NaN, convert to Celcius\n",
    "da = tempMax.tasmax.sel(method='nearest').dropna(dim='time') - 273.15  # or .ffill(dim='time')"
   ]
  },
  {
   "cell_type": "code",
   "execution_count": 14,
   "metadata": {},
   "outputs": [
    {
     "data": {
      "text/html": [
       "<pre>&lt;xarray.DataArray &#x27;tasmax&#x27; (time: 0, lat: 700, lon: 1064)&gt;\n",
       "array([], shape=(0, 700, 1064), dtype=float32)\n",
       "Coordinates:\n",
       "  * time     (time) object \n",
       "  * lat      (lat) float32 83.28931 83.20598 83.12265 ... 25.12497 25.04164\n",
       "  * lon      (lon) float32 -141.04314 -140.9598 ... -52.54667 -52.46334</pre>"
      ],
      "text/plain": [
       "<xarray.DataArray 'tasmax' (time: 0, lat: 700, lon: 1064)>\n",
       "array([], shape=(0, 700, 1064), dtype=float32)\n",
       "Coordinates:\n",
       "  * time     (time) object \n",
       "  * lat      (lat) float32 83.28931 83.20598 83.12265 ... 25.12497 25.04164\n",
       "  * lon      (lon) float32 -141.04314 -140.9598 ... -52.54667 -52.46334"
      ]
     },
     "execution_count": 14,
     "metadata": {},
     "output_type": "execute_result"
    }
   ],
   "source": [
    "da"
   ]
  },
  {
   "cell_type": "code",
   "execution_count": 20,
   "metadata": {},
   "outputs": [
    {
     "data": {
      "text/html": [
       "<pre>&lt;xarray.DataArray &#x27;tasmax&#x27; (time: 365, lat: 700, lon: 1064)&gt;\n",
       "array([[[nan, nan, ..., nan, nan],\n",
       "        [nan, nan, ..., nan, nan],\n",
       "        ...,\n",
       "        [nan, nan, ..., nan, nan],\n",
       "        [nan, nan, ..., nan, nan]],\n",
       "\n",
       "       [[nan, nan, ..., nan, nan],\n",
       "        [nan, nan, ..., nan, nan],\n",
       "        ...,\n",
       "        [nan, nan, ..., nan, nan],\n",
       "        [nan, nan, ..., nan, nan]],\n",
       "\n",
       "       ...,\n",
       "\n",
       "       [[nan, nan, ..., nan, nan],\n",
       "        [nan, nan, ..., nan, nan],\n",
       "        ...,\n",
       "        [nan, nan, ..., nan, nan],\n",
       "        [nan, nan, ..., nan, nan]],\n",
       "\n",
       "       [[nan, nan, ..., nan, nan],\n",
       "        [nan, nan, ..., nan, nan],\n",
       "        ...,\n",
       "        [nan, nan, ..., nan, nan],\n",
       "        [nan, nan, ..., nan, nan]]], dtype=float32)\n",
       "Coordinates:\n",
       "  * time     (time) object 1956-01-01 00:00:00 ... 1956-12-31 00:00:00\n",
       "  * lat      (lat) float32 83.28931 83.20598 83.12265 ... 25.12497 25.04164\n",
       "  * lon      (lon) float32 -141.04314 -140.9598 ... -52.54667 -52.46334</pre>"
      ],
      "text/plain": [
       "<xarray.DataArray 'tasmax' (time: 365, lat: 700, lon: 1064)>\n",
       "array([[[nan, nan, ..., nan, nan],\n",
       "        [nan, nan, ..., nan, nan],\n",
       "        ...,\n",
       "        [nan, nan, ..., nan, nan],\n",
       "        [nan, nan, ..., nan, nan]],\n",
       "\n",
       "       [[nan, nan, ..., nan, nan],\n",
       "        [nan, nan, ..., nan, nan],\n",
       "        ...,\n",
       "        [nan, nan, ..., nan, nan],\n",
       "        [nan, nan, ..., nan, nan]],\n",
       "\n",
       "       ...,\n",
       "\n",
       "       [[nan, nan, ..., nan, nan],\n",
       "        [nan, nan, ..., nan, nan],\n",
       "        ...,\n",
       "        [nan, nan, ..., nan, nan],\n",
       "        [nan, nan, ..., nan, nan]],\n",
       "\n",
       "       [[nan, nan, ..., nan, nan],\n",
       "        [nan, nan, ..., nan, nan],\n",
       "        ...,\n",
       "        [nan, nan, ..., nan, nan],\n",
       "        [nan, nan, ..., nan, nan]]], dtype=float32)\n",
       "Coordinates:\n",
       "  * time     (time) object 1956-01-01 00:00:00 ... 1956-12-31 00:00:00\n",
       "  * lat      (lat) float32 83.28931 83.20598 83.12265 ... 25.12497 25.04164\n",
       "  * lon      (lon) float32 -141.04314 -140.9598 ... -52.54667 -52.46334"
      ]
     },
     "execution_count": 20,
     "metadata": {},
     "output_type": "execute_result"
    }
   ],
   "source": [
    "da1 = tempMax.tasmax.sel(time=slice('1956-01-01', '1956-12-31')) - 273.15 \n",
    "da1"
   ]
  },
  {
   "cell_type": "code",
   "execution_count": 32,
   "metadata": {},
   "outputs": [
    {
     "data": {
      "text/html": [
       "<pre>&lt;xarray.DataArray &#x27;tasmax&#x27; (time: 365, lat: 700, lon: 1064)&gt;\n",
       "array([[[nan, nan, ..., nan, nan],\n",
       "        [nan, nan, ..., nan, nan],\n",
       "        ...,\n",
       "        [nan, nan, ..., nan, nan],\n",
       "        [nan, nan, ..., nan, nan]],\n",
       "\n",
       "       [[nan, nan, ..., nan, nan],\n",
       "        [nan, nan, ..., nan, nan],\n",
       "        ...,\n",
       "        [nan, nan, ..., nan, nan],\n",
       "        [nan, nan, ..., nan, nan]],\n",
       "\n",
       "       ...,\n",
       "\n",
       "       [[nan, nan, ..., nan, nan],\n",
       "        [nan, nan, ..., nan, nan],\n",
       "        ...,\n",
       "        [nan, nan, ..., nan, nan],\n",
       "        [nan, nan, ..., nan, nan]],\n",
       "\n",
       "       [[nan, nan, ..., nan, nan],\n",
       "        [nan, nan, ..., nan, nan],\n",
       "        ...,\n",
       "        [nan, nan, ..., nan, nan],\n",
       "        [nan, nan, ..., nan, nan]]], dtype=float32)\n",
       "Coordinates:\n",
       "  * time     (time) object 1956-01-01 00:00:00 ... 1956-12-31 00:00:00\n",
       "  * lat      (lat) float32 83.28931 83.20598 83.12265 ... 25.12497 25.04164\n",
       "  * lon      (lon) float32 -141.04314 -140.9598 ... -52.54667 -52.46334</pre>"
      ],
      "text/plain": [
       "<xarray.DataArray 'tasmax' (time: 365, lat: 700, lon: 1064)>\n",
       "array([[[nan, nan, ..., nan, nan],\n",
       "        [nan, nan, ..., nan, nan],\n",
       "        ...,\n",
       "        [nan, nan, ..., nan, nan],\n",
       "        [nan, nan, ..., nan, nan]],\n",
       "\n",
       "       [[nan, nan, ..., nan, nan],\n",
       "        [nan, nan, ..., nan, nan],\n",
       "        ...,\n",
       "        [nan, nan, ..., nan, nan],\n",
       "        [nan, nan, ..., nan, nan]],\n",
       "\n",
       "       ...,\n",
       "\n",
       "       [[nan, nan, ..., nan, nan],\n",
       "        [nan, nan, ..., nan, nan],\n",
       "        ...,\n",
       "        [nan, nan, ..., nan, nan],\n",
       "        [nan, nan, ..., nan, nan]],\n",
       "\n",
       "       [[nan, nan, ..., nan, nan],\n",
       "        [nan, nan, ..., nan, nan],\n",
       "        ...,\n",
       "        [nan, nan, ..., nan, nan],\n",
       "        [nan, nan, ..., nan, nan]]], dtype=float32)\n",
       "Coordinates:\n",
       "  * time     (time) object 1956-01-01 00:00:00 ... 1956-12-31 00:00:00\n",
       "  * lat      (lat) float32 83.28931 83.20598 83.12265 ... 25.12497 25.04164\n",
       "  * lon      (lon) float32 -141.04314 -140.9598 ... -52.54667 -52.46334"
      ]
     },
     "execution_count": 32,
     "metadata": {},
     "output_type": "execute_result"
    }
   ],
   "source": [
    "da1."
   ]
  },
  {
   "cell_type": "code",
   "execution_count": 33,
   "metadata": {},
   "outputs": [
    {
     "data": {
      "image/png": "[encoded data removed]",
      "text/plain": [
       "<Figure size 432x288 with 1 Axes>"
      ]
     },
     "metadata": {
      "needs_background": "light"
     },
     "output_type": "display_data"
    }
   ],
   "source": [
    "da1.plot()\n",
    "plt.show()"
   ]
  },
  {
   "cell_type": "code",
   "execution_count": 34,
   "metadata": {},
   "outputs": [
    {
     "data": {
      "text/plain": [
       "<bound method Mapping.values of <xarray.Dataset>\n",
       "Dimensions:       (lat: 700, lon: 1064, time: 365, ts: 3)\n",
       "Coordinates:\n",
       "  * ts            (ts) float32 nan nan nan\n",
       "  * time          (time) object 1956-01-01 00:00:00 ... 1956-12-31 00:00:00\n",
       "  * lat           (lat) float32 83.28931 83.20598 83.12265 ... 25.12497 25.04164\n",
       "  * lon           (lon) float32 -141.04314 -140.9598 ... -52.54667 -52.46334\n",
       "Data variables:\n",
       "    time_vectors  (time, ts) int32 1956 1 1 1956 1 2 ... 1956 12 30 1956 12 31\n",
       "    tasmax        (time, lat, lon) float32 ...\n",
       "Attributes:\n",
       "    Conventions:     CF-1.5\n",
       "    title:           BNU-ESM model output prepared for CMIP5 historical\n",
       "    history:         2012-03-12T06:02:50Z CMOR rewrote data to comply with CF...\n",
       "    institution:     GCESS,BNU,Beijing,China\n",
       "    source:          BNU-ESM\\n30-day moving window 50-bins quantile mapping w...\n",
       "    redistribution:  Redistribution prohibited. For internal use only.>"
      ]
     },
     "execution_count": 34,
     "metadata": {},
     "output_type": "execute_result"
    }
   ],
   "source": [
    "da_numpy = tempMax.values\n",
    "da_numpy"
   ]
  },
  {
   "cell_type": "code",
   "execution_count": 19,
   "metadata": {},
   "outputs": [],
   "source": []
  }
 ],
 "metadata": {
  "kernelspec": {
   "display_name": "Python 3",
   "language": "python",
   "name": "python3"
  },
  "language_info": {
   "codemirror_mode": {
    "name": "ipython",
    "version": 3
   },
   "file_extension": ".py",
   "mimetype": "text/x-python",
   "name": "python",
   "nbconvert_exporter": "python",
   "pygments_lexer": "ipython3",
   "version": "3.7.3"
  }
 },
 "nbformat": 4,
 "nbformat_minor": 2
}

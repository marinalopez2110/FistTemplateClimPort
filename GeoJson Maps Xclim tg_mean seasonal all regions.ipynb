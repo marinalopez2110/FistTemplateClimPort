{
 "cells": [
  {
   "cell_type": "code",
   "execution_count": 1,
   "metadata": {},
   "outputs": [],
   "source": [
    "%load_ext autoreload\n",
    "%autoreload 2\n",
    "import xarray as xr\n",
    "import matplotlib.pyplot as plt\n",
    "import pandas as pd\n",
    "import processing_netcdf as pcdf\n",
    "import geopandas as gpd\n",
    "from geopandas import GeoDataFrame\n",
    "import shapely.geometry \n",
    "import numpy as np\n",
    "from shapely import geometry as gmty\n",
    "from geofeather import to_geofeather, from_geofeather\n",
    "import glob\n",
    "import os\n",
    "import pyarrow\n",
    "from xclim import ensembles as ens\n",
    "from xclim import subset\n",
    "import matplotlib.pyplot as plt"
   ]
  },
  {
   "cell_type": "code",
   "execution_count": 2,
   "metadata": {},
   "outputs": [],
   "source": [
    "folder = \"/scen3/scenario/netcdf/ouranos/portraits-clim-2.0/\""
   ]
  },
  {
   "cell_type": "markdown",
   "metadata": {},
   "source": [
    "# Select variable"
   ]
  },
  {
   "cell_type": "code",
   "execution_count": 3,
   "metadata": {},
   "outputs": [
    {
     "data": {
      "text/plain": [
       "['/scen3/scenario/netcdf/ouranos/portraits-clim-2.0/ACCESS1-3_rcp45_tg_mean_seasonal.nc',\n",
       " '/scen3/scenario/netcdf/ouranos/portraits-clim-2.0/BNU-ESM_rcp45_tg_mean_seasonal.nc',\n",
       " '/scen3/scenario/netcdf/ouranos/portraits-clim-2.0/CanESM2_rcp45_tg_mean_seasonal.nc',\n",
       " '/scen3/scenario/netcdf/ouranos/portraits-clim-2.0/CMCC-CMS_rcp45_tg_mean_seasonal.nc',\n",
       " '/scen3/scenario/netcdf/ouranos/portraits-clim-2.0/GFDL-ESM2M_rcp45_tg_mean_seasonal.nc',\n",
       " '/scen3/scenario/netcdf/ouranos/portraits-clim-2.0/HadGEM2-CC_rcp45_tg_mean_seasonal.nc',\n",
       " '/scen3/scenario/netcdf/ouranos/portraits-clim-2.0/INM-CM4_rcp45_tg_mean_seasonal.nc',\n",
       " '/scen3/scenario/netcdf/ouranos/portraits-clim-2.0/IPSL-CM5A-LR_rcp45_tg_mean_seasonal.nc',\n",
       " '/scen3/scenario/netcdf/ouranos/portraits-clim-2.0/IPSL-CM5B-LR_rcp45_tg_mean_seasonal.nc',\n",
       " '/scen3/scenario/netcdf/ouranos/portraits-clim-2.0/MPI-ESM-LR_rcp45_tg_mean_seasonal.nc',\n",
       " '/scen3/scenario/netcdf/ouranos/portraits-clim-2.0/NorESM1-M_rcp45_tg_mean_seasonal.nc']"
      ]
     },
     "execution_count": 3,
     "metadata": {},
     "output_type": "execute_result"
    }
   ],
   "source": [
    "#Variable \n",
    "variable85=\"rcp85_tg_mean_seasonal\"\n",
    "variable45=\"rcp45_tg_mean_seasonal\"\n",
    "#variable=\"rcp[48]5_tg_mean_annual\"\n",
    "\n",
    "files85 = glob.glob(folder+\"*\"+variable85+\".nc\")\n",
    "files45 = glob.glob(folder+\"*\"+variable45+\".nc\")\n",
    "#ex: ACCESS1-3_rcp45_tn_mean_annual.nc\n",
    "files85\n",
    "files45"
   ]
  },
  {
   "cell_type": "markdown",
   "metadata": {},
   "source": [
    "# FOR RCP 45"
   ]
  },
  {
   "cell_type": "markdown",
   "metadata": {},
   "source": [
    "## Subsetting arrays by periods of time with Xclim"
   ]
  },
  {
   "cell_type": "code",
   "execution_count": 46,
   "metadata": {},
   "outputs": [
    {
     "name": "stdout",
     "output_type": "stream",
     "text": [
      "0\n",
      "<xarray.Dataset>\n",
      "Dimensions:      (lat: 320, lon: 416, realization: 11, time: 120)\n",
      "Coordinates:\n",
      "  * lat          (lat) float32 66.62331 66.53998 66.45665 ... 40.12437 40.04104\n",
      "  * lon          (lon) float32 -89.04521 -88.96188 ... -54.54659 -54.46326\n",
      "  * time         (time) datetime64[ns] 1981-12-01 1982-12-01 ... 2100-12-01\n",
      "  * realization  (realization) int64 0 1 2 3 4 5 6 7 8 9 10\n",
      "Data variables:\n",
      "    tg_mean      (realization, time, lat, lon) float32 dask.array<chunksize=(1, 1, 320, 416), meta=np.ndarray>\n",
      "Attributes:\n",
      "    Conventions:     CF-1.5\n",
      "    title:           ACCESS1-3 model output prepared for CMIP5 historical\n",
      "    history:         CMIP5 compliant file produced from raw ACCESS model outp...\n",
      "    institution:     CSIRO (Commonwealth Scientific and Industrial Research O...\n",
      "    source:          ACCESS1-3 2011. Atmosphere: AGCM v1.0 (N96 grid-point, 1...\n",
      "    redistribution:  Redistribution prohibited. For internal use only.\n",
      "1\n",
      "<xarray.Dataset>\n",
      "Dimensions:      (lat: 320, lon: 416, realization: 11, time: 120)\n",
      "Coordinates:\n",
      "  * lat          (lat) float32 66.62331 66.53998 66.45665 ... 40.12437 40.04104\n",
      "  * lon          (lon) float32 -89.04521 -88.96188 ... -54.54659 -54.46326\n",
      "  * time         (time) datetime64[ns] 1981-03-01 1982-03-01 ... 2100-03-01\n",
      "  * realization  (realization) int64 0 1 2 3 4 5 6 7 8 9 10\n",
      "Data variables:\n",
      "    tg_mean      (realization, time, lat, lon) float32 dask.array<chunksize=(1, 2, 320, 416), meta=np.ndarray>\n",
      "Attributes:\n",
      "    Conventions:     CF-1.5\n",
      "    title:           ACCESS1-3 model output prepared for CMIP5 historical\n",
      "    history:         CMIP5 compliant file produced from raw ACCESS model outp...\n",
      "    institution:     CSIRO (Commonwealth Scientific and Industrial Research O...\n",
      "    source:          ACCESS1-3 2011. Atmosphere: AGCM v1.0 (N96 grid-point, 1...\n",
      "    redistribution:  Redistribution prohibited. For internal use only.\n",
      "2\n",
      "<xarray.Dataset>\n",
      "Dimensions:      (lat: 320, lon: 416, realization: 11, time: 120)\n",
      "Coordinates:\n",
      "  * lat          (lat) float32 66.62331 66.53998 66.45665 ... 40.12437 40.04104\n",
      "  * lon          (lon) float32 -89.04521 -88.96188 ... -54.54659 -54.46326\n",
      "  * time         (time) datetime64[ns] 1981-06-01 1982-06-01 ... 2100-06-01\n",
      "  * realization  (realization) int64 0 1 2 3 4 5 6 7 8 9 10\n",
      "Data variables:\n",
      "    tg_mean      (realization, time, lat, lon) float32 dask.array<chunksize=(1, 1, 320, 416), meta=np.ndarray>\n",
      "Attributes:\n",
      "    Conventions:     CF-1.5\n",
      "    title:           ACCESS1-3 model output prepared for CMIP5 historical\n",
      "    history:         CMIP5 compliant file produced from raw ACCESS model outp...\n",
      "    institution:     CSIRO (Commonwealth Scientific and Industrial Research O...\n",
      "    source:          ACCESS1-3 2011. Atmosphere: AGCM v1.0 (N96 grid-point, 1...\n",
      "    redistribution:  Redistribution prohibited. For internal use only.\n",
      "3\n",
      "<xarray.Dataset>\n",
      "Dimensions:      (lat: 320, lon: 416, realization: 11, time: 120)\n",
      "Coordinates:\n",
      "  * lat          (lat) float32 66.62331 66.53998 66.45665 ... 40.12437 40.04104\n",
      "  * lon          (lon) float32 -89.04521 -88.96188 ... -54.54659 -54.46326\n",
      "  * time         (time) datetime64[ns] 1981-09-01 1982-09-01 ... 2100-09-01\n",
      "  * realization  (realization) int64 0 1 2 3 4 5 6 7 8 9 10\n",
      "Data variables:\n",
      "    tg_mean      (realization, time, lat, lon) float32 dask.array<chunksize=(1, 1, 320, 416), meta=np.ndarray>\n",
      "Attributes:\n",
      "    Conventions:     CF-1.5\n",
      "    title:           ACCESS1-3 model output prepared for CMIP5 historical\n",
      "    history:         CMIP5 compliant file produced from raw ACCESS model outp...\n",
      "    institution:     CSIRO (Commonwealth Scientific and Industrial Research O...\n",
      "    source:          ACCESS1-3 2011. Atmosphere: AGCM v1.0 (N96 grid-point, 1...\n",
      "    redistribution:  Redistribution prohibited. For internal use only.\n"
     ]
    }
   ],
   "source": [
    "dsEns45= ens.create_ensemble(files45)\n",
    "dsEns45.time.dt.season[0:4]\n",
    "# Seasonal example 30 y means\n",
    "listds = []\n",
    "i=0\n",
    "for s in dsEns45.time.dt.season[0:4]:\n",
    "    print (i)\n",
    "    tmp1 = dsEns45.sel(time=(dsEns45.time.dt.year>=1981))\n",
    "    tmp1 = tmp1.sel(time=(tmp1.time.dt.season==s))\n",
    "    print(tmp1)\n",
    "    i = i+1\n",
    "    listds.append(tmp1)"
   ]
  },
  {
   "cell_type": "markdown",
   "metadata": {},
   "source": [
    "### --------First season - WINTER -  percentiles with Xclim"
   ]
  },
  {
   "cell_type": "code",
   "execution_count": 7,
   "metadata": {},
   "outputs": [],
   "source": [
    "ds1 = listds[0]\n",
    "perc45 = ens.ensemble_percentiles(ds1)\n",
    "perc45"
   ]
  },
  {
   "cell_type": "markdown",
   "metadata": {},
   "source": [
    "### Transform into dataframe"
   ]
  },
  {
   "cell_type": "code",
   "execution_count": 22,
   "metadata": {},
   "outputs": [],
   "source": [
    "df45 = perc45.to_dataframe()\n",
    "df452 = df.reset_index()\n",
    "df453 = df2.loc[df2[\"realization\"] == 0].dropna()"
   ]
  },
  {
   "cell_type": "code",
   "execution_count": 49,
   "metadata": {},
   "outputs": [],
   "source": [
    "#df453"
   ]
  },
  {
   "cell_type": "code",
   "execution_count": 31,
   "metadata": {},
   "outputs": [],
   "source": [
    "#df453.time.unique()"
   ]
  },
  {
   "cell_type": "markdown",
   "metadata": {},
   "source": [
    "### Split by year periods"
   ]
  },
  {
   "cell_type": "code",
   "execution_count": 25,
   "metadata": {},
   "outputs": [
    {
     "name": "stdout",
     "output_type": "stream",
     "text": [
      "CPU times: user 2.01 s, sys: 2.41 s, total: 4.42 s\n",
      "Wall time: 4.42 s\n"
     ]
    }
   ],
   "source": [
    "year_groups = {y:0 for y in range(1980,2011)}\n",
    "year_groups.update({y:1 for y in range(2041,2071)})\n",
    "year_groups.update({y:2 for y in range(2071,2101)})\n",
    "dfp = df453.groupby([df453.time.dt.year.map(year_groups), \"lat\",\"lon\", \"realization\"]).mean()\n",
    "dfp452 =  dfp.reset_index()"
   ]
  },
  {
   "cell_type": "code",
   "execution_count": 48,
   "metadata": {},
   "outputs": [],
   "source": [
    "#dfp452"
   ]
  },
  {
   "cell_type": "markdown",
   "metadata": {},
   "source": [
    "### Transform in Celsius and round"
   ]
  },
  {
   "cell_type": "code",
   "execution_count": 47,
   "metadata": {},
   "outputs": [],
   "source": [
    "df45C = dfp452.copy()\n",
    "df45C[\"tg_mean_p10\"] = round(df45C[\"tg_mean_p10\"] -273.15,2)\n",
    "df45C[\"tg_mean_p50\"] = round(df45C[\"tg_mean_p50\"] -273.15,2)\n",
    "df45C[\"tg_mean_p90\"] = round(df45C[\"tg_mean_p90\"] -273.15,2)\n",
    "#df45C"
   ]
  },
  {
   "cell_type": "markdown",
   "metadata": {},
   "source": [
    "### Pivot Table and Create new columns "
   ]
  },
  {
   "cell_type": "code",
   "execution_count": 50,
   "metadata": {},
   "outputs": [],
   "source": [
    "Region1i45 = df45C.drop(columns=[\"realization\"])\n",
    "#Region1i45"
   ]
  },
  {
   "cell_type": "markdown",
   "metadata": {},
   "source": [
    "## New columns and rename"
   ]
  },
  {
   "cell_type": "code",
   "execution_count": 41,
   "metadata": {},
   "outputs": [
    {
     "data": {
      "text/html": [
       "<div>\n",
       "<style scoped>\n",
       "    .dataframe tbody tr th:only-of-type {\n",
       "        vertical-align: middle;\n",
       "    }\n",
       "\n",
       "    .dataframe tbody tr th {\n",
       "        vertical-align: top;\n",
       "    }\n",
       "\n",
       "    .dataframe thead tr th {\n",
       "        text-align: left;\n",
       "    }\n",
       "\n",
       "    .dataframe thead tr:last-of-type th {\n",
       "        text-align: right;\n",
       "    }\n",
       "</style>\n",
       "<table border=\"1\" class=\"dataframe\">\n",
       "  <thead>\n",
       "    <tr>\n",
       "      <th></th>\n",
       "      <th></th>\n",
       "      <th colspan=\"3\" halign=\"left\">tg_mean_p10</th>\n",
       "      <th colspan=\"3\" halign=\"left\">tg_mean_p50</th>\n",
       "      <th colspan=\"3\" halign=\"left\">tg_mean_p90</th>\n",
       "    </tr>\n",
       "    <tr>\n",
       "      <th></th>\n",
       "      <th>time</th>\n",
       "      <th>0.0</th>\n",
       "      <th>1.0</th>\n",
       "      <th>2.0</th>\n",
       "      <th>0.0</th>\n",
       "      <th>1.0</th>\n",
       "      <th>2.0</th>\n",
       "      <th>0.0</th>\n",
       "      <th>1.0</th>\n",
       "      <th>2.0</th>\n",
       "    </tr>\n",
       "    <tr>\n",
       "      <th>lat</th>\n",
       "      <th>lon</th>\n",
       "      <th></th>\n",
       "      <th></th>\n",
       "      <th></th>\n",
       "      <th></th>\n",
       "      <th></th>\n",
       "      <th></th>\n",
       "      <th></th>\n",
       "      <th></th>\n",
       "      <th></th>\n",
       "    </tr>\n",
       "  </thead>\n",
       "  <tbody>\n",
       "    <tr>\n",
       "      <th rowspan=\"5\" valign=\"top\">40.041039</th>\n",
       "      <th>-89.045212</th>\n",
       "      <td>-3.99</td>\n",
       "      <td>-1.56</td>\n",
       "      <td>-1.23</td>\n",
       "      <td>-1.37</td>\n",
       "      <td>0.52</td>\n",
       "      <td>0.95</td>\n",
       "      <td>0.66</td>\n",
       "      <td>2.59</td>\n",
       "      <td>3.24</td>\n",
       "    </tr>\n",
       "    <tr>\n",
       "      <th>-88.961884</th>\n",
       "      <td>-4.01</td>\n",
       "      <td>-1.58</td>\n",
       "      <td>-1.25</td>\n",
       "      <td>-1.40</td>\n",
       "      <td>0.49</td>\n",
       "      <td>0.93</td>\n",
       "      <td>0.63</td>\n",
       "      <td>2.57</td>\n",
       "      <td>3.21</td>\n",
       "    </tr>\n",
       "    <tr>\n",
       "      <th>-88.878548</th>\n",
       "      <td>-4.03</td>\n",
       "      <td>-1.59</td>\n",
       "      <td>-1.27</td>\n",
       "      <td>-1.41</td>\n",
       "      <td>0.48</td>\n",
       "      <td>0.92</td>\n",
       "      <td>0.61</td>\n",
       "      <td>2.55</td>\n",
       "      <td>3.19</td>\n",
       "    </tr>\n",
       "    <tr>\n",
       "      <th>-88.795219</th>\n",
       "      <td>-4.04</td>\n",
       "      <td>-1.61</td>\n",
       "      <td>-1.28</td>\n",
       "      <td>-1.44</td>\n",
       "      <td>0.45</td>\n",
       "      <td>0.90</td>\n",
       "      <td>0.58</td>\n",
       "      <td>2.52</td>\n",
       "      <td>3.16</td>\n",
       "    </tr>\n",
       "    <tr>\n",
       "      <th>-88.711891</th>\n",
       "      <td>-4.05</td>\n",
       "      <td>-1.60</td>\n",
       "      <td>-1.27</td>\n",
       "      <td>-1.44</td>\n",
       "      <td>0.46</td>\n",
       "      <td>0.91</td>\n",
       "      <td>0.59</td>\n",
       "      <td>2.53</td>\n",
       "      <td>3.17</td>\n",
       "    </tr>\n",
       "    <tr>\n",
       "      <th>...</th>\n",
       "      <th>...</th>\n",
       "      <td>...</td>\n",
       "      <td>...</td>\n",
       "      <td>...</td>\n",
       "      <td>...</td>\n",
       "      <td>...</td>\n",
       "      <td>...</td>\n",
       "      <td>...</td>\n",
       "      <td>...</td>\n",
       "      <td>...</td>\n",
       "    </tr>\n",
       "    <tr>\n",
       "      <th rowspan=\"5\" valign=\"top\">66.623306</th>\n",
       "      <th>-61.629639</th>\n",
       "      <td>-25.07</td>\n",
       "      <td>-20.47</td>\n",
       "      <td>-19.23</td>\n",
       "      <td>-22.20</td>\n",
       "      <td>-17.51</td>\n",
       "      <td>-16.40</td>\n",
       "      <td>-19.30</td>\n",
       "      <td>-14.07</td>\n",
       "      <td>-13.24</td>\n",
       "    </tr>\n",
       "    <tr>\n",
       "      <th>-61.546310</th>\n",
       "      <td>-25.21</td>\n",
       "      <td>-20.62</td>\n",
       "      <td>-19.40</td>\n",
       "      <td>-22.36</td>\n",
       "      <td>-17.67</td>\n",
       "      <td>-16.56</td>\n",
       "      <td>-19.47</td>\n",
       "      <td>-14.25</td>\n",
       "      <td>-13.42</td>\n",
       "    </tr>\n",
       "    <tr>\n",
       "      <th>-61.462978</th>\n",
       "      <td>-25.06</td>\n",
       "      <td>-20.46</td>\n",
       "      <td>-19.24</td>\n",
       "      <td>-22.20</td>\n",
       "      <td>-17.51</td>\n",
       "      <td>-16.40</td>\n",
       "      <td>-19.31</td>\n",
       "      <td>-14.08</td>\n",
       "      <td>-13.26</td>\n",
       "    </tr>\n",
       "    <tr>\n",
       "      <th>-61.379650</th>\n",
       "      <td>-24.98</td>\n",
       "      <td>-20.38</td>\n",
       "      <td>-19.18</td>\n",
       "      <td>-22.13</td>\n",
       "      <td>-17.44</td>\n",
       "      <td>-16.33</td>\n",
       "      <td>-19.24</td>\n",
       "      <td>-14.02</td>\n",
       "      <td>-13.19</td>\n",
       "    </tr>\n",
       "    <tr>\n",
       "      <th>-61.296322</th>\n",
       "      <td>-24.55</td>\n",
       "      <td>-19.95</td>\n",
       "      <td>-18.78</td>\n",
       "      <td>-21.72</td>\n",
       "      <td>-17.04</td>\n",
       "      <td>-15.93</td>\n",
       "      <td>-18.84</td>\n",
       "      <td>-13.64</td>\n",
       "      <td>-12.81</td>\n",
       "    </tr>\n",
       "  </tbody>\n",
       "</table>\n",
       "<p>76206 rows × 9 columns</p>\n",
       "</div>"
      ],
      "text/plain": [
       "                     tg_mean_p10               tg_mean_p50                \\\n",
       "time                         0.0    1.0    2.0         0.0    1.0    2.0   \n",
       "lat       lon                                                              \n",
       "40.041039 -89.045212       -3.99  -1.56  -1.23       -1.37   0.52   0.95   \n",
       "          -88.961884       -4.01  -1.58  -1.25       -1.40   0.49   0.93   \n",
       "          -88.878548       -4.03  -1.59  -1.27       -1.41   0.48   0.92   \n",
       "          -88.795219       -4.04  -1.61  -1.28       -1.44   0.45   0.90   \n",
       "          -88.711891       -4.05  -1.60  -1.27       -1.44   0.46   0.91   \n",
       "...                          ...    ...    ...         ...    ...    ...   \n",
       "66.623306 -61.629639      -25.07 -20.47 -19.23      -22.20 -17.51 -16.40   \n",
       "          -61.546310      -25.21 -20.62 -19.40      -22.36 -17.67 -16.56   \n",
       "          -61.462978      -25.06 -20.46 -19.24      -22.20 -17.51 -16.40   \n",
       "          -61.379650      -24.98 -20.38 -19.18      -22.13 -17.44 -16.33   \n",
       "          -61.296322      -24.55 -19.95 -18.78      -21.72 -17.04 -15.93   \n",
       "\n",
       "                     tg_mean_p90                \n",
       "time                         0.0    1.0    2.0  \n",
       "lat       lon                                   \n",
       "40.041039 -89.045212        0.66   2.59   3.24  \n",
       "          -88.961884        0.63   2.57   3.21  \n",
       "          -88.878548        0.61   2.55   3.19  \n",
       "          -88.795219        0.58   2.52   3.16  \n",
       "          -88.711891        0.59   2.53   3.17  \n",
       "...                          ...    ...    ...  \n",
       "66.623306 -61.629639      -19.30 -14.07 -13.24  \n",
       "          -61.546310      -19.47 -14.25 -13.42  \n",
       "          -61.462978      -19.31 -14.08 -13.26  \n",
       "          -61.379650      -19.24 -14.02 -13.19  \n",
       "          -61.296322      -18.84 -13.64 -12.81  \n",
       "\n",
       "[76206 rows x 9 columns]"
      ]
     },
     "execution_count": 41,
     "metadata": {},
     "output_type": "execute_result"
    }
   ],
   "source": [
    "df45f = Region1i45.pivot_table(index=[\"lat\",\"lon\"], columns=\"time\")\n",
    "print (\"DF pivoted\")\n",
    "df45f.columns = [\"winter_\"+ year + \"rcp45_p\"+p\n",
    "                     for p in [\"10\", \"50\", \"90\"]\n",
    "                     for year in [\"hist_\",\"t2050_\", \"t2080_\"]]\n",
    "print(\"Columns renamed\")\n",
    "#df45f"
   ]
  },
  {
   "cell_type": "code",
   "execution_count": 51,
   "metadata": {},
   "outputs": [
    {
     "data": {
      "text/html": [
       "<div>\n",
       "<style scoped>\n",
       "    .dataframe tbody tr th:only-of-type {\n",
       "        vertical-align: middle;\n",
       "    }\n",
       "\n",
       "    .dataframe tbody tr th {\n",
       "        vertical-align: top;\n",
       "    }\n",
       "\n",
       "    .dataframe thead th {\n",
       "        text-align: right;\n",
       "    }\n",
       "</style>\n",
       "<table border=\"1\" class=\"dataframe\">\n",
       "  <thead>\n",
       "    <tr style=\"text-align: right;\">\n",
       "      <th></th>\n",
       "      <th></th>\n",
       "      <th>winter_hist_rcp45_p10</th>\n",
       "      <th>winter_t2050_rcp45_p10</th>\n",
       "      <th>winter_t2080_rcp45_p10</th>\n",
       "      <th>winter_hist_rcp45_p50</th>\n",
       "      <th>winter_t2050_rcp45_p50</th>\n",
       "      <th>winter_t2080_rcp45_p50</th>\n",
       "      <th>winter_hist_rcp45_p90</th>\n",
       "      <th>winter_t2050_rcp45_p90</th>\n",
       "      <th>winter_t2080_rcp45_p90</th>\n",
       "    </tr>\n",
       "    <tr>\n",
       "      <th>lat</th>\n",
       "      <th>lon</th>\n",
       "      <th></th>\n",
       "      <th></th>\n",
       "      <th></th>\n",
       "      <th></th>\n",
       "      <th></th>\n",
       "      <th></th>\n",
       "      <th></th>\n",
       "      <th></th>\n",
       "      <th></th>\n",
       "    </tr>\n",
       "  </thead>\n",
       "  <tbody>\n",
       "    <tr>\n",
       "      <th rowspan=\"5\" valign=\"top\">40.041039</th>\n",
       "      <th>-89.045212</th>\n",
       "      <td>-3.99</td>\n",
       "      <td>-1.56</td>\n",
       "      <td>-1.23</td>\n",
       "      <td>-1.37</td>\n",
       "      <td>0.52</td>\n",
       "      <td>0.95</td>\n",
       "      <td>0.66</td>\n",
       "      <td>2.59</td>\n",
       "      <td>3.24</td>\n",
       "    </tr>\n",
       "    <tr>\n",
       "      <th>-88.961884</th>\n",
       "      <td>-4.01</td>\n",
       "      <td>-1.58</td>\n",
       "      <td>-1.25</td>\n",
       "      <td>-1.40</td>\n",
       "      <td>0.49</td>\n",
       "      <td>0.93</td>\n",
       "      <td>0.63</td>\n",
       "      <td>2.57</td>\n",
       "      <td>3.21</td>\n",
       "    </tr>\n",
       "    <tr>\n",
       "      <th>-88.878548</th>\n",
       "      <td>-4.03</td>\n",
       "      <td>-1.59</td>\n",
       "      <td>-1.27</td>\n",
       "      <td>-1.41</td>\n",
       "      <td>0.48</td>\n",
       "      <td>0.92</td>\n",
       "      <td>0.61</td>\n",
       "      <td>2.55</td>\n",
       "      <td>3.19</td>\n",
       "    </tr>\n",
       "    <tr>\n",
       "      <th>-88.795219</th>\n",
       "      <td>-4.04</td>\n",
       "      <td>-1.61</td>\n",
       "      <td>-1.28</td>\n",
       "      <td>-1.44</td>\n",
       "      <td>0.45</td>\n",
       "      <td>0.90</td>\n",
       "      <td>0.58</td>\n",
       "      <td>2.52</td>\n",
       "      <td>3.16</td>\n",
       "    </tr>\n",
       "    <tr>\n",
       "      <th>-88.711891</th>\n",
       "      <td>-4.05</td>\n",
       "      <td>-1.60</td>\n",
       "      <td>-1.27</td>\n",
       "      <td>-1.44</td>\n",
       "      <td>0.46</td>\n",
       "      <td>0.91</td>\n",
       "      <td>0.59</td>\n",
       "      <td>2.53</td>\n",
       "      <td>3.17</td>\n",
       "    </tr>\n",
       "    <tr>\n",
       "      <th>...</th>\n",
       "      <th>...</th>\n",
       "      <td>...</td>\n",
       "      <td>...</td>\n",
       "      <td>...</td>\n",
       "      <td>...</td>\n",
       "      <td>...</td>\n",
       "      <td>...</td>\n",
       "      <td>...</td>\n",
       "      <td>...</td>\n",
       "      <td>...</td>\n",
       "    </tr>\n",
       "    <tr>\n",
       "      <th rowspan=\"5\" valign=\"top\">66.623306</th>\n",
       "      <th>-61.629639</th>\n",
       "      <td>-25.07</td>\n",
       "      <td>-20.47</td>\n",
       "      <td>-19.23</td>\n",
       "      <td>-22.20</td>\n",
       "      <td>-17.51</td>\n",
       "      <td>-16.40</td>\n",
       "      <td>-19.30</td>\n",
       "      <td>-14.07</td>\n",
       "      <td>-13.24</td>\n",
       "    </tr>\n",
       "    <tr>\n",
       "      <th>-61.546310</th>\n",
       "      <td>-25.21</td>\n",
       "      <td>-20.62</td>\n",
       "      <td>-19.40</td>\n",
       "      <td>-22.36</td>\n",
       "      <td>-17.67</td>\n",
       "      <td>-16.56</td>\n",
       "      <td>-19.47</td>\n",
       "      <td>-14.25</td>\n",
       "      <td>-13.42</td>\n",
       "    </tr>\n",
       "    <tr>\n",
       "      <th>-61.462978</th>\n",
       "      <td>-25.06</td>\n",
       "      <td>-20.46</td>\n",
       "      <td>-19.24</td>\n",
       "      <td>-22.20</td>\n",
       "      <td>-17.51</td>\n",
       "      <td>-16.40</td>\n",
       "      <td>-19.31</td>\n",
       "      <td>-14.08</td>\n",
       "      <td>-13.26</td>\n",
       "    </tr>\n",
       "    <tr>\n",
       "      <th>-61.379650</th>\n",
       "      <td>-24.98</td>\n",
       "      <td>-20.38</td>\n",
       "      <td>-19.18</td>\n",
       "      <td>-22.13</td>\n",
       "      <td>-17.44</td>\n",
       "      <td>-16.33</td>\n",
       "      <td>-19.24</td>\n",
       "      <td>-14.02</td>\n",
       "      <td>-13.19</td>\n",
       "    </tr>\n",
       "    <tr>\n",
       "      <th>-61.296322</th>\n",
       "      <td>-24.55</td>\n",
       "      <td>-19.95</td>\n",
       "      <td>-18.78</td>\n",
       "      <td>-21.72</td>\n",
       "      <td>-17.04</td>\n",
       "      <td>-15.93</td>\n",
       "      <td>-18.84</td>\n",
       "      <td>-13.64</td>\n",
       "      <td>-12.81</td>\n",
       "    </tr>\n",
       "  </tbody>\n",
       "</table>\n",
       "<p>76206 rows × 9 columns</p>\n",
       "</div>"
      ],
      "text/plain": [
       "                      winter_hist_rcp45_p10  winter_t2050_rcp45_p10  \\\n",
       "lat       lon                                                         \n",
       "40.041039 -89.045212                  -3.99                   -1.56   \n",
       "          -88.961884                  -4.01                   -1.58   \n",
       "          -88.878548                  -4.03                   -1.59   \n",
       "          -88.795219                  -4.04                   -1.61   \n",
       "          -88.711891                  -4.05                   -1.60   \n",
       "...                                     ...                     ...   \n",
       "66.623306 -61.629639                 -25.07                  -20.47   \n",
       "          -61.546310                 -25.21                  -20.62   \n",
       "          -61.462978                 -25.06                  -20.46   \n",
       "          -61.379650                 -24.98                  -20.38   \n",
       "          -61.296322                 -24.55                  -19.95   \n",
       "\n",
       "                      winter_t2080_rcp45_p10  winter_hist_rcp45_p50  \\\n",
       "lat       lon                                                         \n",
       "40.041039 -89.045212                   -1.23                  -1.37   \n",
       "          -88.961884                   -1.25                  -1.40   \n",
       "          -88.878548                   -1.27                  -1.41   \n",
       "          -88.795219                   -1.28                  -1.44   \n",
       "          -88.711891                   -1.27                  -1.44   \n",
       "...                                      ...                    ...   \n",
       "66.623306 -61.629639                  -19.23                 -22.20   \n",
       "          -61.546310                  -19.40                 -22.36   \n",
       "          -61.462978                  -19.24                 -22.20   \n",
       "          -61.379650                  -19.18                 -22.13   \n",
       "          -61.296322                  -18.78                 -21.72   \n",
       "\n",
       "                      winter_t2050_rcp45_p50  winter_t2080_rcp45_p50  \\\n",
       "lat       lon                                                          \n",
       "40.041039 -89.045212                    0.52                    0.95   \n",
       "          -88.961884                    0.49                    0.93   \n",
       "          -88.878548                    0.48                    0.92   \n",
       "          -88.795219                    0.45                    0.90   \n",
       "          -88.711891                    0.46                    0.91   \n",
       "...                                      ...                     ...   \n",
       "66.623306 -61.629639                  -17.51                  -16.40   \n",
       "          -61.546310                  -17.67                  -16.56   \n",
       "          -61.462978                  -17.51                  -16.40   \n",
       "          -61.379650                  -17.44                  -16.33   \n",
       "          -61.296322                  -17.04                  -15.93   \n",
       "\n",
       "                      winter_hist_rcp45_p90  winter_t2050_rcp45_p90  \\\n",
       "lat       lon                                                         \n",
       "40.041039 -89.045212                   0.66                    2.59   \n",
       "          -88.961884                   0.63                    2.57   \n",
       "          -88.878548                   0.61                    2.55   \n",
       "          -88.795219                   0.58                    2.52   \n",
       "          -88.711891                   0.59                    2.53   \n",
       "...                                     ...                     ...   \n",
       "66.623306 -61.629639                 -19.30                  -14.07   \n",
       "          -61.546310                 -19.47                  -14.25   \n",
       "          -61.462978                 -19.31                  -14.08   \n",
       "          -61.379650                 -19.24                  -14.02   \n",
       "          -61.296322                 -18.84                  -13.64   \n",
       "\n",
       "                      winter_t2080_rcp45_p90  \n",
       "lat       lon                                 \n",
       "40.041039 -89.045212                    3.24  \n",
       "          -88.961884                    3.21  \n",
       "          -88.878548                    3.19  \n",
       "          -88.795219                    3.16  \n",
       "          -88.711891                    3.17  \n",
       "...                                      ...  \n",
       "66.623306 -61.629639                  -13.24  \n",
       "          -61.546310                  -13.42  \n",
       "          -61.462978                  -13.26  \n",
       "          -61.379650                  -13.19  \n",
       "          -61.296322                  -12.81  \n",
       "\n",
       "[76206 rows x 9 columns]"
      ]
     },
     "execution_count": 51,
     "metadata": {},
     "output_type": "execute_result"
    }
   ],
   "source": [
    "#df45f"
   ]
  },
  {
   "cell_type": "markdown",
   "metadata": {},
   "source": [
    "# TODO\n",
    "- Create for loop for all 4 seasons\n",
    "- Concat 4DFs info one DF by lat lon"
   ]
  },
  {
   "cell_type": "markdown",
   "metadata": {},
   "source": [
    "# FOR RCP 85"
   ]
  },
  {
   "cell_type": "markdown",
   "metadata": {},
   "source": [
    "## Subsetting arrays by periods of time and percentiles with Xclim"
   ]
  },
  {
   "cell_type": "code",
   "execution_count": null,
   "metadata": {},
   "outputs": [],
   "source": [
    "dsEns85= ens.create_ensemble(files85)\n",
    "dsEns85"
   ]
  },
  {
   "cell_type": "code",
   "execution_count": null,
   "metadata": {
    "scrolled": true
   },
   "outputs": [],
   "source": [
    "# Mapping data - 30 year means\n",
    "tmp185 = dsEns85.sel(time=(dsEns85.time.dt.year>=1981))\n",
    "window = 30\n",
    "time185 = tmp185.time[0::window]\n",
    "\n",
    "ds30yavg85 = tmp185.coarsen(time=window).mean()\n",
    "ds30yavg85['time'] = time185\n",
    "perc30yavg85 = ens.ensemble_percentiles(ds30yavg85)\n",
    "perc30yavg85 # entire grid"
   ]
  },
  {
   "cell_type": "markdown",
   "metadata": {},
   "source": [
    "## Transform into DataFrame"
   ]
  },
  {
   "cell_type": "code",
   "execution_count": null,
   "metadata": {},
   "outputs": [],
   "source": [
    "%time df85 = perc30yavg85.drop('realization').to_dataframe().dropna()\n",
    "df85"
   ]
  },
  {
   "cell_type": "markdown",
   "metadata": {},
   "source": [
    "## Transform in Celsius and round"
   ]
  },
  {
   "cell_type": "code",
   "execution_count": null,
   "metadata": {},
   "outputs": [],
   "source": [
    "df85C = df85.copy()\n",
    "df85C[\"tg_mean_p10\"] = round(df85C[\"tg_mean_p10\"] -273.15,2)\n",
    "df85C[\"tg_mean_p50\"] = round(df85C[\"tg_mean_p50\"] -273.15,2)\n",
    "df85C[\"tg_mean_p90\"] = round(df85C[\"tg_mean_p90\"] -273.15,2)\n",
    "\n",
    "df85C"
   ]
  },
  {
   "cell_type": "markdown",
   "metadata": {},
   "source": [
    "## Eliminate 2011, Pivot Table and Create new columns "
   ]
  },
  {
   "cell_type": "code",
   "execution_count": null,
   "metadata": {},
   "outputs": [],
   "source": [
    "Region1i85 = df85C.reset_index()\n",
    "print (Region1i85)\n",
    "Region1i285 = Region1i85[Region1i85.time.dt.year!= 2011]\n",
    "print (\"2011 eliminated\")\n",
    "df85f = Region1i285.pivot_table(index=[\"lat\",\"lon\"], columns=\"time\")\n",
    "print (\"DF pivoted\")\n",
    "df85f.columns = [year + \"rcp85_p\"+p\n",
    "                     for p in [\"10\", \"50\", \"90\"]\n",
    "                     for year in [\"hist_\",\"t2050_\", \"t2080_\"]]\n",
    "print(\"Columns renamed\")\n",
    "df85f"
   ]
  },
  {
   "cell_type": "markdown",
   "metadata": {},
   "source": [
    "# Merge df45 and 85"
   ]
  },
  {
   "cell_type": "code",
   "execution_count": null,
   "metadata": {},
   "outputs": [],
   "source": [
    "dftg = pd.merge(df45f, df85f, on=[\"lat\",\"lon\"])\n",
    "dftg.head()"
   ]
  },
  {
   "cell_type": "markdown",
   "metadata": {},
   "source": [
    "# Extract hist"
   ]
  },
  {
   "cell_type": "code",
   "execution_count": null,
   "metadata": {},
   "outputs": [],
   "source": [
    "dftg1 = dftg.drop(columns=[\"hist_rcp45_p10\",\"hist_rcp45_p50\", \"hist_rcp45_p90\", \"hist_rcp85_p10\", \"hist_rcp85_p50\", \"hist_rcp85_p90\"])\n",
    "dftgh = dftg[[\"hist_rcp45_p50\", \"hist_rcp85_p50\"]]"
   ]
  },
  {
   "cell_type": "code",
   "execution_count": null,
   "metadata": {},
   "outputs": [],
   "source": [
    "dftg1"
   ]
  },
  {
   "cell_type": "markdown",
   "metadata": {},
   "source": [
    "# Merge both hist_50 and get the mean"
   ]
  },
  {
   "cell_type": "code",
   "execution_count": null,
   "metadata": {},
   "outputs": [],
   "source": [
    "dftgh[\"hist_p50\"] = round((dftgh[\"hist_rcp45_p50\"]+ dftgh[\"hist_rcp85_p50\"])/2, 2)\n",
    "dftgh2 = dftgh.reset_index()"
   ]
  },
  {
   "cell_type": "code",
   "execution_count": null,
   "metadata": {},
   "outputs": [],
   "source": [
    "dftgh3 = dftgh2[[\"lat\", \"lon\", \"hist_p50\"]]\n",
    "dftgh3"
   ]
  },
  {
   "cell_type": "markdown",
   "metadata": {},
   "source": [
    "# Merge means with the 45 and 85 DF"
   ]
  },
  {
   "cell_type": "code",
   "execution_count": null,
   "metadata": {},
   "outputs": [],
   "source": [
    "dftg_all = pd.merge(dftgh3, dftg1, on=[\"lat\",\"lon\"])"
   ]
  },
  {
   "cell_type": "code",
   "execution_count": null,
   "metadata": {},
   "outputs": [],
   "source": [
    "dftg_all"
   ]
  },
  {
   "cell_type": "code",
   "execution_count": null,
   "metadata": {},
   "outputs": [],
   "source": [
    "dftg_all.to_feather(\"tg_mean_annual.feather\")"
   ]
  },
  {
   "cell_type": "code",
   "execution_count": null,
   "metadata": {},
   "outputs": [],
   "source": [
    "dftg_all = pd.read_feather(\"/home/mlopez/EXEC/Processed data to clip with regions/tg_mean_annual.feather\")"
   ]
  },
  {
   "cell_type": "code",
   "execution_count": null,
   "metadata": {},
   "outputs": [],
   "source": [
    "dftg_all "
   ]
  },
  {
   "cell_type": "markdown",
   "metadata": {},
   "source": [
    "# Merge complete DF with Polygons for each spatial scale"
   ]
  },
  {
   "cell_type": "markdown",
   "metadata": {},
   "source": [
    "## Dictionary - regioins: column name, short name"
   ]
  },
  {
   "cell_type": "code",
   "execution_count": null,
   "metadata": {},
   "outputs": [],
   "source": [
    "\"DDE_STF_20K_UA_PER_VUE_S\": (\"PER_NO_UA\", \"UA\"), \n",
    "              \"DOM_BIO\": (\"NOM\", \"DB\"), \n",
    "              \"REG_ECO\": (\"NOM\", \"RE\"), \n",
    "              \"SDOM_BIO\": (\"NOM\", \"SDB\"), \n",
    "              \"Secteurs_Operations_Regionales\": (\"D_GENERAL\", \"SOR\"), \n",
    "              \"SREG_ECO\": (\"NOM\", \"SRE\"), \n",
    "              \"territoire_guide\": (\"TER_GUIDE\", \"TG\") "
   ]
  },
  {
   "cell_type": "code",
   "execution_count": null,
   "metadata": {},
   "outputs": [],
   "source": [
    "short_dict = {\"DDE_STF_20K_REG_FOR_VUE_S\": (\"NM_REG_FOR\", \"RF\"), \n",
    "              \n",
    "              }\n",
    "\n",
    "for region, (name, short) in short_dict.items():\n",
    "    print(region, name, short)"
   ]
  },
  {
   "cell_type": "code",
   "execution_count": null,
   "metadata": {},
   "outputs": [],
   "source": [
    "def replace_all(text, dic):\n",
    "    for i, j in dic.items():\n",
    "        text = text.replace(i, j)\n",
    "    return text"
   ]
  },
  {
   "cell_type": "code",
   "execution_count": null,
   "metadata": {},
   "outputs": [],
   "source": [
    "d = { 'BAS-SAINT-LAURENT':\"Bas-Saint-Laurent\", \n",
    "     'SAGUENAY -LAC-SAINT-JEAN': \"Saguenay -Lac-Saint-Jean\",\n",
    "     'CAPITALE-NATIONALE-CHAUDIÈRE-APPALACHES':\"Capitale-Nationale-Chaudiere-Appalaches\",\n",
    "     'MAURICIE-CENTRE-DU-QUÉBEC':'Mauricie-Centre-du-Quebec','OUTAOUAIS':'Outaouais', \n",
    "     'ABITIBI-TEMISCAMINGUE':'Abitibi-Temiscamingue', 'COTE-NORD':'Cote-Nord',\n",
    "     'NORD-DU-QUEBEC':'Nord-Du-Quebec', 'GASPESIE-ILES-DE-LA-MADELEINE':'Gaspesie-Iles-De-La-Madeleine', \n",
    "     'LANAUDIERE':'Lanaudiere','LAURENTIDES':\"Laurentides\", \n",
    "     \"ESTRIE-MONTÉRÉGIE-LAVAL-MONTRÉAL\":\"Estrie-Monteregie-Laval-Montreal\", \n",
    "     \"é\": \"e\", \"É\": \"E\", \"à\": \"a\", \"è\": \"e\", \"Î\": \"i\", \"È\": \"E\", \"ô\" : \"o\", \"Ç\":\"C\", \"ç\":\"c\",\n",
    "       } "
   ]
  },
  {
   "cell_type": "code",
   "execution_count": null,
   "metadata": {},
   "outputs": [],
   "source": [
    "for region, (name, short) in short_dict.items():\n",
    "    print(region)\n",
    "    dfpolyshape = from_geofeather('/home/mlopez/EXEC/Grids-polygons-regions/Grid-'+region+'.feather')\n",
    "    dftp = pd.merge(dftg_all, dfpolyshape, on=[\"lat\",\"lon\"])\n",
    "    print (\"Merged with polygons\")\n",
    "    listTG = []\n",
    "    for tg in dftp[name].unique().tolist():\n",
    "        df2 = dftp[dftp[name] == tg]\n",
    "        print (tg)\n",
    "        if tg != None:\n",
    "            listTG.append(df2)\n",
    "        #print (listTG)\n",
    "    for df in listTG:\n",
    "        geometry = df[\"geometry\"]\n",
    "        crs = {'init': \"epsg:4326\"}\n",
    "        gdf = GeoDataFrame(df, crs=crs, geometry=geometry)\n",
    "        print (gdf[name].iloc[0])\n",
    "        #Substitute filename accents\n",
    "        gdf.to_file(replace_all(gdf[name].iloc[0], d)+\"_tg_mean_annual.json\", driver=\"GeoJSON\")\n",
    "    geometry = dftp[\"geometry\"]\n",
    "    crs = {'init': \"epsg:4326\"}\n",
    "    gdf = GeoDataFrame(dftp, crs=crs, geometry=geometry)\n",
    "    gdf.to_file(short+\"_tg_mean_annual.json\", driver=\"GeoJSON\")"
   ]
  },
  {
   "cell_type": "markdown",
   "metadata": {},
   "source": [
    "## Select and open Region (Shapefile)"
   ]
  },
  {
   "cell_type": "code",
   "execution_count": null,
   "metadata": {},
   "outputs": [],
   "source": [
    "region = \"DDE_STF_20K_REG_FOR_VUE_S\"\n",
    "             "
   ]
  },
  {
   "cell_type": "markdown",
   "metadata": {},
   "source": [
    "## Import dataframe with polygons"
   ]
  },
  {
   "cell_type": "code",
   "execution_count": null,
   "metadata": {},
   "outputs": [],
   "source": [
    "dfpolyshape = from_geofeather('/home/mlopez/EXEC/Grids-polygons-regions/Grid-'+region+'.feather')\n",
    "#dfpolyshape = from_geofeather('/home/mlopez/EXEC/Grids-polygons-regions/Grid-.feather')"
   ]
  },
  {
   "cell_type": "code",
   "execution_count": null,
   "metadata": {},
   "outputs": [],
   "source": [
    "dfpolyshape.head()"
   ]
  },
  {
   "cell_type": "code",
   "execution_count": null,
   "metadata": {},
   "outputs": [],
   "source": [
    "dftp = pd.merge(dftg_all, dfpolyshape, on=[\"lat\",\"lon\"])\n",
    "print (\"Merged with polygons\")\n",
    "dftp.head()"
   ]
  },
  {
   "cell_type": "markdown",
   "metadata": {},
   "source": [
    "## Create GeoJson Files"
   ]
  },
  {
   "cell_type": "code",
   "execution_count": null,
   "metadata": {},
   "outputs": [],
   "source": [
    "listTG = []\n",
    "for tg in dftp[name].unique().tolist():\n",
    "    df2 = dftp[dftp[name] == tg]\n",
    "    print (tg)\n",
    "    if tg != None:\n",
    "        listTG.append(df2)\n",
    "listTG"
   ]
  },
  {
   "cell_type": "code",
   "execution_count": null,
   "metadata": {},
   "outputs": [],
   "source": [
    "for tg in listTG:\n",
    "    geometry = tg[\"geometry\"]\n",
    "    crs = {'init': \"epsg:4326\"}\n",
    "    gdf = GeoDataFrame(tg, crs=crs, geometry=geometry)\n",
    "    print (gdf[name].iloc[0])\n",
    "    gdf.to_file(gdf[name].iloc[0]+\"_tg_mean_annual.json\", driver=\"GeoJSON\")"
   ]
  },
  {
   "cell_type": "markdown",
   "metadata": {},
   "source": [
    "# Create geojson file for all regions"
   ]
  },
  {
   "cell_type": "code",
   "execution_count": null,
   "metadata": {},
   "outputs": [],
   "source": [
    "geometry = dftp[\"geometry\"]\n",
    "crs = {'init': \"epsg:4326\"}\n",
    "gdf = GeoDataFrame(dftp, crs=crs, geometry=geometry)\n",
    "gdf.to_file(short+\"_tg_mean_annual.json\", driver=\"GeoJSON\")"
   ]
  },
  {
   "cell_type": "code",
   "execution_count": null,
   "metadata": {},
   "outputs": [],
   "source": []
  }
 ],
 "metadata": {
  "kernelspec": {
   "display_name": "Python 3",
   "language": "python",
   "name": "python3"
  },
  "language_info": {
   "codemirror_mode": {
    "name": "ipython",
    "version": 3
   },
   "file_extension": ".py",
   "mimetype": "text/x-python",
   "name": "python",
   "nbconvert_exporter": "python",
   "pygments_lexer": "ipython3",
   "version": "3.8.1"
  }
 },
 "nbformat": 4,
 "nbformat_minor": 4
}

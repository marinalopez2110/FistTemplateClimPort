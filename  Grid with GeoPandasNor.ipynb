{
 "cells": [
  {
   "cell_type": "code",
   "execution_count": 1,
   "metadata": {},
   "outputs": [],
   "source": [
    "%load_ext autoreload\n",
    "%autoreload 2\n",
    "import geopandas as gpd\n",
    "import xarray as xr\n",
    "import matplotlib.pyplot as plt\n",
    "import pandas as pd\n",
    "import processing_netcdf as pcdf\n",
    "import matplotlib.pyplot as plt\n",
    "from geopandas import GeoDataFrame\n",
    "import shapely.geometry \n",
    "import numpy as np\n"
   ]
  },
  {
   "cell_type": "code",
   "execution_count": 2,
   "metadata": {},
   "outputs": [],
   "source": [
    "from shapely import geometry as gmty"
   ]
  },
  {
   "cell_type": "code",
   "execution_count": 3,
   "metadata": {},
   "outputs": [],
   "source": [
    "from geofeather import to_geofeather, from_geofeather"
   ]
  },
  {
   "cell_type": "code",
   "execution_count": 4,
   "metadata": {},
   "outputs": [],
   "source": [
    "shapefile = \"/home/mlopez/EXEC/Shapefiles/territoire_guide.shp\""
   ]
  },
  {
   "cell_type": "code",
   "execution_count": 5,
   "metadata": {},
   "outputs": [],
   "source": [
    "#path for 11 models\n",
    "path = \"/home/mlopez/EXEC/Tg_annual_11_models/\""
   ]
  },
  {
   "cell_type": "markdown",
   "metadata": {},
   "source": [
    "# Convert all lat lon of 11 models into points "
   ]
  },
  {
   "cell_type": "code",
   "execution_count": 6,
   "metadata": {},
   "outputs": [
    {
     "name": "stdout",
     "output_type": "stream",
     "text": [
      "CPU times: user 20.8 s, sys: 1.55 s, total: 22.4 s\n",
      "Wall time: 8.31 s\n"
     ]
    }
   ],
   "source": [
    "# It takes 20s\n",
    "%time dfpoints = pcdf.data_to_points(path)"
   ]
  },
  {
   "cell_type": "code",
   "execution_count": 7,
   "metadata": {},
   "outputs": [
    {
     "data": {
      "text/html": [
       "<div>\n",
       "<style scoped>\n",
       "    .dataframe tbody tr th:only-of-type {\n",
       "        vertical-align: middle;\n",
       "    }\n",
       "\n",
       "    .dataframe tbody tr th {\n",
       "        vertical-align: top;\n",
       "    }\n",
       "\n",
       "    .dataframe thead th {\n",
       "        text-align: right;\n",
       "    }\n",
       "</style>\n",
       "<table border=\"1\" class=\"dataframe\">\n",
       "  <thead>\n",
       "    <tr style=\"text-align: right;\">\n",
       "      <th></th>\n",
       "      <th>lat</th>\n",
       "      <th>lon</th>\n",
       "      <th>geometry</th>\n",
       "    </tr>\n",
       "  </thead>\n",
       "  <tbody>\n",
       "    <tr>\n",
       "      <th>0</th>\n",
       "      <td>66.623306</td>\n",
       "      <td>-89.045212</td>\n",
       "      <td>POINT (-89.04521 66.62331)</td>\n",
       "    </tr>\n",
       "    <tr>\n",
       "      <th>1</th>\n",
       "      <td>66.623306</td>\n",
       "      <td>-88.961884</td>\n",
       "      <td>POINT (-88.96188 66.62331)</td>\n",
       "    </tr>\n",
       "    <tr>\n",
       "      <th>2</th>\n",
       "      <td>66.623306</td>\n",
       "      <td>-88.878548</td>\n",
       "      <td>POINT (-88.87855 66.62331)</td>\n",
       "    </tr>\n",
       "    <tr>\n",
       "      <th>3</th>\n",
       "      <td>66.623306</td>\n",
       "      <td>-88.795219</td>\n",
       "      <td>POINT (-88.79522 66.62331)</td>\n",
       "    </tr>\n",
       "    <tr>\n",
       "      <th>4</th>\n",
       "      <td>66.623306</td>\n",
       "      <td>-88.711891</td>\n",
       "      <td>POINT (-88.71189 66.62331)</td>\n",
       "    </tr>\n",
       "  </tbody>\n",
       "</table>\n",
       "</div>"
      ],
      "text/plain": [
       "         lat        lon                    geometry\n",
       "0  66.623306 -89.045212  POINT (-89.04521 66.62331)\n",
       "1  66.623306 -88.961884  POINT (-88.96188 66.62331)\n",
       "2  66.623306 -88.878548  POINT (-88.87855 66.62331)\n",
       "3  66.623306 -88.795219  POINT (-88.79522 66.62331)\n",
       "4  66.623306 -88.711891  POINT (-88.71189 66.62331)"
      ]
     },
     "execution_count": 7,
     "metadata": {},
     "output_type": "execute_result"
    }
   ],
   "source": [
    "dfpoints.head()"
   ]
  },
  {
   "cell_type": "markdown",
   "metadata": {},
   "source": [
    "# Create polygons"
   ]
  },
  {
   "cell_type": "code",
   "execution_count": 8,
   "metadata": {},
   "outputs": [
    {
     "name": "stdout",
     "output_type": "stream",
     "text": [
      "CPU times: user 8.51 s, sys: 336 ms, total: 8.84 s\n",
      "Wall time: 8.83 s\n"
     ]
    }
   ],
   "source": [
    "#takes 8s\n",
    "%time dfpoints.geometry  = pcdf.process_points_poly(dfpoints)"
   ]
  },
  {
   "cell_type": "code",
   "execution_count": 9,
   "metadata": {},
   "outputs": [
    {
     "data": {
      "text/html": [
       "<div>\n",
       "<style scoped>\n",
       "    .dataframe tbody tr th:only-of-type {\n",
       "        vertical-align: middle;\n",
       "    }\n",
       "\n",
       "    .dataframe tbody tr th {\n",
       "        vertical-align: top;\n",
       "    }\n",
       "\n",
       "    .dataframe thead th {\n",
       "        text-align: right;\n",
       "    }\n",
       "</style>\n",
       "<table border=\"1\" class=\"dataframe\">\n",
       "  <thead>\n",
       "    <tr style=\"text-align: right;\">\n",
       "      <th></th>\n",
       "      <th>lat</th>\n",
       "      <th>lon</th>\n",
       "      <th>geometry</th>\n",
       "    </tr>\n",
       "  </thead>\n",
       "  <tbody>\n",
       "    <tr>\n",
       "      <th>0</th>\n",
       "      <td>66.623306</td>\n",
       "      <td>-89.045212</td>\n",
       "      <td>POLYGON ((-89.08688 66.58164, -89.00355 66.581...</td>\n",
       "    </tr>\n",
       "    <tr>\n",
       "      <th>1</th>\n",
       "      <td>66.623306</td>\n",
       "      <td>-88.961884</td>\n",
       "      <td>POLYGON ((-89.00355 66.58164, -88.92022 66.581...</td>\n",
       "    </tr>\n",
       "    <tr>\n",
       "      <th>2</th>\n",
       "      <td>66.623306</td>\n",
       "      <td>-88.878548</td>\n",
       "      <td>POLYGON ((-88.92021 66.58164, -88.83688 66.581...</td>\n",
       "    </tr>\n",
       "    <tr>\n",
       "      <th>3</th>\n",
       "      <td>66.623306</td>\n",
       "      <td>-88.795219</td>\n",
       "      <td>POLYGON ((-88.83688 66.58164, -88.75356 66.581...</td>\n",
       "    </tr>\n",
       "    <tr>\n",
       "      <th>4</th>\n",
       "      <td>66.623306</td>\n",
       "      <td>-88.711891</td>\n",
       "      <td>POLYGON ((-88.75356 66.58164, -88.67023 66.581...</td>\n",
       "    </tr>\n",
       "  </tbody>\n",
       "</table>\n",
       "</div>"
      ],
      "text/plain": [
       "         lat        lon                                           geometry\n",
       "0  66.623306 -89.045212  POLYGON ((-89.08688 66.58164, -89.00355 66.581...\n",
       "1  66.623306 -88.961884  POLYGON ((-89.00355 66.58164, -88.92022 66.581...\n",
       "2  66.623306 -88.878548  POLYGON ((-88.92021 66.58164, -88.83688 66.581...\n",
       "3  66.623306 -88.795219  POLYGON ((-88.83688 66.58164, -88.75356 66.581...\n",
       "4  66.623306 -88.711891  POLYGON ((-88.75356 66.58164, -88.67023 66.581..."
      ]
     },
     "execution_count": 9,
     "metadata": {},
     "output_type": "execute_result"
    }
   ],
   "source": [
    "dfpoints.head()"
   ]
  },
  {
   "cell_type": "code",
   "execution_count": 10,
   "metadata": {},
   "outputs": [
    {
     "name": "stdout",
     "output_type": "stream",
     "text": [
      "CPU times: user 9min 23s, sys: 10.1 s, total: 9min 33s\n",
      "Wall time: 9min 7s\n"
     ]
    }
   ],
   "source": [
    "### TAKES 10 min for all the regions TG\n",
    "%time  dfpolyshape = pcdf.make_grid(dfpoints, shapefile) #10 min with overlay #1miin with sjoin"
   ]
  },
  {
   "cell_type": "code",
   "execution_count": 11,
   "metadata": {},
   "outputs": [
    {
     "data": {
      "text/html": [
       "<div>\n",
       "<style scoped>\n",
       "    .dataframe tbody tr th:only-of-type {\n",
       "        vertical-align: middle;\n",
       "    }\n",
       "\n",
       "    .dataframe tbody tr th {\n",
       "        vertical-align: top;\n",
       "    }\n",
       "\n",
       "    .dataframe thead th {\n",
       "        text-align: right;\n",
       "    }\n",
       "</style>\n",
       "<table border=\"1\" class=\"dataframe\">\n",
       "  <thead>\n",
       "    <tr style=\"text-align: right;\">\n",
       "      <th></th>\n",
       "      <th>lat</th>\n",
       "      <th>lon</th>\n",
       "      <th>TER_GUIDE</th>\n",
       "      <th>geometry</th>\n",
       "    </tr>\n",
       "  </thead>\n",
       "  <tbody>\n",
       "    <tr>\n",
       "      <th>0</th>\n",
       "      <td>52.957191</td>\n",
       "      <td>-67.712730</td>\n",
       "      <td>6opqr</td>\n",
       "      <td>POLYGON ((-67.67107 52.93424, -67.67107 52.915...</td>\n",
       "    </tr>\n",
       "    <tr>\n",
       "      <th>1</th>\n",
       "      <td>52.957191</td>\n",
       "      <td>-67.629402</td>\n",
       "      <td>6opqr</td>\n",
       "      <td>POLYGON ((-67.67107 52.91553, -67.67107 52.934...</td>\n",
       "    </tr>\n",
       "    <tr>\n",
       "      <th>2</th>\n",
       "      <td>52.957191</td>\n",
       "      <td>-67.546066</td>\n",
       "      <td>6opqr</td>\n",
       "      <td>POLYGON ((-67.56730 52.91553, -67.57974 52.915...</td>\n",
       "    </tr>\n",
       "    <tr>\n",
       "      <th>3</th>\n",
       "      <td>52.873859</td>\n",
       "      <td>-67.796059</td>\n",
       "      <td>6opqr</td>\n",
       "      <td>POLYGON ((-67.75439 52.89329, -67.75439 52.832...</td>\n",
       "    </tr>\n",
       "    <tr>\n",
       "      <th>4</th>\n",
       "      <td>52.873859</td>\n",
       "      <td>-67.712730</td>\n",
       "      <td>6opqr</td>\n",
       "      <td>POLYGON ((-67.75439 52.83219, -67.75439 52.893...</td>\n",
       "    </tr>\n",
       "  </tbody>\n",
       "</table>\n",
       "</div>"
      ],
      "text/plain": [
       "         lat        lon TER_GUIDE  \\\n",
       "0  52.957191 -67.712730     6opqr   \n",
       "1  52.957191 -67.629402     6opqr   \n",
       "2  52.957191 -67.546066     6opqr   \n",
       "3  52.873859 -67.796059     6opqr   \n",
       "4  52.873859 -67.712730     6opqr   \n",
       "\n",
       "                                            geometry  \n",
       "0  POLYGON ((-67.67107 52.93424, -67.67107 52.915...  \n",
       "1  POLYGON ((-67.67107 52.91553, -67.67107 52.934...  \n",
       "2  POLYGON ((-67.56730 52.91553, -67.57974 52.915...  \n",
       "3  POLYGON ((-67.75439 52.89329, -67.75439 52.832...  \n",
       "4  POLYGON ((-67.75439 52.83219, -67.75439 52.893...  "
      ]
     },
     "execution_count": 11,
     "metadata": {},
     "output_type": "execute_result"
    }
   ],
   "source": [
    "dfpolyshape.head()"
   ]
  },
  {
   "cell_type": "code",
   "execution_count": 12,
   "metadata": {},
   "outputs": [],
   "source": [
    "to_geofeather(dfpolyshape, 'Grid-TerritoiresGuides.feather')"
   ]
  },
  {
   "cell_type": "code",
   "execution_count": 13,
   "metadata": {},
   "outputs": [],
   "source": [
    "#For one region\n",
    "#OneA =  dfpolyshape[dfpolyshape.TER_GUIDE == \"1a\"]\n",
    "#OneA"
   ]
  },
  {
   "cell_type": "markdown",
   "metadata": {},
   "source": [
    "# Create time periods to merge grid with data"
   ]
  },
  {
   "cell_type": "code",
   "execution_count": 25,
   "metadata": {},
   "outputs": [],
   "source": [
    "# MAKE FOR HERE"
   ]
  },
  {
   "cell_type": "markdown",
   "metadata": {},
   "source": [
    "## Load data into a dataframe, convert Temperature into Celsius and get tuple of 3 periods"
   ]
  },
  {
   "cell_type": "code",
   "execution_count": 14,
   "metadata": {},
   "outputs": [
    {
     "name": "stderr",
     "output_type": "stream",
     "text": [
      "/exec/mlopez/Code/GitHub/processing_netcdf.py:24: RuntimeWarning: Converting a CFTimeIndex with dates from a non-standard calendar, 'noleap', to a pandas.DatetimeIndex, which uses dates from the standard calendar.  This may lead to subtle errors in operations that depend on the length of time between dates.\n",
      "  ds['time'] = index.to_datetimeindex()\n"
     ]
    },
    {
     "name": "stdout",
     "output_type": "stream",
     "text": [
      "CPU times: user 1min 16s, sys: 1min 39s, total: 2min 56s\n",
      "Wall time: 7.67 s\n"
     ]
    }
   ],
   "source": [
    "# Takes 1min 30 s - Creates a tuple of 3 df, each with every period\n",
    "%time Ttg_m = pcdf.dft_map_models_periods(\"/home/mlopez/EXEC/Processed Data Varibales/NorESM1-M_rcp45_tg_mean_annual.nc\", \"tg_mean\")"
   ]
  },
  {
   "cell_type": "markdown",
   "metadata": {},
   "source": [
    "## Procesing periods to merge with data"
   ]
  },
  {
   "cell_type": "markdown",
   "metadata": {},
   "source": [
    "### Historic Period"
   ]
  },
  {
   "cell_type": "code",
   "execution_count": 15,
   "metadata": {},
   "outputs": [],
   "source": [
    "dfh2 = pcdf.proc_period(Ttg_m, 0)"
   ]
  },
  {
   "cell_type": "code",
   "execution_count": 16,
   "metadata": {},
   "outputs": [
    {
     "data": {
      "text/html": [
       "<div>\n",
       "<style scoped>\n",
       "    .dataframe tbody tr th:only-of-type {\n",
       "        vertical-align: middle;\n",
       "    }\n",
       "\n",
       "    .dataframe tbody tr th {\n",
       "        vertical-align: top;\n",
       "    }\n",
       "\n",
       "    .dataframe thead th {\n",
       "        text-align: right;\n",
       "    }\n",
       "</style>\n",
       "<table border=\"1\" class=\"dataframe\">\n",
       "  <thead>\n",
       "    <tr style=\"text-align: right;\">\n",
       "      <th></th>\n",
       "      <th>index</th>\n",
       "      <th>time</th>\n",
       "      <th>lat</th>\n",
       "      <th>lon</th>\n",
       "      <th>tg_mean</th>\n",
       "    </tr>\n",
       "  </thead>\n",
       "  <tbody>\n",
       "    <tr>\n",
       "      <th>0</th>\n",
       "      <td>0</td>\n",
       "      <td>0.0</td>\n",
       "      <td>40.041039</td>\n",
       "      <td>-89.045212</td>\n",
       "      <td>11.474038</td>\n",
       "    </tr>\n",
       "    <tr>\n",
       "      <th>1</th>\n",
       "      <td>1</td>\n",
       "      <td>0.0</td>\n",
       "      <td>40.041039</td>\n",
       "      <td>-88.961884</td>\n",
       "      <td>11.452959</td>\n",
       "    </tr>\n",
       "    <tr>\n",
       "      <th>2</th>\n",
       "      <td>2</td>\n",
       "      <td>0.0</td>\n",
       "      <td>40.041039</td>\n",
       "      <td>-88.878548</td>\n",
       "      <td>11.440704</td>\n",
       "    </tr>\n",
       "    <tr>\n",
       "      <th>3</th>\n",
       "      <td>3</td>\n",
       "      <td>0.0</td>\n",
       "      <td>40.041039</td>\n",
       "      <td>-88.795219</td>\n",
       "      <td>11.419402</td>\n",
       "    </tr>\n",
       "    <tr>\n",
       "      <th>4</th>\n",
       "      <td>4</td>\n",
       "      <td>0.0</td>\n",
       "      <td>40.041039</td>\n",
       "      <td>-88.711891</td>\n",
       "      <td>11.434692</td>\n",
       "    </tr>\n",
       "    <tr>\n",
       "      <th>...</th>\n",
       "      <td>...</td>\n",
       "      <td>...</td>\n",
       "      <td>...</td>\n",
       "      <td>...</td>\n",
       "      <td>...</td>\n",
       "    </tr>\n",
       "    <tr>\n",
       "      <th>76201</th>\n",
       "      <td>76201</td>\n",
       "      <td>0.0</td>\n",
       "      <td>66.623306</td>\n",
       "      <td>-61.629639</td>\n",
       "      <td>-9.656209</td>\n",
       "    </tr>\n",
       "    <tr>\n",
       "      <th>76202</th>\n",
       "      <td>76202</td>\n",
       "      <td>0.0</td>\n",
       "      <td>66.623306</td>\n",
       "      <td>-61.546310</td>\n",
       "      <td>-9.948932</td>\n",
       "    </tr>\n",
       "    <tr>\n",
       "      <th>76203</th>\n",
       "      <td>76203</td>\n",
       "      <td>0.0</td>\n",
       "      <td>66.623306</td>\n",
       "      <td>-61.462978</td>\n",
       "      <td>-9.735876</td>\n",
       "    </tr>\n",
       "    <tr>\n",
       "      <th>76204</th>\n",
       "      <td>76204</td>\n",
       "      <td>0.0</td>\n",
       "      <td>66.623306</td>\n",
       "      <td>-61.379650</td>\n",
       "      <td>-9.655593</td>\n",
       "    </tr>\n",
       "    <tr>\n",
       "      <th>76205</th>\n",
       "      <td>76205</td>\n",
       "      <td>0.0</td>\n",
       "      <td>66.623306</td>\n",
       "      <td>-61.296322</td>\n",
       "      <td>-9.051710</td>\n",
       "    </tr>\n",
       "  </tbody>\n",
       "</table>\n",
       "<p>76206 rows × 5 columns</p>\n",
       "</div>"
      ],
      "text/plain": [
       "       index  time        lat        lon    tg_mean\n",
       "0          0   0.0  40.041039 -89.045212  11.474038\n",
       "1          1   0.0  40.041039 -88.961884  11.452959\n",
       "2          2   0.0  40.041039 -88.878548  11.440704\n",
       "3          3   0.0  40.041039 -88.795219  11.419402\n",
       "4          4   0.0  40.041039 -88.711891  11.434692\n",
       "...      ...   ...        ...        ...        ...\n",
       "76201  76201   0.0  66.623306 -61.629639  -9.656209\n",
       "76202  76202   0.0  66.623306 -61.546310  -9.948932\n",
       "76203  76203   0.0  66.623306 -61.462978  -9.735876\n",
       "76204  76204   0.0  66.623306 -61.379650  -9.655593\n",
       "76205  76205   0.0  66.623306 -61.296322  -9.051710\n",
       "\n",
       "[76206 rows x 5 columns]"
      ]
     },
     "execution_count": 16,
     "metadata": {},
     "output_type": "execute_result"
    }
   ],
   "source": [
    "dfh2"
   ]
  },
  {
   "cell_type": "code",
   "execution_count": 17,
   "metadata": {},
   "outputs": [],
   "source": [
    "#For one subregion\n",
    "#OneA.set_index([\"lat\",\"lon\"])"
   ]
  },
  {
   "cell_type": "code",
   "execution_count": 18,
   "metadata": {},
   "outputs": [
    {
     "data": {
      "text/html": [
       "<div>\n",
       "<style scoped>\n",
       "    .dataframe tbody tr th:only-of-type {\n",
       "        vertical-align: middle;\n",
       "    }\n",
       "\n",
       "    .dataframe tbody tr th {\n",
       "        vertical-align: top;\n",
       "    }\n",
       "\n",
       "    .dataframe thead th {\n",
       "        text-align: right;\n",
       "    }\n",
       "</style>\n",
       "<table border=\"1\" class=\"dataframe\">\n",
       "  <thead>\n",
       "    <tr style=\"text-align: right;\">\n",
       "      <th></th>\n",
       "      <th></th>\n",
       "      <th>TER_GUIDE</th>\n",
       "      <th>geometry</th>\n",
       "    </tr>\n",
       "    <tr>\n",
       "      <th>lat</th>\n",
       "      <th>lon</th>\n",
       "      <th></th>\n",
       "      <th></th>\n",
       "    </tr>\n",
       "  </thead>\n",
       "  <tbody>\n",
       "    <tr>\n",
       "      <th rowspan=\"3\" valign=\"top\">52.957191</th>\n",
       "      <th>-67.712730</th>\n",
       "      <td>6opqr</td>\n",
       "      <td>POLYGON ((-67.67107 52.93424, -67.67107 52.915...</td>\n",
       "    </tr>\n",
       "    <tr>\n",
       "      <th>-67.629402</th>\n",
       "      <td>6opqr</td>\n",
       "      <td>POLYGON ((-67.67107 52.91553, -67.67107 52.934...</td>\n",
       "    </tr>\n",
       "    <tr>\n",
       "      <th>-67.546066</th>\n",
       "      <td>6opqr</td>\n",
       "      <td>POLYGON ((-67.56730 52.91553, -67.57974 52.915...</td>\n",
       "    </tr>\n",
       "    <tr>\n",
       "      <th rowspan=\"2\" valign=\"top\">52.873859</th>\n",
       "      <th>-67.796059</th>\n",
       "      <td>6opqr</td>\n",
       "      <td>POLYGON ((-67.75439 52.89329, -67.75439 52.832...</td>\n",
       "    </tr>\n",
       "    <tr>\n",
       "      <th>-67.712730</th>\n",
       "      <td>6opqr</td>\n",
       "      <td>POLYGON ((-67.75439 52.83219, -67.75439 52.893...</td>\n",
       "    </tr>\n",
       "    <tr>\n",
       "      <th>...</th>\n",
       "      <th>...</th>\n",
       "      <td>...</td>\n",
       "      <td>...</td>\n",
       "    </tr>\n",
       "    <tr>\n",
       "      <th rowspan=\"5\" valign=\"top\">45.041668</th>\n",
       "      <th>-72.208336</th>\n",
       "      <td>2c</td>\n",
       "      <td>POLYGON ((-72.25000 45.00450, -72.25000 45.083...</td>\n",
       "    </tr>\n",
       "    <tr>\n",
       "      <th>-72.125000</th>\n",
       "      <td>2c</td>\n",
       "      <td>POLYGON ((-72.16666 45.00508, -72.16666 45.083...</td>\n",
       "    </tr>\n",
       "    <tr>\n",
       "      <th>-72.041672</th>\n",
       "      <td>2c</td>\n",
       "      <td>POLYGON ((-72.08334 45.00564, -72.08334 45.083...</td>\n",
       "    </tr>\n",
       "    <tr>\n",
       "      <th>-71.958336</th>\n",
       "      <td>2c</td>\n",
       "      <td>POLYGON ((-72.00000 45.00667, -72.00000 45.083...</td>\n",
       "    </tr>\n",
       "    <tr>\n",
       "      <th>-71.875000</th>\n",
       "      <td>2c</td>\n",
       "      <td>POLYGON ((-71.91666 45.04812, -71.91666 45.083...</td>\n",
       "    </tr>\n",
       "  </tbody>\n",
       "</table>\n",
       "<p>33198 rows × 2 columns</p>\n",
       "</div>"
      ],
      "text/plain": [
       "                     TER_GUIDE  \\\n",
       "lat       lon                    \n",
       "52.957191 -67.712730     6opqr   \n",
       "          -67.629402     6opqr   \n",
       "          -67.546066     6opqr   \n",
       "52.873859 -67.796059     6opqr   \n",
       "          -67.712730     6opqr   \n",
       "...                        ...   \n",
       "45.041668 -72.208336        2c   \n",
       "          -72.125000        2c   \n",
       "          -72.041672        2c   \n",
       "          -71.958336        2c   \n",
       "          -71.875000        2c   \n",
       "\n",
       "                                                               geometry  \n",
       "lat       lon                                                            \n",
       "52.957191 -67.712730  POLYGON ((-67.67107 52.93424, -67.67107 52.915...  \n",
       "          -67.629402  POLYGON ((-67.67107 52.91553, -67.67107 52.934...  \n",
       "          -67.546066  POLYGON ((-67.56730 52.91553, -67.57974 52.915...  \n",
       "52.873859 -67.796059  POLYGON ((-67.75439 52.89329, -67.75439 52.832...  \n",
       "          -67.712730  POLYGON ((-67.75439 52.83219, -67.75439 52.893...  \n",
       "...                                                                 ...  \n",
       "45.041668 -72.208336  POLYGON ((-72.25000 45.00450, -72.25000 45.083...  \n",
       "          -72.125000  POLYGON ((-72.16666 45.00508, -72.16666 45.083...  \n",
       "          -72.041672  POLYGON ((-72.08334 45.00564, -72.08334 45.083...  \n",
       "          -71.958336  POLYGON ((-72.00000 45.00667, -72.00000 45.083...  \n",
       "          -71.875000  POLYGON ((-71.91666 45.04812, -71.91666 45.083...  \n",
       "\n",
       "[33198 rows x 2 columns]"
      ]
     },
     "execution_count": 18,
     "metadata": {},
     "output_type": "execute_result"
    }
   ],
   "source": [
    "#For all subregions\n",
    "dfpolyshape.set_index([\"lat\",\"lon\"])"
   ]
  },
  {
   "cell_type": "markdown",
   "metadata": {},
   "source": [
    "## Merge data with mask "
   ]
  },
  {
   "cell_type": "code",
   "execution_count": 19,
   "metadata": {},
   "outputs": [],
   "source": [
    "#for one region\n",
    "#dfTG2 = pd.merge(df_h, OneA, on=[\"lat\",\"lon\"])"
   ]
  },
  {
   "cell_type": "code",
   "execution_count": 20,
   "metadata": {},
   "outputs": [],
   "source": [
    "dfTGall = pd.merge(dfh2, dfpolyshape, on=[\"lat\",\"lon\"])"
   ]
  },
  {
   "cell_type": "code",
   "execution_count": null,
   "metadata": {},
   "outputs": [],
   "source": [
    "#CONCAT DF HERE"
   ]
  },
  {
   "cell_type": "code",
   "execution_count": 21,
   "metadata": {},
   "outputs": [
    {
     "data": {
      "text/html": [
       "<div>\n",
       "<style scoped>\n",
       "    .dataframe tbody tr th:only-of-type {\n",
       "        vertical-align: middle;\n",
       "    }\n",
       "\n",
       "    .dataframe tbody tr th {\n",
       "        vertical-align: top;\n",
       "    }\n",
       "\n",
       "    .dataframe thead th {\n",
       "        text-align: right;\n",
       "    }\n",
       "</style>\n",
       "<table border=\"1\" class=\"dataframe\">\n",
       "  <thead>\n",
       "    <tr style=\"text-align: right;\">\n",
       "      <th></th>\n",
       "      <th>index</th>\n",
       "      <th>time</th>\n",
       "      <th>lat</th>\n",
       "      <th>lon</th>\n",
       "      <th>tg_mean</th>\n",
       "      <th>TER_GUIDE</th>\n",
       "      <th>geometry</th>\n",
       "    </tr>\n",
       "  </thead>\n",
       "  <tbody>\n",
       "    <tr>\n",
       "      <th>0</th>\n",
       "      <td>12089</td>\n",
       "      <td>0.0</td>\n",
       "      <td>44.957512</td>\n",
       "      <td>-74.629120</td>\n",
       "      <td>7.079183</td>\n",
       "      <td>1a</td>\n",
       "      <td>POLYGON ((-74.62590 44.99918, -74.58746 44.999...</td>\n",
       "    </tr>\n",
       "    <tr>\n",
       "      <th>1</th>\n",
       "      <td>12090</td>\n",
       "      <td>0.0</td>\n",
       "      <td>44.957512</td>\n",
       "      <td>-74.545792</td>\n",
       "      <td>7.053729</td>\n",
       "      <td>1a</td>\n",
       "      <td>POLYGON ((-74.58746 44.99876, -74.58746 44.999...</td>\n",
       "    </tr>\n",
       "    <tr>\n",
       "      <th>2</th>\n",
       "      <td>12091</td>\n",
       "      <td>0.0</td>\n",
       "      <td>44.957512</td>\n",
       "      <td>-74.462463</td>\n",
       "      <td>7.030324</td>\n",
       "      <td>1a</td>\n",
       "      <td>POLYGON ((-74.50413 44.99784, -74.50413 44.999...</td>\n",
       "    </tr>\n",
       "    <tr>\n",
       "      <th>3</th>\n",
       "      <td>12092</td>\n",
       "      <td>0.0</td>\n",
       "      <td>44.957512</td>\n",
       "      <td>-74.379128</td>\n",
       "      <td>7.015834</td>\n",
       "      <td>1a</td>\n",
       "      <td>POLYGON ((-74.42079 44.99530, -74.42079 44.999...</td>\n",
       "    </tr>\n",
       "    <tr>\n",
       "      <th>4</th>\n",
       "      <td>12093</td>\n",
       "      <td>0.0</td>\n",
       "      <td>44.957512</td>\n",
       "      <td>-74.295799</td>\n",
       "      <td>6.978581</td>\n",
       "      <td>1a</td>\n",
       "      <td>POLYGON ((-74.33746 44.99215, -74.33746 44.999...</td>\n",
       "    </tr>\n",
       "    <tr>\n",
       "      <th>...</th>\n",
       "      <td>...</td>\n",
       "      <td>...</td>\n",
       "      <td>...</td>\n",
       "      <td>...</td>\n",
       "      <td>...</td>\n",
       "      <td>...</td>\n",
       "      <td>...</td>\n",
       "    </tr>\n",
       "    <tr>\n",
       "      <th>16563</th>\n",
       "      <td>43761</td>\n",
       "      <td>0.0</td>\n",
       "      <td>52.873859</td>\n",
       "      <td>-67.629402</td>\n",
       "      <td>-3.216939</td>\n",
       "      <td>6opqr</td>\n",
       "      <td>POLYGON ((-67.67107 52.83219, -67.67107 52.915...</td>\n",
       "    </tr>\n",
       "    <tr>\n",
       "      <th>16564</th>\n",
       "      <td>43762</td>\n",
       "      <td>0.0</td>\n",
       "      <td>52.873859</td>\n",
       "      <td>-67.546066</td>\n",
       "      <td>-3.166103</td>\n",
       "      <td>6opqr</td>\n",
       "      <td>POLYGON ((-67.58773 52.83219, -67.58773 52.904...</td>\n",
       "    </tr>\n",
       "    <tr>\n",
       "      <th>16565</th>\n",
       "      <td>44137</td>\n",
       "      <td>0.0</td>\n",
       "      <td>52.957191</td>\n",
       "      <td>-67.712730</td>\n",
       "      <td>-3.351753</td>\n",
       "      <td>6opqr</td>\n",
       "      <td>POLYGON ((-67.67107 52.93424, -67.67107 52.915...</td>\n",
       "    </tr>\n",
       "    <tr>\n",
       "      <th>16566</th>\n",
       "      <td>44138</td>\n",
       "      <td>0.0</td>\n",
       "      <td>52.957191</td>\n",
       "      <td>-67.629402</td>\n",
       "      <td>-3.251923</td>\n",
       "      <td>6opqr</td>\n",
       "      <td>POLYGON ((-67.67107 52.91553, -67.67107 52.934...</td>\n",
       "    </tr>\n",
       "    <tr>\n",
       "      <th>16567</th>\n",
       "      <td>44139</td>\n",
       "      <td>0.0</td>\n",
       "      <td>52.957191</td>\n",
       "      <td>-67.546066</td>\n",
       "      <td>-3.238736</td>\n",
       "      <td>6opqr</td>\n",
       "      <td>POLYGON ((-67.56730 52.91553, -67.57974 52.915...</td>\n",
       "    </tr>\n",
       "  </tbody>\n",
       "</table>\n",
       "<p>16568 rows × 7 columns</p>\n",
       "</div>"
      ],
      "text/plain": [
       "       index  time        lat        lon   tg_mean TER_GUIDE  \\\n",
       "0      12089   0.0  44.957512 -74.629120  7.079183        1a   \n",
       "1      12090   0.0  44.957512 -74.545792  7.053729        1a   \n",
       "2      12091   0.0  44.957512 -74.462463  7.030324        1a   \n",
       "3      12092   0.0  44.957512 -74.379128  7.015834        1a   \n",
       "4      12093   0.0  44.957512 -74.295799  6.978581        1a   \n",
       "...      ...   ...        ...        ...       ...       ...   \n",
       "16563  43761   0.0  52.873859 -67.629402 -3.216939     6opqr   \n",
       "16564  43762   0.0  52.873859 -67.546066 -3.166103     6opqr   \n",
       "16565  44137   0.0  52.957191 -67.712730 -3.351753     6opqr   \n",
       "16566  44138   0.0  52.957191 -67.629402 -3.251923     6opqr   \n",
       "16567  44139   0.0  52.957191 -67.546066 -3.238736     6opqr   \n",
       "\n",
       "                                                geometry  \n",
       "0      POLYGON ((-74.62590 44.99918, -74.58746 44.999...  \n",
       "1      POLYGON ((-74.58746 44.99876, -74.58746 44.999...  \n",
       "2      POLYGON ((-74.50413 44.99784, -74.50413 44.999...  \n",
       "3      POLYGON ((-74.42079 44.99530, -74.42079 44.999...  \n",
       "4      POLYGON ((-74.33746 44.99215, -74.33746 44.999...  \n",
       "...                                                  ...  \n",
       "16563  POLYGON ((-67.67107 52.83219, -67.67107 52.915...  \n",
       "16564  POLYGON ((-67.58773 52.83219, -67.58773 52.904...  \n",
       "16565  POLYGON ((-67.67107 52.93424, -67.67107 52.915...  \n",
       "16566  POLYGON ((-67.67107 52.91553, -67.67107 52.934...  \n",
       "16567  POLYGON ((-67.56730 52.91553, -67.57974 52.915...  \n",
       "\n",
       "[16568 rows x 7 columns]"
      ]
     },
     "execution_count": 21,
     "metadata": {},
     "output_type": "execute_result"
    }
   ],
   "source": [
    "dfTGall"
   ]
  },
  {
   "cell_type": "code",
   "execution_count": 27,
   "metadata": {},
   "outputs": [
    {
     "data": {
      "text/plain": [
       "6cdefg    2359\n",
       "6opqr     1609\n",
       "6ab       1420\n",
       "5bcd      1231\n",
       "4bc       1057\n",
       "6hi       1028\n",
       "6j         950\n",
       "6mn        923\n",
       "3ab        652\n",
       "5a         552\n",
       "6kl        507\n",
       "5ef        401\n",
       "4f         389\n",
       "2b         388\n",
       "3d         367\n",
       "3c         356\n",
       "4de        356\n",
       "5g         347\n",
       "5hi        342\n",
       "1a         338\n",
       "4gh        304\n",
       "5jk        244\n",
       "2c         166\n",
       "2a         143\n",
       "4a         139\n",
       "Name: TER_GUIDE, dtype: int64"
      ]
     },
     "execution_count": 27,
     "metadata": {},
     "output_type": "execute_result"
    }
   ],
   "source": [
    "dfTGall.TER_GUIDE.value_counts()"
   ]
  },
  {
   "cell_type": "code",
   "execution_count": 28,
   "metadata": {},
   "outputs": [
    {
     "data": {
      "text/html": [
       "<div>\n",
       "<style scoped>\n",
       "    .dataframe tbody tr th:only-of-type {\n",
       "        vertical-align: middle;\n",
       "    }\n",
       "\n",
       "    .dataframe tbody tr th {\n",
       "        vertical-align: top;\n",
       "    }\n",
       "\n",
       "    .dataframe thead th {\n",
       "        text-align: right;\n",
       "    }\n",
       "</style>\n",
       "<table border=\"1\" class=\"dataframe\">\n",
       "  <thead>\n",
       "    <tr style=\"text-align: right;\">\n",
       "      <th></th>\n",
       "      <th>index</th>\n",
       "      <th>time</th>\n",
       "      <th>lat</th>\n",
       "      <th>lon</th>\n",
       "      <th>tg_mean</th>\n",
       "      <th>TER_GUIDE</th>\n",
       "      <th>geometry</th>\n",
       "    </tr>\n",
       "  </thead>\n",
       "  <tbody>\n",
       "    <tr>\n",
       "      <th>2623</th>\n",
       "      <td>19752</td>\n",
       "      <td>0.0</td>\n",
       "      <td>47.124088</td>\n",
       "      <td>-79.462257</td>\n",
       "      <td>3.518152</td>\n",
       "      <td>4a</td>\n",
       "      <td>POLYGON ((-79.44652 47.16575, -79.42059 47.165...</td>\n",
       "    </tr>\n",
       "    <tr>\n",
       "      <th>2625</th>\n",
       "      <td>19753</td>\n",
       "      <td>0.0</td>\n",
       "      <td>47.124088</td>\n",
       "      <td>-79.378929</td>\n",
       "      <td>3.375563</td>\n",
       "      <td>4a</td>\n",
       "      <td>POLYGON ((-79.42059 47.15410, -79.42059 47.165...</td>\n",
       "    </tr>\n",
       "    <tr>\n",
       "      <th>2627</th>\n",
       "      <td>19754</td>\n",
       "      <td>0.0</td>\n",
       "      <td>47.124088</td>\n",
       "      <td>-79.295601</td>\n",
       "      <td>3.180336</td>\n",
       "      <td>4a</td>\n",
       "      <td>POLYGON ((-79.33237 47.16575, -79.29047 47.165...</td>\n",
       "    </tr>\n",
       "    <tr>\n",
       "      <th>2771</th>\n",
       "      <td>20016</td>\n",
       "      <td>0.0</td>\n",
       "      <td>47.207420</td>\n",
       "      <td>-79.462257</td>\n",
       "      <td>3.351269</td>\n",
       "      <td>4a</td>\n",
       "      <td>POLYGON ((-79.45147 47.24909, -79.42059 47.249...</td>\n",
       "    </tr>\n",
       "    <tr>\n",
       "      <th>2772</th>\n",
       "      <td>20017</td>\n",
       "      <td>0.0</td>\n",
       "      <td>47.207420</td>\n",
       "      <td>-79.378929</td>\n",
       "      <td>3.388705</td>\n",
       "      <td>4a</td>\n",
       "      <td>POLYGON ((-79.42059 47.16575, -79.42059 47.249...</td>\n",
       "    </tr>\n",
       "    <tr>\n",
       "      <th>...</th>\n",
       "      <td>...</td>\n",
       "      <td>...</td>\n",
       "      <td>...</td>\n",
       "      <td>...</td>\n",
       "      <td>...</td>\n",
       "      <td>...</td>\n",
       "      <td>...</td>\n",
       "    </tr>\n",
       "    <tr>\n",
       "      <th>4596</th>\n",
       "      <td>23399</td>\n",
       "      <td>0.0</td>\n",
       "      <td>48.124050</td>\n",
       "      <td>-79.045609</td>\n",
       "      <td>2.001026</td>\n",
       "      <td>4a</td>\n",
       "      <td>POLYGON ((-79.08727 48.08238, -79.08727 48.165...</td>\n",
       "    </tr>\n",
       "    <tr>\n",
       "      <th>4598</th>\n",
       "      <td>23400</td>\n",
       "      <td>0.0</td>\n",
       "      <td>48.124050</td>\n",
       "      <td>-78.962280</td>\n",
       "      <td>2.021969</td>\n",
       "      <td>4a</td>\n",
       "      <td>POLYGON ((-79.00394 48.08238, -79.00394 48.165...</td>\n",
       "    </tr>\n",
       "    <tr>\n",
       "      <th>4813</th>\n",
       "      <td>23738</td>\n",
       "      <td>0.0</td>\n",
       "      <td>48.207378</td>\n",
       "      <td>-79.128937</td>\n",
       "      <td>1.911239</td>\n",
       "      <td>4a</td>\n",
       "      <td>POLYGON ((-79.08727 48.17824, -79.08727 48.165...</td>\n",
       "    </tr>\n",
       "    <tr>\n",
       "      <th>4815</th>\n",
       "      <td>23739</td>\n",
       "      <td>0.0</td>\n",
       "      <td>48.207378</td>\n",
       "      <td>-79.045609</td>\n",
       "      <td>1.966652</td>\n",
       "      <td>4a</td>\n",
       "      <td>POLYGON ((-79.08727 48.16571, -79.08727 48.178...</td>\n",
       "    </tr>\n",
       "    <tr>\n",
       "      <th>4817</th>\n",
       "      <td>23740</td>\n",
       "      <td>0.0</td>\n",
       "      <td>48.207378</td>\n",
       "      <td>-78.962280</td>\n",
       "      <td>1.985059</td>\n",
       "      <td>4a</td>\n",
       "      <td>POLYGON ((-79.00394 48.16571, -79.00394 48.178...</td>\n",
       "    </tr>\n",
       "  </tbody>\n",
       "</table>\n",
       "<p>139 rows × 7 columns</p>\n",
       "</div>"
      ],
      "text/plain": [
       "      index  time        lat        lon   tg_mean TER_GUIDE  \\\n",
       "2623  19752   0.0  47.124088 -79.462257  3.518152        4a   \n",
       "2625  19753   0.0  47.124088 -79.378929  3.375563        4a   \n",
       "2627  19754   0.0  47.124088 -79.295601  3.180336        4a   \n",
       "2771  20016   0.0  47.207420 -79.462257  3.351269        4a   \n",
       "2772  20017   0.0  47.207420 -79.378929  3.388705        4a   \n",
       "...     ...   ...        ...        ...       ...       ...   \n",
       "4596  23399   0.0  48.124050 -79.045609  2.001026        4a   \n",
       "4598  23400   0.0  48.124050 -78.962280  2.021969        4a   \n",
       "4813  23738   0.0  48.207378 -79.128937  1.911239        4a   \n",
       "4815  23739   0.0  48.207378 -79.045609  1.966652        4a   \n",
       "4817  23740   0.0  48.207378 -78.962280  1.985059        4a   \n",
       "\n",
       "                                               geometry  \n",
       "2623  POLYGON ((-79.44652 47.16575, -79.42059 47.165...  \n",
       "2625  POLYGON ((-79.42059 47.15410, -79.42059 47.165...  \n",
       "2627  POLYGON ((-79.33237 47.16575, -79.29047 47.165...  \n",
       "2771  POLYGON ((-79.45147 47.24909, -79.42059 47.249...  \n",
       "2772  POLYGON ((-79.42059 47.16575, -79.42059 47.249...  \n",
       "...                                                 ...  \n",
       "4596  POLYGON ((-79.08727 48.08238, -79.08727 48.165...  \n",
       "4598  POLYGON ((-79.00394 48.08238, -79.00394 48.165...  \n",
       "4813  POLYGON ((-79.08727 48.17824, -79.08727 48.165...  \n",
       "4815  POLYGON ((-79.08727 48.16571, -79.08727 48.178...  \n",
       "4817  POLYGON ((-79.00394 48.16571, -79.00394 48.178...  \n",
       "\n",
       "[139 rows x 7 columns]"
      ]
     },
     "execution_count": 28,
     "metadata": {},
     "output_type": "execute_result"
    }
   ],
   "source": [
    "TG4a = dfTGall[dfTGall.TER_GUIDE == \"4a\"]\n",
    "TG4a"
   ]
  },
  {
   "cell_type": "code",
   "execution_count": 29,
   "metadata": {},
   "outputs": [],
   "source": [
    "TG4a.to_csv(\"/home/mlopez/EXEC/Tg_csv/TG4aNor.csv\")"
   ]
  },
  {
   "cell_type": "code",
   "execution_count": 26,
   "metadata": {},
   "outputs": [],
   "source": [
    "dfTGall.to_csv(\"/home/mlopez/EXEC/Tg_csv/NorESM1-M_rcp45_tg_mean_annual.csv\")"
   ]
  },
  {
   "cell_type": "markdown",
   "metadata": {},
   "source": [
    "# ---- Create GeoJson file ----"
   ]
  },
  {
   "cell_type": "code",
   "execution_count": 22,
   "metadata": {},
   "outputs": [],
   "source": [
    "geometry = dfTGall[\"geometry\"]"
   ]
  },
  {
   "cell_type": "code",
   "execution_count": 23,
   "metadata": {},
   "outputs": [],
   "source": [
    "crs = {'init': \"epsg:4326\"}\n",
    "gdf = GeoDataFrame(dfTGall, crs=crs, geometry=geometry)"
   ]
  },
  {
   "cell_type": "code",
   "execution_count": 24,
   "metadata": {},
   "outputs": [],
   "source": [
    "gdf.to_file(\"TGall.json\", driver=\"GeoJSON\")"
   ]
  },
  {
   "cell_type": "code",
   "execution_count": null,
   "metadata": {},
   "outputs": [],
   "source": []
  }
 ],
 "metadata": {
  "kernelspec": {
   "display_name": "Python 3",
   "language": "python",
   "name": "python3"
  },
  "language_info": {
   "codemirror_mode": {
    "name": "ipython",
    "version": 3
   },
   "file_extension": ".py",
   "mimetype": "text/x-python",
   "name": "python",
   "nbconvert_exporter": "python",
   "pygments_lexer": "ipython3",
   "version": "3.8.1"
  }
 },
 "nbformat": 4,
 "nbformat_minor": 4
}

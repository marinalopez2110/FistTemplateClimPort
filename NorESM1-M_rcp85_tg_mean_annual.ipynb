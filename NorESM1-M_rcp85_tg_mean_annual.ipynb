{
 "cells": [
  {
   "cell_type": "code",
   "execution_count": 1,
   "metadata": {},
   "outputs": [],
   "source": [
    "import geopandas as gpd\n",
    "import xarray as xr\n",
    "import matplotlib.pyplot as plt\n",
    "import pandas as pd"
   ]
  },
  {
   "cell_type": "code",
   "execution_count": 2,
   "metadata": {},
   "outputs": [],
   "source": [
    "#opening and transfering data into an array\n",
    "ds = xr.open_dataset(\"/home/mlopez/EXEC/Processed Data Varibales/NorESM1-M_rcp85_tg_mean_annual.nc\")"
   ]
  },
  {
   "cell_type": "code",
   "execution_count": 3,
   "metadata": {},
   "outputs": [
    {
     "data": {
      "text/html": [
       "<pre>&lt;xarray.Dataset&gt;\n",
       "Dimensions:  (lat: 320, lon: 416, time: 151)\n",
       "Coordinates:\n",
       "  * time     (time) object 1950-01-01 00:00:00 ... 2100-01-01 00:00:00\n",
       "  * lon      (lon) float32 -89.04521 -88.96188 -88.87855 ... -54.54659 -54.46326\n",
       "  * lat      (lat) float32 66.62331 66.53998 66.45665 ... 40.12437 40.04104\n",
       "Data variables:\n",
       "    tg_mean  (time, lat, lon) float32 ...\n",
       "Attributes:\n",
       "    Conventions:     CF-1.5\n",
       "    title:           NorESM1-M model output prepared for CMIP5 historical\n",
       "    history:         2011-06-01T01:20:15Z CMOR rewrote data to comply with CF...\n",
       "    institution:     Norwegian Climate Centre\n",
       "    source:          NorESM1-M 2011  atmosphere: CAM-Oslo (CAM4-Oslo-noresm-v...\n",
       "    redistribution:  Redistribution prohibited. For internal use only.</pre>"
      ],
      "text/plain": [
       "<xarray.Dataset>\n",
       "Dimensions:  (lat: 320, lon: 416, time: 151)\n",
       "Coordinates:\n",
       "  * time     (time) object 1950-01-01 00:00:00 ... 2100-01-01 00:00:00\n",
       "  * lon      (lon) float32 -89.04521 -88.96188 -88.87855 ... -54.54659 -54.46326\n",
       "  * lat      (lat) float32 66.62331 66.53998 66.45665 ... 40.12437 40.04104\n",
       "Data variables:\n",
       "    tg_mean  (time, lat, lon) float32 ...\n",
       "Attributes:\n",
       "    Conventions:     CF-1.5\n",
       "    title:           NorESM1-M model output prepared for CMIP5 historical\n",
       "    history:         2011-06-01T01:20:15Z CMOR rewrote data to comply with CF...\n",
       "    institution:     Norwegian Climate Centre\n",
       "    source:          NorESM1-M 2011  atmosphere: CAM-Oslo (CAM4-Oslo-noresm-v...\n",
       "    redistribution:  Redistribution prohibited. For internal use only."
      ]
     },
     "execution_count": 3,
     "metadata": {},
     "output_type": "execute_result"
    }
   ],
   "source": [
    "ds"
   ]
  },
  {
   "cell_type": "code",
   "execution_count": 4,
   "metadata": {},
   "outputs": [],
   "source": [
    "df = ds.to_dataframe().dropna()"
   ]
  },
  {
   "cell_type": "code",
   "execution_count": 5,
   "metadata": {},
   "outputs": [
    {
     "data": {
      "text/html": [
       "<div>\n",
       "<style scoped>\n",
       "    .dataframe tbody tr th:only-of-type {\n",
       "        vertical-align: middle;\n",
       "    }\n",
       "\n",
       "    .dataframe tbody tr th {\n",
       "        vertical-align: top;\n",
       "    }\n",
       "\n",
       "    .dataframe thead th {\n",
       "        text-align: right;\n",
       "    }\n",
       "</style>\n",
       "<table border=\"1\" class=\"dataframe\">\n",
       "  <thead>\n",
       "    <tr style=\"text-align: right;\">\n",
       "      <th></th>\n",
       "      <th></th>\n",
       "      <th></th>\n",
       "      <th>tg_mean</th>\n",
       "    </tr>\n",
       "    <tr>\n",
       "      <th>lat</th>\n",
       "      <th>lon</th>\n",
       "      <th>time</th>\n",
       "      <th></th>\n",
       "    </tr>\n",
       "  </thead>\n",
       "  <tbody>\n",
       "    <tr>\n",
       "      <th rowspan=\"5\" valign=\"top\">66.623306</th>\n",
       "      <th rowspan=\"5\" valign=\"top\">-89.045212</th>\n",
       "      <th>1950-01-01 00:00:00</th>\n",
       "      <td>260.487122</td>\n",
       "    </tr>\n",
       "    <tr>\n",
       "      <th>1951-01-01 00:00:00</th>\n",
       "      <td>259.087128</td>\n",
       "    </tr>\n",
       "    <tr>\n",
       "      <th>1952-01-01 00:00:00</th>\n",
       "      <td>258.688416</td>\n",
       "    </tr>\n",
       "    <tr>\n",
       "      <th>1953-01-01 00:00:00</th>\n",
       "      <td>257.983765</td>\n",
       "    </tr>\n",
       "    <tr>\n",
       "      <th>1954-01-01 00:00:00</th>\n",
       "      <td>259.069092</td>\n",
       "    </tr>\n",
       "    <tr>\n",
       "      <th>...</th>\n",
       "      <th>...</th>\n",
       "      <th>...</th>\n",
       "      <td>...</td>\n",
       "    </tr>\n",
       "    <tr>\n",
       "      <th rowspan=\"5\" valign=\"top\">40.041039</th>\n",
       "      <th rowspan=\"5\" valign=\"top\">-74.045807</th>\n",
       "      <th>2096-01-01 00:00:00</th>\n",
       "      <td>289.984100</td>\n",
       "    </tr>\n",
       "    <tr>\n",
       "      <th>2097-01-01 00:00:00</th>\n",
       "      <td>290.481293</td>\n",
       "    </tr>\n",
       "    <tr>\n",
       "      <th>2098-01-01 00:00:00</th>\n",
       "      <td>290.068420</td>\n",
       "    </tr>\n",
       "    <tr>\n",
       "      <th>2099-01-01 00:00:00</th>\n",
       "      <td>290.675110</td>\n",
       "    </tr>\n",
       "    <tr>\n",
       "      <th>2100-01-01 00:00:00</th>\n",
       "      <td>290.421906</td>\n",
       "    </tr>\n",
       "  </tbody>\n",
       "</table>\n",
       "<p>11507106 rows × 1 columns</p>\n",
       "</div>"
      ],
      "text/plain": [
       "                                             tg_mean\n",
       "lat       lon        time                           \n",
       "66.623306 -89.045212 1950-01-01 00:00:00  260.487122\n",
       "                     1951-01-01 00:00:00  259.087128\n",
       "                     1952-01-01 00:00:00  258.688416\n",
       "                     1953-01-01 00:00:00  257.983765\n",
       "                     1954-01-01 00:00:00  259.069092\n",
       "...                                              ...\n",
       "40.041039 -74.045807 2096-01-01 00:00:00  289.984100\n",
       "                     2097-01-01 00:00:00  290.481293\n",
       "                     2098-01-01 00:00:00  290.068420\n",
       "                     2099-01-01 00:00:00  290.675110\n",
       "                     2100-01-01 00:00:00  290.421906\n",
       "\n",
       "[11507106 rows x 1 columns]"
      ]
     },
     "execution_count": 5,
     "metadata": {},
     "output_type": "execute_result"
    }
   ],
   "source": [
    "df"
   ]
  },
  {
   "cell_type": "code",
   "execution_count": 6,
   "metadata": {},
   "outputs": [
    {
     "data": {
      "text/plain": [
       "0.0"
      ]
     },
     "execution_count": 6,
     "metadata": {},
     "output_type": "execute_result"
    }
   ],
   "source": [
    "df[\"tg_mean\"].isna().mean()"
   ]
  },
  {
   "cell_type": "code",
   "execution_count": 7,
   "metadata": {},
   "outputs": [
    {
     "data": {
      "text/html": [
       "<div>\n",
       "<style scoped>\n",
       "    .dataframe tbody tr th:only-of-type {\n",
       "        vertical-align: middle;\n",
       "    }\n",
       "\n",
       "    .dataframe tbody tr th {\n",
       "        vertical-align: top;\n",
       "    }\n",
       "\n",
       "    .dataframe thead th {\n",
       "        text-align: right;\n",
       "    }\n",
       "</style>\n",
       "<table border=\"1\" class=\"dataframe\">\n",
       "  <thead>\n",
       "    <tr style=\"text-align: right;\">\n",
       "      <th></th>\n",
       "      <th>tg_mean</th>\n",
       "    </tr>\n",
       "    <tr>\n",
       "      <th>time</th>\n",
       "      <th></th>\n",
       "    </tr>\n",
       "  </thead>\n",
       "  <tbody>\n",
       "    <tr>\n",
       "      <th>1950-01-01 00:00:00</th>\n",
       "      <td>273.467590</td>\n",
       "    </tr>\n",
       "    <tr>\n",
       "      <th>1951-01-01 00:00:00</th>\n",
       "      <td>271.929443</td>\n",
       "    </tr>\n",
       "    <tr>\n",
       "      <th>1952-01-01 00:00:00</th>\n",
       "      <td>271.688660</td>\n",
       "    </tr>\n",
       "    <tr>\n",
       "      <th>1953-01-01 00:00:00</th>\n",
       "      <td>271.315033</td>\n",
       "    </tr>\n",
       "    <tr>\n",
       "      <th>1954-01-01 00:00:00</th>\n",
       "      <td>271.918701</td>\n",
       "    </tr>\n",
       "  </tbody>\n",
       "</table>\n",
       "</div>"
      ],
      "text/plain": [
       "                        tg_mean\n",
       "time                           \n",
       "1950-01-01 00:00:00  273.467590\n",
       "1951-01-01 00:00:00  271.929443\n",
       "1952-01-01 00:00:00  271.688660\n",
       "1953-01-01 00:00:00  271.315033\n",
       "1954-01-01 00:00:00  271.918701"
      ]
     },
     "execution_count": 7,
     "metadata": {},
     "output_type": "execute_result"
    }
   ],
   "source": [
    "TSdf = df.groupby(\"time\").mean()\n",
    "TSdf.head()"
   ]
  },
  {
   "cell_type": "code",
   "execution_count": 43,
   "metadata": {},
   "outputs": [
    {
     "data": {
      "text/html": [
       "<div>\n",
       "<style scoped>\n",
       "    .dataframe tbody tr th:only-of-type {\n",
       "        vertical-align: middle;\n",
       "    }\n",
       "\n",
       "    .dataframe tbody tr th {\n",
       "        vertical-align: top;\n",
       "    }\n",
       "\n",
       "    .dataframe thead th {\n",
       "        text-align: right;\n",
       "    }\n",
       "</style>\n",
       "<table border=\"1\" class=\"dataframe\">\n",
       "  <thead>\n",
       "    <tr style=\"text-align: right;\">\n",
       "      <th></th>\n",
       "      <th>tg_mean</th>\n",
       "    </tr>\n",
       "    <tr>\n",
       "      <th>time</th>\n",
       "      <th></th>\n",
       "    </tr>\n",
       "  </thead>\n",
       "  <tbody>\n",
       "    <tr>\n",
       "      <th>1950-01-01 00:00:00</th>\n",
       "      <td>0.317596</td>\n",
       "    </tr>\n",
       "    <tr>\n",
       "      <th>1951-01-01 00:00:00</th>\n",
       "      <td>-1.220551</td>\n",
       "    </tr>\n",
       "    <tr>\n",
       "      <th>1952-01-01 00:00:00</th>\n",
       "      <td>-1.461334</td>\n",
       "    </tr>\n",
       "    <tr>\n",
       "      <th>1953-01-01 00:00:00</th>\n",
       "      <td>-1.834961</td>\n",
       "    </tr>\n",
       "    <tr>\n",
       "      <th>1954-01-01 00:00:00</th>\n",
       "      <td>-1.231293</td>\n",
       "    </tr>\n",
       "  </tbody>\n",
       "</table>\n",
       "</div>"
      ],
      "text/plain": [
       "                      tg_mean\n",
       "time                         \n",
       "1950-01-01 00:00:00  0.317596\n",
       "1951-01-01 00:00:00 -1.220551\n",
       "1952-01-01 00:00:00 -1.461334\n",
       "1953-01-01 00:00:00 -1.834961\n",
       "1954-01-01 00:00:00 -1.231293"
      ]
     },
     "execution_count": 43,
     "metadata": {},
     "output_type": "execute_result"
    }
   ],
   "source": [
    "#Adding column of temperature in Celsius\n",
    "TSMeanC = TSdf\n",
    "TSMeanC[\"tg_mean\"] = TSMeanC[\"tg_mean\"] -273.15\n",
    "TSMeanC.head()"
   ]
  },
  {
   "cell_type": "code",
   "execution_count": 46,
   "metadata": {},
   "outputs": [
    {
     "data": {
      "text/plain": [
       "Text(0.5, 1.0, 'Temperature Moyenne')"
      ]
     },
     "execution_count": 46,
     "metadata": {},
     "output_type": "execute_result"
    },
    {
     "data": {
      "image/png": "[encoded data removed]",
      "text/plain": [
       "<Figure size 1080x720 with 1 Axes>"
      ]
     },
     "metadata": {
      "needs_background": "light"
     },
     "output_type": "display_data"
    }
   ],
   "source": [
    "# plot time series\n",
    "TSMeanC['tg_mean'].plot.line('o-',color='blue',figsize=(15,10))\n",
    "\n",
    "# add colour reference\n",
    "#blue_patch = mpatches.Patch(color='blue', label='Temperature Moyenne')\n",
    "#plt.legend(handles=[blue_patch,])\n",
    "\n",
    "# add titles\n",
    "plt.xlabel('Date')\n",
    "plt.ylabel('Temperature (C)')\n",
    "plt.title('Temperature Moyenne')"
   ]
  }
 ],
 "metadata": {
  "kernelspec": {
   "display_name": "Python 3",
   "language": "python",
   "name": "python3"
  },
  "language_info": {
   "codemirror_mode": {
    "name": "ipython",
    "version": 3
   },
   "file_extension": ".py",
   "mimetype": "text/x-python",
   "name": "python",
   "nbconvert_exporter": "python",
   "pygments_lexer": "ipython3",
   "version": "3.8.1"
  }
 },
 "nbformat": 4,
 "nbformat_minor": 4
}

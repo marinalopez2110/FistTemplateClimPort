{
 "cells": [
  {
   "cell_type": "code",
   "execution_count": 1,
   "metadata": {},
   "outputs": [],
   "source": [
    "%load_ext autoreload\n",
    "%autoreload 2\n",
    "import xarray as xr\n",
    "import matplotlib.pyplot as plt\n",
    "import pandas as pd\n",
    "import processing_netcdf as pcdf\n",
    "import geopandas as gpd\n",
    "from geopandas import GeoDataFrame\n",
    "import shapely.geometry \n",
    "import numpy as np\n",
    "from shapely import geometry as gmty\n",
    "from geofeather import to_geofeather, from_geofeather\n",
    "import glob\n",
    "import os\n",
    "import pyarrow\n",
    "from xclim import ensembles as ens\n",
    "from xclim import subset\n",
    "import matplotlib.pyplot as plt"
   ]
  },
  {
   "cell_type": "code",
   "execution_count": 2,
   "metadata": {},
   "outputs": [],
   "source": [
    "folder = \"/scen3/scenario/netcdf/ouranos/portraits-clim-2.0/\""
   ]
  },
  {
   "cell_type": "markdown",
   "metadata": {},
   "source": [
    "# Select variable"
   ]
  },
  {
   "cell_type": "code",
   "execution_count": 5,
   "metadata": {},
   "outputs": [],
   "source": [
    "var = \"tn_mean\""
   ]
  },
  {
   "cell_type": "code",
   "execution_count": 6,
   "metadata": {},
   "outputs": [
    {
     "data": {
      "text/plain": [
       "['/scen3/scenario/netcdf/ouranos/portraits-clim-2.0/ACCESS1-3_rcp45_tn_mean_seasonal.nc',\n",
       " '/scen3/scenario/netcdf/ouranos/portraits-clim-2.0/BNU-ESM_rcp45_tn_mean_seasonal.nc',\n",
       " '/scen3/scenario/netcdf/ouranos/portraits-clim-2.0/CanESM2_rcp45_tn_mean_seasonal.nc',\n",
       " '/scen3/scenario/netcdf/ouranos/portraits-clim-2.0/CMCC-CMS_rcp45_tn_mean_seasonal.nc',\n",
       " '/scen3/scenario/netcdf/ouranos/portraits-clim-2.0/GFDL-ESM2M_rcp45_tn_mean_seasonal.nc',\n",
       " '/scen3/scenario/netcdf/ouranos/portraits-clim-2.0/HadGEM2-CC_rcp45_tn_mean_seasonal.nc',\n",
       " '/scen3/scenario/netcdf/ouranos/portraits-clim-2.0/INM-CM4_rcp45_tn_mean_seasonal.nc',\n",
       " '/scen3/scenario/netcdf/ouranos/portraits-clim-2.0/IPSL-CM5A-LR_rcp45_tn_mean_seasonal.nc',\n",
       " '/scen3/scenario/netcdf/ouranos/portraits-clim-2.0/IPSL-CM5B-LR_rcp45_tn_mean_seasonal.nc',\n",
       " '/scen3/scenario/netcdf/ouranos/portraits-clim-2.0/MPI-ESM-LR_rcp45_tn_mean_seasonal.nc',\n",
       " '/scen3/scenario/netcdf/ouranos/portraits-clim-2.0/NorESM1-M_rcp45_tn_mean_seasonal.nc']"
      ]
     },
     "execution_count": 6,
     "metadata": {},
     "output_type": "execute_result"
    }
   ],
   "source": [
    "#Variable \n",
    "variable85=\"rcp85_\"+var+\"_seasonal\"\n",
    "variable45=\"rcp45_\"+var+\"_seasonal\"\n",
    "#variable=\"rcp[48]5_tg_mean_annual\"\n",
    "\n",
    "files85 = glob.glob(folder+\"*\"+variable85+\".nc\")\n",
    "files45 = glob.glob(folder+\"*\"+variable45+\".nc\")\n",
    "#ex: ACCESS1-3_rcp45_tn_mean_annual.nc\n",
    "files85\n",
    "files45"
   ]
  },
  {
   "cell_type": "markdown",
   "metadata": {},
   "source": [
    "# FOR RCP 45"
   ]
  },
  {
   "cell_type": "markdown",
   "metadata": {},
   "source": [
    "## Subsetting arrays by periods of time with Xclim"
   ]
  },
  {
   "cell_type": "code",
   "execution_count": 7,
   "metadata": {},
   "outputs": [
    {
     "name": "stdout",
     "output_type": "stream",
     "text": [
      "0\n",
      "1\n",
      "2\n",
      "3\n"
     ]
    }
   ],
   "source": [
    "dsEns45= ens.create_ensemble(files45)\n",
    "dsEns45.time.dt.season[0:4]\n",
    "# Seasonal example 30 y means\n",
    "listds = []\n",
    "i=0\n",
    "for s in dsEns45.time.dt.season[0:4]:\n",
    "    print (i)\n",
    "    tmp1 = dsEns45.sel(time=(dsEns45.time.dt.year>=1981))\n",
    "    tmp1 = tmp1.sel(time=(tmp1.time.dt.season==s))\n",
    "    #print(tmp1)\n",
    "    i = i+1\n",
    "    listds.append(tmp1)"
   ]
  },
  {
   "cell_type": "markdown",
   "metadata": {},
   "source": [
    "## Loop to create all 4 dataframes"
   ]
  },
  {
   "cell_type": "code",
   "execution_count": 8,
   "metadata": {},
   "outputs": [
    {
     "name": "stdout",
     "output_type": "stream",
     "text": [
      "Dataset number:  0 --------------\n",
      "Percentiles Obteined\n",
      "Converted to DF\n",
      "Split in 3 different time periods\n",
      "Transformed in Celsiuds and rounded\n",
      "pivoted\n",
      "DF pivoted\n",
      "winter\n",
      "Columns renamed\n",
      "DF added to the list\n",
      "Dataset number:  1 --------------\n",
      "Percentiles Obteined\n",
      "Converted to DF\n",
      "Split in 3 different time periods\n",
      "Transformed in Celsiuds and rounded\n",
      "pivoted\n",
      "DF pivoted\n",
      "spring\n",
      "Columns renamed\n",
      "DF added to the list\n",
      "Dataset number:  2 --------------\n",
      "Percentiles Obteined\n",
      "Converted to DF\n",
      "Split in 3 different time periods\n",
      "Transformed in Celsiuds and rounded\n",
      "pivoted\n",
      "DF pivoted\n",
      "summer\n",
      "Columns renamed\n",
      "DF added to the list\n",
      "Dataset number:  3 --------------\n",
      "Percentiles Obteined\n",
      "Converted to DF\n",
      "Split in 3 different time periods\n",
      "Transformed in Celsiuds and rounded\n",
      "pivoted\n",
      "DF pivoted\n",
      "fall\n",
      "Columns renamed\n",
      "DF added to the list\n"
     ]
    }
   ],
   "source": [
    "i = 0\n",
    "df45list = []\n",
    "for ds in listds:\n",
    "    print (\"Dataset number: \", i, \"--------------\")\n",
    "    perc45 = ens.ensemble_percentiles(ds)\n",
    "    print (\"Percentiles Obteined\")\n",
    "    df45 = perc45.to_dataframe()\n",
    "    df452 = df45.reset_index()\n",
    "    df453 = df452.loc[df452[\"realization\"] == 0].dropna()\n",
    "    print (\"Converted to DF\")\n",
    "    year_groups = {y:0 for y in range(1980,2011)}\n",
    "    year_groups.update({y:1 for y in range(2041,2071)})\n",
    "    year_groups.update({y:2 for y in range(2071,2101)})\n",
    "    dfp = df453.groupby([df453.time.dt.year.map(year_groups), \"lat\",\"lon\", \"realization\"]).mean()\n",
    "    dfp452 =  dfp.reset_index()\n",
    "    print (\"Split in 3 different time periods\")\n",
    "    df45C = dfp452.copy()\n",
    "    df45C[var+\"_p10\"] = round(df45C[var+\"_p10\"] -273.15,2)\n",
    "    df45C[var+\"_p50\"] = round(df45C[var+\"_p50\"] -273.15,2)\n",
    "    df45C[var+\"_p90\"] = round(df45C[var+\"_p90\"] -273.15,2)\n",
    "    print (\"Transformed in Celsiuds and rounded\")\n",
    "    Region1i45 = df45C.drop(columns=[\"realization\"])\n",
    "    print (\"pivoted\")\n",
    "    df45f = Region1i45.pivot_table(index=[\"lat\",\"lon\"], columns=\"time\")\n",
    "    print (\"DF pivoted\")\n",
    "    if i== 0: season = \"winter\" \n",
    "    elif i == 1: season = \"spring\"\n",
    "    elif i == 2: season = \"summer\"\n",
    "    elif i == 3: season = \"fall\"\n",
    "    print (season)\n",
    "    df45f.columns = [season + \"_\" + year + \"rcp45_p\"+p\n",
    "                     for p in [\"10\", \"50\", \"90\"]\n",
    "                     for year in [\"hist_\",\"t2050_\", \"t2080_\"]]\n",
    "    print(\"Columns renamed\")\n",
    "    df45list.append(df45f)\n",
    "    print (\"DF added to the list\")\n",
    "    i = i + 1\n",
    "    "
   ]
  },
  {
   "cell_type": "code",
   "execution_count": 9,
   "metadata": {},
   "outputs": [],
   "source": [
    "#df45list\n"
   ]
  },
  {
   "cell_type": "code",
   "execution_count": 10,
   "metadata": {},
   "outputs": [],
   "source": [
    "dfw45 = df45list[0].reset_index()\n",
    "dfsp45 = df45list[1].reset_index()\n",
    "dfsu45 = df45list[2].reset_index()\n",
    "dff45 = df45list[3].reset_index()\n",
    "\n",
    "mkey = [\"lat\",\"lon\"]\n",
    "dfse45 = dfw45.merge(dfsp45, on=mkey).merge(dfsu45, on=mkey).merge(dff45, on=mkey)\n",
    "dfse45.to_feather(\"/home/mlopez/EXEC/Processed data to clip with regions/rcp45\"+var+\"_seasonal.feather\")"
   ]
  },
  {
   "cell_type": "code",
   "execution_count": 11,
   "metadata": {},
   "outputs": [
    {
     "data": {
      "text/html": [
       "<div>\n",
       "<style scoped>\n",
       "    .dataframe tbody tr th:only-of-type {\n",
       "        vertical-align: middle;\n",
       "    }\n",
       "\n",
       "    .dataframe tbody tr th {\n",
       "        vertical-align: top;\n",
       "    }\n",
       "\n",
       "    .dataframe thead th {\n",
       "        text-align: right;\n",
       "    }\n",
       "</style>\n",
       "<table border=\"1\" class=\"dataframe\">\n",
       "  <thead>\n",
       "    <tr style=\"text-align: right;\">\n",
       "      <th></th>\n",
       "      <th>lat</th>\n",
       "      <th>lon</th>\n",
       "      <th>winter_t2050_rcp45_p10</th>\n",
       "      <th>winter_t2080_rcp45_p10</th>\n",
       "      <th>winter_t2050_rcp45_p50</th>\n",
       "      <th>winter_t2080_rcp45_p50</th>\n",
       "      <th>winter_t2050_rcp45_p90</th>\n",
       "      <th>winter_t2080_rcp45_p90</th>\n",
       "      <th>spring_t2050_rcp45_p10</th>\n",
       "      <th>spring_t2080_rcp45_p10</th>\n",
       "      <th>...</th>\n",
       "      <th>summer_t2050_rcp45_p50</th>\n",
       "      <th>summer_t2080_rcp45_p50</th>\n",
       "      <th>summer_t2050_rcp45_p90</th>\n",
       "      <th>summer_t2080_rcp45_p90</th>\n",
       "      <th>fall_t2050_rcp45_p10</th>\n",
       "      <th>fall_t2080_rcp45_p10</th>\n",
       "      <th>fall_t2050_rcp45_p50</th>\n",
       "      <th>fall_t2080_rcp45_p50</th>\n",
       "      <th>fall_t2050_rcp45_p90</th>\n",
       "      <th>fall_t2080_rcp45_p90</th>\n",
       "    </tr>\n",
       "  </thead>\n",
       "  <tbody>\n",
       "    <tr>\n",
       "      <th>0</th>\n",
       "      <td>40.041039</td>\n",
       "      <td>-89.045212</td>\n",
       "      <td>-6.07</td>\n",
       "      <td>-5.69</td>\n",
       "      <td>-4.09</td>\n",
       "      <td>-3.71</td>\n",
       "      <td>-2.16</td>\n",
       "      <td>-1.50</td>\n",
       "      <td>5.57</td>\n",
       "      <td>6.10</td>\n",
       "      <td>...</td>\n",
       "      <td>19.11</td>\n",
       "      <td>19.65</td>\n",
       "      <td>20.23</td>\n",
       "      <td>20.90</td>\n",
       "      <td>7.25</td>\n",
       "      <td>7.52</td>\n",
       "      <td>8.68</td>\n",
       "      <td>9.20</td>\n",
       "      <td>10.14</td>\n",
       "      <td>10.80</td>\n",
       "    </tr>\n",
       "    <tr>\n",
       "      <th>1</th>\n",
       "      <td>40.041039</td>\n",
       "      <td>-88.961884</td>\n",
       "      <td>-6.11</td>\n",
       "      <td>-5.73</td>\n",
       "      <td>-4.12</td>\n",
       "      <td>-3.73</td>\n",
       "      <td>-2.18</td>\n",
       "      <td>-1.52</td>\n",
       "      <td>5.53</td>\n",
       "      <td>6.07</td>\n",
       "      <td>...</td>\n",
       "      <td>19.08</td>\n",
       "      <td>19.61</td>\n",
       "      <td>20.19</td>\n",
       "      <td>20.87</td>\n",
       "      <td>7.26</td>\n",
       "      <td>7.52</td>\n",
       "      <td>8.69</td>\n",
       "      <td>9.20</td>\n",
       "      <td>10.15</td>\n",
       "      <td>10.81</td>\n",
       "    </tr>\n",
       "    <tr>\n",
       "      <th>2</th>\n",
       "      <td>40.041039</td>\n",
       "      <td>-88.878548</td>\n",
       "      <td>-6.13</td>\n",
       "      <td>-5.74</td>\n",
       "      <td>-4.13</td>\n",
       "      <td>-3.73</td>\n",
       "      <td>-2.19</td>\n",
       "      <td>-1.52</td>\n",
       "      <td>5.53</td>\n",
       "      <td>6.06</td>\n",
       "      <td>...</td>\n",
       "      <td>19.08</td>\n",
       "      <td>19.61</td>\n",
       "      <td>20.19</td>\n",
       "      <td>20.86</td>\n",
       "      <td>7.27</td>\n",
       "      <td>7.53</td>\n",
       "      <td>8.71</td>\n",
       "      <td>9.22</td>\n",
       "      <td>10.16</td>\n",
       "      <td>10.82</td>\n",
       "    </tr>\n",
       "    <tr>\n",
       "      <th>3</th>\n",
       "      <td>40.041039</td>\n",
       "      <td>-88.795219</td>\n",
       "      <td>-6.08</td>\n",
       "      <td>-5.69</td>\n",
       "      <td>-4.08</td>\n",
       "      <td>-3.68</td>\n",
       "      <td>-2.15</td>\n",
       "      <td>-1.49</td>\n",
       "      <td>5.57</td>\n",
       "      <td>6.10</td>\n",
       "      <td>...</td>\n",
       "      <td>19.13</td>\n",
       "      <td>19.67</td>\n",
       "      <td>20.24</td>\n",
       "      <td>20.91</td>\n",
       "      <td>7.31</td>\n",
       "      <td>7.57</td>\n",
       "      <td>8.74</td>\n",
       "      <td>9.25</td>\n",
       "      <td>10.18</td>\n",
       "      <td>10.85</td>\n",
       "    </tr>\n",
       "    <tr>\n",
       "      <th>4</th>\n",
       "      <td>40.041039</td>\n",
       "      <td>-88.711891</td>\n",
       "      <td>-6.08</td>\n",
       "      <td>-5.68</td>\n",
       "      <td>-4.05</td>\n",
       "      <td>-3.66</td>\n",
       "      <td>-2.12</td>\n",
       "      <td>-1.45</td>\n",
       "      <td>5.60</td>\n",
       "      <td>6.12</td>\n",
       "      <td>...</td>\n",
       "      <td>19.13</td>\n",
       "      <td>19.67</td>\n",
       "      <td>20.23</td>\n",
       "      <td>20.90</td>\n",
       "      <td>7.35</td>\n",
       "      <td>7.60</td>\n",
       "      <td>8.78</td>\n",
       "      <td>9.28</td>\n",
       "      <td>10.20</td>\n",
       "      <td>10.87</td>\n",
       "    </tr>\n",
       "    <tr>\n",
       "      <th>...</th>\n",
       "      <td>...</td>\n",
       "      <td>...</td>\n",
       "      <td>...</td>\n",
       "      <td>...</td>\n",
       "      <td>...</td>\n",
       "      <td>...</td>\n",
       "      <td>...</td>\n",
       "      <td>...</td>\n",
       "      <td>...</td>\n",
       "      <td>...</td>\n",
       "      <td>...</td>\n",
       "      <td>...</td>\n",
       "      <td>...</td>\n",
       "      <td>...</td>\n",
       "      <td>...</td>\n",
       "      <td>...</td>\n",
       "      <td>...</td>\n",
       "      <td>...</td>\n",
       "      <td>...</td>\n",
       "      <td>...</td>\n",
       "      <td>...</td>\n",
       "    </tr>\n",
       "    <tr>\n",
       "      <th>76201</th>\n",
       "      <td>66.623306</td>\n",
       "      <td>-61.629639</td>\n",
       "      <td>-24.37</td>\n",
       "      <td>-22.93</td>\n",
       "      <td>-21.18</td>\n",
       "      <td>-19.93</td>\n",
       "      <td>-17.40</td>\n",
       "      <td>-16.42</td>\n",
       "      <td>-17.93</td>\n",
       "      <td>-17.16</td>\n",
       "      <td>...</td>\n",
       "      <td>1.89</td>\n",
       "      <td>2.02</td>\n",
       "      <td>3.46</td>\n",
       "      <td>3.36</td>\n",
       "      <td>-9.67</td>\n",
       "      <td>-9.57</td>\n",
       "      <td>-7.18</td>\n",
       "      <td>-6.73</td>\n",
       "      <td>-4.94</td>\n",
       "      <td>-4.28</td>\n",
       "    </tr>\n",
       "    <tr>\n",
       "      <th>76202</th>\n",
       "      <td>66.623306</td>\n",
       "      <td>-61.546310</td>\n",
       "      <td>-24.49</td>\n",
       "      <td>-23.05</td>\n",
       "      <td>-21.31</td>\n",
       "      <td>-20.06</td>\n",
       "      <td>-17.54</td>\n",
       "      <td>-16.56</td>\n",
       "      <td>-18.16</td>\n",
       "      <td>-17.40</td>\n",
       "      <td>...</td>\n",
       "      <td>1.62</td>\n",
       "      <td>1.74</td>\n",
       "      <td>3.21</td>\n",
       "      <td>3.09</td>\n",
       "      <td>-9.97</td>\n",
       "      <td>-9.87</td>\n",
       "      <td>-7.50</td>\n",
       "      <td>-7.05</td>\n",
       "      <td>-5.27</td>\n",
       "      <td>-4.61</td>\n",
       "    </tr>\n",
       "    <tr>\n",
       "      <th>76203</th>\n",
       "      <td>66.623306</td>\n",
       "      <td>-61.462978</td>\n",
       "      <td>-24.36</td>\n",
       "      <td>-22.92</td>\n",
       "      <td>-21.17</td>\n",
       "      <td>-19.92</td>\n",
       "      <td>-17.39</td>\n",
       "      <td>-16.42</td>\n",
       "      <td>-17.97</td>\n",
       "      <td>-17.21</td>\n",
       "      <td>...</td>\n",
       "      <td>1.78</td>\n",
       "      <td>1.90</td>\n",
       "      <td>3.37</td>\n",
       "      <td>3.26</td>\n",
       "      <td>-9.78</td>\n",
       "      <td>-9.70</td>\n",
       "      <td>-7.32</td>\n",
       "      <td>-6.88</td>\n",
       "      <td>-5.09</td>\n",
       "      <td>-4.43</td>\n",
       "    </tr>\n",
       "    <tr>\n",
       "      <th>76204</th>\n",
       "      <td>66.623306</td>\n",
       "      <td>-61.379650</td>\n",
       "      <td>-24.28</td>\n",
       "      <td>-22.85</td>\n",
       "      <td>-21.11</td>\n",
       "      <td>-19.85</td>\n",
       "      <td>-17.33</td>\n",
       "      <td>-16.36</td>\n",
       "      <td>-17.89</td>\n",
       "      <td>-17.13</td>\n",
       "      <td>...</td>\n",
       "      <td>1.82</td>\n",
       "      <td>1.95</td>\n",
       "      <td>3.42</td>\n",
       "      <td>3.32</td>\n",
       "      <td>-9.72</td>\n",
       "      <td>-9.63</td>\n",
       "      <td>-7.26</td>\n",
       "      <td>-6.83</td>\n",
       "      <td>-5.04</td>\n",
       "      <td>-4.39</td>\n",
       "    </tr>\n",
       "    <tr>\n",
       "      <th>76205</th>\n",
       "      <td>66.623306</td>\n",
       "      <td>-61.296322</td>\n",
       "      <td>-23.88</td>\n",
       "      <td>-22.48</td>\n",
       "      <td>-20.74</td>\n",
       "      <td>-19.48</td>\n",
       "      <td>-16.98</td>\n",
       "      <td>-16.02</td>\n",
       "      <td>-17.33</td>\n",
       "      <td>-16.58</td>\n",
       "      <td>...</td>\n",
       "      <td>2.30</td>\n",
       "      <td>2.43</td>\n",
       "      <td>3.88</td>\n",
       "      <td>3.81</td>\n",
       "      <td>-9.10</td>\n",
       "      <td>-9.02</td>\n",
       "      <td>-6.66</td>\n",
       "      <td>-6.24</td>\n",
       "      <td>-4.45</td>\n",
       "      <td>-3.81</td>\n",
       "    </tr>\n",
       "  </tbody>\n",
       "</table>\n",
       "<p>76206 rows × 26 columns</p>\n",
       "</div>"
      ],
      "text/plain": [
       "             lat        lon  winter_t2050_rcp45_p10  winter_t2080_rcp45_p10  \\\n",
       "0      40.041039 -89.045212                   -6.07                   -5.69   \n",
       "1      40.041039 -88.961884                   -6.11                   -5.73   \n",
       "2      40.041039 -88.878548                   -6.13                   -5.74   \n",
       "3      40.041039 -88.795219                   -6.08                   -5.69   \n",
       "4      40.041039 -88.711891                   -6.08                   -5.68   \n",
       "...          ...        ...                     ...                     ...   \n",
       "76201  66.623306 -61.629639                  -24.37                  -22.93   \n",
       "76202  66.623306 -61.546310                  -24.49                  -23.05   \n",
       "76203  66.623306 -61.462978                  -24.36                  -22.92   \n",
       "76204  66.623306 -61.379650                  -24.28                  -22.85   \n",
       "76205  66.623306 -61.296322                  -23.88                  -22.48   \n",
       "\n",
       "       winter_t2050_rcp45_p50  winter_t2080_rcp45_p50  winter_t2050_rcp45_p90  \\\n",
       "0                       -4.09                   -3.71                   -2.16   \n",
       "1                       -4.12                   -3.73                   -2.18   \n",
       "2                       -4.13                   -3.73                   -2.19   \n",
       "3                       -4.08                   -3.68                   -2.15   \n",
       "4                       -4.05                   -3.66                   -2.12   \n",
       "...                       ...                     ...                     ...   \n",
       "76201                  -21.18                  -19.93                  -17.40   \n",
       "76202                  -21.31                  -20.06                  -17.54   \n",
       "76203                  -21.17                  -19.92                  -17.39   \n",
       "76204                  -21.11                  -19.85                  -17.33   \n",
       "76205                  -20.74                  -19.48                  -16.98   \n",
       "\n",
       "       winter_t2080_rcp45_p90  spring_t2050_rcp45_p10  spring_t2080_rcp45_p10  \\\n",
       "0                       -1.50                    5.57                    6.10   \n",
       "1                       -1.52                    5.53                    6.07   \n",
       "2                       -1.52                    5.53                    6.06   \n",
       "3                       -1.49                    5.57                    6.10   \n",
       "4                       -1.45                    5.60                    6.12   \n",
       "...                       ...                     ...                     ...   \n",
       "76201                  -16.42                  -17.93                  -17.16   \n",
       "76202                  -16.56                  -18.16                  -17.40   \n",
       "76203                  -16.42                  -17.97                  -17.21   \n",
       "76204                  -16.36                  -17.89                  -17.13   \n",
       "76205                  -16.02                  -17.33                  -16.58   \n",
       "\n",
       "       ...  summer_t2050_rcp45_p50  summer_t2080_rcp45_p50  \\\n",
       "0      ...                   19.11                   19.65   \n",
       "1      ...                   19.08                   19.61   \n",
       "2      ...                   19.08                   19.61   \n",
       "3      ...                   19.13                   19.67   \n",
       "4      ...                   19.13                   19.67   \n",
       "...    ...                     ...                     ...   \n",
       "76201  ...                    1.89                    2.02   \n",
       "76202  ...                    1.62                    1.74   \n",
       "76203  ...                    1.78                    1.90   \n",
       "76204  ...                    1.82                    1.95   \n",
       "76205  ...                    2.30                    2.43   \n",
       "\n",
       "       summer_t2050_rcp45_p90  summer_t2080_rcp45_p90  fall_t2050_rcp45_p10  \\\n",
       "0                       20.23                   20.90                  7.25   \n",
       "1                       20.19                   20.87                  7.26   \n",
       "2                       20.19                   20.86                  7.27   \n",
       "3                       20.24                   20.91                  7.31   \n",
       "4                       20.23                   20.90                  7.35   \n",
       "...                       ...                     ...                   ...   \n",
       "76201                    3.46                    3.36                 -9.67   \n",
       "76202                    3.21                    3.09                 -9.97   \n",
       "76203                    3.37                    3.26                 -9.78   \n",
       "76204                    3.42                    3.32                 -9.72   \n",
       "76205                    3.88                    3.81                 -9.10   \n",
       "\n",
       "       fall_t2080_rcp45_p10  fall_t2050_rcp45_p50  fall_t2080_rcp45_p50  \\\n",
       "0                      7.52                  8.68                  9.20   \n",
       "1                      7.52                  8.69                  9.20   \n",
       "2                      7.53                  8.71                  9.22   \n",
       "3                      7.57                  8.74                  9.25   \n",
       "4                      7.60                  8.78                  9.28   \n",
       "...                     ...                   ...                   ...   \n",
       "76201                 -9.57                 -7.18                 -6.73   \n",
       "76202                 -9.87                 -7.50                 -7.05   \n",
       "76203                 -9.70                 -7.32                 -6.88   \n",
       "76204                 -9.63                 -7.26                 -6.83   \n",
       "76205                 -9.02                 -6.66                 -6.24   \n",
       "\n",
       "       fall_t2050_rcp45_p90  fall_t2080_rcp45_p90  \n",
       "0                     10.14                 10.80  \n",
       "1                     10.15                 10.81  \n",
       "2                     10.16                 10.82  \n",
       "3                     10.18                 10.85  \n",
       "4                     10.20                 10.87  \n",
       "...                     ...                   ...  \n",
       "76201                 -4.94                 -4.28  \n",
       "76202                 -5.27                 -4.61  \n",
       "76203                 -5.09                 -4.43  \n",
       "76204                 -5.04                 -4.39  \n",
       "76205                 -4.45                 -3.81  \n",
       "\n",
       "[76206 rows x 26 columns]"
      ]
     },
     "execution_count": 11,
     "metadata": {},
     "output_type": "execute_result"
    }
   ],
   "source": [
    "dfse452 = dfse45.drop(columns=[\"winter_hist_rcp45_p10\",\"winter_hist_rcp45_p50\", \"winter_hist_rcp45_p90\", \n",
    "                               \"spring_hist_rcp45_p10\", \"spring_hist_rcp45_p50\", \"spring_hist_rcp45_p90\", \n",
    "                               \"summer_hist_rcp45_p10\",\"summer_hist_rcp45_p50\", \"summer_hist_rcp45_p90\", \n",
    "                               \"fall_hist_rcp45_p10\",\"fall_hist_rcp45_p50\", \"fall_hist_rcp45_p90\"])\n",
    "dfse452\n"
   ]
  },
  {
   "cell_type": "code",
   "execution_count": 12,
   "metadata": {},
   "outputs": [],
   "source": [
    "dfsew = dfse45[[\"winter_hist_rcp45_p50\"]]\n",
    "dfsesp = dfse45[[\"spring_hist_rcp45_p50\"]]\n",
    "dfsesu = dfse45[[\"summer_hist_rcp45_p50\"]]\n",
    "dfsefa = dfse45[[\"fall_hist_rcp45_p50\"]]"
   ]
  },
  {
   "cell_type": "markdown",
   "metadata": {},
   "source": [
    "# FOR RCP 85"
   ]
  },
  {
   "cell_type": "markdown",
   "metadata": {},
   "source": [
    "## Subsetting arrays by periods of time with Xclim"
   ]
  },
  {
   "cell_type": "code",
   "execution_count": 13,
   "metadata": {},
   "outputs": [
    {
     "name": "stdout",
     "output_type": "stream",
     "text": [
      "0\n",
      "<xarray.Dataset>\n",
      "Dimensions:      (lat: 320, lon: 416, realization: 11, time: 120)\n",
      "Coordinates:\n",
      "  * time         (time) datetime64[ns] 1981-12-01 1982-12-01 ... 2100-12-01\n",
      "  * lon          (lon) float32 -89.04521 -88.96188 ... -54.54659 -54.46326\n",
      "  * lat          (lat) float32 66.62331 66.53998 66.45665 ... 40.12437 40.04104\n",
      "  * realization  (realization) int64 0 1 2 3 4 5 6 7 8 9 10\n",
      "Data variables:\n",
      "    tn_mean      (realization, time, lat, lon) float32 dask.array<chunksize=(1, 1, 320, 416), meta=np.ndarray>\n",
      "Attributes:\n",
      "    Conventions:     CF-1.5\n",
      "    title:           ACCESS1-3 model output prepared for CMIP5 historical\n",
      "    history:         CMIP5 compliant file produced from raw ACCESS model outp...\n",
      "    institution:     CSIRO (Commonwealth Scientific and Industrial Research O...\n",
      "    source:          ACCESS1-3 2011. Atmosphere: AGCM v1.0 (N96 grid-point, 1...\n",
      "    redistribution:  Redistribution prohibited. For internal use only.\n",
      "1\n",
      "<xarray.Dataset>\n",
      "Dimensions:      (lat: 320, lon: 416, realization: 11, time: 120)\n",
      "Coordinates:\n",
      "  * time         (time) datetime64[ns] 1981-03-01 1982-03-01 ... 2100-03-01\n",
      "  * lon          (lon) float32 -89.04521 -88.96188 ... -54.54659 -54.46326\n",
      "  * lat          (lat) float32 66.62331 66.53998 66.45665 ... 40.12437 40.04104\n",
      "  * realization  (realization) int64 0 1 2 3 4 5 6 7 8 9 10\n",
      "Data variables:\n",
      "    tn_mean      (realization, time, lat, lon) float32 dask.array<chunksize=(1, 2, 320, 416), meta=np.ndarray>\n",
      "Attributes:\n",
      "    Conventions:     CF-1.5\n",
      "    title:           ACCESS1-3 model output prepared for CMIP5 historical\n",
      "    history:         CMIP5 compliant file produced from raw ACCESS model outp...\n",
      "    institution:     CSIRO (Commonwealth Scientific and Industrial Research O...\n",
      "    source:          ACCESS1-3 2011. Atmosphere: AGCM v1.0 (N96 grid-point, 1...\n",
      "    redistribution:  Redistribution prohibited. For internal use only.\n",
      "2\n",
      "<xarray.Dataset>\n",
      "Dimensions:      (lat: 320, lon: 416, realization: 11, time: 120)\n",
      "Coordinates:\n",
      "  * time         (time) datetime64[ns] 1981-06-01 1982-06-01 ... 2100-06-01\n",
      "  * lon          (lon) float32 -89.04521 -88.96188 ... -54.54659 -54.46326\n",
      "  * lat          (lat) float32 66.62331 66.53998 66.45665 ... 40.12437 40.04104\n",
      "  * realization  (realization) int64 0 1 2 3 4 5 6 7 8 9 10\n",
      "Data variables:\n",
      "    tn_mean      (realization, time, lat, lon) float32 dask.array<chunksize=(1, 1, 320, 416), meta=np.ndarray>\n",
      "Attributes:\n",
      "    Conventions:     CF-1.5\n",
      "    title:           ACCESS1-3 model output prepared for CMIP5 historical\n",
      "    history:         CMIP5 compliant file produced from raw ACCESS model outp...\n",
      "    institution:     CSIRO (Commonwealth Scientific and Industrial Research O...\n",
      "    source:          ACCESS1-3 2011. Atmosphere: AGCM v1.0 (N96 grid-point, 1...\n",
      "    redistribution:  Redistribution prohibited. For internal use only.\n",
      "3\n",
      "<xarray.Dataset>\n",
      "Dimensions:      (lat: 320, lon: 416, realization: 11, time: 120)\n",
      "Coordinates:\n",
      "  * time         (time) datetime64[ns] 1981-09-01 1982-09-01 ... 2100-09-01\n",
      "  * lon          (lon) float32 -89.04521 -88.96188 ... -54.54659 -54.46326\n",
      "  * lat          (lat) float32 66.62331 66.53998 66.45665 ... 40.12437 40.04104\n",
      "  * realization  (realization) int64 0 1 2 3 4 5 6 7 8 9 10\n",
      "Data variables:\n",
      "    tn_mean      (realization, time, lat, lon) float32 dask.array<chunksize=(1, 1, 320, 416), meta=np.ndarray>\n",
      "Attributes:\n",
      "    Conventions:     CF-1.5\n",
      "    title:           ACCESS1-3 model output prepared for CMIP5 historical\n",
      "    history:         CMIP5 compliant file produced from raw ACCESS model outp...\n",
      "    institution:     CSIRO (Commonwealth Scientific and Industrial Research O...\n",
      "    source:          ACCESS1-3 2011. Atmosphere: AGCM v1.0 (N96 grid-point, 1...\n",
      "    redistribution:  Redistribution prohibited. For internal use only.\n"
     ]
    }
   ],
   "source": [
    "dsEns85= ens.create_ensemble(files85)\n",
    "dsEns85.time.dt.season[0:4]\n",
    "# Seasonal example 30 y means\n",
    "listds85 = []\n",
    "i=0\n",
    "for s in dsEns85.time.dt.season[0:4]:\n",
    "    print (i)\n",
    "    tmp1 = dsEns85.sel(time=(dsEns85.time.dt.year>=1981))\n",
    "    tmp1 = tmp1.sel(time=(tmp1.time.dt.season==s))\n",
    "    print(tmp1)\n",
    "    i = i+1\n",
    "    listds85.append(tmp1)"
   ]
  },
  {
   "cell_type": "markdown",
   "metadata": {},
   "source": [
    "## Loop to create all 4 dataframes"
   ]
  },
  {
   "cell_type": "code",
   "execution_count": null,
   "metadata": {},
   "outputs": [
    {
     "name": "stdout",
     "output_type": "stream",
     "text": [
      "Dataset number:  0\n",
      "Percentiles Obteined\n"
     ]
    }
   ],
   "source": [
    "i = 0\n",
    "df85list = []\n",
    "for ds in listds85:\n",
    "    print (\"Dataset number: \", i)\n",
    "    perc85 = ens.ensemble_percentiles(ds)\n",
    "    print (\"Percentiles Obteined\")\n",
    "    df85 = perc85.to_dataframe()\n",
    "    df852 = df85.reset_index()\n",
    "    df853 = df852.loc[df852[\"realization\"] == 0].dropna()\n",
    "    print (\"Converted to DF\")\n",
    "    year_groups = {y:0 for y in range(1980,2011)}\n",
    "    year_groups.update({y:1 for y in range(2041,2071)})\n",
    "    year_groups.update({y:2 for y in range(2071,2101)})\n",
    "    dfp = df853.groupby([df853.time.dt.year.map(year_groups), \"lat\",\"lon\", \"realization\"]).mean()\n",
    "    dfp852 =  dfp.reset_index()\n",
    "    print (\"Split in 3 different time periods\")\n",
    "    df85C = dfp852.copy()\n",
    "    df85C[var+\"_p10\"] = round(df85C[var+\"_p10\"] -273.15,2)\n",
    "    df85C[var+\"_p50\"] = round(df85C[var+\"_p50\"] -273.15,2)\n",
    "    df85C[var+\"_p90\"] = round(df85C[var+\"_p90\"] -273.15,2)\n",
    "    print (\"Transformed in Celsiuds and rounded\")\n",
    "    Region1i85 = df85C.drop(columns=[\"realization\"])\n",
    "    print (\"pivoted\")\n",
    "    df85f = Region1i85.pivot_table(index=[\"lat\",\"lon\"], columns=\"time\")\n",
    "    print (\"DF pivoted\")\n",
    "    if i== 0: season = \"winter\" \n",
    "    elif i == 1: season = \"spring\"\n",
    "    elif i == 2: season = \"summer\"\n",
    "    elif i == 3: season = \"fall\"\n",
    "    print (season)\n",
    "    df85f.columns = [season + \"_\" + year + \"rcp85_p\"+p\n",
    "                     for p in [\"10\", \"50\", \"90\"]\n",
    "                     for year in [\"hist_\",\"t2050_\", \"t2080_\"]]\n",
    "    print(\"Columns renamed\")\n",
    "    df85list.append(df85f)\n",
    "    print (\"DF added to the list\")\n",
    "    i = i + 1\n",
    "    "
   ]
  },
  {
   "cell_type": "code",
   "execution_count": null,
   "metadata": {},
   "outputs": [],
   "source": [
    "df85list\n"
   ]
  },
  {
   "cell_type": "code",
   "execution_count": null,
   "metadata": {},
   "outputs": [],
   "source": [
    "dfw85 = df85list[0].reset_index()\n",
    "dfsp85 = df85list[1].reset_index()\n",
    "dfsu85 = df85list[2].reset_index()\n",
    "dff85 = df85list[3].reset_index()\n",
    "mkey = [\"lat\",\"lon\"]\n",
    "dfse85 = dfw85.merge(dfsp85, on=mkey).merge(dfsu85, on=mkey).merge(dff85, on=mkey)\n",
    "dfse85"
   ]
  },
  {
   "cell_type": "code",
   "execution_count": null,
   "metadata": {},
   "outputs": [],
   "source": [
    "dfse85.to_feather(\"/home/mlopez/EXEC/Processed data to clip with regions/rcp85\"+var+\"_seasonal.feather\")"
   ]
  },
  {
   "cell_type": "markdown",
   "metadata": {},
   "source": [
    "# Merge df45 and 85"
   ]
  },
  {
   "cell_type": "markdown",
   "metadata": {},
   "source": [
    "# Extract hist"
   ]
  },
  {
   "cell_type": "code",
   "execution_count": null,
   "metadata": {},
   "outputs": [],
   "source": [
    "dfse852 = dfse85.drop(columns=[\"winter_hist_rcp85_p10\",\"winter_hist_rcp85_p50\", \"winter_hist_rcp85_p90\", \n",
    "                               \"spring_hist_rcp85_p10\", \"spring_hist_rcp85_p50\", \"spring_hist_rcp85_p90\", \n",
    "                               \"summer_hist_rcp85_p10\",\"summer_hist_rcp85_p50\", \"summer_hist_rcp85_p90\", \n",
    "                               \"fall_hist_rcp85_p10\",\"fall_hist_rcp85_p50\", \"fall_hist_rcp85_p90\"])\n",
    "dfse852\n"
   ]
  },
  {
   "cell_type": "markdown",
   "metadata": {},
   "source": [
    "## Getting historic mean for each season"
   ]
  },
  {
   "cell_type": "code",
   "execution_count": null,
   "metadata": {},
   "outputs": [],
   "source": [
    "### Function\n",
    "def mean_season(season, dfse45, dfse85):\n",
    "    dfw45 = dfse45[[\"lat\", \"lon\", season+\"_hist_rcp45_p50\"]]\n",
    "    dfw85 = dfse85[[\"lat\", \"lon\", season+\"_hist_rcp85_p50\"]]\n",
    "    dfsew = pd.merge(dfw45, dfw85, on=[\"lat\",\"lon\"])\n",
    "    dfsew[season+\"_hist_p50\"] = round((dfsew[season+\"_hist_rcp45_p50\"]+ dfsew[season+\"_hist_rcp85_p50\"])/2, 2)\n",
    "    dftgwh2 = dfsew.reset_index()\n",
    "    dftgwh3 = dftgwh2[[\"lat\", \"lon\", season+\"_hist_p50\"]]\n",
    "    return (dftgwh3)\n"
   ]
  },
  {
   "cell_type": "markdown",
   "metadata": {},
   "source": [
    "### Winter historic mean"
   ]
  },
  {
   "cell_type": "code",
   "execution_count": null,
   "metadata": {},
   "outputs": [],
   "source": [
    "dftgwh = mean_season(\"winter\", dfse45, dfse85)\n",
    "dftgwh"
   ]
  },
  {
   "cell_type": "markdown",
   "metadata": {},
   "source": [
    "### Spring historic mean"
   ]
  },
  {
   "cell_type": "code",
   "execution_count": null,
   "metadata": {},
   "outputs": [],
   "source": [
    "dftsph = mean_season(\"spring\", dfse45, dfse85)\n",
    "dftsph"
   ]
  },
  {
   "cell_type": "markdown",
   "metadata": {},
   "source": [
    "### Summer historic mean"
   ]
  },
  {
   "cell_type": "code",
   "execution_count": null,
   "metadata": {},
   "outputs": [],
   "source": [
    "dftsuh = mean_season(\"summer\", dfse45, dfse85)\n",
    "dftsuh"
   ]
  },
  {
   "cell_type": "markdown",
   "metadata": {},
   "source": [
    "### Fall historic mean"
   ]
  },
  {
   "cell_type": "code",
   "execution_count": null,
   "metadata": {},
   "outputs": [],
   "source": [
    "dftfah = mean_season(\"fall\", dfse45, dfse85)\n",
    "dftfah"
   ]
  },
  {
   "cell_type": "markdown",
   "metadata": {},
   "source": [
    "# Merge means with the 45 and 85 DF"
   ]
  },
  {
   "cell_type": "code",
   "execution_count": null,
   "metadata": {},
   "outputs": [],
   "source": [
    "dftgseall = dfse852.merge(dfse452, on=mkey).merge(dftfah, on=mkey).merge(dftsuh, on=mkey).merge(dftsph, on=mkey).merge(dftgwh, on=mkey)"
   ]
  },
  {
   "cell_type": "code",
   "execution_count": null,
   "metadata": {},
   "outputs": [],
   "source": [
    "dftgseall"
   ]
  },
  {
   "cell_type": "code",
   "execution_count": null,
   "metadata": {},
   "outputs": [],
   "source": [
    "dftgseall.to_feather(\"/home/mlopez/EXEC/Processed data to clip with regions/\"var\"_seasonal.feather\")"
   ]
  },
  {
   "cell_type": "code",
   "execution_count": null,
   "metadata": {},
   "outputs": [],
   "source": [
    "#dftgseall = pd.read_feather(\"/home/mlopez/EXEC/Processed data to clip with regions/\"+var+\"_annual.feather\")"
   ]
  },
  {
   "cell_type": "markdown",
   "metadata": {},
   "source": [
    "# Merge complete DF with Polygons for each spatial scale"
   ]
  },
  {
   "cell_type": "markdown",
   "metadata": {},
   "source": [
    "## Dictionary - regions: column name, short name"
   ]
  },
  {
   "cell_type": "code",
   "execution_count": null,
   "metadata": {},
   "outputs": [],
   "source": []
  },
  {
   "cell_type": "code",
   "execution_count": null,
   "metadata": {},
   "outputs": [],
   "source": [
    "short_dict = {\"DDE_STF_20K_REG_FOR_VUE_S\": (\"NM_REG_FOR\", \"RF\"), \n",
    "            \"DDE_STF_20K_UA_PER_VUE_S\": (\"PER_NO_UA\", \"UA\"), \n",
    "              \"DOM_BIO\": (\"NOM\", \"DB\"), \n",
    "              \"REG_ECO\": (\"NOM\", \"RE\"), \n",
    "              \"SDOM_BIO\": (\"NOM\", \"SDB\"), \n",
    "              \"Secteurs_Operations_Regionales\": (\"D_GENERAL\", \"SOR\"), \n",
    "              \"SREG_ECO\": (\"NOM\", \"SRE\"),  \n",
    "              \"territoire_guide\": (\"TER_GUIDE\", \"TG\") \n",
    "              }\n",
    "\n",
    "for region, (name, short) in short_dict.items():\n",
    "    print(region, name, short)"
   ]
  },
  {
   "cell_type": "code",
   "execution_count": null,
   "metadata": {},
   "outputs": [],
   "source": [
    "def replace_all(text, dic):\n",
    "    for i, j in dic.items():\n",
    "        text = text.replace(i, j)\n",
    "    return text"
   ]
  },
  {
   "cell_type": "code",
   "execution_count": null,
   "metadata": {},
   "outputs": [],
   "source": [
    "d = { 'BAS-SAINT-LAURENT':\"Bas-Saint-Laurent\", \n",
    "     'SAGUENAY -LAC-SAINT-JEAN': \"Saguenay -Lac-Saint-Jean\",\n",
    "     'CAPITALE-NATIONALE-CHAUDIÈRE-APPALACHES':\"Capitale-Nationale-Chaudiere-Appalaches\",\n",
    "     'MAURICIE-CENTRE-DU-QUÉBEC':'Mauricie-Centre-du-Quebec','OUTAOUAIS':'Outaouais', \n",
    "     'ABITIBI-TEMISCAMINGUE':'Abitibi-Temiscamingue', 'COTE-NORD':'Cote-Nord',\n",
    "     'NORD-DU-QUEBEC':'Nord-Du-Quebec', 'GASPESIE-ILES-DE-LA-MADELEINE':'Gaspesie-Iles-De-La-Madeleine', \n",
    "     'LANAUDIERE':'Lanaudiere','LAURENTIDES':\"Laurentides\", \n",
    "     \"ESTRIE-MONTÉRÉGIE-LAVAL-MONTRÉAL\":\"Estrie-Monteregie-Laval-Montreal\", \n",
    "     \"é\": \"e\", \"É\": \"E\", \"à\": \"a\", \"è\": \"e\", \"Î\": \"i\", \"È\": \"E\", \"ô\" : \"o\", \"Ç\":\"C\", \"ç\":\"c\",\n",
    "       } "
   ]
  },
  {
   "cell_type": "code",
   "execution_count": null,
   "metadata": {},
   "outputs": [],
   "source": [
    "for region, (name, short) in short_dict.items():\n",
    "    print(region)\n",
    "    dfpolyshape = from_geofeather('/home/mlopez/EXEC/Grids-polygons-regions/Grid-'+region+'.feather')\n",
    "    dftp = pd.merge(dftgseall, dfpolyshape, on=[\"lat\",\"lon\"])\n",
    "    print (\"Merged with polygons\")\n",
    "    listTG = []\n",
    "    for tg in dftp[name].unique().tolist():\n",
    "        df2 = dftp[dftp[name] == tg]\n",
    "        print (tg)\n",
    "        if tg != None:\n",
    "            listTG.append(df2)\n",
    "        #print (listTG)\n",
    "    for df in listTG:\n",
    "        geometry = df[\"geometry\"]\n",
    "        crs = {'init': \"epsg:4326\"}\n",
    "        gdf = GeoDataFrame(df, crs=crs, geometry=geometry)\n",
    "        print (gdf[name].iloc[0])\n",
    "        #Substitute filename accents\n",
    "        gdf.to_file(replace_all(\"/home/mlopez/EXEC/GeoJsonMFFP/\"+gdf[name].iloc[0], d)+\"_\"var\"_seasonal.json\", driver=\"GeoJSON\")\n",
    "    geometry = dftp[\"geometry\"]\n",
    "    crs = {'init': \"epsg:4326\"}\n",
    "    gdf = GeoDataFrame(dftp, crs=crs, geometry=geometry)\n",
    "    gdf.to_file(\"/home/mlopez/EXEC/GeoJsonMFFP/\"+short+\"_\"var\"_seasonal.json\", driver=\"GeoJSON\")"
   ]
  },
  {
   "cell_type": "code",
   "execution_count": null,
   "metadata": {},
   "outputs": [],
   "source": []
  }
 ],
 "metadata": {
  "kernelspec": {
   "display_name": "Python 3",
   "language": "python",
   "name": "python3"
  },
  "language_info": {
   "codemirror_mode": {
    "name": "ipython",
    "version": 3
   },
   "file_extension": ".py",
   "mimetype": "text/x-python",
   "name": "python",
   "nbconvert_exporter": "python",
   "pygments_lexer": "ipython3",
   "version": "3.8.1"
  }
 },
 "nbformat": 4,
 "nbformat_minor": 4
}

{
 "cells": [
  {
   "cell_type": "code",
   "execution_count": 1,
   "metadata": {},
   "outputs": [],
   "source": [
    "%load_ext autoreload\n",
    "%autoreload 2\n",
    "import geopandas as gpd\n",
    "import xarray as xr\n",
    "import matplotlib.pyplot as plt\n",
    "import pandas as pd\n",
    "import processing_netcdf as pcdf\n",
    "import matplotlib.pyplot as plt\n",
    "from geopandas import GeoDataFrame\n",
    "import shapely.geometry \n",
    "import numpy as np\n",
    "from shapely import geometry as gmty\n",
    "from geofeather import to_geofeather, from_geofeather\n",
    "import itertools\n",
    "from shapely.geometry import Point\n",
    "\n",
    "import glob"
   ]
  },
  {
   "cell_type": "code",
   "execution_count": 20,
   "metadata": {},
   "outputs": [],
   "source": [
    "shapefile = \"/home/mlopez/EXEC/Shapefiles/Secteurs_Operations_Regionales.shp\""
   ]
  },
  {
   "cell_type": "markdown",
   "metadata": {},
   "source": [
    "# Accessing shapefiles"
   ]
  },
  {
   "cell_type": "code",
   "execution_count": 2,
   "metadata": {},
   "outputs": [],
   "source": [
    "shfolder = \"/home/mlopez/EXEC/Shapefiles/\"\n",
    "out_folder = \"/home/mlopez/EXEC/Grids-polygons-regions/\""
   ]
  },
  {
   "cell_type": "code",
   "execution_count": 12,
   "metadata": {},
   "outputs": [
    {
     "data": {
      "text/plain": [
       "['/home/mlopez/EXEC/Shapefiles/DDE_STF_20K_REG_FOR_VUE_S.shp',\n",
       " '/home/mlopez/EXEC/Shapefiles/DDE_STF_20K_UA_PER_VUE_S.shp',\n",
       " '/home/mlopez/EXEC/Shapefiles/DOM_BIO.shp',\n",
       " '/home/mlopez/EXEC/Shapefiles/REG_ECO.shp',\n",
       " '/home/mlopez/EXEC/Shapefiles/SDOM_BIO.shp',\n",
       " '/home/mlopez/EXEC/Shapefiles/Secteurs_Operations_Regionales.shp',\n",
       " '/home/mlopez/EXEC/Shapefiles/SREG_ECO.shp',\n",
       " '/home/mlopez/EXEC/Shapefiles/territoire_guide.shp']"
      ]
     },
     "execution_count": 12,
     "metadata": {},
     "output_type": "execute_result"
    }
   ],
   "source": [
    "shapefiles =  glob.glob(shfolder+\"*.shp\")\n",
    "shapefiles"
   ]
  },
  {
   "cell_type": "code",
   "execution_count": 32,
   "metadata": {},
   "outputs": [
    {
     "data": {
      "text/plain": [
       "['DDE_STF_20K_REG_FOR_VUE_S.shp',\n",
       " 'DDE_STF_20K_UA_PER_VUE_S.shp',\n",
       " 'DOM_BIO.shp',\n",
       " 'REG_ECO.shp',\n",
       " 'SDOM_BIO.shp',\n",
       " 'Secteurs_Operations_Regionales.shp',\n",
       " 'SREG_ECO.shp',\n",
       " 'territoire_guide.shp']"
      ]
     },
     "execution_count": 32,
     "metadata": {},
     "output_type": "execute_result"
    }
   ],
   "source": [
    "shnames1 = [str(sub.split('Shapefiles/')[1]) for sub in shapefiles] \n",
    "shnames1"
   ]
  },
  {
   "cell_type": "code",
   "execution_count": 34,
   "metadata": {},
   "outputs": [
    {
     "data": {
      "text/plain": [
       "['DDE_STF_20K_REG_FOR_VUE_S',\n",
       " 'DDE_STF_20K_UA_PER_VUE_S',\n",
       " 'DOM_BIO',\n",
       " 'REG_ECO',\n",
       " 'SDOM_BIO',\n",
       " 'Secteurs_Operations_Regionales',\n",
       " 'SREG_ECO',\n",
       " 'territoire_guide']"
      ]
     },
     "execution_count": 34,
     "metadata": {},
     "output_type": "execute_result"
    }
   ],
   "source": [
    "shnames = [str(sub.split('.shp')[0]) for sub in shnames1] \n",
    "shnames"
   ]
  },
  {
   "cell_type": "code",
   "execution_count": 35,
   "metadata": {},
   "outputs": [
    {
     "data": {
      "text/plain": [
       "'DDE_STF_20K_UA_PER_VUE_S'"
      ]
     },
     "execution_count": 35,
     "metadata": {},
     "output_type": "execute_result"
    }
   ],
   "source": [
    "shnames[1]"
   ]
  },
  {
   "cell_type": "markdown",
   "metadata": {},
   "source": [
    "# Accessing data files"
   ]
  },
  {
   "cell_type": "code",
   "execution_count": 8,
   "metadata": {},
   "outputs": [],
   "source": [
    "datafolder = \"/scen3/scenario/netcdf/ouranos/portraits-clim-2.0/\"\n",
    "\n",
    "variable = \"*rcp85_tg_mean_annual.nc\"\n"
   ]
  },
  {
   "cell_type": "markdown",
   "metadata": {},
   "source": [
    "# Convert all lat lon of 11 models into points "
   ]
  },
  {
   "cell_type": "code",
   "execution_count": 16,
   "metadata": {},
   "outputs": [
    {
     "name": "stdout",
     "output_type": "stream",
     "text": [
      "CPU times: user 1.99 s, sys: 214 ms, total: 2.2 s\n",
      "Wall time: 2.39 s\n"
     ]
    }
   ],
   "source": [
    "# It takes 20s\n",
    "%time dfpoints = pcdf.data_to_points(datafolder, variable)"
   ]
  },
  {
   "cell_type": "code",
   "execution_count": 17,
   "metadata": {},
   "outputs": [
    {
     "data": {
      "text/html": [
       "<div>\n",
       "<style scoped>\n",
       "    .dataframe tbody tr th:only-of-type {\n",
       "        vertical-align: middle;\n",
       "    }\n",
       "\n",
       "    .dataframe tbody tr th {\n",
       "        vertical-align: top;\n",
       "    }\n",
       "\n",
       "    .dataframe thead th {\n",
       "        text-align: right;\n",
       "    }\n",
       "</style>\n",
       "<table border=\"1\" class=\"dataframe\">\n",
       "  <thead>\n",
       "    <tr style=\"text-align: right;\">\n",
       "      <th></th>\n",
       "      <th>lat</th>\n",
       "      <th>lon</th>\n",
       "      <th>geometry</th>\n",
       "    </tr>\n",
       "  </thead>\n",
       "  <tbody>\n",
       "    <tr>\n",
       "      <th>0</th>\n",
       "      <td>66.623306</td>\n",
       "      <td>-89.045212</td>\n",
       "      <td>POINT (-89.04521 66.62331)</td>\n",
       "    </tr>\n",
       "    <tr>\n",
       "      <th>1</th>\n",
       "      <td>66.623306</td>\n",
       "      <td>-88.961884</td>\n",
       "      <td>POINT (-88.96188 66.62331)</td>\n",
       "    </tr>\n",
       "    <tr>\n",
       "      <th>2</th>\n",
       "      <td>66.623306</td>\n",
       "      <td>-88.878548</td>\n",
       "      <td>POINT (-88.87855 66.62331)</td>\n",
       "    </tr>\n",
       "    <tr>\n",
       "      <th>3</th>\n",
       "      <td>66.623306</td>\n",
       "      <td>-88.795219</td>\n",
       "      <td>POINT (-88.79522 66.62331)</td>\n",
       "    </tr>\n",
       "    <tr>\n",
       "      <th>4</th>\n",
       "      <td>66.623306</td>\n",
       "      <td>-88.711891</td>\n",
       "      <td>POINT (-88.71189 66.62331)</td>\n",
       "    </tr>\n",
       "    <tr>\n",
       "      <th>...</th>\n",
       "      <td>...</td>\n",
       "      <td>...</td>\n",
       "      <td>...</td>\n",
       "    </tr>\n",
       "    <tr>\n",
       "      <th>133115</th>\n",
       "      <td>40.041039</td>\n",
       "      <td>-54.796581</td>\n",
       "      <td>POINT (-54.79658 40.04104)</td>\n",
       "    </tr>\n",
       "    <tr>\n",
       "      <th>133116</th>\n",
       "      <td>40.041039</td>\n",
       "      <td>-54.713249</td>\n",
       "      <td>POINT (-54.71325 40.04104)</td>\n",
       "    </tr>\n",
       "    <tr>\n",
       "      <th>133117</th>\n",
       "      <td>40.041039</td>\n",
       "      <td>-54.629921</td>\n",
       "      <td>POINT (-54.62992 40.04104)</td>\n",
       "    </tr>\n",
       "    <tr>\n",
       "      <th>133118</th>\n",
       "      <td>40.041039</td>\n",
       "      <td>-54.546589</td>\n",
       "      <td>POINT (-54.54659 40.04104)</td>\n",
       "    </tr>\n",
       "    <tr>\n",
       "      <th>133119</th>\n",
       "      <td>40.041039</td>\n",
       "      <td>-54.463261</td>\n",
       "      <td>POINT (-54.46326 40.04104)</td>\n",
       "    </tr>\n",
       "  </tbody>\n",
       "</table>\n",
       "<p>133120 rows × 3 columns</p>\n",
       "</div>"
      ],
      "text/plain": [
       "              lat        lon                    geometry\n",
       "0       66.623306 -89.045212  POINT (-89.04521 66.62331)\n",
       "1       66.623306 -88.961884  POINT (-88.96188 66.62331)\n",
       "2       66.623306 -88.878548  POINT (-88.87855 66.62331)\n",
       "3       66.623306 -88.795219  POINT (-88.79522 66.62331)\n",
       "4       66.623306 -88.711891  POINT (-88.71189 66.62331)\n",
       "...           ...        ...                         ...\n",
       "133115  40.041039 -54.796581  POINT (-54.79658 40.04104)\n",
       "133116  40.041039 -54.713249  POINT (-54.71325 40.04104)\n",
       "133117  40.041039 -54.629921  POINT (-54.62992 40.04104)\n",
       "133118  40.041039 -54.546589  POINT (-54.54659 40.04104)\n",
       "133119  40.041039 -54.463261  POINT (-54.46326 40.04104)\n",
       "\n",
       "[133120 rows x 3 columns]"
      ]
     },
     "execution_count": 17,
     "metadata": {},
     "output_type": "execute_result"
    }
   ],
   "source": [
    "dfpoints"
   ]
  },
  {
   "cell_type": "markdown",
   "metadata": {},
   "source": [
    "# Create polygons"
   ]
  },
  {
   "cell_type": "code",
   "execution_count": 18,
   "metadata": {},
   "outputs": [
    {
     "name": "stdout",
     "output_type": "stream",
     "text": [
      "CPU times: user 1.48 s, sys: 90.9 ms, total: 1.57 s\n",
      "Wall time: 1.56 s\n"
     ]
    }
   ],
   "source": [
    "#takes 8s\n",
    "%time dfpoints.geometry  = pcdf.process_points_poly(dfpoints)"
   ]
  },
  {
   "cell_type": "code",
   "execution_count": 19,
   "metadata": {},
   "outputs": [
    {
     "data": {
      "text/html": [
       "<div>\n",
       "<style scoped>\n",
       "    .dataframe tbody tr th:only-of-type {\n",
       "        vertical-align: middle;\n",
       "    }\n",
       "\n",
       "    .dataframe tbody tr th {\n",
       "        vertical-align: top;\n",
       "    }\n",
       "\n",
       "    .dataframe thead th {\n",
       "        text-align: right;\n",
       "    }\n",
       "</style>\n",
       "<table border=\"1\" class=\"dataframe\">\n",
       "  <thead>\n",
       "    <tr style=\"text-align: right;\">\n",
       "      <th></th>\n",
       "      <th>lat</th>\n",
       "      <th>lon</th>\n",
       "      <th>geometry</th>\n",
       "    </tr>\n",
       "  </thead>\n",
       "  <tbody>\n",
       "    <tr>\n",
       "      <th>0</th>\n",
       "      <td>66.623306</td>\n",
       "      <td>-89.045212</td>\n",
       "      <td>POLYGON ((-89.08688 66.58164, -89.00355 66.581...</td>\n",
       "    </tr>\n",
       "    <tr>\n",
       "      <th>1</th>\n",
       "      <td>66.623306</td>\n",
       "      <td>-88.961884</td>\n",
       "      <td>POLYGON ((-89.00355 66.58164, -88.92022 66.581...</td>\n",
       "    </tr>\n",
       "    <tr>\n",
       "      <th>2</th>\n",
       "      <td>66.623306</td>\n",
       "      <td>-88.878548</td>\n",
       "      <td>POLYGON ((-88.92021 66.58164, -88.83688 66.581...</td>\n",
       "    </tr>\n",
       "    <tr>\n",
       "      <th>3</th>\n",
       "      <td>66.623306</td>\n",
       "      <td>-88.795219</td>\n",
       "      <td>POLYGON ((-88.83688 66.58164, -88.75356 66.581...</td>\n",
       "    </tr>\n",
       "    <tr>\n",
       "      <th>4</th>\n",
       "      <td>66.623306</td>\n",
       "      <td>-88.711891</td>\n",
       "      <td>POLYGON ((-88.75356 66.58164, -88.67023 66.581...</td>\n",
       "    </tr>\n",
       "  </tbody>\n",
       "</table>\n",
       "</div>"
      ],
      "text/plain": [
       "         lat        lon                                           geometry\n",
       "0  66.623306 -89.045212  POLYGON ((-89.08688 66.58164, -89.00355 66.581...\n",
       "1  66.623306 -88.961884  POLYGON ((-89.00355 66.58164, -88.92022 66.581...\n",
       "2  66.623306 -88.878548  POLYGON ((-88.92021 66.58164, -88.83688 66.581...\n",
       "3  66.623306 -88.795219  POLYGON ((-88.83688 66.58164, -88.75356 66.581...\n",
       "4  66.623306 -88.711891  POLYGON ((-88.75356 66.58164, -88.67023 66.581..."
      ]
     },
     "execution_count": 19,
     "metadata": {},
     "output_type": "execute_result"
    }
   ],
   "source": [
    "dfpoints.head()"
   ]
  },
  {
   "cell_type": "code",
   "execution_count": 21,
   "metadata": {},
   "outputs": [
    {
     "name": "stdout",
     "output_type": "stream",
     "text": [
      "CPU times: user 14min, sys: 1.48 s, total: 14min 2s\n",
      "Wall time: 13min 44s\n"
     ]
    }
   ],
   "source": [
    "### TAKES 10 min for all the regions TG\n",
    "%time  dfpolyshape = pcdf.make_grid(dfpoints, shapefile) #10 min with overlay #1miin with sjoin"
   ]
  },
  {
   "cell_type": "code",
   "execution_count": 25,
   "metadata": {},
   "outputs": [
    {
     "data": {
      "text/html": [
       "<div>\n",
       "<style scoped>\n",
       "    .dataframe tbody tr th:only-of-type {\n",
       "        vertical-align: middle;\n",
       "    }\n",
       "\n",
       "    .dataframe tbody tr th {\n",
       "        vertical-align: top;\n",
       "    }\n",
       "\n",
       "    .dataframe thead th {\n",
       "        text-align: right;\n",
       "    }\n",
       "</style>\n",
       "<table border=\"1\" class=\"dataframe\">\n",
       "  <thead>\n",
       "    <tr style=\"text-align: right;\">\n",
       "      <th></th>\n",
       "      <th>lat</th>\n",
       "      <th>lon</th>\n",
       "      <th>OBJECTID</th>\n",
       "      <th>NO_REG_FOR</th>\n",
       "      <th>NM_REG_FOR</th>\n",
       "      <th>NO_UG_RAF</th>\n",
       "      <th>SUP_KM2</th>\n",
       "      <th>DATE_PUBLI</th>\n",
       "      <th>Shape_Leng</th>\n",
       "      <th>Shape_Area</th>\n",
       "      <th>D_GENERAL</th>\n",
       "      <th>geometry</th>\n",
       "    </tr>\n",
       "  </thead>\n",
       "  <tbody>\n",
       "    <tr>\n",
       "      <th>0</th>\n",
       "      <td>53.040520</td>\n",
       "      <td>-66.462784</td>\n",
       "      <td>8</td>\n",
       "      <td>09</td>\n",
       "      <td>COTE-NORD</td>\n",
       "      <td>093, 094, 097</td>\n",
       "      <td>379435.8</td>\n",
       "      <td>2019-11-30</td>\n",
       "      <td>5.360494e+06</td>\n",
       "      <td>3.744732e+11</td>\n",
       "      <td>Nord-est</td>\n",
       "      <td>MULTIPOLYGON (((-66.42112 53.03552, -66.42112 ...</td>\n",
       "    </tr>\n",
       "    <tr>\n",
       "      <th>1</th>\n",
       "      <td>53.040520</td>\n",
       "      <td>-66.379448</td>\n",
       "      <td>8</td>\n",
       "      <td>09</td>\n",
       "      <td>COTE-NORD</td>\n",
       "      <td>093, 094, 097</td>\n",
       "      <td>379435.8</td>\n",
       "      <td>2019-11-30</td>\n",
       "      <td>5.360494e+06</td>\n",
       "      <td>3.744732e+11</td>\n",
       "      <td>Nord-est</td>\n",
       "      <td>POLYGON ((-66.42111 52.99885, -66.42111 53.035...</td>\n",
       "    </tr>\n",
       "    <tr>\n",
       "      <th>2</th>\n",
       "      <td>52.957191</td>\n",
       "      <td>-66.629440</td>\n",
       "      <td>8</td>\n",
       "      <td>09</td>\n",
       "      <td>COTE-NORD</td>\n",
       "      <td>093, 094, 097</td>\n",
       "      <td>379435.8</td>\n",
       "      <td>2019-11-30</td>\n",
       "      <td>5.360494e+06</td>\n",
       "      <td>3.744732e+11</td>\n",
       "      <td>Nord-est</td>\n",
       "      <td>POLYGON ((-66.58778 52.94277, -66.58778 52.915...</td>\n",
       "    </tr>\n",
       "    <tr>\n",
       "      <th>3</th>\n",
       "      <td>52.957191</td>\n",
       "      <td>-66.546112</td>\n",
       "      <td>8</td>\n",
       "      <td>09</td>\n",
       "      <td>COTE-NORD</td>\n",
       "      <td>093, 094, 097</td>\n",
       "      <td>379435.8</td>\n",
       "      <td>2019-11-30</td>\n",
       "      <td>5.360494e+06</td>\n",
       "      <td>3.744732e+11</td>\n",
       "      <td>Nord-est</td>\n",
       "      <td>POLYGON ((-66.58778 52.91553, -66.58778 52.942...</td>\n",
       "    </tr>\n",
       "    <tr>\n",
       "      <th>4</th>\n",
       "      <td>52.957191</td>\n",
       "      <td>-66.462784</td>\n",
       "      <td>8</td>\n",
       "      <td>09</td>\n",
       "      <td>COTE-NORD</td>\n",
       "      <td>093, 094, 097</td>\n",
       "      <td>379435.8</td>\n",
       "      <td>2019-11-30</td>\n",
       "      <td>5.360494e+06</td>\n",
       "      <td>3.744732e+11</td>\n",
       "      <td>Nord-est</td>\n",
       "      <td>POLYGON ((-66.50445 52.91553, -66.50445 52.948...</td>\n",
       "    </tr>\n",
       "  </tbody>\n",
       "</table>\n",
       "</div>"
      ],
      "text/plain": [
       "         lat        lon  OBJECTID NO_REG_FOR NM_REG_FOR      NO_UG_RAF  \\\n",
       "0  53.040520 -66.462784         8         09  COTE-NORD  093, 094, 097   \n",
       "1  53.040520 -66.379448         8         09  COTE-NORD  093, 094, 097   \n",
       "2  52.957191 -66.629440         8         09  COTE-NORD  093, 094, 097   \n",
       "3  52.957191 -66.546112         8         09  COTE-NORD  093, 094, 097   \n",
       "4  52.957191 -66.462784         8         09  COTE-NORD  093, 094, 097   \n",
       "\n",
       "    SUP_KM2  DATE_PUBLI    Shape_Leng    Shape_Area D_GENERAL  \\\n",
       "0  379435.8  2019-11-30  5.360494e+06  3.744732e+11  Nord-est   \n",
       "1  379435.8  2019-11-30  5.360494e+06  3.744732e+11  Nord-est   \n",
       "2  379435.8  2019-11-30  5.360494e+06  3.744732e+11  Nord-est   \n",
       "3  379435.8  2019-11-30  5.360494e+06  3.744732e+11  Nord-est   \n",
       "4  379435.8  2019-11-30  5.360494e+06  3.744732e+11  Nord-est   \n",
       "\n",
       "                                            geometry  \n",
       "0  MULTIPOLYGON (((-66.42112 53.03552, -66.42112 ...  \n",
       "1  POLYGON ((-66.42111 52.99885, -66.42111 53.035...  \n",
       "2  POLYGON ((-66.58778 52.94277, -66.58778 52.915...  \n",
       "3  POLYGON ((-66.58778 52.91553, -66.58778 52.942...  \n",
       "4  POLYGON ((-66.50445 52.91553, -66.50445 52.948...  "
      ]
     },
     "execution_count": 25,
     "metadata": {},
     "output_type": "execute_result"
    }
   ],
   "source": [
    "dfpolyshape.head()"
   ]
  },
  {
   "cell_type": "code",
   "execution_count": 36,
   "metadata": {},
   "outputs": [],
   "source": [
    "to_geofeather(dfpolyshape, 'Grid'+shnames[1]+'.feather')"
   ]
  },
  {
   "cell_type": "code",
   "execution_count": null,
   "metadata": {},
   "outputs": [],
   "source": [
    "shnames[1]"
   ]
  },
  {
   "cell_type": "code",
   "execution_count": 46,
   "metadata": {},
   "outputs": [
    {
     "name": "stdout",
     "output_type": "stream",
     "text": [
      "/home/mlopez/EXEC/Shapefiles/REG_ECO.shp\n",
      "3\n",
      "/home/mlopez/EXEC/Shapefiles/DDE_STF_20K_REG_FOR_VUE_S.shp\n",
      "geofather done\n",
      "/home/mlopez/EXEC/Shapefiles/SDOM_BIO.shp\n",
      "4\n"
     ]
    },
    {
     "ename": "KeyboardInterrupt",
     "evalue": "",
     "output_type": "error",
     "traceback": [
      "\u001b[0;31m---------------------------------------------------------------------------\u001b[0m",
      "\u001b[0;31mKeyboardInterrupt\u001b[0m                         Traceback (most recent call last)",
      "\u001b[0;32m<ipython-input-46-c8adc1ae59a4>\u001b[0m in \u001b[0;36m<module>\u001b[0;34m\u001b[0m\n\u001b[1;32m      3\u001b[0m     \u001b[0mprint\u001b[0m \u001b[0;34m(\u001b[0m\u001b[0mshapefiles\u001b[0m\u001b[0;34m[\u001b[0m\u001b[0mi\u001b[0m\u001b[0;34m]\u001b[0m\u001b[0;34m)\u001b[0m\u001b[0;34m\u001b[0m\u001b[0;34m\u001b[0m\u001b[0m\n\u001b[1;32m      4\u001b[0m     \u001b[0mprint\u001b[0m\u001b[0;34m(\u001b[0m\u001b[0mi\u001b[0m\u001b[0;34m)\u001b[0m\u001b[0;34m\u001b[0m\u001b[0;34m\u001b[0m\u001b[0m\n\u001b[0;32m----> 5\u001b[0;31m     \u001b[0mdfpolyshape\u001b[0m \u001b[0;34m=\u001b[0m \u001b[0mpcdf\u001b[0m\u001b[0;34m.\u001b[0m\u001b[0mmake_grid\u001b[0m\u001b[0;34m(\u001b[0m\u001b[0mdfpoints\u001b[0m\u001b[0;34m,\u001b[0m \u001b[0mshapefiles\u001b[0m\u001b[0;34m[\u001b[0m\u001b[0mi\u001b[0m\u001b[0;34m]\u001b[0m\u001b[0;34m)\u001b[0m\u001b[0;34m\u001b[0m\u001b[0;34m\u001b[0m\u001b[0m\n\u001b[0m\u001b[1;32m      6\u001b[0m     \u001b[0mprint\u001b[0m\u001b[0;34m(\u001b[0m\u001b[0mshape\u001b[0m\u001b[0;34m)\u001b[0m\u001b[0;34m\u001b[0m\u001b[0;34m\u001b[0m\u001b[0m\n\u001b[1;32m      7\u001b[0m     \u001b[0mto_geofeather\u001b[0m\u001b[0;34m(\u001b[0m\u001b[0mdfpolyshape\u001b[0m\u001b[0;34m,\u001b[0m \u001b[0;34m'Grid'\u001b[0m\u001b[0;34m+\u001b[0m\u001b[0mshnames\u001b[0m\u001b[0;34m[\u001b[0m\u001b[0mi\u001b[0m\u001b[0;34m]\u001b[0m\u001b[0;34m+\u001b[0m\u001b[0;34m'.feather'\u001b[0m\u001b[0;34m)\u001b[0m\u001b[0;34m\u001b[0m\u001b[0;34m\u001b[0m\u001b[0m\n",
      "\u001b[0;32m/exec/mlopez/Code/GitHub/processing_netcdf.py\u001b[0m in \u001b[0;36mmake_grid\u001b[0;34m(grid, path_filename_shapefile)\u001b[0m\n\u001b[1;32m    111\u001b[0m     \u001b[0mshape\u001b[0m \u001b[0;34m=\u001b[0m \u001b[0mshape0\u001b[0m\u001b[0;34m[\u001b[0m\u001b[0mshape0\u001b[0m\u001b[0;34m.\u001b[0m\u001b[0mgeometry\u001b[0m\u001b[0;34m.\u001b[0m\u001b[0mtype\u001b[0m \u001b[0;34m==\u001b[0m \u001b[0;34m'Polygon'\u001b[0m\u001b[0;34m]\u001b[0m\u001b[0;34m.\u001b[0m\u001b[0mto_crs\u001b[0m\u001b[0;34m(\u001b[0m\u001b[0;34m{\u001b[0m\u001b[0;34m'init'\u001b[0m\u001b[0;34m:\u001b[0m \u001b[0;34m'epsg:4326'\u001b[0m\u001b[0;34m}\u001b[0m\u001b[0;34m)\u001b[0m\u001b[0;34m\u001b[0m\u001b[0;34m\u001b[0m\u001b[0m\n\u001b[1;32m    112\u001b[0m     \u001b[0;31m#dfpolyclip = gpd.sjoin(grid, shape, op=\"intersects\")\u001b[0m\u001b[0;34m\u001b[0m\u001b[0;34m\u001b[0m\u001b[0;34m\u001b[0m\u001b[0m\n\u001b[0;32m--> 113\u001b[0;31m     \u001b[0mdfpolyclip\u001b[0m \u001b[0;34m=\u001b[0m \u001b[0mgpd\u001b[0m\u001b[0;34m.\u001b[0m\u001b[0moverlay\u001b[0m\u001b[0;34m(\u001b[0m\u001b[0mgrid\u001b[0m\u001b[0;34m,\u001b[0m \u001b[0mshape\u001b[0m\u001b[0;34m,\u001b[0m \u001b[0mhow\u001b[0m\u001b[0;34m=\u001b[0m\u001b[0;34m\"intersection\"\u001b[0m\u001b[0;34m)\u001b[0m\u001b[0;34m\u001b[0m\u001b[0;34m\u001b[0m\u001b[0m\n\u001b[0m\u001b[1;32m    114\u001b[0m     \u001b[0;32mreturn\u001b[0m \u001b[0mdfpolyclip\u001b[0m\u001b[0;34m\u001b[0m\u001b[0;34m\u001b[0m\u001b[0m\n\u001b[1;32m    115\u001b[0m \u001b[0;34m\u001b[0m\u001b[0m\n",
      "\u001b[0;32m~/EXEC/anaconda3/envs/python37-2/lib/python3.8/site-packages/geopandas/tools/overlay.py\u001b[0m in \u001b[0;36moverlay\u001b[0;34m(df1, df2, how, make_valid, use_sindex)\u001b[0m\n\u001b[1;32m    389\u001b[0m         \u001b[0;32mreturn\u001b[0m \u001b[0m_overlay_difference\u001b[0m\u001b[0;34m(\u001b[0m\u001b[0mdf1\u001b[0m\u001b[0;34m,\u001b[0m \u001b[0mdf2\u001b[0m\u001b[0;34m)\u001b[0m\u001b[0;34m\u001b[0m\u001b[0;34m\u001b[0m\u001b[0m\n\u001b[1;32m    390\u001b[0m     \u001b[0;32melif\u001b[0m \u001b[0mhow\u001b[0m \u001b[0;34m==\u001b[0m \u001b[0;34m\"intersection\"\u001b[0m\u001b[0;34m:\u001b[0m\u001b[0;34m\u001b[0m\u001b[0;34m\u001b[0m\u001b[0m\n\u001b[0;32m--> 391\u001b[0;31m         \u001b[0mresult\u001b[0m \u001b[0;34m=\u001b[0m \u001b[0m_overlay_intersection\u001b[0m\u001b[0;34m(\u001b[0m\u001b[0mdf1\u001b[0m\u001b[0;34m,\u001b[0m \u001b[0mdf2\u001b[0m\u001b[0;34m)\u001b[0m\u001b[0;34m\u001b[0m\u001b[0;34m\u001b[0m\u001b[0m\n\u001b[0m\u001b[1;32m    392\u001b[0m     \u001b[0;32melif\u001b[0m \u001b[0mhow\u001b[0m \u001b[0;34m==\u001b[0m \u001b[0;34m\"symmetric_difference\"\u001b[0m\u001b[0;34m:\u001b[0m\u001b[0;34m\u001b[0m\u001b[0;34m\u001b[0m\u001b[0m\n\u001b[1;32m    393\u001b[0m         \u001b[0mresult\u001b[0m \u001b[0;34m=\u001b[0m \u001b[0m_overlay_symmetric_diff\u001b[0m\u001b[0;34m(\u001b[0m\u001b[0mdf1\u001b[0m\u001b[0;34m,\u001b[0m \u001b[0mdf2\u001b[0m\u001b[0;34m)\u001b[0m\u001b[0;34m\u001b[0m\u001b[0;34m\u001b[0m\u001b[0m\n",
      "\u001b[0;32m~/EXEC/anaconda3/envs/python37-2/lib/python3.8/site-packages/geopandas/tools/overlay.py\u001b[0m in \u001b[0;36m_overlay_intersection\u001b[0;34m(df1, df2)\u001b[0m\n\u001b[1;32m    226\u001b[0m         \u001b[0mright\u001b[0m \u001b[0;34m=\u001b[0m \u001b[0mdf2\u001b[0m\u001b[0;34m.\u001b[0m\u001b[0mgeometry\u001b[0m\u001b[0;34m.\u001b[0m\u001b[0mtake\u001b[0m\u001b[0;34m(\u001b[0m\u001b[0mpairs\u001b[0m\u001b[0;34m[\u001b[0m\u001b[0;34m\"__idx2\"\u001b[0m\u001b[0;34m]\u001b[0m\u001b[0;34m.\u001b[0m\u001b[0mvalues\u001b[0m\u001b[0;34m)\u001b[0m\u001b[0;34m\u001b[0m\u001b[0;34m\u001b[0m\u001b[0m\n\u001b[1;32m    227\u001b[0m         \u001b[0mright\u001b[0m\u001b[0;34m.\u001b[0m\u001b[0mreset_index\u001b[0m\u001b[0;34m(\u001b[0m\u001b[0mdrop\u001b[0m\u001b[0;34m=\u001b[0m\u001b[0;32mTrue\u001b[0m\u001b[0;34m,\u001b[0m \u001b[0minplace\u001b[0m\u001b[0;34m=\u001b[0m\u001b[0;32mTrue\u001b[0m\u001b[0;34m)\u001b[0m\u001b[0;34m\u001b[0m\u001b[0;34m\u001b[0m\u001b[0m\n\u001b[0;32m--> 228\u001b[0;31m         \u001b[0mintersections\u001b[0m \u001b[0;34m=\u001b[0m \u001b[0mleft\u001b[0m\u001b[0;34m.\u001b[0m\u001b[0mintersection\u001b[0m\u001b[0;34m(\u001b[0m\u001b[0mright\u001b[0m\u001b[0;34m)\u001b[0m\u001b[0;34m.\u001b[0m\u001b[0mbuffer\u001b[0m\u001b[0;34m(\u001b[0m\u001b[0;36m0\u001b[0m\u001b[0;34m)\u001b[0m\u001b[0;34m\u001b[0m\u001b[0;34m\u001b[0m\u001b[0m\n\u001b[0m\u001b[1;32m    229\u001b[0m \u001b[0;34m\u001b[0m\u001b[0m\n\u001b[1;32m    230\u001b[0m         \u001b[0;31m# only keep actual intersecting geometries\u001b[0m\u001b[0;34m\u001b[0m\u001b[0;34m\u001b[0m\u001b[0;34m\u001b[0m\u001b[0m\n",
      "\u001b[0;32m~/EXEC/anaconda3/envs/python37-2/lib/python3.8/site-packages/geopandas/base.py\u001b[0m in \u001b[0;36mintersection\u001b[0;34m(self, other)\u001b[0m\n\u001b[1;32m    478\u001b[0m             \u001b[0mintersection\u001b[0m \u001b[0;32mwith\u001b[0m\u001b[0;34m.\u001b[0m\u001b[0;34m\u001b[0m\u001b[0;34m\u001b[0m\u001b[0m\n\u001b[1;32m    479\u001b[0m         \"\"\"\n\u001b[0;32m--> 480\u001b[0;31m         \u001b[0;32mreturn\u001b[0m \u001b[0m_binary_geo\u001b[0m\u001b[0;34m(\u001b[0m\u001b[0;34m\"intersection\"\u001b[0m\u001b[0;34m,\u001b[0m \u001b[0mself\u001b[0m\u001b[0;34m,\u001b[0m \u001b[0mother\u001b[0m\u001b[0;34m)\u001b[0m\u001b[0;34m\u001b[0m\u001b[0;34m\u001b[0m\u001b[0m\n\u001b[0m\u001b[1;32m    481\u001b[0m \u001b[0;34m\u001b[0m\u001b[0m\n\u001b[1;32m    482\u001b[0m     \u001b[0;31m#\u001b[0m\u001b[0;34m\u001b[0m\u001b[0;34m\u001b[0m\u001b[0;34m\u001b[0m\u001b[0m\n",
      "\u001b[0;32m~/EXEC/anaconda3/envs/python37-2/lib/python3.8/site-packages/geopandas/base.py\u001b[0m in \u001b[0;36m_binary_geo\u001b[0;34m(op, this, other)\u001b[0m\n\u001b[1;32m     64\u001b[0m     \u001b[0;32mfrom\u001b[0m \u001b[0;34m.\u001b[0m\u001b[0mgeoseries\u001b[0m \u001b[0;32mimport\u001b[0m \u001b[0mGeoSeries\u001b[0m\u001b[0;34m\u001b[0m\u001b[0;34m\u001b[0m\u001b[0m\n\u001b[1;32m     65\u001b[0m \u001b[0;34m\u001b[0m\u001b[0m\n\u001b[0;32m---> 66\u001b[0;31m     \u001b[0mgeoms\u001b[0m\u001b[0;34m,\u001b[0m \u001b[0mindex\u001b[0m \u001b[0;34m=\u001b[0m \u001b[0m_delegate_binary_method\u001b[0m\u001b[0;34m(\u001b[0m\u001b[0mop\u001b[0m\u001b[0;34m,\u001b[0m \u001b[0mthis\u001b[0m\u001b[0;34m,\u001b[0m \u001b[0mother\u001b[0m\u001b[0;34m)\u001b[0m\u001b[0;34m\u001b[0m\u001b[0;34m\u001b[0m\u001b[0m\n\u001b[0m\u001b[1;32m     67\u001b[0m     \u001b[0;32mreturn\u001b[0m \u001b[0mGeoSeries\u001b[0m\u001b[0;34m(\u001b[0m\u001b[0mgeoms\u001b[0m\u001b[0;34m.\u001b[0m\u001b[0mdata\u001b[0m\u001b[0;34m,\u001b[0m \u001b[0mindex\u001b[0m\u001b[0;34m=\u001b[0m\u001b[0mindex\u001b[0m\u001b[0;34m,\u001b[0m \u001b[0mcrs\u001b[0m\u001b[0;34m=\u001b[0m\u001b[0mthis\u001b[0m\u001b[0;34m.\u001b[0m\u001b[0mcrs\u001b[0m\u001b[0;34m)\u001b[0m\u001b[0;34m\u001b[0m\u001b[0;34m\u001b[0m\u001b[0m\n\u001b[1;32m     68\u001b[0m \u001b[0;34m\u001b[0m\u001b[0m\n",
      "\u001b[0;32m~/EXEC/anaconda3/envs/python37-2/lib/python3.8/site-packages/geopandas/base.py\u001b[0m in \u001b[0;36m_delegate_binary_method\u001b[0;34m(op, this, other, *args, **kwargs)\u001b[0m\n\u001b[1;32m     55\u001b[0m         \u001b[0;32mraise\u001b[0m \u001b[0mTypeError\u001b[0m\u001b[0;34m(\u001b[0m\u001b[0mtype\u001b[0m\u001b[0;34m(\u001b[0m\u001b[0mthis\u001b[0m\u001b[0;34m)\u001b[0m\u001b[0;34m,\u001b[0m \u001b[0mtype\u001b[0m\u001b[0;34m(\u001b[0m\u001b[0mother\u001b[0m\u001b[0;34m)\u001b[0m\u001b[0;34m)\u001b[0m\u001b[0;34m\u001b[0m\u001b[0;34m\u001b[0m\u001b[0m\n\u001b[1;32m     56\u001b[0m \u001b[0;34m\u001b[0m\u001b[0m\n\u001b[0;32m---> 57\u001b[0;31m     \u001b[0mdata\u001b[0m \u001b[0;34m=\u001b[0m \u001b[0mgetattr\u001b[0m\u001b[0;34m(\u001b[0m\u001b[0ma_this\u001b[0m\u001b[0;34m,\u001b[0m \u001b[0mop\u001b[0m\u001b[0;34m)\u001b[0m\u001b[0;34m(\u001b[0m\u001b[0mother\u001b[0m\u001b[0;34m,\u001b[0m \u001b[0;34m*\u001b[0m\u001b[0margs\u001b[0m\u001b[0;34m,\u001b[0m \u001b[0;34m**\u001b[0m\u001b[0mkwargs\u001b[0m\u001b[0;34m)\u001b[0m\u001b[0;34m\u001b[0m\u001b[0;34m\u001b[0m\u001b[0m\n\u001b[0m\u001b[1;32m     58\u001b[0m     \u001b[0;32mreturn\u001b[0m \u001b[0mdata\u001b[0m\u001b[0;34m,\u001b[0m \u001b[0mthis\u001b[0m\u001b[0;34m.\u001b[0m\u001b[0mindex\u001b[0m\u001b[0;34m\u001b[0m\u001b[0;34m\u001b[0m\u001b[0m\n\u001b[1;32m     59\u001b[0m \u001b[0;34m\u001b[0m\u001b[0m\n",
      "\u001b[0;32m~/EXEC/anaconda3/envs/python37-2/lib/python3.8/site-packages/geopandas/array.py\u001b[0m in \u001b[0;36mintersection\u001b[0;34m(self, other)\u001b[0m\n\u001b[1;32m    612\u001b[0m \u001b[0;34m\u001b[0m\u001b[0m\n\u001b[1;32m    613\u001b[0m     \u001b[0;32mdef\u001b[0m \u001b[0mintersection\u001b[0m\u001b[0;34m(\u001b[0m\u001b[0mself\u001b[0m\u001b[0;34m,\u001b[0m \u001b[0mother\u001b[0m\u001b[0;34m)\u001b[0m\u001b[0;34m:\u001b[0m\u001b[0;34m\u001b[0m\u001b[0;34m\u001b[0m\u001b[0m\n\u001b[0;32m--> 614\u001b[0;31m         \u001b[0;32mreturn\u001b[0m \u001b[0m_binary_geo\u001b[0m\u001b[0;34m(\u001b[0m\u001b[0;34m\"intersection\"\u001b[0m\u001b[0;34m,\u001b[0m \u001b[0mself\u001b[0m\u001b[0;34m,\u001b[0m \u001b[0mother\u001b[0m\u001b[0;34m)\u001b[0m\u001b[0;34m\u001b[0m\u001b[0;34m\u001b[0m\u001b[0m\n\u001b[0m\u001b[1;32m    615\u001b[0m \u001b[0;34m\u001b[0m\u001b[0m\n\u001b[1;32m    616\u001b[0m     \u001b[0;32mdef\u001b[0m \u001b[0msymmetric_difference\u001b[0m\u001b[0;34m(\u001b[0m\u001b[0mself\u001b[0m\u001b[0;34m,\u001b[0m \u001b[0mother\u001b[0m\u001b[0;34m)\u001b[0m\u001b[0;34m:\u001b[0m\u001b[0;34m\u001b[0m\u001b[0;34m\u001b[0m\u001b[0m\n",
      "\u001b[0;32m~/EXEC/anaconda3/envs/python37-2/lib/python3.8/site-packages/geopandas/array.py\u001b[0m in \u001b[0;36m_binary_geo\u001b[0;34m(op, left, right)\u001b[0m\n\u001b[1;32m    240\u001b[0m             \u001b[0;32mraise\u001b[0m \u001b[0mValueError\u001b[0m\u001b[0;34m(\u001b[0m\u001b[0mmsg\u001b[0m\u001b[0;34m)\u001b[0m\u001b[0;34m\u001b[0m\u001b[0;34m\u001b[0m\u001b[0m\n\u001b[1;32m    241\u001b[0m         \u001b[0mdata\u001b[0m \u001b[0;34m=\u001b[0m \u001b[0mnp\u001b[0m\u001b[0;34m.\u001b[0m\u001b[0mempty\u001b[0m\u001b[0;34m(\u001b[0m\u001b[0mlen\u001b[0m\u001b[0;34m(\u001b[0m\u001b[0mleft\u001b[0m\u001b[0;34m)\u001b[0m\u001b[0;34m,\u001b[0m \u001b[0mdtype\u001b[0m\u001b[0;34m=\u001b[0m\u001b[0mobject\u001b[0m\u001b[0;34m)\u001b[0m\u001b[0;34m\u001b[0m\u001b[0;34m\u001b[0m\u001b[0m\n\u001b[0;32m--> 242\u001b[0;31m         data[:] = [\n\u001b[0m\u001b[1;32m    243\u001b[0m             \u001b[0mgetattr\u001b[0m\u001b[0;34m(\u001b[0m\u001b[0mthis_elem\u001b[0m\u001b[0;34m,\u001b[0m \u001b[0mop\u001b[0m\u001b[0;34m)\u001b[0m\u001b[0;34m(\u001b[0m\u001b[0mother_elem\u001b[0m\u001b[0;34m)\u001b[0m \u001b[0;32mif\u001b[0m \u001b[0mthis_elem\u001b[0m \u001b[0;32mand\u001b[0m \u001b[0mother_elem\u001b[0m \u001b[0;32melse\u001b[0m \u001b[0;32mNone\u001b[0m\u001b[0;34m\u001b[0m\u001b[0;34m\u001b[0m\u001b[0m\n\u001b[1;32m    244\u001b[0m             \u001b[0;32mfor\u001b[0m \u001b[0mthis_elem\u001b[0m\u001b[0;34m,\u001b[0m \u001b[0mother_elem\u001b[0m \u001b[0;32min\u001b[0m \u001b[0mzip\u001b[0m\u001b[0;34m(\u001b[0m\u001b[0mleft\u001b[0m\u001b[0;34m.\u001b[0m\u001b[0mdata\u001b[0m\u001b[0;34m,\u001b[0m \u001b[0mright\u001b[0m\u001b[0;34m.\u001b[0m\u001b[0mdata\u001b[0m\u001b[0;34m)\u001b[0m\u001b[0;34m\u001b[0m\u001b[0;34m\u001b[0m\u001b[0m\n",
      "\u001b[0;32m~/EXEC/anaconda3/envs/python37-2/lib/python3.8/site-packages/geopandas/array.py\u001b[0m in \u001b[0;36m<listcomp>\u001b[0;34m(.0)\u001b[0m\n\u001b[1;32m    241\u001b[0m         \u001b[0mdata\u001b[0m \u001b[0;34m=\u001b[0m \u001b[0mnp\u001b[0m\u001b[0;34m.\u001b[0m\u001b[0mempty\u001b[0m\u001b[0;34m(\u001b[0m\u001b[0mlen\u001b[0m\u001b[0;34m(\u001b[0m\u001b[0mleft\u001b[0m\u001b[0;34m)\u001b[0m\u001b[0;34m,\u001b[0m \u001b[0mdtype\u001b[0m\u001b[0;34m=\u001b[0m\u001b[0mobject\u001b[0m\u001b[0;34m)\u001b[0m\u001b[0;34m\u001b[0m\u001b[0;34m\u001b[0m\u001b[0m\n\u001b[1;32m    242\u001b[0m         data[:] = [\n\u001b[0;32m--> 243\u001b[0;31m             \u001b[0mgetattr\u001b[0m\u001b[0;34m(\u001b[0m\u001b[0mthis_elem\u001b[0m\u001b[0;34m,\u001b[0m \u001b[0mop\u001b[0m\u001b[0;34m)\u001b[0m\u001b[0;34m(\u001b[0m\u001b[0mother_elem\u001b[0m\u001b[0;34m)\u001b[0m \u001b[0;32mif\u001b[0m \u001b[0mthis_elem\u001b[0m \u001b[0;32mand\u001b[0m \u001b[0mother_elem\u001b[0m \u001b[0;32melse\u001b[0m \u001b[0;32mNone\u001b[0m\u001b[0;34m\u001b[0m\u001b[0;34m\u001b[0m\u001b[0m\n\u001b[0m\u001b[1;32m    244\u001b[0m             \u001b[0;32mfor\u001b[0m \u001b[0mthis_elem\u001b[0m\u001b[0;34m,\u001b[0m \u001b[0mother_elem\u001b[0m \u001b[0;32min\u001b[0m \u001b[0mzip\u001b[0m\u001b[0;34m(\u001b[0m\u001b[0mleft\u001b[0m\u001b[0;34m.\u001b[0m\u001b[0mdata\u001b[0m\u001b[0;34m,\u001b[0m \u001b[0mright\u001b[0m\u001b[0;34m.\u001b[0m\u001b[0mdata\u001b[0m\u001b[0;34m)\u001b[0m\u001b[0;34m\u001b[0m\u001b[0;34m\u001b[0m\u001b[0m\n\u001b[1;32m    245\u001b[0m         ]\n",
      "\u001b[0;32m~/EXEC/anaconda3/envs/python37-2/lib/python3.8/site-packages/shapely/geometry/base.py\u001b[0m in \u001b[0;36mintersection\u001b[0;34m(self, other)\u001b[0m\n\u001b[1;32m    618\u001b[0m     \u001b[0;32mdef\u001b[0m \u001b[0mintersection\u001b[0m\u001b[0;34m(\u001b[0m\u001b[0mself\u001b[0m\u001b[0;34m,\u001b[0m \u001b[0mother\u001b[0m\u001b[0;34m)\u001b[0m\u001b[0;34m:\u001b[0m\u001b[0;34m\u001b[0m\u001b[0;34m\u001b[0m\u001b[0m\n\u001b[1;32m    619\u001b[0m         \u001b[0;34m\"\"\"Returns the intersection of the geometries\"\"\"\u001b[0m\u001b[0;34m\u001b[0m\u001b[0;34m\u001b[0m\u001b[0m\n\u001b[0;32m--> 620\u001b[0;31m         \u001b[0;32mreturn\u001b[0m \u001b[0mgeom_factory\u001b[0m\u001b[0;34m(\u001b[0m\u001b[0mself\u001b[0m\u001b[0;34m.\u001b[0m\u001b[0mimpl\u001b[0m\u001b[0;34m[\u001b[0m\u001b[0;34m'intersection'\u001b[0m\u001b[0;34m]\u001b[0m\u001b[0;34m(\u001b[0m\u001b[0mself\u001b[0m\u001b[0;34m,\u001b[0m \u001b[0mother\u001b[0m\u001b[0;34m)\u001b[0m\u001b[0;34m)\u001b[0m\u001b[0;34m\u001b[0m\u001b[0;34m\u001b[0m\u001b[0m\n\u001b[0m\u001b[1;32m    621\u001b[0m \u001b[0;34m\u001b[0m\u001b[0m\n\u001b[1;32m    622\u001b[0m     \u001b[0;32mdef\u001b[0m \u001b[0msymmetric_difference\u001b[0m\u001b[0;34m(\u001b[0m\u001b[0mself\u001b[0m\u001b[0;34m,\u001b[0m \u001b[0mother\u001b[0m\u001b[0;34m)\u001b[0m\u001b[0;34m:\u001b[0m\u001b[0;34m\u001b[0m\u001b[0;34m\u001b[0m\u001b[0m\n",
      "\u001b[0;32m~/EXEC/anaconda3/envs/python37-2/lib/python3.8/site-packages/shapely/topology.py\u001b[0m in \u001b[0;36m__call__\u001b[0;34m(self, this, other, *args)\u001b[0m\n\u001b[1;32m     64\u001b[0m         \u001b[0mself\u001b[0m\u001b[0;34m.\u001b[0m\u001b[0m_validate\u001b[0m\u001b[0;34m(\u001b[0m\u001b[0mthis\u001b[0m\u001b[0;34m)\u001b[0m\u001b[0;34m\u001b[0m\u001b[0;34m\u001b[0m\u001b[0m\n\u001b[1;32m     65\u001b[0m         \u001b[0mself\u001b[0m\u001b[0;34m.\u001b[0m\u001b[0m_validate\u001b[0m\u001b[0;34m(\u001b[0m\u001b[0mother\u001b[0m\u001b[0;34m,\u001b[0m \u001b[0mstop_prepared\u001b[0m\u001b[0;34m=\u001b[0m\u001b[0;32mTrue\u001b[0m\u001b[0;34m)\u001b[0m\u001b[0;34m\u001b[0m\u001b[0;34m\u001b[0m\u001b[0m\n\u001b[0;32m---> 66\u001b[0;31m         \u001b[0mproduct\u001b[0m \u001b[0;34m=\u001b[0m \u001b[0mself\u001b[0m\u001b[0;34m.\u001b[0m\u001b[0mfn\u001b[0m\u001b[0;34m(\u001b[0m\u001b[0mthis\u001b[0m\u001b[0;34m.\u001b[0m\u001b[0m_geom\u001b[0m\u001b[0;34m,\u001b[0m \u001b[0mother\u001b[0m\u001b[0;34m.\u001b[0m\u001b[0m_geom\u001b[0m\u001b[0;34m,\u001b[0m \u001b[0;34m*\u001b[0m\u001b[0margs\u001b[0m\u001b[0;34m)\u001b[0m\u001b[0;34m\u001b[0m\u001b[0;34m\u001b[0m\u001b[0m\n\u001b[0m\u001b[1;32m     67\u001b[0m         \u001b[0;32mif\u001b[0m \u001b[0mproduct\u001b[0m \u001b[0;32mis\u001b[0m \u001b[0;32mNone\u001b[0m\u001b[0;34m:\u001b[0m\u001b[0;34m\u001b[0m\u001b[0;34m\u001b[0m\u001b[0m\n\u001b[1;32m     68\u001b[0m             err = TopologicalError(\n",
      "\u001b[0;31mKeyboardInterrupt\u001b[0m: "
     ]
    }
   ],
   "source": [
    "i = 3\n",
    "for shape in shapefiles:\n",
    "    print (shapefiles[i])\n",
    "    print(i)\n",
    "    dfpolyshape = pcdf.make_grid(dfpoints, shapefiles[i])\n",
    "    print(shape)\n",
    "    to_geofeather(dfpolyshape, 'Grid'+shnames[i]+'.feather')\n",
    "    print(\"geofather done\")\n",
    "    i = i+1"
   ]
  },
  {
   "cell_type": "code",
   "execution_count": null,
   "metadata": {},
   "outputs": [],
   "source": []
  }
 ],
 "metadata": {
  "kernelspec": {
   "display_name": "Python 3",
   "language": "python",
   "name": "python3"
  },
  "language_info": {
   "codemirror_mode": {
    "name": "ipython",
    "version": 3
   },
   "file_extension": ".py",
   "mimetype": "text/x-python",
   "name": "python",
   "nbconvert_exporter": "python",
   "pygments_lexer": "ipython3",
   "version": "3.8.1"
  }
 },
 "nbformat": 4,
 "nbformat_minor": 4
}

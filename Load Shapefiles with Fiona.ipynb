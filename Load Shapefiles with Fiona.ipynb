{
 "cells": [
  {
   "cell_type": "code",
   "execution_count": 7,
   "metadata": {},
   "outputs": [],
   "source": [
    "import fiona"
   ]
  },
  {
   "cell_type": "code",
   "execution_count": 8,
   "metadata": {},
   "outputs": [],
   "source": [
    "import geopandas as gpd"
   ]
  },
  {
   "cell_type": "code",
   "execution_count": 11,
   "metadata": {},
   "outputs": [
    {
     "name": "stdout",
     "output_type": "stream",
     "text": [
      "Driver\n",
      "ESRI Shapefile\n",
      "CRS\n",
      "{'proj': 'lcc', 'lat_1': 46, 'lat_2': 60, 'lat_0': 44, 'lon_0': -68.5, 'x_0': 0, 'y_0': 0, 'datum': 'NAD83', 'units': 'm', 'no_defs': True}\n",
      "BOUNDS\n",
      "(-830340.2599999979, 117964.26000000164, 787437.1700000057, 1031207.794887267)\n",
      "SCHEMA\n",
      "{'properties': OrderedDict([('OBJECTID', 'int:10'), ('NO_REG_FOR', 'str:2'), ('NM_REG_FOR', 'str:50'), ('NO_UG_RAF', 'str:50'), ('SUP_KM2', 'float:19.11'), ('DATE_PUBLI', 'date'), ('Shape_Leng', 'float:19.11'), ('Shape_Area', 'float:19.11'), ('D_GENERAL', 'str:50')]), 'geometry': 'Polygon'}\n",
      "CRS_WKT\n",
      "PROJCS[\"NAD_1983_Quebec_Lambert\",GEOGCS[\"GCS_North_American_1983\",DATUM[\"North_American_Datum_1983\",SPHEROID[\"GRS_1980\",6378137.0,298.257222101]],PRIMEM[\"Greenwich\",0.0],UNIT[\"Degree\",0.0174532925199433],AUTHORITY[\"EPSG\",\"4269\"]],PROJECTION[\"Lambert_Conformal_Conic_2SP\"],PARAMETER[\"False_Easting\",0.0],PARAMETER[\"False_Northing\",0.0],PARAMETER[\"Central_Meridian\",-68.5],PARAMETER[\"Standard_Parallel_1\",46.0],PARAMETER[\"Standard_Parallel_2\",60.0],PARAMETER[\"Latitude_Of_Origin\",44.0],UNIT[\"Meter\",1.0]]\n"
     ]
    }
   ],
   "source": [
    "with fiona.open(\"/home/mlopez/EXEC/Shapefiles/\") as src:\n",
    "    print(\"Driver\")\n",
    "    print(src.driver)\n",
    "    print(\"CRS\")\n",
    "    print(src.crs)\n",
    "    print(\"BOUNDS\")\n",
    "    print(src.bounds)\n",
    "    print(\"SCHEMA\")\n",
    "    print(src.meta[\"schema\"])\n",
    "    print(\"CRS_WKT\")\n",
    "    print(src.meta[\"crs_wkt\"])"
   ]
  }
 ],
 "metadata": {
  "kernelspec": {
   "display_name": "Python 3",
   "language": "python",
   "name": "python3"
  },
  "language_info": {
   "codemirror_mode": {
    "name": "ipython",
    "version": 3
   },
   "file_extension": ".py",
   "mimetype": "text/x-python",
   "name": "python",
   "nbconvert_exporter": "python",
   "pygments_lexer": "ipython3",
   "version": "3.7.3"
  }
 },
 "nbformat": 4,
 "nbformat_minor": 2
}

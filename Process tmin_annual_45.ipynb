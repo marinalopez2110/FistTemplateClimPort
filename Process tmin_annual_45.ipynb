{
 "cells": [
  {
   "cell_type": "code",
   "execution_count": 1,
   "metadata": {},
   "outputs": [],
   "source": [
    "%load_ext autoreload\n",
    "%autoreload 2\n",
    "import xarray as xr\n",
    "import matplotlib.pyplot as plt\n",
    "import pandas as pd\n",
    "import processing_netcdf as pcdf\n",
    "import geopandas as gpd\n",
    "from geopandas import GeoDataFrame\n",
    "import shapely.geometry \n",
    "import numpy as np\n",
    "from shapely import geometry as gmty\n",
    "from geofeather import to_geofeather, from_geofeather"
   ]
  },
  {
   "cell_type": "code",
   "execution_count": 2,
   "metadata": {},
   "outputs": [],
   "source": [
    "import glob\n",
    "import os"
   ]
  },
  {
   "cell_type": "code",
   "execution_count": 3,
   "metadata": {},
   "outputs": [],
   "source": [
    "#path for 11 models\n",
    "path = \"/home/mlopez/EXEC/tmin_annual_45/\""
   ]
  },
  {
   "cell_type": "code",
   "execution_count": 4,
   "metadata": {},
   "outputs": [],
   "source": [
    "files = list(glob.glob(os.path.join(path,'*.*')))"
   ]
  },
  {
   "cell_type": "code",
   "execution_count": 5,
   "metadata": {},
   "outputs": [
    {
     "data": {
      "text/plain": [
       "['/home/mlopez/EXEC/tmin_annual_45/BNU-ESM_rcp45_tn_mean_annual.nc',\n",
       " '/home/mlopez/EXEC/tmin_annual_45/INM-CM4_rcp45_tn_mean_annual.nc',\n",
       " '/home/mlopez/EXEC/tmin_annual_45/CMCC-CMS_rcp45_tn_mean_annual.nc',\n",
       " '/home/mlopez/EXEC/tmin_annual_45/IPSL-CM5A-LR_rcp45_tn_mean_annual.nc',\n",
       " '/home/mlopez/EXEC/tmin_annual_45/IPSL-CM5B-LR_rcp45_tn_mean_annual.nc',\n",
       " '/home/mlopez/EXEC/tmin_annual_45/NorESM1-M_rcp45_tn_mean_annual.nc',\n",
       " '/home/mlopez/EXEC/tmin_annual_45/CanESM2_rcp45_tn_mean_annual.nc',\n",
       " '/home/mlopez/EXEC/tmin_annual_45/GFDL-ESM2M_rcp45_tn_mean_annual.nc',\n",
       " '/home/mlopez/EXEC/tmin_annual_45/HadGEM2-CC_rcp45_tn_mean_annual.nc',\n",
       " '/home/mlopez/EXEC/tmin_annual_45/MPI-ESM-LR_rcp45_tn_mean_annual.nc',\n",
       " '/home/mlopez/EXEC/tmin_annual_45/ACCESS1-3_rcp45_tn_mean_annual.nc']"
      ]
     },
     "execution_count": 5,
     "metadata": {},
     "output_type": "execute_result"
    }
   ],
   "source": [
    "files"
   ]
  },
  {
   "cell_type": "markdown",
   "metadata": {},
   "source": [
    "# Create DF of all models"
   ]
  },
  {
   "cell_type": "code",
   "execution_count": 6,
   "metadata": {},
   "outputs": [],
   "source": [
    "dflist = []"
   ]
  },
  {
   "cell_type": "code",
   "execution_count": 8,
   "metadata": {
    "scrolled": true
   },
   "outputs": [
    {
     "name": "stderr",
     "output_type": "stream",
     "text": [
      "/exec/mlopez/Code/GitHub/processing_netcdf.py:24: RuntimeWarning: Converting a CFTimeIndex with dates from a non-standard calendar, 'noleap', to a pandas.DatetimeIndex, which uses dates from the standard calendar.  This may lead to subtle errors in operations that depend on the length of time between dates.\n",
      "  ds['time'] = index.to_datetimeindex()\n",
      "/exec/mlopez/Code/GitHub/processing_netcdf.py:24: RuntimeWarning: Converting a CFTimeIndex with dates from a non-standard calendar, 'noleap', to a pandas.DatetimeIndex, which uses dates from the standard calendar.  This may lead to subtle errors in operations that depend on the length of time between dates.\n",
      "  ds['time'] = index.to_datetimeindex()\n",
      "/exec/mlopez/Code/GitHub/processing_netcdf.py:24: RuntimeWarning: Converting a CFTimeIndex with dates from a non-standard calendar, '360_day', to a pandas.DatetimeIndex, which uses dates from the standard calendar.  This may lead to subtle errors in operations that depend on the length of time between dates.\n",
      "  ds['time'] = index.to_datetimeindex()\n"
     ]
    }
   ],
   "source": [
    "for file in files:\n",
    "    df = pcdf.load_as_df(file)\n",
    "    dflist.append(df)"
   ]
  },
  {
   "cell_type": "code",
   "execution_count": 9,
   "metadata": {},
   "outputs": [
    {
     "data": {
      "text/plain": [
       "[                                    tn_mean\n",
       " lat       lon        time                  \n",
       " 66.623306 -89.045212 1950-01-01  254.500427\n",
       "                      1951-01-01  253.544449\n",
       "                      1952-01-01  255.910553\n",
       "                      1953-01-01  255.576248\n",
       "                      1954-01-01  254.405655\n",
       " ...                                     ...\n",
       " 40.041039 -74.045807 2096-01-01  281.649323\n",
       "                      2097-01-01  283.469208\n",
       "                      2098-01-01  282.880341\n",
       "                      2099-01-01  283.279266\n",
       "                      2100-01-01  282.537384\n",
       " \n",
       " [11507106 rows x 1 columns],                                     tn_mean\n",
       " lat       lon        time                  \n",
       " 66.623306 -89.045212 1950-01-01  255.074188\n",
       "                      1951-01-01  254.698029\n",
       "                      1952-01-01  255.673157\n",
       "                      1953-01-01  255.497559\n",
       "                      1954-01-01  256.564209\n",
       " ...                                     ...\n",
       " 40.041039 -74.045807 2096-01-01  281.227112\n",
       "                      2097-01-01  281.039825\n",
       "                      2098-01-01  280.721497\n",
       "                      2099-01-01  281.101929\n",
       "                      2100-01-01  280.730682\n",
       " \n",
       " [11507106 rows x 1 columns],                                     tn_mean\n",
       " lat       lon        time                  \n",
       " 66.623306 -89.045212 1950-01-01  254.187164\n",
       "                      1951-01-01  256.215454\n",
       "                      1952-01-01  255.155716\n",
       "                      1953-01-01  255.078720\n",
       "                      1954-01-01  255.425613\n",
       " ...                                     ...\n",
       " 40.041039 -74.045807 2096-01-01  284.232117\n",
       "                      2097-01-01  282.211548\n",
       "                      2098-01-01  282.108063\n",
       "                      2099-01-01  281.998016\n",
       "                      2100-01-01  282.798798\n",
       " \n",
       " [11507106 rows x 1 columns],                                     tn_mean\n",
       " lat       lon        time                  \n",
       " 66.623306 -89.045212 1950-01-01  256.442200\n",
       "                      1951-01-01  255.498688\n",
       "                      1952-01-01  253.876801\n",
       "                      1953-01-01  256.490570\n",
       "                      1954-01-01  255.453552\n",
       " ...                                     ...\n",
       " 40.041039 -74.045807 2096-01-01  282.623016\n",
       "                      2097-01-01  283.224487\n",
       "                      2098-01-01  281.648956\n",
       "                      2099-01-01  284.658783\n",
       "                      2100-01-01  281.387543\n",
       " \n",
       " [11507106 rows x 1 columns],                                     tn_mean\n",
       " lat       lon        time                  \n",
       " 66.623306 -89.045212 1950-01-01  256.909210\n",
       "                      1951-01-01  255.303421\n",
       "                      1952-01-01  256.424377\n",
       "                      1953-01-01  255.709305\n",
       "                      1954-01-01  256.601440\n",
       " ...                                     ...\n",
       " 40.041039 -74.045807 2096-01-01  282.337189\n",
       "                      2097-01-01  282.276978\n",
       "                      2098-01-01  281.972992\n",
       "                      2099-01-01  282.374786\n",
       "                      2100-01-01  282.844513\n",
       " \n",
       " [11507106 rows x 1 columns],                                     tn_mean\n",
       " lat       lon        time                  \n",
       " 66.623306 -89.045212 1950-01-01  257.204071\n",
       "                      1951-01-01  255.538437\n",
       "                      1952-01-01  255.467987\n",
       "                      1953-01-01  254.634674\n",
       "                      1954-01-01  255.788116\n",
       " ...                                     ...\n",
       " 40.041039 -74.045807 2096-01-01  282.007874\n",
       "                      2097-01-01  281.860657\n",
       "                      2098-01-01  281.271240\n",
       "                      2099-01-01  282.671326\n",
       "                      2100-01-01  281.702484\n",
       " \n",
       " [11507106 rows x 1 columns],                                     tn_mean\n",
       " lat       lon        time                  \n",
       " 66.623306 -89.045212 1950-01-01  253.572266\n",
       "                      1951-01-01  254.915131\n",
       "                      1952-01-01  254.914276\n",
       "                      1953-01-01  254.480957\n",
       "                      1954-01-01  255.685318\n",
       " ...                                     ...\n",
       " 40.041039 -74.045807 2096-01-01  282.509399\n",
       "                      2097-01-01  283.073639\n",
       "                      2098-01-01  282.526398\n",
       "                      2099-01-01  281.982117\n",
       "                      2100-01-01  282.311737\n",
       " \n",
       " [11507106 rows x 1 columns],                                     tn_mean\n",
       " lat       lon        time                  \n",
       " 66.623306 -89.045212 1950-01-01  255.587387\n",
       "                      1951-01-01  254.586319\n",
       "                      1952-01-01  254.877808\n",
       "                      1953-01-01  255.619492\n",
       "                      1954-01-01  256.057953\n",
       " ...                                     ...\n",
       " 40.041039 -74.045807 2096-01-01  281.726135\n",
       "                      2097-01-01  280.896149\n",
       "                      2098-01-01  280.709717\n",
       "                      2099-01-01  280.765839\n",
       "                      2100-01-01  280.242859\n",
       " \n",
       " [11507106 rows x 1 columns],                                     tn_mean\n",
       " lat       lon        time                  \n",
       " 66.623306 -89.045212 1950-01-01  253.712845\n",
       "                      1951-01-01  254.432144\n",
       "                      1952-01-01  253.762115\n",
       "                      1953-01-01  254.860352\n",
       "                      1954-01-01  255.294189\n",
       " ...                                     ...\n",
       " 40.041039 -74.045807 2096-01-01  283.614624\n",
       "                      2097-01-01  281.809509\n",
       "                      2098-01-01  283.126526\n",
       "                      2099-01-01  284.432190\n",
       "                      2100-01-01  283.735535\n",
       " \n",
       " [11507106 rows x 1 columns],                                     tn_mean\n",
       " lat       lon        time                  \n",
       " 66.623306 -89.045212 1950-01-01  255.212845\n",
       "                      1951-01-01  253.744156\n",
       "                      1952-01-01  253.247330\n",
       "                      1953-01-01  253.125092\n",
       "                      1954-01-01  255.486984\n",
       " ...                                     ...\n",
       " 40.041039 -74.045807 2096-01-01  281.780731\n",
       "                      2097-01-01  282.407318\n",
       "                      2098-01-01  280.090912\n",
       "                      2099-01-01  281.967072\n",
       "                      2100-01-01  282.433807\n",
       " \n",
       " [11507106 rows x 1 columns],                                     tn_mean\n",
       " lat       lon        time                  \n",
       " 66.623306 -89.045212 1950-01-01  255.607208\n",
       "                      1951-01-01  255.747223\n",
       "                      1952-01-01  255.518768\n",
       "                      1953-01-01  255.136093\n",
       "                      1954-01-01  256.485352\n",
       " ...                                     ...\n",
       " 40.041039 -74.045807 2096-01-01  281.487885\n",
       "                      2097-01-01  281.799835\n",
       "                      2098-01-01  283.148804\n",
       "                      2099-01-01  282.153473\n",
       "                      2100-01-01  281.282928\n",
       " \n",
       " [11507106 rows x 1 columns]]"
      ]
     },
     "execution_count": 9,
     "metadata": {},
     "output_type": "execute_result"
    }
   ],
   "source": [
    "dflist"
   ]
  },
  {
   "cell_type": "code",
   "execution_count": 10,
   "metadata": {},
   "outputs": [
    {
     "name": "stdout",
     "output_type": "stream",
     "text": [
      "CPU times: user 3min 32s, sys: 8min 14s, total: 11min 46s\n",
      "Wall time: 1min 26s\n"
     ]
    }
   ],
   "source": [
    "#Takes 3 min\n",
    "%time df11 = pd.concat(dflist)"
   ]
  },
  {
   "cell_type": "code",
   "execution_count": 11,
   "metadata": {},
   "outputs": [
    {
     "data": {
      "text/html": [
       "<div>\n",
       "<style scoped>\n",
       "    .dataframe tbody tr th:only-of-type {\n",
       "        vertical-align: middle;\n",
       "    }\n",
       "\n",
       "    .dataframe tbody tr th {\n",
       "        vertical-align: top;\n",
       "    }\n",
       "\n",
       "    .dataframe thead th {\n",
       "        text-align: right;\n",
       "    }\n",
       "</style>\n",
       "<table border=\"1\" class=\"dataframe\">\n",
       "  <thead>\n",
       "    <tr style=\"text-align: right;\">\n",
       "      <th></th>\n",
       "      <th></th>\n",
       "      <th></th>\n",
       "      <th>tn_mean</th>\n",
       "    </tr>\n",
       "    <tr>\n",
       "      <th>lat</th>\n",
       "      <th>lon</th>\n",
       "      <th>time</th>\n",
       "      <th></th>\n",
       "    </tr>\n",
       "  </thead>\n",
       "  <tbody>\n",
       "    <tr>\n",
       "      <th rowspan=\"5\" valign=\"top\">66.623306</th>\n",
       "      <th rowspan=\"5\" valign=\"top\">-89.045212</th>\n",
       "      <th>1950-01-01</th>\n",
       "      <td>254.500427</td>\n",
       "    </tr>\n",
       "    <tr>\n",
       "      <th>1951-01-01</th>\n",
       "      <td>253.544449</td>\n",
       "    </tr>\n",
       "    <tr>\n",
       "      <th>1952-01-01</th>\n",
       "      <td>255.910553</td>\n",
       "    </tr>\n",
       "    <tr>\n",
       "      <th>1953-01-01</th>\n",
       "      <td>255.576248</td>\n",
       "    </tr>\n",
       "    <tr>\n",
       "      <th>1954-01-01</th>\n",
       "      <td>254.405655</td>\n",
       "    </tr>\n",
       "    <tr>\n",
       "      <th>...</th>\n",
       "      <th>...</th>\n",
       "      <th>...</th>\n",
       "      <td>...</td>\n",
       "    </tr>\n",
       "    <tr>\n",
       "      <th rowspan=\"5\" valign=\"top\">40.041039</th>\n",
       "      <th rowspan=\"5\" valign=\"top\">-74.045807</th>\n",
       "      <th>2096-01-01</th>\n",
       "      <td>281.487885</td>\n",
       "    </tr>\n",
       "    <tr>\n",
       "      <th>2097-01-01</th>\n",
       "      <td>281.799835</td>\n",
       "    </tr>\n",
       "    <tr>\n",
       "      <th>2098-01-01</th>\n",
       "      <td>283.148804</td>\n",
       "    </tr>\n",
       "    <tr>\n",
       "      <th>2099-01-01</th>\n",
       "      <td>282.153473</td>\n",
       "    </tr>\n",
       "    <tr>\n",
       "      <th>2100-01-01</th>\n",
       "      <td>281.282928</td>\n",
       "    </tr>\n",
       "  </tbody>\n",
       "</table>\n",
       "<p>126578166 rows × 1 columns</p>\n",
       "</div>"
      ],
      "text/plain": [
       "                                    tn_mean\n",
       "lat       lon        time                  \n",
       "66.623306 -89.045212 1950-01-01  254.500427\n",
       "                     1951-01-01  253.544449\n",
       "                     1952-01-01  255.910553\n",
       "                     1953-01-01  255.576248\n",
       "                     1954-01-01  254.405655\n",
       "...                                     ...\n",
       "40.041039 -74.045807 2096-01-01  281.487885\n",
       "                     2097-01-01  281.799835\n",
       "                     2098-01-01  283.148804\n",
       "                     2099-01-01  282.153473\n",
       "                     2100-01-01  281.282928\n",
       "\n",
       "[126578166 rows x 1 columns]"
      ]
     },
     "execution_count": 11,
     "metadata": {},
     "output_type": "execute_result"
    }
   ],
   "source": [
    "df11"
   ]
  },
  {
   "cell_type": "code",
   "execution_count": 12,
   "metadata": {},
   "outputs": [],
   "source": [
    "dftgm = df11.reset_index()"
   ]
  },
  {
   "cell_type": "code",
   "execution_count": 13,
   "metadata": {},
   "outputs": [
    {
     "data": {
      "text/html": [
       "<div>\n",
       "<style scoped>\n",
       "    .dataframe tbody tr th:only-of-type {\n",
       "        vertical-align: middle;\n",
       "    }\n",
       "\n",
       "    .dataframe tbody tr th {\n",
       "        vertical-align: top;\n",
       "    }\n",
       "\n",
       "    .dataframe thead th {\n",
       "        text-align: right;\n",
       "    }\n",
       "</style>\n",
       "<table border=\"1\" class=\"dataframe\">\n",
       "  <thead>\n",
       "    <tr style=\"text-align: right;\">\n",
       "      <th></th>\n",
       "      <th>lat</th>\n",
       "      <th>lon</th>\n",
       "      <th>time</th>\n",
       "      <th>tn_mean</th>\n",
       "    </tr>\n",
       "  </thead>\n",
       "  <tbody>\n",
       "    <tr>\n",
       "      <th>0</th>\n",
       "      <td>66.623306</td>\n",
       "      <td>-89.045212</td>\n",
       "      <td>1950-01-01</td>\n",
       "      <td>254.500427</td>\n",
       "    </tr>\n",
       "    <tr>\n",
       "      <th>1</th>\n",
       "      <td>66.623306</td>\n",
       "      <td>-89.045212</td>\n",
       "      <td>1951-01-01</td>\n",
       "      <td>253.544449</td>\n",
       "    </tr>\n",
       "    <tr>\n",
       "      <th>2</th>\n",
       "      <td>66.623306</td>\n",
       "      <td>-89.045212</td>\n",
       "      <td>1952-01-01</td>\n",
       "      <td>255.910553</td>\n",
       "    </tr>\n",
       "    <tr>\n",
       "      <th>3</th>\n",
       "      <td>66.623306</td>\n",
       "      <td>-89.045212</td>\n",
       "      <td>1953-01-01</td>\n",
       "      <td>255.576248</td>\n",
       "    </tr>\n",
       "    <tr>\n",
       "      <th>4</th>\n",
       "      <td>66.623306</td>\n",
       "      <td>-89.045212</td>\n",
       "      <td>1954-01-01</td>\n",
       "      <td>254.405655</td>\n",
       "    </tr>\n",
       "    <tr>\n",
       "      <th>...</th>\n",
       "      <td>...</td>\n",
       "      <td>...</td>\n",
       "      <td>...</td>\n",
       "      <td>...</td>\n",
       "    </tr>\n",
       "    <tr>\n",
       "      <th>126578161</th>\n",
       "      <td>40.041039</td>\n",
       "      <td>-74.045807</td>\n",
       "      <td>2096-01-01</td>\n",
       "      <td>281.487885</td>\n",
       "    </tr>\n",
       "    <tr>\n",
       "      <th>126578162</th>\n",
       "      <td>40.041039</td>\n",
       "      <td>-74.045807</td>\n",
       "      <td>2097-01-01</td>\n",
       "      <td>281.799835</td>\n",
       "    </tr>\n",
       "    <tr>\n",
       "      <th>126578163</th>\n",
       "      <td>40.041039</td>\n",
       "      <td>-74.045807</td>\n",
       "      <td>2098-01-01</td>\n",
       "      <td>283.148804</td>\n",
       "    </tr>\n",
       "    <tr>\n",
       "      <th>126578164</th>\n",
       "      <td>40.041039</td>\n",
       "      <td>-74.045807</td>\n",
       "      <td>2099-01-01</td>\n",
       "      <td>282.153473</td>\n",
       "    </tr>\n",
       "    <tr>\n",
       "      <th>126578165</th>\n",
       "      <td>40.041039</td>\n",
       "      <td>-74.045807</td>\n",
       "      <td>2100-01-01</td>\n",
       "      <td>281.282928</td>\n",
       "    </tr>\n",
       "  </tbody>\n",
       "</table>\n",
       "<p>126578166 rows × 4 columns</p>\n",
       "</div>"
      ],
      "text/plain": [
       "                 lat        lon       time     tn_mean\n",
       "0          66.623306 -89.045212 1950-01-01  254.500427\n",
       "1          66.623306 -89.045212 1951-01-01  253.544449\n",
       "2          66.623306 -89.045212 1952-01-01  255.910553\n",
       "3          66.623306 -89.045212 1953-01-01  255.576248\n",
       "4          66.623306 -89.045212 1954-01-01  254.405655\n",
       "...              ...        ...        ...         ...\n",
       "126578161  40.041039 -74.045807 2096-01-01  281.487885\n",
       "126578162  40.041039 -74.045807 2097-01-01  281.799835\n",
       "126578163  40.041039 -74.045807 2098-01-01  283.148804\n",
       "126578164  40.041039 -74.045807 2099-01-01  282.153473\n",
       "126578165  40.041039 -74.045807 2100-01-01  281.282928\n",
       "\n",
       "[126578166 rows x 4 columns]"
      ]
     },
     "execution_count": 13,
     "metadata": {},
     "output_type": "execute_result"
    }
   ],
   "source": [
    "dftgm"
   ]
  },
  {
   "cell_type": "markdown",
   "metadata": {},
   "source": [
    "# Get the mean for 11 models"
   ]
  },
  {
   "cell_type": "code",
   "execution_count": 14,
   "metadata": {},
   "outputs": [
    {
     "name": "stdout",
     "output_type": "stream",
     "text": [
      "CPU times: user 1min 7s, sys: 4min 44s, total: 5min 51s\n",
      "Wall time: 1min 26s\n"
     ]
    }
   ],
   "source": [
    "#Takes 48s\n",
    "%time dftgm2 = dftgm.groupby([\"lat\", \"lon\", \"time\"]).mean()"
   ]
  },
  {
   "cell_type": "code",
   "execution_count": 15,
   "metadata": {},
   "outputs": [
    {
     "data": {
      "text/html": [
       "<div>\n",
       "<style scoped>\n",
       "    .dataframe tbody tr th:only-of-type {\n",
       "        vertical-align: middle;\n",
       "    }\n",
       "\n",
       "    .dataframe tbody tr th {\n",
       "        vertical-align: top;\n",
       "    }\n",
       "\n",
       "    .dataframe thead th {\n",
       "        text-align: right;\n",
       "    }\n",
       "</style>\n",
       "<table border=\"1\" class=\"dataframe\">\n",
       "  <thead>\n",
       "    <tr style=\"text-align: right;\">\n",
       "      <th></th>\n",
       "      <th></th>\n",
       "      <th></th>\n",
       "      <th>tn_mean</th>\n",
       "    </tr>\n",
       "    <tr>\n",
       "      <th>lat</th>\n",
       "      <th>lon</th>\n",
       "      <th>time</th>\n",
       "      <th></th>\n",
       "    </tr>\n",
       "  </thead>\n",
       "  <tbody>\n",
       "    <tr>\n",
       "      <th rowspan=\"5\" valign=\"top\">40.041039</th>\n",
       "      <th rowspan=\"5\" valign=\"top\">-89.045212</th>\n",
       "      <th>1950-01-01</th>\n",
       "      <td>278.676361</td>\n",
       "    </tr>\n",
       "    <tr>\n",
       "      <th>1951-01-01</th>\n",
       "      <td>278.482910</td>\n",
       "    </tr>\n",
       "    <tr>\n",
       "      <th>1952-01-01</th>\n",
       "      <td>278.417999</td>\n",
       "    </tr>\n",
       "    <tr>\n",
       "      <th>1953-01-01</th>\n",
       "      <td>278.149658</td>\n",
       "    </tr>\n",
       "    <tr>\n",
       "      <th>1954-01-01</th>\n",
       "      <td>278.387756</td>\n",
       "    </tr>\n",
       "    <tr>\n",
       "      <th>...</th>\n",
       "      <th>...</th>\n",
       "      <th>...</th>\n",
       "      <td>...</td>\n",
       "    </tr>\n",
       "    <tr>\n",
       "      <th rowspan=\"5\" valign=\"top\">66.623306</th>\n",
       "      <th rowspan=\"5\" valign=\"top\">-61.296322</th>\n",
       "      <th>2096-01-01</th>\n",
       "      <td>263.821442</td>\n",
       "    </tr>\n",
       "    <tr>\n",
       "      <th>2097-01-01</th>\n",
       "      <td>263.411469</td>\n",
       "    </tr>\n",
       "    <tr>\n",
       "      <th>2098-01-01</th>\n",
       "      <td>264.344482</td>\n",
       "    </tr>\n",
       "    <tr>\n",
       "      <th>2099-01-01</th>\n",
       "      <td>263.893616</td>\n",
       "    </tr>\n",
       "    <tr>\n",
       "      <th>2100-01-01</th>\n",
       "      <td>263.777435</td>\n",
       "    </tr>\n",
       "  </tbody>\n",
       "</table>\n",
       "<p>11507106 rows × 1 columns</p>\n",
       "</div>"
      ],
      "text/plain": [
       "                                    tn_mean\n",
       "lat       lon        time                  \n",
       "40.041039 -89.045212 1950-01-01  278.676361\n",
       "                     1951-01-01  278.482910\n",
       "                     1952-01-01  278.417999\n",
       "                     1953-01-01  278.149658\n",
       "                     1954-01-01  278.387756\n",
       "...                                     ...\n",
       "66.623306 -61.296322 2096-01-01  263.821442\n",
       "                     2097-01-01  263.411469\n",
       "                     2098-01-01  264.344482\n",
       "                     2099-01-01  263.893616\n",
       "                     2100-01-01  263.777435\n",
       "\n",
       "[11507106 rows x 1 columns]"
      ]
     },
     "execution_count": 15,
     "metadata": {},
     "output_type": "execute_result"
    }
   ],
   "source": [
    "dftgm2"
   ]
  },
  {
   "cell_type": "markdown",
   "metadata": {},
   "source": [
    "# Transform temp to Celsius"
   ]
  },
  {
   "cell_type": "code",
   "execution_count": 16,
   "metadata": {},
   "outputs": [],
   "source": [
    "dfC = dftgm2.copy()\n",
    "dfC[\"tn_mean\"] = dfC[\"tn_mean\"] -273.15\n",
    "    "
   ]
  },
  {
   "cell_type": "markdown",
   "metadata": {},
   "source": [
    "# Define 3 periods of time: "
   ]
  },
  {
   "cell_type": "code",
   "execution_count": 17,
   "metadata": {},
   "outputs": [],
   "source": [
    "year_groups = {y:0 for y in range(1980,2011)}\n",
    "year_groups.update({y:1 for y in range(2041,2071)})\n",
    "year_groups.update({y:2 for y in range(2071,2101)})\n",
    "#Get the mean of every period\n",
    "dfC2 = dfC.reset_index()\n",
    "dfp = dfC2.groupby([dfC2.time.dt.year.map(year_groups), \"lat\",\"lon\"]).mean()"
   ]
  },
  {
   "cell_type": "code",
   "execution_count": 18,
   "metadata": {},
   "outputs": [
    {
     "data": {
      "text/html": [
       "<div>\n",
       "<style scoped>\n",
       "    .dataframe tbody tr th:only-of-type {\n",
       "        vertical-align: middle;\n",
       "    }\n",
       "\n",
       "    .dataframe tbody tr th {\n",
       "        vertical-align: top;\n",
       "    }\n",
       "\n",
       "    .dataframe thead th {\n",
       "        text-align: right;\n",
       "    }\n",
       "</style>\n",
       "<table border=\"1\" class=\"dataframe\">\n",
       "  <thead>\n",
       "    <tr style=\"text-align: right;\">\n",
       "      <th></th>\n",
       "      <th>time</th>\n",
       "      <th>lat</th>\n",
       "      <th>lon</th>\n",
       "      <th>tn_mean</th>\n",
       "    </tr>\n",
       "  </thead>\n",
       "  <tbody>\n",
       "    <tr>\n",
       "      <th>0</th>\n",
       "      <td>0.0</td>\n",
       "      <td>40.041039</td>\n",
       "      <td>-89.045212</td>\n",
       "      <td>5.699457</td>\n",
       "    </tr>\n",
       "    <tr>\n",
       "      <th>1</th>\n",
       "      <td>0.0</td>\n",
       "      <td>40.041039</td>\n",
       "      <td>-88.961884</td>\n",
       "      <td>5.672854</td>\n",
       "    </tr>\n",
       "    <tr>\n",
       "      <th>2</th>\n",
       "      <td>0.0</td>\n",
       "      <td>40.041039</td>\n",
       "      <td>-88.878548</td>\n",
       "      <td>5.668031</td>\n",
       "    </tr>\n",
       "    <tr>\n",
       "      <th>3</th>\n",
       "      <td>0.0</td>\n",
       "      <td>40.041039</td>\n",
       "      <td>-88.795219</td>\n",
       "      <td>5.707927</td>\n",
       "    </tr>\n",
       "    <tr>\n",
       "      <th>4</th>\n",
       "      <td>0.0</td>\n",
       "      <td>40.041039</td>\n",
       "      <td>-88.711891</td>\n",
       "      <td>5.721406</td>\n",
       "    </tr>\n",
       "    <tr>\n",
       "      <th>...</th>\n",
       "      <td>...</td>\n",
       "      <td>...</td>\n",
       "      <td>...</td>\n",
       "      <td>...</td>\n",
       "    </tr>\n",
       "    <tr>\n",
       "      <th>228613</th>\n",
       "      <td>2.0</td>\n",
       "      <td>66.623306</td>\n",
       "      <td>-61.629639</td>\n",
       "      <td>-9.844964</td>\n",
       "    </tr>\n",
       "    <tr>\n",
       "      <th>228614</th>\n",
       "      <td>2.0</td>\n",
       "      <td>66.623306</td>\n",
       "      <td>-61.546310</td>\n",
       "      <td>-10.091969</td>\n",
       "    </tr>\n",
       "    <tr>\n",
       "      <th>228615</th>\n",
       "      <td>2.0</td>\n",
       "      <td>66.623306</td>\n",
       "      <td>-61.462978</td>\n",
       "      <td>-9.930800</td>\n",
       "    </tr>\n",
       "    <tr>\n",
       "      <th>228616</th>\n",
       "      <td>2.0</td>\n",
       "      <td>66.623306</td>\n",
       "      <td>-61.379650</td>\n",
       "      <td>-9.874316</td>\n",
       "    </tr>\n",
       "    <tr>\n",
       "      <th>228617</th>\n",
       "      <td>2.0</td>\n",
       "      <td>66.623306</td>\n",
       "      <td>-61.296322</td>\n",
       "      <td>-9.383389</td>\n",
       "    </tr>\n",
       "  </tbody>\n",
       "</table>\n",
       "<p>228618 rows × 4 columns</p>\n",
       "</div>"
      ],
      "text/plain": [
       "        time        lat        lon    tn_mean\n",
       "0        0.0  40.041039 -89.045212   5.699457\n",
       "1        0.0  40.041039 -88.961884   5.672854\n",
       "2        0.0  40.041039 -88.878548   5.668031\n",
       "3        0.0  40.041039 -88.795219   5.707927\n",
       "4        0.0  40.041039 -88.711891   5.721406\n",
       "...      ...        ...        ...        ...\n",
       "228613   2.0  66.623306 -61.629639  -9.844964\n",
       "228614   2.0  66.623306 -61.546310 -10.091969\n",
       "228615   2.0  66.623306 -61.462978  -9.930800\n",
       "228616   2.0  66.623306 -61.379650  -9.874316\n",
       "228617   2.0  66.623306 -61.296322  -9.383389\n",
       "\n",
       "[228618 rows x 4 columns]"
      ]
     },
     "execution_count": 18,
     "metadata": {},
     "output_type": "execute_result"
    }
   ],
   "source": [
    "dfp.reset_index()"
   ]
  },
  {
   "cell_type": "markdown",
   "metadata": {},
   "source": [
    "# Historic Period"
   ]
  },
  {
   "cell_type": "markdown",
   "metadata": {},
   "source": [
    "485,881/3 = 161,960. ---- instead 333,469 rows × 4 columns"
   ]
  },
  {
   "cell_type": "code",
   "execution_count": 19,
   "metadata": {},
   "outputs": [
    {
     "data": {
      "text/html": [
       "<div>\n",
       "<style scoped>\n",
       "    .dataframe tbody tr th:only-of-type {\n",
       "        vertical-align: middle;\n",
       "    }\n",
       "\n",
       "    .dataframe tbody tr th {\n",
       "        vertical-align: top;\n",
       "    }\n",
       "\n",
       "    .dataframe thead th {\n",
       "        text-align: right;\n",
       "    }\n",
       "</style>\n",
       "<table border=\"1\" class=\"dataframe\">\n",
       "  <thead>\n",
       "    <tr style=\"text-align: right;\">\n",
       "      <th></th>\n",
       "      <th>time</th>\n",
       "      <th>lat</th>\n",
       "      <th>lon</th>\n",
       "      <th>tn_mean</th>\n",
       "    </tr>\n",
       "  </thead>\n",
       "  <tbody>\n",
       "    <tr>\n",
       "      <th>0</th>\n",
       "      <td>0.0</td>\n",
       "      <td>40.041039</td>\n",
       "      <td>-89.045212</td>\n",
       "      <td>5.699457</td>\n",
       "    </tr>\n",
       "    <tr>\n",
       "      <th>1</th>\n",
       "      <td>0.0</td>\n",
       "      <td>40.041039</td>\n",
       "      <td>-88.961884</td>\n",
       "      <td>5.672854</td>\n",
       "    </tr>\n",
       "    <tr>\n",
       "      <th>2</th>\n",
       "      <td>0.0</td>\n",
       "      <td>40.041039</td>\n",
       "      <td>-88.878548</td>\n",
       "      <td>5.668031</td>\n",
       "    </tr>\n",
       "    <tr>\n",
       "      <th>3</th>\n",
       "      <td>0.0</td>\n",
       "      <td>40.041039</td>\n",
       "      <td>-88.795219</td>\n",
       "      <td>5.707927</td>\n",
       "    </tr>\n",
       "    <tr>\n",
       "      <th>4</th>\n",
       "      <td>0.0</td>\n",
       "      <td>40.041039</td>\n",
       "      <td>-88.711891</td>\n",
       "      <td>5.721406</td>\n",
       "    </tr>\n",
       "    <tr>\n",
       "      <th>...</th>\n",
       "      <td>...</td>\n",
       "      <td>...</td>\n",
       "      <td>...</td>\n",
       "      <td>...</td>\n",
       "    </tr>\n",
       "    <tr>\n",
       "      <th>76201</th>\n",
       "      <td>0.0</td>\n",
       "      <td>66.623306</td>\n",
       "      <td>-61.629639</td>\n",
       "      <td>-13.102902</td>\n",
       "    </tr>\n",
       "    <tr>\n",
       "      <th>76202</th>\n",
       "      <td>0.0</td>\n",
       "      <td>66.623306</td>\n",
       "      <td>-61.546310</td>\n",
       "      <td>-13.329987</td>\n",
       "    </tr>\n",
       "    <tr>\n",
       "      <th>76203</th>\n",
       "      <td>0.0</td>\n",
       "      <td>66.623306</td>\n",
       "      <td>-61.462978</td>\n",
       "      <td>-13.160083</td>\n",
       "    </tr>\n",
       "    <tr>\n",
       "      <th>76204</th>\n",
       "      <td>0.0</td>\n",
       "      <td>66.623306</td>\n",
       "      <td>-61.379650</td>\n",
       "      <td>-13.090538</td>\n",
       "    </tr>\n",
       "    <tr>\n",
       "      <th>76205</th>\n",
       "      <td>0.0</td>\n",
       "      <td>66.623306</td>\n",
       "      <td>-61.296322</td>\n",
       "      <td>-12.591096</td>\n",
       "    </tr>\n",
       "  </tbody>\n",
       "</table>\n",
       "<p>76206 rows × 4 columns</p>\n",
       "</div>"
      ],
      "text/plain": [
       "       time        lat        lon    tn_mean\n",
       "0       0.0  40.041039 -89.045212   5.699457\n",
       "1       0.0  40.041039 -88.961884   5.672854\n",
       "2       0.0  40.041039 -88.878548   5.668031\n",
       "3       0.0  40.041039 -88.795219   5.707927\n",
       "4       0.0  40.041039 -88.711891   5.721406\n",
       "...     ...        ...        ...        ...\n",
       "76201   0.0  66.623306 -61.629639 -13.102902\n",
       "76202   0.0  66.623306 -61.546310 -13.329987\n",
       "76203   0.0  66.623306 -61.462978 -13.160083\n",
       "76204   0.0  66.623306 -61.379650 -13.090538\n",
       "76205   0.0  66.623306 -61.296322 -12.591096\n",
       "\n",
       "[76206 rows x 4 columns]"
      ]
     },
     "execution_count": 19,
     "metadata": {},
     "output_type": "execute_result"
    }
   ],
   "source": [
    "df_h = dfp.query(\"time==0.0\")\n",
    "df_h.reset_index()"
   ]
  },
  {
   "cell_type": "code",
   "execution_count": null,
   "metadata": {},
   "outputs": [],
   "source": [
    "df2050 = dfp.query(\"time==1.0\")\n",
    "df2050.reset_index()"
   ]
  },
  {
   "cell_type": "code",
   "execution_count": null,
   "metadata": {},
   "outputs": [],
   "source": [
    "df2080 = dfp.query(\"time==2.0\")\n",
    "df2080.reset_index()"
   ]
  },
  {
   "cell_type": "markdown",
   "metadata": {},
   "source": [
    "## Import dataframe with polygons"
   ]
  },
  {
   "cell_type": "code",
   "execution_count": null,
   "metadata": {},
   "outputs": [],
   "source": [
    "dfpolyshape = from_geofeather('Grid-TerritoiresGuides.feather')"
   ]
  },
  {
   "cell_type": "code",
   "execution_count": null,
   "metadata": {},
   "outputs": [],
   "source": [
    "dfpolyshape"
   ]
  },
  {
   "cell_type": "markdown",
   "metadata": {},
   "source": [
    "## Merge data with mask "
   ]
  },
  {
   "cell_type": "code",
   "execution_count": null,
   "metadata": {},
   "outputs": [],
   "source": [
    "dftg11TG = pd.merge(df_h, dfpolyshape, on=[\"lat\",\"lon\"])"
   ]
  },
  {
   "cell_type": "code",
   "execution_count": null,
   "metadata": {},
   "outputs": [],
   "source": [
    "dftg11TG"
   ]
  },
  {
   "cell_type": "code",
   "execution_count": null,
   "metadata": {},
   "outputs": [],
   "source": [
    "dftg11TG.TER_GUIDE.value_counts()"
   ]
  },
  {
   "cell_type": "code",
   "execution_count": null,
   "metadata": {},
   "outputs": [],
   "source": [
    "TG4a = dftg11TG[dftg11TG.TER_GUIDE == \"4a\"]\n",
    "TG4a"
   ]
  },
  {
   "cell_type": "code",
   "execution_count": null,
   "metadata": {},
   "outputs": [],
   "source": [
    "TG4a.to_csv(\"/home/mlopez/EXEC/Tg_csv/TG4a11.csv\")"
   ]
  },
  {
   "cell_type": "markdown",
   "metadata": {},
   "source": [
    "# ---- Create GeoJson file ----"
   ]
  },
  {
   "cell_type": "code",
   "execution_count": null,
   "metadata": {},
   "outputs": [],
   "source": [
    "geometry = dftg11TG[\"geometry\"]"
   ]
  },
  {
   "cell_type": "code",
   "execution_count": null,
   "metadata": {},
   "outputs": [],
   "source": [
    "crs = {'init': \"epsg:4326\"}\n",
    "gdf = GeoDataFrame(dftg11TG, crs=crs, geometry=geometry)"
   ]
  },
  {
   "cell_type": "code",
   "execution_count": null,
   "metadata": {},
   "outputs": [],
   "source": [
    "gdf.to_file(\"TG11tg.json\", driver=\"GeoJSON\")"
   ]
  },
  {
   "cell_type": "code",
   "execution_count": null,
   "metadata": {},
   "outputs": [],
   "source": []
  }
 ],
 "metadata": {
  "kernelspec": {
   "display_name": "Python 3",
   "language": "python",
   "name": "python3"
  },
  "language_info": {
   "codemirror_mode": {
    "name": "ipython",
    "version": 3
   },
   "file_extension": ".py",
   "mimetype": "text/x-python",
   "name": "python",
   "nbconvert_exporter": "python",
   "pygments_lexer": "ipython3",
   "version": "3.8.1"
  }
 },
 "nbformat": 4,
 "nbformat_minor": 4
}

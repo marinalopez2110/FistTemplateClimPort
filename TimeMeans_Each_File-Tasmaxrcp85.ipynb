{
 "cells": [
  {
   "cell_type": "code",
   "execution_count": 1,
   "metadata": {},
   "outputs": [],
   "source": [
    "import numpy as np\n",
    "import os\n",
    "import pandas as pd\n",
    "import xarray as xr"
   ]
  },
  {
   "cell_type": "code",
   "execution_count": 2,
   "metadata": {},
   "outputs": [],
   "source": [
    "import nc_time_axis"
   ]
  },
  {
   "cell_type": "code",
   "execution_count": 3,
   "metadata": {},
   "outputs": [],
   "source": [
    "import glob"
   ]
  },
  {
   "cell_type": "code",
   "execution_count": 33,
   "metadata": {},
   "outputs": [],
   "source": [
    "folder = \"/scen3/scenario/netcdf/ouranos/cb-oura-1.0/\"\n",
    "out_folder = \"/home/mlopez/EXEC/TimeMeansMap/TaxMaxrcp85\""
   ]
  },
  {
   "cell_type": "code",
   "execution_count": 34,
   "metadata": {},
   "outputs": [],
   "source": [
    "files = []"
   ]
  },
  {
   "cell_type": "code",
   "execution_count": 35,
   "metadata": {},
   "outputs": [],
   "source": [
    "files1900 = glob.glob(folder+\"tasmax*BNU-ESM*rcp85*19[8-9][0-9].nc\")"
   ]
  },
  {
   "cell_type": "code",
   "execution_count": 36,
   "metadata": {},
   "outputs": [
    {
     "data": {
      "text/plain": [
       "['/scen3/scenario/netcdf/ouranos/cb-oura-1.0/tasmax_day_BNU-ESM_rcp85_r1i1p1_na10kgrid_qm-moving-50bins-detrend_1980.nc',\n",
       " '/scen3/scenario/netcdf/ouranos/cb-oura-1.0/tasmax_day_BNU-ESM_rcp85_r1i1p1_na10kgrid_qm-moving-50bins-detrend_1981.nc',\n",
       " '/scen3/scenario/netcdf/ouranos/cb-oura-1.0/tasmax_day_BNU-ESM_rcp85_r1i1p1_na10kgrid_qm-moving-50bins-detrend_1982.nc',\n",
       " '/scen3/scenario/netcdf/ouranos/cb-oura-1.0/tasmax_day_BNU-ESM_rcp85_r1i1p1_na10kgrid_qm-moving-50bins-detrend_1983.nc',\n",
       " '/scen3/scenario/netcdf/ouranos/cb-oura-1.0/tasmax_day_BNU-ESM_rcp85_r1i1p1_na10kgrid_qm-moving-50bins-detrend_1984.nc',\n",
       " '/scen3/scenario/netcdf/ouranos/cb-oura-1.0/tasmax_day_BNU-ESM_rcp85_r1i1p1_na10kgrid_qm-moving-50bins-detrend_1985.nc',\n",
       " '/scen3/scenario/netcdf/ouranos/cb-oura-1.0/tasmax_day_BNU-ESM_rcp85_r1i1p1_na10kgrid_qm-moving-50bins-detrend_1986.nc',\n",
       " '/scen3/scenario/netcdf/ouranos/cb-oura-1.0/tasmax_day_BNU-ESM_rcp85_r1i1p1_na10kgrid_qm-moving-50bins-detrend_1987.nc',\n",
       " '/scen3/scenario/netcdf/ouranos/cb-oura-1.0/tasmax_day_BNU-ESM_rcp85_r1i1p1_na10kgrid_qm-moving-50bins-detrend_1988.nc',\n",
       " '/scen3/scenario/netcdf/ouranos/cb-oura-1.0/tasmax_day_BNU-ESM_rcp85_r1i1p1_na10kgrid_qm-moving-50bins-detrend_1989.nc',\n",
       " '/scen3/scenario/netcdf/ouranos/cb-oura-1.0/tasmax_day_BNU-ESM_rcp85_r1i1p1_na10kgrid_qm-moving-50bins-detrend_1990.nc',\n",
       " '/scen3/scenario/netcdf/ouranos/cb-oura-1.0/tasmax_day_BNU-ESM_rcp85_r1i1p1_na10kgrid_qm-moving-50bins-detrend_1991.nc',\n",
       " '/scen3/scenario/netcdf/ouranos/cb-oura-1.0/tasmax_day_BNU-ESM_rcp85_r1i1p1_na10kgrid_qm-moving-50bins-detrend_1992.nc',\n",
       " '/scen3/scenario/netcdf/ouranos/cb-oura-1.0/tasmax_day_BNU-ESM_rcp85_r1i1p1_na10kgrid_qm-moving-50bins-detrend_1993.nc',\n",
       " '/scen3/scenario/netcdf/ouranos/cb-oura-1.0/tasmax_day_BNU-ESM_rcp85_r1i1p1_na10kgrid_qm-moving-50bins-detrend_1994.nc',\n",
       " '/scen3/scenario/netcdf/ouranos/cb-oura-1.0/tasmax_day_BNU-ESM_rcp85_r1i1p1_na10kgrid_qm-moving-50bins-detrend_1995.nc',\n",
       " '/scen3/scenario/netcdf/ouranos/cb-oura-1.0/tasmax_day_BNU-ESM_rcp85_r1i1p1_na10kgrid_qm-moving-50bins-detrend_1996.nc',\n",
       " '/scen3/scenario/netcdf/ouranos/cb-oura-1.0/tasmax_day_BNU-ESM_rcp85_r1i1p1_na10kgrid_qm-moving-50bins-detrend_1997.nc',\n",
       " '/scen3/scenario/netcdf/ouranos/cb-oura-1.0/tasmax_day_BNU-ESM_rcp85_r1i1p1_na10kgrid_qm-moving-50bins-detrend_1998.nc',\n",
       " '/scen3/scenario/netcdf/ouranos/cb-oura-1.0/tasmax_day_BNU-ESM_rcp85_r1i1p1_na10kgrid_qm-moving-50bins-detrend_1999.nc']"
      ]
     },
     "execution_count": 36,
     "metadata": {},
     "output_type": "execute_result"
    }
   ],
   "source": [
    "files1900"
   ]
  },
  {
   "cell_type": "code",
   "execution_count": 37,
   "metadata": {},
   "outputs": [
    {
     "data": {
      "text/plain": [
       "20"
      ]
     },
     "execution_count": 37,
     "metadata": {},
     "output_type": "execute_result"
    }
   ],
   "source": [
    "len(files1900)"
   ]
  },
  {
   "cell_type": "code",
   "execution_count": 38,
   "metadata": {},
   "outputs": [],
   "source": [
    "files2000 = glob.glob(folder+\"tasmax*BNU-ESM*rcp85**20[0-9][0-9].nc\")"
   ]
  },
  {
   "cell_type": "code",
   "execution_count": 39,
   "metadata": {},
   "outputs": [
    {
     "data": {
      "text/plain": [
       "['/scen3/scenario/netcdf/ouranos/cb-oura-1.0/tasmax_day_BNU-ESM_rcp85_r1i1p1_na10kgrid_qm-moving-50bins-detrend_2000.nc',\n",
       " '/scen3/scenario/netcdf/ouranos/cb-oura-1.0/tasmax_day_BNU-ESM_rcp85_r1i1p1_na10kgrid_qm-moving-50bins-detrend_2001.nc',\n",
       " '/scen3/scenario/netcdf/ouranos/cb-oura-1.0/tasmax_day_BNU-ESM_rcp85_r1i1p1_na10kgrid_qm-moving-50bins-detrend_2002.nc',\n",
       " '/scen3/scenario/netcdf/ouranos/cb-oura-1.0/tasmax_day_BNU-ESM_rcp85_r1i1p1_na10kgrid_qm-moving-50bins-detrend_2003.nc',\n",
       " '/scen3/scenario/netcdf/ouranos/cb-oura-1.0/tasmax_day_BNU-ESM_rcp85_r1i1p1_na10kgrid_qm-moving-50bins-detrend_2004.nc',\n",
       " '/scen3/scenario/netcdf/ouranos/cb-oura-1.0/tasmax_day_BNU-ESM_rcp85_r1i1p1_na10kgrid_qm-moving-50bins-detrend_2005.nc',\n",
       " '/scen3/scenario/netcdf/ouranos/cb-oura-1.0/tasmax_day_BNU-ESM_rcp85_r1i1p1_na10kgrid_qm-moving-50bins-detrend_2006.nc',\n",
       " '/scen3/scenario/netcdf/ouranos/cb-oura-1.0/tasmax_day_BNU-ESM_rcp85_r1i1p1_na10kgrid_qm-moving-50bins-detrend_2007.nc',\n",
       " '/scen3/scenario/netcdf/ouranos/cb-oura-1.0/tasmax_day_BNU-ESM_rcp85_r1i1p1_na10kgrid_qm-moving-50bins-detrend_2008.nc',\n",
       " '/scen3/scenario/netcdf/ouranos/cb-oura-1.0/tasmax_day_BNU-ESM_rcp85_r1i1p1_na10kgrid_qm-moving-50bins-detrend_2009.nc',\n",
       " '/scen3/scenario/netcdf/ouranos/cb-oura-1.0/tasmax_day_BNU-ESM_rcp85_r1i1p1_na10kgrid_qm-moving-50bins-detrend_2010.nc',\n",
       " '/scen3/scenario/netcdf/ouranos/cb-oura-1.0/tasmax_day_BNU-ESM_rcp85_r1i1p1_na10kgrid_qm-moving-50bins-detrend_2011.nc',\n",
       " '/scen3/scenario/netcdf/ouranos/cb-oura-1.0/tasmax_day_BNU-ESM_rcp85_r1i1p1_na10kgrid_qm-moving-50bins-detrend_2012.nc',\n",
       " '/scen3/scenario/netcdf/ouranos/cb-oura-1.0/tasmax_day_BNU-ESM_rcp85_r1i1p1_na10kgrid_qm-moving-50bins-detrend_2013.nc',\n",
       " '/scen3/scenario/netcdf/ouranos/cb-oura-1.0/tasmax_day_BNU-ESM_rcp85_r1i1p1_na10kgrid_qm-moving-50bins-detrend_2014.nc',\n",
       " '/scen3/scenario/netcdf/ouranos/cb-oura-1.0/tasmax_day_BNU-ESM_rcp85_r1i1p1_na10kgrid_qm-moving-50bins-detrend_2015.nc',\n",
       " '/scen3/scenario/netcdf/ouranos/cb-oura-1.0/tasmax_day_BNU-ESM_rcp85_r1i1p1_na10kgrid_qm-moving-50bins-detrend_2016.nc',\n",
       " '/scen3/scenario/netcdf/ouranos/cb-oura-1.0/tasmax_day_BNU-ESM_rcp85_r1i1p1_na10kgrid_qm-moving-50bins-detrend_2017.nc',\n",
       " '/scen3/scenario/netcdf/ouranos/cb-oura-1.0/tasmax_day_BNU-ESM_rcp85_r1i1p1_na10kgrid_qm-moving-50bins-detrend_2018.nc',\n",
       " '/scen3/scenario/netcdf/ouranos/cb-oura-1.0/tasmax_day_BNU-ESM_rcp85_r1i1p1_na10kgrid_qm-moving-50bins-detrend_2019.nc',\n",
       " '/scen3/scenario/netcdf/ouranos/cb-oura-1.0/tasmax_day_BNU-ESM_rcp85_r1i1p1_na10kgrid_qm-moving-50bins-detrend_2020.nc',\n",
       " '/scen3/scenario/netcdf/ouranos/cb-oura-1.0/tasmax_day_BNU-ESM_rcp85_r1i1p1_na10kgrid_qm-moving-50bins-detrend_2021.nc',\n",
       " '/scen3/scenario/netcdf/ouranos/cb-oura-1.0/tasmax_day_BNU-ESM_rcp85_r1i1p1_na10kgrid_qm-moving-50bins-detrend_2022.nc',\n",
       " '/scen3/scenario/netcdf/ouranos/cb-oura-1.0/tasmax_day_BNU-ESM_rcp85_r1i1p1_na10kgrid_qm-moving-50bins-detrend_2023.nc',\n",
       " '/scen3/scenario/netcdf/ouranos/cb-oura-1.0/tasmax_day_BNU-ESM_rcp85_r1i1p1_na10kgrid_qm-moving-50bins-detrend_2024.nc',\n",
       " '/scen3/scenario/netcdf/ouranos/cb-oura-1.0/tasmax_day_BNU-ESM_rcp85_r1i1p1_na10kgrid_qm-moving-50bins-detrend_2025.nc',\n",
       " '/scen3/scenario/netcdf/ouranos/cb-oura-1.0/tasmax_day_BNU-ESM_rcp85_r1i1p1_na10kgrid_qm-moving-50bins-detrend_2026.nc',\n",
       " '/scen3/scenario/netcdf/ouranos/cb-oura-1.0/tasmax_day_BNU-ESM_rcp85_r1i1p1_na10kgrid_qm-moving-50bins-detrend_2027.nc',\n",
       " '/scen3/scenario/netcdf/ouranos/cb-oura-1.0/tasmax_day_BNU-ESM_rcp85_r1i1p1_na10kgrid_qm-moving-50bins-detrend_2028.nc',\n",
       " '/scen3/scenario/netcdf/ouranos/cb-oura-1.0/tasmax_day_BNU-ESM_rcp85_r1i1p1_na10kgrid_qm-moving-50bins-detrend_2029.nc',\n",
       " '/scen3/scenario/netcdf/ouranos/cb-oura-1.0/tasmax_day_BNU-ESM_rcp85_r1i1p1_na10kgrid_qm-moving-50bins-detrend_2030.nc',\n",
       " '/scen3/scenario/netcdf/ouranos/cb-oura-1.0/tasmax_day_BNU-ESM_rcp85_r1i1p1_na10kgrid_qm-moving-50bins-detrend_2031.nc',\n",
       " '/scen3/scenario/netcdf/ouranos/cb-oura-1.0/tasmax_day_BNU-ESM_rcp85_r1i1p1_na10kgrid_qm-moving-50bins-detrend_2032.nc',\n",
       " '/scen3/scenario/netcdf/ouranos/cb-oura-1.0/tasmax_day_BNU-ESM_rcp85_r1i1p1_na10kgrid_qm-moving-50bins-detrend_2033.nc',\n",
       " '/scen3/scenario/netcdf/ouranos/cb-oura-1.0/tasmax_day_BNU-ESM_rcp85_r1i1p1_na10kgrid_qm-moving-50bins-detrend_2034.nc',\n",
       " '/scen3/scenario/netcdf/ouranos/cb-oura-1.0/tasmax_day_BNU-ESM_rcp85_r1i1p1_na10kgrid_qm-moving-50bins-detrend_2035.nc',\n",
       " '/scen3/scenario/netcdf/ouranos/cb-oura-1.0/tasmax_day_BNU-ESM_rcp85_r1i1p1_na10kgrid_qm-moving-50bins-detrend_2036.nc',\n",
       " '/scen3/scenario/netcdf/ouranos/cb-oura-1.0/tasmax_day_BNU-ESM_rcp85_r1i1p1_na10kgrid_qm-moving-50bins-detrend_2037.nc',\n",
       " '/scen3/scenario/netcdf/ouranos/cb-oura-1.0/tasmax_day_BNU-ESM_rcp85_r1i1p1_na10kgrid_qm-moving-50bins-detrend_2038.nc',\n",
       " '/scen3/scenario/netcdf/ouranos/cb-oura-1.0/tasmax_day_BNU-ESM_rcp85_r1i1p1_na10kgrid_qm-moving-50bins-detrend_2039.nc',\n",
       " '/scen3/scenario/netcdf/ouranos/cb-oura-1.0/tasmax_day_BNU-ESM_rcp85_r1i1p1_na10kgrid_qm-moving-50bins-detrend_2040.nc',\n",
       " '/scen3/scenario/netcdf/ouranos/cb-oura-1.0/tasmax_day_BNU-ESM_rcp85_r1i1p1_na10kgrid_qm-moving-50bins-detrend_2041.nc',\n",
       " '/scen3/scenario/netcdf/ouranos/cb-oura-1.0/tasmax_day_BNU-ESM_rcp85_r1i1p1_na10kgrid_qm-moving-50bins-detrend_2042.nc',\n",
       " '/scen3/scenario/netcdf/ouranos/cb-oura-1.0/tasmax_day_BNU-ESM_rcp85_r1i1p1_na10kgrid_qm-moving-50bins-detrend_2043.nc',\n",
       " '/scen3/scenario/netcdf/ouranos/cb-oura-1.0/tasmax_day_BNU-ESM_rcp85_r1i1p1_na10kgrid_qm-moving-50bins-detrend_2044.nc',\n",
       " '/scen3/scenario/netcdf/ouranos/cb-oura-1.0/tasmax_day_BNU-ESM_rcp85_r1i1p1_na10kgrid_qm-moving-50bins-detrend_2045.nc',\n",
       " '/scen3/scenario/netcdf/ouranos/cb-oura-1.0/tasmax_day_BNU-ESM_rcp85_r1i1p1_na10kgrid_qm-moving-50bins-detrend_2046.nc',\n",
       " '/scen3/scenario/netcdf/ouranos/cb-oura-1.0/tasmax_day_BNU-ESM_rcp85_r1i1p1_na10kgrid_qm-moving-50bins-detrend_2047.nc',\n",
       " '/scen3/scenario/netcdf/ouranos/cb-oura-1.0/tasmax_day_BNU-ESM_rcp85_r1i1p1_na10kgrid_qm-moving-50bins-detrend_2048.nc',\n",
       " '/scen3/scenario/netcdf/ouranos/cb-oura-1.0/tasmax_day_BNU-ESM_rcp85_r1i1p1_na10kgrid_qm-moving-50bins-detrend_2049.nc',\n",
       " '/scen3/scenario/netcdf/ouranos/cb-oura-1.0/tasmax_day_BNU-ESM_rcp85_r1i1p1_na10kgrid_qm-moving-50bins-detrend_2050.nc',\n",
       " '/scen3/scenario/netcdf/ouranos/cb-oura-1.0/tasmax_day_BNU-ESM_rcp85_r1i1p1_na10kgrid_qm-moving-50bins-detrend_2051.nc',\n",
       " '/scen3/scenario/netcdf/ouranos/cb-oura-1.0/tasmax_day_BNU-ESM_rcp85_r1i1p1_na10kgrid_qm-moving-50bins-detrend_2052.nc',\n",
       " '/scen3/scenario/netcdf/ouranos/cb-oura-1.0/tasmax_day_BNU-ESM_rcp85_r1i1p1_na10kgrid_qm-moving-50bins-detrend_2053.nc',\n",
       " '/scen3/scenario/netcdf/ouranos/cb-oura-1.0/tasmax_day_BNU-ESM_rcp85_r1i1p1_na10kgrid_qm-moving-50bins-detrend_2054.nc',\n",
       " '/scen3/scenario/netcdf/ouranos/cb-oura-1.0/tasmax_day_BNU-ESM_rcp85_r1i1p1_na10kgrid_qm-moving-50bins-detrend_2055.nc',\n",
       " '/scen3/scenario/netcdf/ouranos/cb-oura-1.0/tasmax_day_BNU-ESM_rcp85_r1i1p1_na10kgrid_qm-moving-50bins-detrend_2056.nc',\n",
       " '/scen3/scenario/netcdf/ouranos/cb-oura-1.0/tasmax_day_BNU-ESM_rcp85_r1i1p1_na10kgrid_qm-moving-50bins-detrend_2057.nc',\n",
       " '/scen3/scenario/netcdf/ouranos/cb-oura-1.0/tasmax_day_BNU-ESM_rcp85_r1i1p1_na10kgrid_qm-moving-50bins-detrend_2058.nc',\n",
       " '/scen3/scenario/netcdf/ouranos/cb-oura-1.0/tasmax_day_BNU-ESM_rcp85_r1i1p1_na10kgrid_qm-moving-50bins-detrend_2059.nc',\n",
       " '/scen3/scenario/netcdf/ouranos/cb-oura-1.0/tasmax_day_BNU-ESM_rcp85_r1i1p1_na10kgrid_qm-moving-50bins-detrend_2060.nc',\n",
       " '/scen3/scenario/netcdf/ouranos/cb-oura-1.0/tasmax_day_BNU-ESM_rcp85_r1i1p1_na10kgrid_qm-moving-50bins-detrend_2061.nc',\n",
       " '/scen3/scenario/netcdf/ouranos/cb-oura-1.0/tasmax_day_BNU-ESM_rcp85_r1i1p1_na10kgrid_qm-moving-50bins-detrend_2062.nc',\n",
       " '/scen3/scenario/netcdf/ouranos/cb-oura-1.0/tasmax_day_BNU-ESM_rcp85_r1i1p1_na10kgrid_qm-moving-50bins-detrend_2063.nc',\n",
       " '/scen3/scenario/netcdf/ouranos/cb-oura-1.0/tasmax_day_BNU-ESM_rcp85_r1i1p1_na10kgrid_qm-moving-50bins-detrend_2064.nc',\n",
       " '/scen3/scenario/netcdf/ouranos/cb-oura-1.0/tasmax_day_BNU-ESM_rcp85_r1i1p1_na10kgrid_qm-moving-50bins-detrend_2065.nc',\n",
       " '/scen3/scenario/netcdf/ouranos/cb-oura-1.0/tasmax_day_BNU-ESM_rcp85_r1i1p1_na10kgrid_qm-moving-50bins-detrend_2066.nc',\n",
       " '/scen3/scenario/netcdf/ouranos/cb-oura-1.0/tasmax_day_BNU-ESM_rcp85_r1i1p1_na10kgrid_qm-moving-50bins-detrend_2067.nc',\n",
       " '/scen3/scenario/netcdf/ouranos/cb-oura-1.0/tasmax_day_BNU-ESM_rcp85_r1i1p1_na10kgrid_qm-moving-50bins-detrend_2068.nc',\n",
       " '/scen3/scenario/netcdf/ouranos/cb-oura-1.0/tasmax_day_BNU-ESM_rcp85_r1i1p1_na10kgrid_qm-moving-50bins-detrend_2069.nc',\n",
       " '/scen3/scenario/netcdf/ouranos/cb-oura-1.0/tasmax_day_BNU-ESM_rcp85_r1i1p1_na10kgrid_qm-moving-50bins-detrend_2070.nc',\n",
       " '/scen3/scenario/netcdf/ouranos/cb-oura-1.0/tasmax_day_BNU-ESM_rcp85_r1i1p1_na10kgrid_qm-moving-50bins-detrend_2071.nc',\n",
       " '/scen3/scenario/netcdf/ouranos/cb-oura-1.0/tasmax_day_BNU-ESM_rcp85_r1i1p1_na10kgrid_qm-moving-50bins-detrend_2072.nc',\n",
       " '/scen3/scenario/netcdf/ouranos/cb-oura-1.0/tasmax_day_BNU-ESM_rcp85_r1i1p1_na10kgrid_qm-moving-50bins-detrend_2073.nc',\n",
       " '/scen3/scenario/netcdf/ouranos/cb-oura-1.0/tasmax_day_BNU-ESM_rcp85_r1i1p1_na10kgrid_qm-moving-50bins-detrend_2074.nc',\n",
       " '/scen3/scenario/netcdf/ouranos/cb-oura-1.0/tasmax_day_BNU-ESM_rcp85_r1i1p1_na10kgrid_qm-moving-50bins-detrend_2075.nc',\n",
       " '/scen3/scenario/netcdf/ouranos/cb-oura-1.0/tasmax_day_BNU-ESM_rcp85_r1i1p1_na10kgrid_qm-moving-50bins-detrend_2076.nc',\n",
       " '/scen3/scenario/netcdf/ouranos/cb-oura-1.0/tasmax_day_BNU-ESM_rcp85_r1i1p1_na10kgrid_qm-moving-50bins-detrend_2077.nc',\n",
       " '/scen3/scenario/netcdf/ouranos/cb-oura-1.0/tasmax_day_BNU-ESM_rcp85_r1i1p1_na10kgrid_qm-moving-50bins-detrend_2078.nc',\n",
       " '/scen3/scenario/netcdf/ouranos/cb-oura-1.0/tasmax_day_BNU-ESM_rcp85_r1i1p1_na10kgrid_qm-moving-50bins-detrend_2079.nc',\n",
       " '/scen3/scenario/netcdf/ouranos/cb-oura-1.0/tasmax_day_BNU-ESM_rcp85_r1i1p1_na10kgrid_qm-moving-50bins-detrend_2080.nc',\n",
       " '/scen3/scenario/netcdf/ouranos/cb-oura-1.0/tasmax_day_BNU-ESM_rcp85_r1i1p1_na10kgrid_qm-moving-50bins-detrend_2081.nc',\n",
       " '/scen3/scenario/netcdf/ouranos/cb-oura-1.0/tasmax_day_BNU-ESM_rcp85_r1i1p1_na10kgrid_qm-moving-50bins-detrend_2082.nc',\n",
       " '/scen3/scenario/netcdf/ouranos/cb-oura-1.0/tasmax_day_BNU-ESM_rcp85_r1i1p1_na10kgrid_qm-moving-50bins-detrend_2083.nc',\n",
       " '/scen3/scenario/netcdf/ouranos/cb-oura-1.0/tasmax_day_BNU-ESM_rcp85_r1i1p1_na10kgrid_qm-moving-50bins-detrend_2084.nc',\n",
       " '/scen3/scenario/netcdf/ouranos/cb-oura-1.0/tasmax_day_BNU-ESM_rcp85_r1i1p1_na10kgrid_qm-moving-50bins-detrend_2085.nc',\n",
       " '/scen3/scenario/netcdf/ouranos/cb-oura-1.0/tasmax_day_BNU-ESM_rcp85_r1i1p1_na10kgrid_qm-moving-50bins-detrend_2086.nc',\n",
       " '/scen3/scenario/netcdf/ouranos/cb-oura-1.0/tasmax_day_BNU-ESM_rcp85_r1i1p1_na10kgrid_qm-moving-50bins-detrend_2087.nc',\n",
       " '/scen3/scenario/netcdf/ouranos/cb-oura-1.0/tasmax_day_BNU-ESM_rcp85_r1i1p1_na10kgrid_qm-moving-50bins-detrend_2088.nc',\n",
       " '/scen3/scenario/netcdf/ouranos/cb-oura-1.0/tasmax_day_BNU-ESM_rcp85_r1i1p1_na10kgrid_qm-moving-50bins-detrend_2089.nc',\n",
       " '/scen3/scenario/netcdf/ouranos/cb-oura-1.0/tasmax_day_BNU-ESM_rcp85_r1i1p1_na10kgrid_qm-moving-50bins-detrend_2090.nc',\n",
       " '/scen3/scenario/netcdf/ouranos/cb-oura-1.0/tasmax_day_BNU-ESM_rcp85_r1i1p1_na10kgrid_qm-moving-50bins-detrend_2091.nc',\n",
       " '/scen3/scenario/netcdf/ouranos/cb-oura-1.0/tasmax_day_BNU-ESM_rcp85_r1i1p1_na10kgrid_qm-moving-50bins-detrend_2092.nc',\n",
       " '/scen3/scenario/netcdf/ouranos/cb-oura-1.0/tasmax_day_BNU-ESM_rcp85_r1i1p1_na10kgrid_qm-moving-50bins-detrend_2093.nc',\n",
       " '/scen3/scenario/netcdf/ouranos/cb-oura-1.0/tasmax_day_BNU-ESM_rcp85_r1i1p1_na10kgrid_qm-moving-50bins-detrend_2094.nc',\n",
       " '/scen3/scenario/netcdf/ouranos/cb-oura-1.0/tasmax_day_BNU-ESM_rcp85_r1i1p1_na10kgrid_qm-moving-50bins-detrend_2095.nc',\n",
       " '/scen3/scenario/netcdf/ouranos/cb-oura-1.0/tasmax_day_BNU-ESM_rcp85_r1i1p1_na10kgrid_qm-moving-50bins-detrend_2096.nc',\n",
       " '/scen3/scenario/netcdf/ouranos/cb-oura-1.0/tasmax_day_BNU-ESM_rcp85_r1i1p1_na10kgrid_qm-moving-50bins-detrend_2097.nc',\n",
       " '/scen3/scenario/netcdf/ouranos/cb-oura-1.0/tasmax_day_BNU-ESM_rcp85_r1i1p1_na10kgrid_qm-moving-50bins-detrend_2098.nc',\n",
       " '/scen3/scenario/netcdf/ouranos/cb-oura-1.0/tasmax_day_BNU-ESM_rcp85_r1i1p1_na10kgrid_qm-moving-50bins-detrend_2099.nc']"
      ]
     },
     "execution_count": 39,
     "metadata": {},
     "output_type": "execute_result"
    }
   ],
   "source": [
    "files2000"
   ]
  },
  {
   "cell_type": "code",
   "execution_count": 40,
   "metadata": {},
   "outputs": [
    {
     "data": {
      "text/plain": [
       "100"
      ]
     },
     "execution_count": 40,
     "metadata": {},
     "output_type": "execute_result"
    }
   ],
   "source": [
    "len(files2000)"
   ]
  },
  {
   "cell_type": "code",
   "execution_count": 41,
   "metadata": {},
   "outputs": [],
   "source": [
    "files2100 = glob.glob(folder+\"tasmax*BNU-ESM*rcp85**2100.nc\")"
   ]
  },
  {
   "cell_type": "code",
   "execution_count": 42,
   "metadata": {},
   "outputs": [
    {
     "data": {
      "text/plain": [
       "['/scen3/scenario/netcdf/ouranos/cb-oura-1.0/tasmax_day_BNU-ESM_rcp85_r1i1p1_na10kgrid_qm-moving-50bins-detrend_2100.nc']"
      ]
     },
     "execution_count": 42,
     "metadata": {},
     "output_type": "execute_result"
    }
   ],
   "source": [
    "files2100"
   ]
  },
  {
   "cell_type": "code",
   "execution_count": 43,
   "metadata": {},
   "outputs": [
    {
     "data": {
      "text/plain": [
       "1"
      ]
     },
     "execution_count": 43,
     "metadata": {},
     "output_type": "execute_result"
    }
   ],
   "source": [
    "len(files2100)"
   ]
  },
  {
   "cell_type": "code",
   "execution_count": 44,
   "metadata": {},
   "outputs": [],
   "source": [
    "files = files1900 + files2000 + files2100"
   ]
  },
  {
   "cell_type": "code",
   "execution_count": 45,
   "metadata": {},
   "outputs": [
    {
     "data": {
      "text/plain": [
       "121"
      ]
     },
     "execution_count": 45,
     "metadata": {},
     "output_type": "execute_result"
    }
   ],
   "source": [
    "len(files)"
   ]
  },
  {
   "cell_type": "code",
   "execution_count": 46,
   "metadata": {},
   "outputs": [
    {
     "data": {
      "text/plain": [
       "['/scen3/scenario/netcdf/ouranos/cb-oura-1.0/tasmax_day_BNU-ESM_rcp85_r1i1p1_na10kgrid_qm-moving-50bins-detrend_1980.nc',\n",
       " '/scen3/scenario/netcdf/ouranos/cb-oura-1.0/tasmax_day_BNU-ESM_rcp85_r1i1p1_na10kgrid_qm-moving-50bins-detrend_1981.nc',\n",
       " '/scen3/scenario/netcdf/ouranos/cb-oura-1.0/tasmax_day_BNU-ESM_rcp85_r1i1p1_na10kgrid_qm-moving-50bins-detrend_1982.nc',\n",
       " '/scen3/scenario/netcdf/ouranos/cb-oura-1.0/tasmax_day_BNU-ESM_rcp85_r1i1p1_na10kgrid_qm-moving-50bins-detrend_1983.nc',\n",
       " '/scen3/scenario/netcdf/ouranos/cb-oura-1.0/tasmax_day_BNU-ESM_rcp85_r1i1p1_na10kgrid_qm-moving-50bins-detrend_1984.nc',\n",
       " '/scen3/scenario/netcdf/ouranos/cb-oura-1.0/tasmax_day_BNU-ESM_rcp85_r1i1p1_na10kgrid_qm-moving-50bins-detrend_1985.nc',\n",
       " '/scen3/scenario/netcdf/ouranos/cb-oura-1.0/tasmax_day_BNU-ESM_rcp85_r1i1p1_na10kgrid_qm-moving-50bins-detrend_1986.nc',\n",
       " '/scen3/scenario/netcdf/ouranos/cb-oura-1.0/tasmax_day_BNU-ESM_rcp85_r1i1p1_na10kgrid_qm-moving-50bins-detrend_1987.nc',\n",
       " '/scen3/scenario/netcdf/ouranos/cb-oura-1.0/tasmax_day_BNU-ESM_rcp85_r1i1p1_na10kgrid_qm-moving-50bins-detrend_1988.nc',\n",
       " '/scen3/scenario/netcdf/ouranos/cb-oura-1.0/tasmax_day_BNU-ESM_rcp85_r1i1p1_na10kgrid_qm-moving-50bins-detrend_1989.nc',\n",
       " '/scen3/scenario/netcdf/ouranos/cb-oura-1.0/tasmax_day_BNU-ESM_rcp85_r1i1p1_na10kgrid_qm-moving-50bins-detrend_1990.nc',\n",
       " '/scen3/scenario/netcdf/ouranos/cb-oura-1.0/tasmax_day_BNU-ESM_rcp85_r1i1p1_na10kgrid_qm-moving-50bins-detrend_1991.nc',\n",
       " '/scen3/scenario/netcdf/ouranos/cb-oura-1.0/tasmax_day_BNU-ESM_rcp85_r1i1p1_na10kgrid_qm-moving-50bins-detrend_1992.nc',\n",
       " '/scen3/scenario/netcdf/ouranos/cb-oura-1.0/tasmax_day_BNU-ESM_rcp85_r1i1p1_na10kgrid_qm-moving-50bins-detrend_1993.nc',\n",
       " '/scen3/scenario/netcdf/ouranos/cb-oura-1.0/tasmax_day_BNU-ESM_rcp85_r1i1p1_na10kgrid_qm-moving-50bins-detrend_1994.nc',\n",
       " '/scen3/scenario/netcdf/ouranos/cb-oura-1.0/tasmax_day_BNU-ESM_rcp85_r1i1p1_na10kgrid_qm-moving-50bins-detrend_1995.nc',\n",
       " '/scen3/scenario/netcdf/ouranos/cb-oura-1.0/tasmax_day_BNU-ESM_rcp85_r1i1p1_na10kgrid_qm-moving-50bins-detrend_1996.nc',\n",
       " '/scen3/scenario/netcdf/ouranos/cb-oura-1.0/tasmax_day_BNU-ESM_rcp85_r1i1p1_na10kgrid_qm-moving-50bins-detrend_1997.nc',\n",
       " '/scen3/scenario/netcdf/ouranos/cb-oura-1.0/tasmax_day_BNU-ESM_rcp85_r1i1p1_na10kgrid_qm-moving-50bins-detrend_1998.nc',\n",
       " '/scen3/scenario/netcdf/ouranos/cb-oura-1.0/tasmax_day_BNU-ESM_rcp85_r1i1p1_na10kgrid_qm-moving-50bins-detrend_1999.nc',\n",
       " '/scen3/scenario/netcdf/ouranos/cb-oura-1.0/tasmax_day_BNU-ESM_rcp85_r1i1p1_na10kgrid_qm-moving-50bins-detrend_2000.nc',\n",
       " '/scen3/scenario/netcdf/ouranos/cb-oura-1.0/tasmax_day_BNU-ESM_rcp85_r1i1p1_na10kgrid_qm-moving-50bins-detrend_2001.nc',\n",
       " '/scen3/scenario/netcdf/ouranos/cb-oura-1.0/tasmax_day_BNU-ESM_rcp85_r1i1p1_na10kgrid_qm-moving-50bins-detrend_2002.nc',\n",
       " '/scen3/scenario/netcdf/ouranos/cb-oura-1.0/tasmax_day_BNU-ESM_rcp85_r1i1p1_na10kgrid_qm-moving-50bins-detrend_2003.nc',\n",
       " '/scen3/scenario/netcdf/ouranos/cb-oura-1.0/tasmax_day_BNU-ESM_rcp85_r1i1p1_na10kgrid_qm-moving-50bins-detrend_2004.nc',\n",
       " '/scen3/scenario/netcdf/ouranos/cb-oura-1.0/tasmax_day_BNU-ESM_rcp85_r1i1p1_na10kgrid_qm-moving-50bins-detrend_2005.nc',\n",
       " '/scen3/scenario/netcdf/ouranos/cb-oura-1.0/tasmax_day_BNU-ESM_rcp85_r1i1p1_na10kgrid_qm-moving-50bins-detrend_2006.nc',\n",
       " '/scen3/scenario/netcdf/ouranos/cb-oura-1.0/tasmax_day_BNU-ESM_rcp85_r1i1p1_na10kgrid_qm-moving-50bins-detrend_2007.nc',\n",
       " '/scen3/scenario/netcdf/ouranos/cb-oura-1.0/tasmax_day_BNU-ESM_rcp85_r1i1p1_na10kgrid_qm-moving-50bins-detrend_2008.nc',\n",
       " '/scen3/scenario/netcdf/ouranos/cb-oura-1.0/tasmax_day_BNU-ESM_rcp85_r1i1p1_na10kgrid_qm-moving-50bins-detrend_2009.nc',\n",
       " '/scen3/scenario/netcdf/ouranos/cb-oura-1.0/tasmax_day_BNU-ESM_rcp85_r1i1p1_na10kgrid_qm-moving-50bins-detrend_2010.nc',\n",
       " '/scen3/scenario/netcdf/ouranos/cb-oura-1.0/tasmax_day_BNU-ESM_rcp85_r1i1p1_na10kgrid_qm-moving-50bins-detrend_2011.nc',\n",
       " '/scen3/scenario/netcdf/ouranos/cb-oura-1.0/tasmax_day_BNU-ESM_rcp85_r1i1p1_na10kgrid_qm-moving-50bins-detrend_2012.nc',\n",
       " '/scen3/scenario/netcdf/ouranos/cb-oura-1.0/tasmax_day_BNU-ESM_rcp85_r1i1p1_na10kgrid_qm-moving-50bins-detrend_2013.nc',\n",
       " '/scen3/scenario/netcdf/ouranos/cb-oura-1.0/tasmax_day_BNU-ESM_rcp85_r1i1p1_na10kgrid_qm-moving-50bins-detrend_2014.nc',\n",
       " '/scen3/scenario/netcdf/ouranos/cb-oura-1.0/tasmax_day_BNU-ESM_rcp85_r1i1p1_na10kgrid_qm-moving-50bins-detrend_2015.nc',\n",
       " '/scen3/scenario/netcdf/ouranos/cb-oura-1.0/tasmax_day_BNU-ESM_rcp85_r1i1p1_na10kgrid_qm-moving-50bins-detrend_2016.nc',\n",
       " '/scen3/scenario/netcdf/ouranos/cb-oura-1.0/tasmax_day_BNU-ESM_rcp85_r1i1p1_na10kgrid_qm-moving-50bins-detrend_2017.nc',\n",
       " '/scen3/scenario/netcdf/ouranos/cb-oura-1.0/tasmax_day_BNU-ESM_rcp85_r1i1p1_na10kgrid_qm-moving-50bins-detrend_2018.nc',\n",
       " '/scen3/scenario/netcdf/ouranos/cb-oura-1.0/tasmax_day_BNU-ESM_rcp85_r1i1p1_na10kgrid_qm-moving-50bins-detrend_2019.nc',\n",
       " '/scen3/scenario/netcdf/ouranos/cb-oura-1.0/tasmax_day_BNU-ESM_rcp85_r1i1p1_na10kgrid_qm-moving-50bins-detrend_2020.nc',\n",
       " '/scen3/scenario/netcdf/ouranos/cb-oura-1.0/tasmax_day_BNU-ESM_rcp85_r1i1p1_na10kgrid_qm-moving-50bins-detrend_2021.nc',\n",
       " '/scen3/scenario/netcdf/ouranos/cb-oura-1.0/tasmax_day_BNU-ESM_rcp85_r1i1p1_na10kgrid_qm-moving-50bins-detrend_2022.nc',\n",
       " '/scen3/scenario/netcdf/ouranos/cb-oura-1.0/tasmax_day_BNU-ESM_rcp85_r1i1p1_na10kgrid_qm-moving-50bins-detrend_2023.nc',\n",
       " '/scen3/scenario/netcdf/ouranos/cb-oura-1.0/tasmax_day_BNU-ESM_rcp85_r1i1p1_na10kgrid_qm-moving-50bins-detrend_2024.nc',\n",
       " '/scen3/scenario/netcdf/ouranos/cb-oura-1.0/tasmax_day_BNU-ESM_rcp85_r1i1p1_na10kgrid_qm-moving-50bins-detrend_2025.nc',\n",
       " '/scen3/scenario/netcdf/ouranos/cb-oura-1.0/tasmax_day_BNU-ESM_rcp85_r1i1p1_na10kgrid_qm-moving-50bins-detrend_2026.nc',\n",
       " '/scen3/scenario/netcdf/ouranos/cb-oura-1.0/tasmax_day_BNU-ESM_rcp85_r1i1p1_na10kgrid_qm-moving-50bins-detrend_2027.nc',\n",
       " '/scen3/scenario/netcdf/ouranos/cb-oura-1.0/tasmax_day_BNU-ESM_rcp85_r1i1p1_na10kgrid_qm-moving-50bins-detrend_2028.nc',\n",
       " '/scen3/scenario/netcdf/ouranos/cb-oura-1.0/tasmax_day_BNU-ESM_rcp85_r1i1p1_na10kgrid_qm-moving-50bins-detrend_2029.nc',\n",
       " '/scen3/scenario/netcdf/ouranos/cb-oura-1.0/tasmax_day_BNU-ESM_rcp85_r1i1p1_na10kgrid_qm-moving-50bins-detrend_2030.nc',\n",
       " '/scen3/scenario/netcdf/ouranos/cb-oura-1.0/tasmax_day_BNU-ESM_rcp85_r1i1p1_na10kgrid_qm-moving-50bins-detrend_2031.nc',\n",
       " '/scen3/scenario/netcdf/ouranos/cb-oura-1.0/tasmax_day_BNU-ESM_rcp85_r1i1p1_na10kgrid_qm-moving-50bins-detrend_2032.nc',\n",
       " '/scen3/scenario/netcdf/ouranos/cb-oura-1.0/tasmax_day_BNU-ESM_rcp85_r1i1p1_na10kgrid_qm-moving-50bins-detrend_2033.nc',\n",
       " '/scen3/scenario/netcdf/ouranos/cb-oura-1.0/tasmax_day_BNU-ESM_rcp85_r1i1p1_na10kgrid_qm-moving-50bins-detrend_2034.nc',\n",
       " '/scen3/scenario/netcdf/ouranos/cb-oura-1.0/tasmax_day_BNU-ESM_rcp85_r1i1p1_na10kgrid_qm-moving-50bins-detrend_2035.nc',\n",
       " '/scen3/scenario/netcdf/ouranos/cb-oura-1.0/tasmax_day_BNU-ESM_rcp85_r1i1p1_na10kgrid_qm-moving-50bins-detrend_2036.nc',\n",
       " '/scen3/scenario/netcdf/ouranos/cb-oura-1.0/tasmax_day_BNU-ESM_rcp85_r1i1p1_na10kgrid_qm-moving-50bins-detrend_2037.nc',\n",
       " '/scen3/scenario/netcdf/ouranos/cb-oura-1.0/tasmax_day_BNU-ESM_rcp85_r1i1p1_na10kgrid_qm-moving-50bins-detrend_2038.nc',\n",
       " '/scen3/scenario/netcdf/ouranos/cb-oura-1.0/tasmax_day_BNU-ESM_rcp85_r1i1p1_na10kgrid_qm-moving-50bins-detrend_2039.nc',\n",
       " '/scen3/scenario/netcdf/ouranos/cb-oura-1.0/tasmax_day_BNU-ESM_rcp85_r1i1p1_na10kgrid_qm-moving-50bins-detrend_2040.nc',\n",
       " '/scen3/scenario/netcdf/ouranos/cb-oura-1.0/tasmax_day_BNU-ESM_rcp85_r1i1p1_na10kgrid_qm-moving-50bins-detrend_2041.nc',\n",
       " '/scen3/scenario/netcdf/ouranos/cb-oura-1.0/tasmax_day_BNU-ESM_rcp85_r1i1p1_na10kgrid_qm-moving-50bins-detrend_2042.nc',\n",
       " '/scen3/scenario/netcdf/ouranos/cb-oura-1.0/tasmax_day_BNU-ESM_rcp85_r1i1p1_na10kgrid_qm-moving-50bins-detrend_2043.nc',\n",
       " '/scen3/scenario/netcdf/ouranos/cb-oura-1.0/tasmax_day_BNU-ESM_rcp85_r1i1p1_na10kgrid_qm-moving-50bins-detrend_2044.nc',\n",
       " '/scen3/scenario/netcdf/ouranos/cb-oura-1.0/tasmax_day_BNU-ESM_rcp85_r1i1p1_na10kgrid_qm-moving-50bins-detrend_2045.nc',\n",
       " '/scen3/scenario/netcdf/ouranos/cb-oura-1.0/tasmax_day_BNU-ESM_rcp85_r1i1p1_na10kgrid_qm-moving-50bins-detrend_2046.nc',\n",
       " '/scen3/scenario/netcdf/ouranos/cb-oura-1.0/tasmax_day_BNU-ESM_rcp85_r1i1p1_na10kgrid_qm-moving-50bins-detrend_2047.nc',\n",
       " '/scen3/scenario/netcdf/ouranos/cb-oura-1.0/tasmax_day_BNU-ESM_rcp85_r1i1p1_na10kgrid_qm-moving-50bins-detrend_2048.nc',\n",
       " '/scen3/scenario/netcdf/ouranos/cb-oura-1.0/tasmax_day_BNU-ESM_rcp85_r1i1p1_na10kgrid_qm-moving-50bins-detrend_2049.nc',\n",
       " '/scen3/scenario/netcdf/ouranos/cb-oura-1.0/tasmax_day_BNU-ESM_rcp85_r1i1p1_na10kgrid_qm-moving-50bins-detrend_2050.nc',\n",
       " '/scen3/scenario/netcdf/ouranos/cb-oura-1.0/tasmax_day_BNU-ESM_rcp85_r1i1p1_na10kgrid_qm-moving-50bins-detrend_2051.nc',\n",
       " '/scen3/scenario/netcdf/ouranos/cb-oura-1.0/tasmax_day_BNU-ESM_rcp85_r1i1p1_na10kgrid_qm-moving-50bins-detrend_2052.nc',\n",
       " '/scen3/scenario/netcdf/ouranos/cb-oura-1.0/tasmax_day_BNU-ESM_rcp85_r1i1p1_na10kgrid_qm-moving-50bins-detrend_2053.nc',\n",
       " '/scen3/scenario/netcdf/ouranos/cb-oura-1.0/tasmax_day_BNU-ESM_rcp85_r1i1p1_na10kgrid_qm-moving-50bins-detrend_2054.nc',\n",
       " '/scen3/scenario/netcdf/ouranos/cb-oura-1.0/tasmax_day_BNU-ESM_rcp85_r1i1p1_na10kgrid_qm-moving-50bins-detrend_2055.nc',\n",
       " '/scen3/scenario/netcdf/ouranos/cb-oura-1.0/tasmax_day_BNU-ESM_rcp85_r1i1p1_na10kgrid_qm-moving-50bins-detrend_2056.nc',\n",
       " '/scen3/scenario/netcdf/ouranos/cb-oura-1.0/tasmax_day_BNU-ESM_rcp85_r1i1p1_na10kgrid_qm-moving-50bins-detrend_2057.nc',\n",
       " '/scen3/scenario/netcdf/ouranos/cb-oura-1.0/tasmax_day_BNU-ESM_rcp85_r1i1p1_na10kgrid_qm-moving-50bins-detrend_2058.nc',\n",
       " '/scen3/scenario/netcdf/ouranos/cb-oura-1.0/tasmax_day_BNU-ESM_rcp85_r1i1p1_na10kgrid_qm-moving-50bins-detrend_2059.nc',\n",
       " '/scen3/scenario/netcdf/ouranos/cb-oura-1.0/tasmax_day_BNU-ESM_rcp85_r1i1p1_na10kgrid_qm-moving-50bins-detrend_2060.nc',\n",
       " '/scen3/scenario/netcdf/ouranos/cb-oura-1.0/tasmax_day_BNU-ESM_rcp85_r1i1p1_na10kgrid_qm-moving-50bins-detrend_2061.nc',\n",
       " '/scen3/scenario/netcdf/ouranos/cb-oura-1.0/tasmax_day_BNU-ESM_rcp85_r1i1p1_na10kgrid_qm-moving-50bins-detrend_2062.nc',\n",
       " '/scen3/scenario/netcdf/ouranos/cb-oura-1.0/tasmax_day_BNU-ESM_rcp85_r1i1p1_na10kgrid_qm-moving-50bins-detrend_2063.nc',\n",
       " '/scen3/scenario/netcdf/ouranos/cb-oura-1.0/tasmax_day_BNU-ESM_rcp85_r1i1p1_na10kgrid_qm-moving-50bins-detrend_2064.nc',\n",
       " '/scen3/scenario/netcdf/ouranos/cb-oura-1.0/tasmax_day_BNU-ESM_rcp85_r1i1p1_na10kgrid_qm-moving-50bins-detrend_2065.nc',\n",
       " '/scen3/scenario/netcdf/ouranos/cb-oura-1.0/tasmax_day_BNU-ESM_rcp85_r1i1p1_na10kgrid_qm-moving-50bins-detrend_2066.nc',\n",
       " '/scen3/scenario/netcdf/ouranos/cb-oura-1.0/tasmax_day_BNU-ESM_rcp85_r1i1p1_na10kgrid_qm-moving-50bins-detrend_2067.nc',\n",
       " '/scen3/scenario/netcdf/ouranos/cb-oura-1.0/tasmax_day_BNU-ESM_rcp85_r1i1p1_na10kgrid_qm-moving-50bins-detrend_2068.nc',\n",
       " '/scen3/scenario/netcdf/ouranos/cb-oura-1.0/tasmax_day_BNU-ESM_rcp85_r1i1p1_na10kgrid_qm-moving-50bins-detrend_2069.nc',\n",
       " '/scen3/scenario/netcdf/ouranos/cb-oura-1.0/tasmax_day_BNU-ESM_rcp85_r1i1p1_na10kgrid_qm-moving-50bins-detrend_2070.nc',\n",
       " '/scen3/scenario/netcdf/ouranos/cb-oura-1.0/tasmax_day_BNU-ESM_rcp85_r1i1p1_na10kgrid_qm-moving-50bins-detrend_2071.nc',\n",
       " '/scen3/scenario/netcdf/ouranos/cb-oura-1.0/tasmax_day_BNU-ESM_rcp85_r1i1p1_na10kgrid_qm-moving-50bins-detrend_2072.nc',\n",
       " '/scen3/scenario/netcdf/ouranos/cb-oura-1.0/tasmax_day_BNU-ESM_rcp85_r1i1p1_na10kgrid_qm-moving-50bins-detrend_2073.nc',\n",
       " '/scen3/scenario/netcdf/ouranos/cb-oura-1.0/tasmax_day_BNU-ESM_rcp85_r1i1p1_na10kgrid_qm-moving-50bins-detrend_2074.nc',\n",
       " '/scen3/scenario/netcdf/ouranos/cb-oura-1.0/tasmax_day_BNU-ESM_rcp85_r1i1p1_na10kgrid_qm-moving-50bins-detrend_2075.nc',\n",
       " '/scen3/scenario/netcdf/ouranos/cb-oura-1.0/tasmax_day_BNU-ESM_rcp85_r1i1p1_na10kgrid_qm-moving-50bins-detrend_2076.nc',\n",
       " '/scen3/scenario/netcdf/ouranos/cb-oura-1.0/tasmax_day_BNU-ESM_rcp85_r1i1p1_na10kgrid_qm-moving-50bins-detrend_2077.nc',\n",
       " '/scen3/scenario/netcdf/ouranos/cb-oura-1.0/tasmax_day_BNU-ESM_rcp85_r1i1p1_na10kgrid_qm-moving-50bins-detrend_2078.nc',\n",
       " '/scen3/scenario/netcdf/ouranos/cb-oura-1.0/tasmax_day_BNU-ESM_rcp85_r1i1p1_na10kgrid_qm-moving-50bins-detrend_2079.nc',\n",
       " '/scen3/scenario/netcdf/ouranos/cb-oura-1.0/tasmax_day_BNU-ESM_rcp85_r1i1p1_na10kgrid_qm-moving-50bins-detrend_2080.nc',\n",
       " '/scen3/scenario/netcdf/ouranos/cb-oura-1.0/tasmax_day_BNU-ESM_rcp85_r1i1p1_na10kgrid_qm-moving-50bins-detrend_2081.nc',\n",
       " '/scen3/scenario/netcdf/ouranos/cb-oura-1.0/tasmax_day_BNU-ESM_rcp85_r1i1p1_na10kgrid_qm-moving-50bins-detrend_2082.nc',\n",
       " '/scen3/scenario/netcdf/ouranos/cb-oura-1.0/tasmax_day_BNU-ESM_rcp85_r1i1p1_na10kgrid_qm-moving-50bins-detrend_2083.nc',\n",
       " '/scen3/scenario/netcdf/ouranos/cb-oura-1.0/tasmax_day_BNU-ESM_rcp85_r1i1p1_na10kgrid_qm-moving-50bins-detrend_2084.nc',\n",
       " '/scen3/scenario/netcdf/ouranos/cb-oura-1.0/tasmax_day_BNU-ESM_rcp85_r1i1p1_na10kgrid_qm-moving-50bins-detrend_2085.nc',\n",
       " '/scen3/scenario/netcdf/ouranos/cb-oura-1.0/tasmax_day_BNU-ESM_rcp85_r1i1p1_na10kgrid_qm-moving-50bins-detrend_2086.nc',\n",
       " '/scen3/scenario/netcdf/ouranos/cb-oura-1.0/tasmax_day_BNU-ESM_rcp85_r1i1p1_na10kgrid_qm-moving-50bins-detrend_2087.nc',\n",
       " '/scen3/scenario/netcdf/ouranos/cb-oura-1.0/tasmax_day_BNU-ESM_rcp85_r1i1p1_na10kgrid_qm-moving-50bins-detrend_2088.nc',\n",
       " '/scen3/scenario/netcdf/ouranos/cb-oura-1.0/tasmax_day_BNU-ESM_rcp85_r1i1p1_na10kgrid_qm-moving-50bins-detrend_2089.nc',\n",
       " '/scen3/scenario/netcdf/ouranos/cb-oura-1.0/tasmax_day_BNU-ESM_rcp85_r1i1p1_na10kgrid_qm-moving-50bins-detrend_2090.nc',\n",
       " '/scen3/scenario/netcdf/ouranos/cb-oura-1.0/tasmax_day_BNU-ESM_rcp85_r1i1p1_na10kgrid_qm-moving-50bins-detrend_2091.nc',\n",
       " '/scen3/scenario/netcdf/ouranos/cb-oura-1.0/tasmax_day_BNU-ESM_rcp85_r1i1p1_na10kgrid_qm-moving-50bins-detrend_2092.nc',\n",
       " '/scen3/scenario/netcdf/ouranos/cb-oura-1.0/tasmax_day_BNU-ESM_rcp85_r1i1p1_na10kgrid_qm-moving-50bins-detrend_2093.nc',\n",
       " '/scen3/scenario/netcdf/ouranos/cb-oura-1.0/tasmax_day_BNU-ESM_rcp85_r1i1p1_na10kgrid_qm-moving-50bins-detrend_2094.nc',\n",
       " '/scen3/scenario/netcdf/ouranos/cb-oura-1.0/tasmax_day_BNU-ESM_rcp85_r1i1p1_na10kgrid_qm-moving-50bins-detrend_2095.nc',\n",
       " '/scen3/scenario/netcdf/ouranos/cb-oura-1.0/tasmax_day_BNU-ESM_rcp85_r1i1p1_na10kgrid_qm-moving-50bins-detrend_2096.nc',\n",
       " '/scen3/scenario/netcdf/ouranos/cb-oura-1.0/tasmax_day_BNU-ESM_rcp85_r1i1p1_na10kgrid_qm-moving-50bins-detrend_2097.nc',\n",
       " '/scen3/scenario/netcdf/ouranos/cb-oura-1.0/tasmax_day_BNU-ESM_rcp85_r1i1p1_na10kgrid_qm-moving-50bins-detrend_2098.nc',\n",
       " '/scen3/scenario/netcdf/ouranos/cb-oura-1.0/tasmax_day_BNU-ESM_rcp85_r1i1p1_na10kgrid_qm-moving-50bins-detrend_2099.nc',\n",
       " '/scen3/scenario/netcdf/ouranos/cb-oura-1.0/tasmax_day_BNU-ESM_rcp85_r1i1p1_na10kgrid_qm-moving-50bins-detrend_2100.nc']"
      ]
     },
     "execution_count": 46,
     "metadata": {},
     "output_type": "execute_result"
    }
   ],
   "source": [
    "files"
   ]
  },
  {
   "cell_type": "code",
   "execution_count": 47,
   "metadata": {},
   "outputs": [
    {
     "name": "stdout",
     "output_type": "stream",
     "text": [
      "tasmax_day_BNU-ESM_rcp85_r1i1p1_na10kgrid_qm-moving-50bins-detrend_1980.nc\n"
     ]
    },
    {
     "name": "stderr",
     "output_type": "stream",
     "text": [
      "<ipython-input-47-468836aa4017>:8: RuntimeWarning: Converting a CFTimeIndex with dates from a non-standard calendar, 'noleap', to a pandas.DatetimeIndex, which uses dates from the standard calendar.  This may lead to subtle errors in operations that depend on the length of time between dates.\n",
      "  new_index = data.indexes['time'].to_datetimeindex()\n",
      "/home/mlopez/EXEC/anaconda3/envs/python37-2/lib/python3.8/site-packages/xarray/core/nanops.py:140: RuntimeWarning: Mean of empty slice\n",
      "  return np.nanmean(a, axis=axis, dtype=dtype)\n"
     ]
    },
    {
     "name": "stdout",
     "output_type": "stream",
     "text": [
      "tasmax_day_BNU-ESM_rcp85_r1i1p1_na10kgrid_qm-moving-50bins-detrend_1981.nc\n",
      "tasmax_day_BNU-ESM_rcp85_r1i1p1_na10kgrid_qm-moving-50bins-detrend_1982.nc\n",
      "tasmax_day_BNU-ESM_rcp85_r1i1p1_na10kgrid_qm-moving-50bins-detrend_1983.nc\n",
      "tasmax_day_BNU-ESM_rcp85_r1i1p1_na10kgrid_qm-moving-50bins-detrend_1984.nc\n",
      "tasmax_day_BNU-ESM_rcp85_r1i1p1_na10kgrid_qm-moving-50bins-detrend_1985.nc\n",
      "tasmax_day_BNU-ESM_rcp85_r1i1p1_na10kgrid_qm-moving-50bins-detrend_1986.nc\n",
      "tasmax_day_BNU-ESM_rcp85_r1i1p1_na10kgrid_qm-moving-50bins-detrend_1987.nc\n",
      "tasmax_day_BNU-ESM_rcp85_r1i1p1_na10kgrid_qm-moving-50bins-detrend_1988.nc\n",
      "tasmax_day_BNU-ESM_rcp85_r1i1p1_na10kgrid_qm-moving-50bins-detrend_1989.nc\n",
      "tasmax_day_BNU-ESM_rcp85_r1i1p1_na10kgrid_qm-moving-50bins-detrend_1990.nc\n",
      "tasmax_day_BNU-ESM_rcp85_r1i1p1_na10kgrid_qm-moving-50bins-detrend_1991.nc\n",
      "tasmax_day_BNU-ESM_rcp85_r1i1p1_na10kgrid_qm-moving-50bins-detrend_1992.nc\n",
      "tasmax_day_BNU-ESM_rcp85_r1i1p1_na10kgrid_qm-moving-50bins-detrend_1993.nc\n",
      "tasmax_day_BNU-ESM_rcp85_r1i1p1_na10kgrid_qm-moving-50bins-detrend_1994.nc\n",
      "tasmax_day_BNU-ESM_rcp85_r1i1p1_na10kgrid_qm-moving-50bins-detrend_1995.nc\n",
      "tasmax_day_BNU-ESM_rcp85_r1i1p1_na10kgrid_qm-moving-50bins-detrend_1996.nc\n",
      "tasmax_day_BNU-ESM_rcp85_r1i1p1_na10kgrid_qm-moving-50bins-detrend_1997.nc\n",
      "tasmax_day_BNU-ESM_rcp85_r1i1p1_na10kgrid_qm-moving-50bins-detrend_1998.nc\n",
      "tasmax_day_BNU-ESM_rcp85_r1i1p1_na10kgrid_qm-moving-50bins-detrend_1999.nc\n",
      "tasmax_day_BNU-ESM_rcp85_r1i1p1_na10kgrid_qm-moving-50bins-detrend_2000.nc\n",
      "tasmax_day_BNU-ESM_rcp85_r1i1p1_na10kgrid_qm-moving-50bins-detrend_2001.nc\n",
      "tasmax_day_BNU-ESM_rcp85_r1i1p1_na10kgrid_qm-moving-50bins-detrend_2002.nc\n",
      "tasmax_day_BNU-ESM_rcp85_r1i1p1_na10kgrid_qm-moving-50bins-detrend_2003.nc\n",
      "tasmax_day_BNU-ESM_rcp85_r1i1p1_na10kgrid_qm-moving-50bins-detrend_2004.nc\n",
      "tasmax_day_BNU-ESM_rcp85_r1i1p1_na10kgrid_qm-moving-50bins-detrend_2005.nc\n",
      "tasmax_day_BNU-ESM_rcp85_r1i1p1_na10kgrid_qm-moving-50bins-detrend_2006.nc\n",
      "tasmax_day_BNU-ESM_rcp85_r1i1p1_na10kgrid_qm-moving-50bins-detrend_2007.nc\n",
      "tasmax_day_BNU-ESM_rcp85_r1i1p1_na10kgrid_qm-moving-50bins-detrend_2008.nc\n",
      "tasmax_day_BNU-ESM_rcp85_r1i1p1_na10kgrid_qm-moving-50bins-detrend_2009.nc\n",
      "tasmax_day_BNU-ESM_rcp85_r1i1p1_na10kgrid_qm-moving-50bins-detrend_2010.nc\n",
      "tasmax_day_BNU-ESM_rcp85_r1i1p1_na10kgrid_qm-moving-50bins-detrend_2011.nc\n",
      "tasmax_day_BNU-ESM_rcp85_r1i1p1_na10kgrid_qm-moving-50bins-detrend_2012.nc\n",
      "tasmax_day_BNU-ESM_rcp85_r1i1p1_na10kgrid_qm-moving-50bins-detrend_2013.nc\n",
      "tasmax_day_BNU-ESM_rcp85_r1i1p1_na10kgrid_qm-moving-50bins-detrend_2014.nc\n",
      "tasmax_day_BNU-ESM_rcp85_r1i1p1_na10kgrid_qm-moving-50bins-detrend_2015.nc\n",
      "tasmax_day_BNU-ESM_rcp85_r1i1p1_na10kgrid_qm-moving-50bins-detrend_2016.nc\n",
      "tasmax_day_BNU-ESM_rcp85_r1i1p1_na10kgrid_qm-moving-50bins-detrend_2017.nc\n",
      "tasmax_day_BNU-ESM_rcp85_r1i1p1_na10kgrid_qm-moving-50bins-detrend_2018.nc\n",
      "tasmax_day_BNU-ESM_rcp85_r1i1p1_na10kgrid_qm-moving-50bins-detrend_2019.nc\n",
      "tasmax_day_BNU-ESM_rcp85_r1i1p1_na10kgrid_qm-moving-50bins-detrend_2020.nc\n",
      "tasmax_day_BNU-ESM_rcp85_r1i1p1_na10kgrid_qm-moving-50bins-detrend_2021.nc\n",
      "tasmax_day_BNU-ESM_rcp85_r1i1p1_na10kgrid_qm-moving-50bins-detrend_2022.nc\n",
      "tasmax_day_BNU-ESM_rcp85_r1i1p1_na10kgrid_qm-moving-50bins-detrend_2023.nc\n",
      "tasmax_day_BNU-ESM_rcp85_r1i1p1_na10kgrid_qm-moving-50bins-detrend_2024.nc\n",
      "tasmax_day_BNU-ESM_rcp85_r1i1p1_na10kgrid_qm-moving-50bins-detrend_2025.nc\n",
      "tasmax_day_BNU-ESM_rcp85_r1i1p1_na10kgrid_qm-moving-50bins-detrend_2026.nc\n",
      "tasmax_day_BNU-ESM_rcp85_r1i1p1_na10kgrid_qm-moving-50bins-detrend_2027.nc\n",
      "tasmax_day_BNU-ESM_rcp85_r1i1p1_na10kgrid_qm-moving-50bins-detrend_2028.nc\n",
      "tasmax_day_BNU-ESM_rcp85_r1i1p1_na10kgrid_qm-moving-50bins-detrend_2029.nc\n",
      "tasmax_day_BNU-ESM_rcp85_r1i1p1_na10kgrid_qm-moving-50bins-detrend_2030.nc\n",
      "tasmax_day_BNU-ESM_rcp85_r1i1p1_na10kgrid_qm-moving-50bins-detrend_2031.nc\n",
      "tasmax_day_BNU-ESM_rcp85_r1i1p1_na10kgrid_qm-moving-50bins-detrend_2032.nc\n",
      "tasmax_day_BNU-ESM_rcp85_r1i1p1_na10kgrid_qm-moving-50bins-detrend_2033.nc\n",
      "tasmax_day_BNU-ESM_rcp85_r1i1p1_na10kgrid_qm-moving-50bins-detrend_2034.nc\n",
      "tasmax_day_BNU-ESM_rcp85_r1i1p1_na10kgrid_qm-moving-50bins-detrend_2035.nc\n",
      "tasmax_day_BNU-ESM_rcp85_r1i1p1_na10kgrid_qm-moving-50bins-detrend_2036.nc\n",
      "tasmax_day_BNU-ESM_rcp85_r1i1p1_na10kgrid_qm-moving-50bins-detrend_2037.nc\n",
      "tasmax_day_BNU-ESM_rcp85_r1i1p1_na10kgrid_qm-moving-50bins-detrend_2038.nc\n",
      "tasmax_day_BNU-ESM_rcp85_r1i1p1_na10kgrid_qm-moving-50bins-detrend_2039.nc\n",
      "tasmax_day_BNU-ESM_rcp85_r1i1p1_na10kgrid_qm-moving-50bins-detrend_2040.nc\n",
      "tasmax_day_BNU-ESM_rcp85_r1i1p1_na10kgrid_qm-moving-50bins-detrend_2041.nc\n",
      "tasmax_day_BNU-ESM_rcp85_r1i1p1_na10kgrid_qm-moving-50bins-detrend_2042.nc\n",
      "tasmax_day_BNU-ESM_rcp85_r1i1p1_na10kgrid_qm-moving-50bins-detrend_2043.nc\n",
      "tasmax_day_BNU-ESM_rcp85_r1i1p1_na10kgrid_qm-moving-50bins-detrend_2044.nc\n",
      "tasmax_day_BNU-ESM_rcp85_r1i1p1_na10kgrid_qm-moving-50bins-detrend_2045.nc\n",
      "tasmax_day_BNU-ESM_rcp85_r1i1p1_na10kgrid_qm-moving-50bins-detrend_2046.nc\n",
      "tasmax_day_BNU-ESM_rcp85_r1i1p1_na10kgrid_qm-moving-50bins-detrend_2047.nc\n",
      "tasmax_day_BNU-ESM_rcp85_r1i1p1_na10kgrid_qm-moving-50bins-detrend_2048.nc\n",
      "tasmax_day_BNU-ESM_rcp85_r1i1p1_na10kgrid_qm-moving-50bins-detrend_2049.nc\n",
      "tasmax_day_BNU-ESM_rcp85_r1i1p1_na10kgrid_qm-moving-50bins-detrend_2050.nc\n",
      "tasmax_day_BNU-ESM_rcp85_r1i1p1_na10kgrid_qm-moving-50bins-detrend_2051.nc\n",
      "tasmax_day_BNU-ESM_rcp85_r1i1p1_na10kgrid_qm-moving-50bins-detrend_2052.nc\n",
      "tasmax_day_BNU-ESM_rcp85_r1i1p1_na10kgrid_qm-moving-50bins-detrend_2053.nc\n",
      "tasmax_day_BNU-ESM_rcp85_r1i1p1_na10kgrid_qm-moving-50bins-detrend_2054.nc\n",
      "tasmax_day_BNU-ESM_rcp85_r1i1p1_na10kgrid_qm-moving-50bins-detrend_2055.nc\n",
      "tasmax_day_BNU-ESM_rcp85_r1i1p1_na10kgrid_qm-moving-50bins-detrend_2056.nc\n",
      "tasmax_day_BNU-ESM_rcp85_r1i1p1_na10kgrid_qm-moving-50bins-detrend_2057.nc\n",
      "tasmax_day_BNU-ESM_rcp85_r1i1p1_na10kgrid_qm-moving-50bins-detrend_2058.nc\n",
      "tasmax_day_BNU-ESM_rcp85_r1i1p1_na10kgrid_qm-moving-50bins-detrend_2059.nc\n",
      "tasmax_day_BNU-ESM_rcp85_r1i1p1_na10kgrid_qm-moving-50bins-detrend_2060.nc\n",
      "tasmax_day_BNU-ESM_rcp85_r1i1p1_na10kgrid_qm-moving-50bins-detrend_2061.nc\n",
      "tasmax_day_BNU-ESM_rcp85_r1i1p1_na10kgrid_qm-moving-50bins-detrend_2062.nc\n",
      "tasmax_day_BNU-ESM_rcp85_r1i1p1_na10kgrid_qm-moving-50bins-detrend_2063.nc\n",
      "tasmax_day_BNU-ESM_rcp85_r1i1p1_na10kgrid_qm-moving-50bins-detrend_2064.nc\n",
      "tasmax_day_BNU-ESM_rcp85_r1i1p1_na10kgrid_qm-moving-50bins-detrend_2065.nc\n",
      "tasmax_day_BNU-ESM_rcp85_r1i1p1_na10kgrid_qm-moving-50bins-detrend_2066.nc\n",
      "tasmax_day_BNU-ESM_rcp85_r1i1p1_na10kgrid_qm-moving-50bins-detrend_2067.nc\n",
      "tasmax_day_BNU-ESM_rcp85_r1i1p1_na10kgrid_qm-moving-50bins-detrend_2068.nc\n",
      "tasmax_day_BNU-ESM_rcp85_r1i1p1_na10kgrid_qm-moving-50bins-detrend_2069.nc\n",
      "tasmax_day_BNU-ESM_rcp85_r1i1p1_na10kgrid_qm-moving-50bins-detrend_2070.nc\n",
      "tasmax_day_BNU-ESM_rcp85_r1i1p1_na10kgrid_qm-moving-50bins-detrend_2071.nc\n",
      "tasmax_day_BNU-ESM_rcp85_r1i1p1_na10kgrid_qm-moving-50bins-detrend_2072.nc\n",
      "tasmax_day_BNU-ESM_rcp85_r1i1p1_na10kgrid_qm-moving-50bins-detrend_2073.nc\n",
      "tasmax_day_BNU-ESM_rcp85_r1i1p1_na10kgrid_qm-moving-50bins-detrend_2074.nc\n",
      "tasmax_day_BNU-ESM_rcp85_r1i1p1_na10kgrid_qm-moving-50bins-detrend_2075.nc\n",
      "tasmax_day_BNU-ESM_rcp85_r1i1p1_na10kgrid_qm-moving-50bins-detrend_2076.nc\n",
      "tasmax_day_BNU-ESM_rcp85_r1i1p1_na10kgrid_qm-moving-50bins-detrend_2077.nc\n",
      "tasmax_day_BNU-ESM_rcp85_r1i1p1_na10kgrid_qm-moving-50bins-detrend_2078.nc\n",
      "tasmax_day_BNU-ESM_rcp85_r1i1p1_na10kgrid_qm-moving-50bins-detrend_2079.nc\n",
      "tasmax_day_BNU-ESM_rcp85_r1i1p1_na10kgrid_qm-moving-50bins-detrend_2080.nc\n",
      "tasmax_day_BNU-ESM_rcp85_r1i1p1_na10kgrid_qm-moving-50bins-detrend_2081.nc\n",
      "tasmax_day_BNU-ESM_rcp85_r1i1p1_na10kgrid_qm-moving-50bins-detrend_2082.nc\n",
      "tasmax_day_BNU-ESM_rcp85_r1i1p1_na10kgrid_qm-moving-50bins-detrend_2083.nc\n",
      "tasmax_day_BNU-ESM_rcp85_r1i1p1_na10kgrid_qm-moving-50bins-detrend_2084.nc\n",
      "tasmax_day_BNU-ESM_rcp85_r1i1p1_na10kgrid_qm-moving-50bins-detrend_2085.nc\n",
      "tasmax_day_BNU-ESM_rcp85_r1i1p1_na10kgrid_qm-moving-50bins-detrend_2086.nc\n",
      "tasmax_day_BNU-ESM_rcp85_r1i1p1_na10kgrid_qm-moving-50bins-detrend_2087.nc\n",
      "tasmax_day_BNU-ESM_rcp85_r1i1p1_na10kgrid_qm-moving-50bins-detrend_2088.nc\n",
      "tasmax_day_BNU-ESM_rcp85_r1i1p1_na10kgrid_qm-moving-50bins-detrend_2089.nc\n",
      "tasmax_day_BNU-ESM_rcp85_r1i1p1_na10kgrid_qm-moving-50bins-detrend_2090.nc\n"
     ]
    },
    {
     "name": "stdout",
     "output_type": "stream",
     "text": [
      "tasmax_day_BNU-ESM_rcp85_r1i1p1_na10kgrid_qm-moving-50bins-detrend_2091.nc\n",
      "tasmax_day_BNU-ESM_rcp85_r1i1p1_na10kgrid_qm-moving-50bins-detrend_2092.nc\n",
      "tasmax_day_BNU-ESM_rcp85_r1i1p1_na10kgrid_qm-moving-50bins-detrend_2093.nc\n",
      "tasmax_day_BNU-ESM_rcp85_r1i1p1_na10kgrid_qm-moving-50bins-detrend_2094.nc\n",
      "tasmax_day_BNU-ESM_rcp85_r1i1p1_na10kgrid_qm-moving-50bins-detrend_2095.nc\n",
      "tasmax_day_BNU-ESM_rcp85_r1i1p1_na10kgrid_qm-moving-50bins-detrend_2096.nc\n",
      "tasmax_day_BNU-ESM_rcp85_r1i1p1_na10kgrid_qm-moving-50bins-detrend_2097.nc\n",
      "tasmax_day_BNU-ESM_rcp85_r1i1p1_na10kgrid_qm-moving-50bins-detrend_2098.nc\n",
      "tasmax_day_BNU-ESM_rcp85_r1i1p1_na10kgrid_qm-moving-50bins-detrend_2099.nc\n",
      "tasmax_day_BNU-ESM_rcp85_r1i1p1_na10kgrid_qm-moving-50bins-detrend_2100.nc\n"
     ]
    }
   ],
   "source": [
    "#7.49- = 4min - 30 files\n",
    "#8.31 - \n",
    "for file in files:\n",
    "    fname = os.path.basename(file)\n",
    "    fbase = os.path.splitext(fname)[0]\n",
    "    print(fname)\n",
    "    data = xr.open_dataset(file)\n",
    "    new_index = data.indexes['time'].to_datetimeindex()\n",
    "    data['time'] = new_index\n",
    "    time_mean = data.mean(dim=[\"time\"])\n",
    "    time_mean.to_netcdf(out_folder+fbase+\".nc\")\n",
    "    small_df = time_mean.tasmax.to_dataframe().dropna()\n",
    "    small_df.reset_index().to_feather(out_folder + fbase + \".feather\")"
   ]
  },
  {
   "cell_type": "code",
   "execution_count": 48,
   "metadata": {},
   "outputs": [
    {
     "ename": "AttributeError",
     "evalue": "'Dataset' object has no attribute 'to'",
     "output_type": "error",
     "traceback": [
      "\u001b[0;31m---------------------------------------------------------------------------\u001b[0m",
      "\u001b[0;31mAttributeError\u001b[0m                            Traceback (most recent call last)",
      "\u001b[0;32m<ipython-input-48-ee62c298ecea>\u001b[0m in \u001b[0;36m<module>\u001b[0;34m\u001b[0m\n\u001b[0;32m----> 1\u001b[0;31m \u001b[0mtime_mean\u001b[0m\u001b[0;34m.\u001b[0m\u001b[0mto\u001b[0m\u001b[0;34m\u001b[0m\u001b[0;34m\u001b[0m\u001b[0m\n\u001b[0m",
      "\u001b[0;32m~/EXEC/anaconda3/envs/python37-2/lib/python3.8/site-packages/xarray/core/common.py\u001b[0m in \u001b[0;36m__getattr__\u001b[0;34m(self, name)\u001b[0m\n\u001b[1;32m    230\u001b[0m                 \u001b[0;32mwith\u001b[0m \u001b[0msuppress\u001b[0m\u001b[0;34m(\u001b[0m\u001b[0mKeyError\u001b[0m\u001b[0;34m)\u001b[0m\u001b[0;34m:\u001b[0m\u001b[0;34m\u001b[0m\u001b[0;34m\u001b[0m\u001b[0m\n\u001b[1;32m    231\u001b[0m                     \u001b[0;32mreturn\u001b[0m \u001b[0msource\u001b[0m\u001b[0;34m[\u001b[0m\u001b[0mname\u001b[0m\u001b[0;34m]\u001b[0m\u001b[0;34m\u001b[0m\u001b[0;34m\u001b[0m\u001b[0m\n\u001b[0;32m--> 232\u001b[0;31m         raise AttributeError(\n\u001b[0m\u001b[1;32m    233\u001b[0m             \u001b[0;34m\"{!r} object has no attribute {!r}\"\u001b[0m\u001b[0;34m.\u001b[0m\u001b[0mformat\u001b[0m\u001b[0;34m(\u001b[0m\u001b[0mtype\u001b[0m\u001b[0;34m(\u001b[0m\u001b[0mself\u001b[0m\u001b[0;34m)\u001b[0m\u001b[0;34m.\u001b[0m\u001b[0m__name__\u001b[0m\u001b[0;34m,\u001b[0m \u001b[0mname\u001b[0m\u001b[0;34m)\u001b[0m\u001b[0;34m\u001b[0m\u001b[0;34m\u001b[0m\u001b[0m\n\u001b[1;32m    234\u001b[0m         )\n",
      "\u001b[0;31mAttributeError\u001b[0m: 'Dataset' object has no attribute 'to'"
     ]
    }
   ],
   "source": [
    "time_mean.to"
   ]
  },
  {
   "cell_type": "code",
   "execution_count": null,
   "metadata": {},
   "outputs": [],
   "source": [
    "time_mean.to_netcdf(out_folder+fname)"
   ]
  },
  {
   "cell_type": "code",
   "execution_count": null,
   "metadata": {},
   "outputs": [],
   "source": [
    "data"
   ]
  },
  {
   "cell_type": "code",
   "execution_count": null,
   "metadata": {},
   "outputs": [],
   "source": [
    "df"
   ]
  },
  {
   "cell_type": "code",
   "execution_count": null,
   "metadata": {},
   "outputs": [],
   "source": [
    "# 12:10\n",
    "%time ds_mean.tasmax.plot()"
   ]
  },
  {
   "cell_type": "code",
   "execution_count": null,
   "metadata": {},
   "outputs": [],
   "source": [
    "tmean = ds_mean.tasmax."
   ]
  },
  {
   "cell_type": "code",
   "execution_count": null,
   "metadata": {},
   "outputs": [],
   "source": [
    "# 12:10\n",
    "%time ds_mean.tasmax.plot()"
   ]
  },
  {
   "cell_type": "code",
   "execution_count": null,
   "metadata": {},
   "outputs": [],
   "source": []
  },
  {
   "cell_type": "code",
   "execution_count": null,
   "metadata": {},
   "outputs": [],
   "source": [
    "tempMax"
   ]
  },
  {
   "cell_type": "code",
   "execution_count": null,
   "metadata": {},
   "outputs": [],
   "source": [
    "%time df = tempMax.to_dataframe().dropna()\n",
    "df"
   ]
  },
  {
   "cell_type": "code",
   "execution_count": null,
   "metadata": {},
   "outputs": [],
   "source": [
    "%time df.reset_index().to_feather(\"test.feather\")"
   ]
  }
 ],
 "metadata": {
  "kernelspec": {
   "display_name": "Python 3",
   "language": "python",
   "name": "python3"
  },
  "language_info": {
   "codemirror_mode": {
    "name": "ipython",
    "version": 3
   },
   "file_extension": ".py",
   "mimetype": "text/x-python",
   "name": "python",
   "nbconvert_exporter": "python",
   "pygments_lexer": "ipython3",
   "version": "3.8.1"
  }
 },
 "nbformat": 4,
 "nbformat_minor": 4
}

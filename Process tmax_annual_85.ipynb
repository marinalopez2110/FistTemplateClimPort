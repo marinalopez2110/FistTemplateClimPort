{
 "cells": [
  {
   "cell_type": "code",
   "execution_count": 1,
   "metadata": {},
   "outputs": [],
   "source": [
    "%load_ext autoreload\n",
    "%autoreload 2\n",
    "import xarray as xr\n",
    "import matplotlib.pyplot as plt\n",
    "import pandas as pd\n",
    "import processing_netcdf as pcdf\n",
    "import geopandas as gpd\n",
    "from geopandas import GeoDataFrame\n",
    "import shapely.geometry \n",
    "import numpy as np\n",
    "from shapely import geometry as gmty\n",
    "from geofeather import to_geofeather, from_geofeather"
   ]
  },
  {
   "cell_type": "code",
   "execution_count": 2,
   "metadata": {},
   "outputs": [],
   "source": [
    "import glob\n",
    "import os"
   ]
  },
  {
   "cell_type": "code",
   "execution_count": 3,
   "metadata": {},
   "outputs": [],
   "source": [
    "#path for 11 models\n",
    "path = \"/home/mlopez/EXEC/tmax_annual_85/\""
   ]
  },
  {
   "cell_type": "code",
   "execution_count": 4,
   "metadata": {},
   "outputs": [],
   "source": [
    "files = list(glob.glob(os.path.join(path,'*.*')))"
   ]
  },
  {
   "cell_type": "code",
   "execution_count": 5,
   "metadata": {},
   "outputs": [
    {
     "data": {
      "text/plain": [
       "['/home/mlopez/EXEC/tmax_annual_85/BNU-ESM_rcp85_tx_mean_annual.nc',\n",
       " '/home/mlopez/EXEC/tmax_annual_85/INM-CM4_rcp85_tx_mean_annual.nc',\n",
       " '/home/mlopez/EXEC/tmax_annual_85/CMCC-CMS_rcp85_tx_mean_annual.nc',\n",
       " '/home/mlopez/EXEC/tmax_annual_85/IPSL-CM5A-LR_rcp85_tx_mean_annual.nc',\n",
       " '/home/mlopez/EXEC/tmax_annual_85/IPSL-CM5B-LR_rcp85_tx_mean_annual.nc',\n",
       " '/home/mlopez/EXEC/tmax_annual_85/NorESM1-M_rcp85_tx_mean_annual.nc',\n",
       " '/home/mlopez/EXEC/tmax_annual_85/CanESM2_rcp85_tx_mean_annual.nc',\n",
       " '/home/mlopez/EXEC/tmax_annual_85/GFDL-ESM2M_rcp85_tx_mean_annual.nc',\n",
       " '/home/mlopez/EXEC/tmax_annual_85/HadGEM2-CC_rcp85_tx_mean_annual.nc',\n",
       " '/home/mlopez/EXEC/tmax_annual_85/MPI-ESM-LR_rcp85_tx_mean_annual.nc',\n",
       " '/home/mlopez/EXEC/tmax_annual_85/ACCESS1-3_rcp85_tx_mean_annual.nc']"
      ]
     },
     "execution_count": 5,
     "metadata": {},
     "output_type": "execute_result"
    }
   ],
   "source": [
    "files"
   ]
  },
  {
   "cell_type": "markdown",
   "metadata": {},
   "source": [
    "# Create DF of all models"
   ]
  },
  {
   "cell_type": "code",
   "execution_count": 6,
   "metadata": {},
   "outputs": [],
   "source": [
    "dflist = []"
   ]
  },
  {
   "cell_type": "code",
   "execution_count": 7,
   "metadata": {
    "scrolled": true
   },
   "outputs": [
    {
     "name": "stderr",
     "output_type": "stream",
     "text": [
      "/exec/mlopez/Code/GitHub/processing_netcdf.py:24: RuntimeWarning: Converting a CFTimeIndex with dates from a non-standard calendar, 'noleap', to a pandas.DatetimeIndex, which uses dates from the standard calendar.  This may lead to subtle errors in operations that depend on the length of time between dates.\n",
      "  ds['time'] = index.to_datetimeindex()\n",
      "/exec/mlopez/Code/GitHub/processing_netcdf.py:24: RuntimeWarning: Converting a CFTimeIndex with dates from a non-standard calendar, 'noleap', to a pandas.DatetimeIndex, which uses dates from the standard calendar.  This may lead to subtle errors in operations that depend on the length of time between dates.\n",
      "  ds['time'] = index.to_datetimeindex()\n",
      "/exec/mlopez/Code/GitHub/processing_netcdf.py:24: RuntimeWarning: Converting a CFTimeIndex with dates from a non-standard calendar, '360_day', to a pandas.DatetimeIndex, which uses dates from the standard calendar.  This may lead to subtle errors in operations that depend on the length of time between dates.\n",
      "  ds['time'] = index.to_datetimeindex()\n"
     ]
    }
   ],
   "source": [
    "for file in files:\n",
    "    df = pcdf.load_as_df(file)\n",
    "    dflist.append(df)"
   ]
  },
  {
   "cell_type": "code",
   "execution_count": 8,
   "metadata": {},
   "outputs": [
    {
     "data": {
      "text/plain": [
       "[                                    tx_mean\n",
       " lat       lon        time                  \n",
       " 66.623306 -89.045212 1950-01-01  261.465546\n",
       "                      1951-01-01  260.108063\n",
       "                      1952-01-01  262.473969\n",
       "                      1953-01-01  262.028931\n",
       "                      1954-01-01  260.705750\n",
       " ...                                     ...\n",
       " 40.041039 -74.045807 2096-01-01  298.027527\n",
       "                      2097-01-01  296.727692\n",
       "                      2098-01-01  296.084808\n",
       "                      2099-01-01  296.549194\n",
       "                      2100-01-01  296.858734\n",
       " \n",
       " [11507106 rows x 1 columns],                                     tx_mean\n",
       " lat       lon        time                  \n",
       " 66.623306 -89.045212 1950-01-01  262.232147\n",
       "                      1951-01-01  261.559753\n",
       "                      1952-01-01  262.615112\n",
       "                      1953-01-01  262.848358\n",
       "                      1954-01-01  264.110535\n",
       " ...                                     ...\n",
       " 40.041039 -74.045807 2096-01-01  294.292023\n",
       "                      2097-01-01  293.999573\n",
       "                      2098-01-01  292.458252\n",
       "                      2099-01-01  293.909363\n",
       "                      2100-01-01  292.805725\n",
       " \n",
       " [11507106 rows x 1 columns],                                     tx_mean\n",
       " lat       lon        time                  \n",
       " 66.623306 -89.045212 1950-01-01  260.996307\n",
       "                      1951-01-01  262.996246\n",
       "                      1952-01-01  262.133392\n",
       "                      1953-01-01  262.056671\n",
       "                      1954-01-01  261.952301\n",
       " ...                                     ...\n",
       " 40.041039 -74.045807 2096-01-01  296.071259\n",
       "                      2097-01-01  297.275909\n",
       "                      2098-01-01  297.466217\n",
       "                      2099-01-01  295.558533\n",
       "                      2100-01-01  296.067993\n",
       " \n",
       " [11507106 rows x 1 columns],                                     tx_mean\n",
       " lat       lon        time                  \n",
       " 66.623306 -89.045212 1950-01-01  263.184326\n",
       "                      1951-01-01  262.288483\n",
       "                      1952-01-01  260.821777\n",
       "                      1953-01-01  263.072998\n",
       "                      1954-01-01  262.249756\n",
       " ...                                     ...\n",
       " 40.041039 -74.045807 2096-01-01  296.432953\n",
       "                      2097-01-01  297.271393\n",
       "                      2098-01-01  297.188446\n",
       "                      2099-01-01  296.837311\n",
       "                      2100-01-01  296.618805\n",
       " \n",
       " [11507106 rows x 1 columns],                                     tx_mean\n",
       " lat       lon        time                  \n",
       " 66.623306 -89.045212 1950-01-01  263.263214\n",
       "                      1951-01-01  261.537445\n",
       "                      1952-01-01  262.890717\n",
       "                      1953-01-01  262.596008\n",
       "                      1954-01-01  263.388092\n",
       " ...                                     ...\n",
       " 40.041039 -74.045807 2096-01-01  297.636292\n",
       "                      2097-01-01  296.329834\n",
       "                      2098-01-01  297.038818\n",
       "                      2099-01-01  296.264038\n",
       "                      2100-01-01  297.102753\n",
       " \n",
       " [11507106 rows x 1 columns],                                     tx_mean\n",
       " lat       lon        time                  \n",
       " 66.623306 -89.045212 1950-01-01  263.759674\n",
       "                      1951-01-01  262.630981\n",
       "                      1952-01-01  261.895874\n",
       "                      1953-01-01  261.322296\n",
       "                      1954-01-01  262.329041\n",
       " ...                                     ...\n",
       " 40.041039 -74.045807 2096-01-01  295.608276\n",
       "                      2097-01-01  296.469269\n",
       "                      2098-01-01  295.724365\n",
       "                      2099-01-01  296.470398\n",
       "                      2100-01-01  296.242615\n",
       " \n",
       " [11507106 rows x 1 columns],                                     tx_mean\n",
       " lat       lon        time                  \n",
       " 66.623306 -89.045212 1950-01-01  260.613983\n",
       "                      1951-01-01  261.905426\n",
       "                      1952-01-01  261.952179\n",
       "                      1953-01-01  261.187469\n",
       "                      1954-01-01  262.653351\n",
       " ...                                     ...\n",
       " 40.041039 -74.045807 2096-01-01  297.564117\n",
       "                      2097-01-01  298.229797\n",
       "                      2098-01-01  295.700165\n",
       "                      2099-01-01  295.437195\n",
       "                      2100-01-01  296.495941\n",
       " \n",
       " [11507106 rows x 1 columns],                                     tx_mean\n",
       " lat       lon        time                  \n",
       " 66.623306 -89.045212 1950-01-01  263.182159\n",
       "                      1951-01-01  261.244812\n",
       "                      1952-01-01  261.994080\n",
       "                      1953-01-01  262.564789\n",
       "                      1954-01-01  262.765869\n",
       " ...                                     ...\n",
       " 40.041039 -74.045807 2096-01-01  295.540039\n",
       "                      2097-01-01  294.798157\n",
       "                      2098-01-01  293.971069\n",
       "                      2099-01-01  295.256073\n",
       "                      2100-01-01  294.351440\n",
       " \n",
       " [11507106 rows x 1 columns],                                     tx_mean\n",
       " lat       lon        time                  \n",
       " 66.623306 -89.045212 1950-01-01  260.062836\n",
       "                      1951-01-01  261.095581\n",
       "                      1952-01-01  260.541687\n",
       "                      1953-01-01  261.628448\n",
       "                      1954-01-01  261.734924\n",
       " ...                                     ...\n",
       " 40.041039 -74.045807 2096-01-01  297.597046\n",
       "                      2097-01-01  296.071198\n",
       "                      2098-01-01  297.315247\n",
       "                      2099-01-01  297.343231\n",
       "                      2100-01-01  296.574860\n",
       " \n",
       " [11507106 rows x 1 columns],                                     tx_mean\n",
       " lat       lon        time                  \n",
       " 66.623306 -89.045212 1950-01-01  262.092407\n",
       "                      1951-01-01  259.912018\n",
       "                      1952-01-01  259.851227\n",
       "                      1953-01-01  259.958740\n",
       "                      1954-01-01  262.965485\n",
       " ...                                     ...\n",
       " 40.041039 -74.045807 2096-01-01  295.240723\n",
       "                      2097-01-01  295.657867\n",
       "                      2098-01-01  295.946198\n",
       "                      2099-01-01  295.589172\n",
       "                      2100-01-01  296.105103\n",
       " \n",
       " [11507106 rows x 1 columns],                                     tx_mean\n",
       " lat       lon        time                  \n",
       " 66.623306 -89.045212 1950-01-01  262.046387\n",
       "                      1951-01-01  262.017242\n",
       "                      1952-01-01  261.884094\n",
       "                      1953-01-01  261.786713\n",
       "                      1954-01-01  263.030151\n",
       " ...                                     ...\n",
       " 40.041039 -74.045807 2096-01-01  295.437378\n",
       "                      2097-01-01  294.912170\n",
       "                      2098-01-01  296.226624\n",
       "                      2099-01-01  295.801758\n",
       "                      2100-01-01  296.634033\n",
       " \n",
       " [11507106 rows x 1 columns]]"
      ]
     },
     "execution_count": 8,
     "metadata": {},
     "output_type": "execute_result"
    }
   ],
   "source": [
    "dflist"
   ]
  },
  {
   "cell_type": "code",
   "execution_count": 9,
   "metadata": {},
   "outputs": [
    {
     "name": "stdout",
     "output_type": "stream",
     "text": [
      "CPU times: user 4min 1s, sys: 12min 46s, total: 16min 47s\n",
      "Wall time: 1min 33s\n"
     ]
    }
   ],
   "source": [
    "#Takes 3 min\n",
    "%time df11 = pd.concat(dflist)"
   ]
  },
  {
   "cell_type": "code",
   "execution_count": 10,
   "metadata": {},
   "outputs": [
    {
     "data": {
      "text/html": [
       "<div>\n",
       "<style scoped>\n",
       "    .dataframe tbody tr th:only-of-type {\n",
       "        vertical-align: middle;\n",
       "    }\n",
       "\n",
       "    .dataframe tbody tr th {\n",
       "        vertical-align: top;\n",
       "    }\n",
       "\n",
       "    .dataframe thead th {\n",
       "        text-align: right;\n",
       "    }\n",
       "</style>\n",
       "<table border=\"1\" class=\"dataframe\">\n",
       "  <thead>\n",
       "    <tr style=\"text-align: right;\">\n",
       "      <th></th>\n",
       "      <th></th>\n",
       "      <th></th>\n",
       "      <th>tx_mean</th>\n",
       "    </tr>\n",
       "    <tr>\n",
       "      <th>lat</th>\n",
       "      <th>lon</th>\n",
       "      <th>time</th>\n",
       "      <th></th>\n",
       "    </tr>\n",
       "  </thead>\n",
       "  <tbody>\n",
       "    <tr>\n",
       "      <th rowspan=\"5\" valign=\"top\">66.623306</th>\n",
       "      <th rowspan=\"5\" valign=\"top\">-89.045212</th>\n",
       "      <th>1950-01-01</th>\n",
       "      <td>261.465546</td>\n",
       "    </tr>\n",
       "    <tr>\n",
       "      <th>1951-01-01</th>\n",
       "      <td>260.108063</td>\n",
       "    </tr>\n",
       "    <tr>\n",
       "      <th>1952-01-01</th>\n",
       "      <td>262.473969</td>\n",
       "    </tr>\n",
       "    <tr>\n",
       "      <th>1953-01-01</th>\n",
       "      <td>262.028931</td>\n",
       "    </tr>\n",
       "    <tr>\n",
       "      <th>1954-01-01</th>\n",
       "      <td>260.705750</td>\n",
       "    </tr>\n",
       "    <tr>\n",
       "      <th>...</th>\n",
       "      <th>...</th>\n",
       "      <th>...</th>\n",
       "      <td>...</td>\n",
       "    </tr>\n",
       "    <tr>\n",
       "      <th rowspan=\"5\" valign=\"top\">40.041039</th>\n",
       "      <th rowspan=\"5\" valign=\"top\">-74.045807</th>\n",
       "      <th>2096-01-01</th>\n",
       "      <td>295.437378</td>\n",
       "    </tr>\n",
       "    <tr>\n",
       "      <th>2097-01-01</th>\n",
       "      <td>294.912170</td>\n",
       "    </tr>\n",
       "    <tr>\n",
       "      <th>2098-01-01</th>\n",
       "      <td>296.226624</td>\n",
       "    </tr>\n",
       "    <tr>\n",
       "      <th>2099-01-01</th>\n",
       "      <td>295.801758</td>\n",
       "    </tr>\n",
       "    <tr>\n",
       "      <th>2100-01-01</th>\n",
       "      <td>296.634033</td>\n",
       "    </tr>\n",
       "  </tbody>\n",
       "</table>\n",
       "<p>126578166 rows × 1 columns</p>\n",
       "</div>"
      ],
      "text/plain": [
       "                                    tx_mean\n",
       "lat       lon        time                  \n",
       "66.623306 -89.045212 1950-01-01  261.465546\n",
       "                     1951-01-01  260.108063\n",
       "                     1952-01-01  262.473969\n",
       "                     1953-01-01  262.028931\n",
       "                     1954-01-01  260.705750\n",
       "...                                     ...\n",
       "40.041039 -74.045807 2096-01-01  295.437378\n",
       "                     2097-01-01  294.912170\n",
       "                     2098-01-01  296.226624\n",
       "                     2099-01-01  295.801758\n",
       "                     2100-01-01  296.634033\n",
       "\n",
       "[126578166 rows x 1 columns]"
      ]
     },
     "execution_count": 10,
     "metadata": {},
     "output_type": "execute_result"
    }
   ],
   "source": [
    "df11"
   ]
  },
  {
   "cell_type": "code",
   "execution_count": 11,
   "metadata": {},
   "outputs": [],
   "source": [
    "dftgm = df11.reset_index()"
   ]
  },
  {
   "cell_type": "code",
   "execution_count": 12,
   "metadata": {},
   "outputs": [
    {
     "data": {
      "text/html": [
       "<div>\n",
       "<style scoped>\n",
       "    .dataframe tbody tr th:only-of-type {\n",
       "        vertical-align: middle;\n",
       "    }\n",
       "\n",
       "    .dataframe tbody tr th {\n",
       "        vertical-align: top;\n",
       "    }\n",
       "\n",
       "    .dataframe thead th {\n",
       "        text-align: right;\n",
       "    }\n",
       "</style>\n",
       "<table border=\"1\" class=\"dataframe\">\n",
       "  <thead>\n",
       "    <tr style=\"text-align: right;\">\n",
       "      <th></th>\n",
       "      <th>lat</th>\n",
       "      <th>lon</th>\n",
       "      <th>time</th>\n",
       "      <th>tx_mean</th>\n",
       "    </tr>\n",
       "  </thead>\n",
       "  <tbody>\n",
       "    <tr>\n",
       "      <th>0</th>\n",
       "      <td>66.623306</td>\n",
       "      <td>-89.045212</td>\n",
       "      <td>1950-01-01</td>\n",
       "      <td>261.465546</td>\n",
       "    </tr>\n",
       "    <tr>\n",
       "      <th>1</th>\n",
       "      <td>66.623306</td>\n",
       "      <td>-89.045212</td>\n",
       "      <td>1951-01-01</td>\n",
       "      <td>260.108063</td>\n",
       "    </tr>\n",
       "    <tr>\n",
       "      <th>2</th>\n",
       "      <td>66.623306</td>\n",
       "      <td>-89.045212</td>\n",
       "      <td>1952-01-01</td>\n",
       "      <td>262.473969</td>\n",
       "    </tr>\n",
       "    <tr>\n",
       "      <th>3</th>\n",
       "      <td>66.623306</td>\n",
       "      <td>-89.045212</td>\n",
       "      <td>1953-01-01</td>\n",
       "      <td>262.028931</td>\n",
       "    </tr>\n",
       "    <tr>\n",
       "      <th>4</th>\n",
       "      <td>66.623306</td>\n",
       "      <td>-89.045212</td>\n",
       "      <td>1954-01-01</td>\n",
       "      <td>260.705750</td>\n",
       "    </tr>\n",
       "    <tr>\n",
       "      <th>...</th>\n",
       "      <td>...</td>\n",
       "      <td>...</td>\n",
       "      <td>...</td>\n",
       "      <td>...</td>\n",
       "    </tr>\n",
       "    <tr>\n",
       "      <th>126578161</th>\n",
       "      <td>40.041039</td>\n",
       "      <td>-74.045807</td>\n",
       "      <td>2096-01-01</td>\n",
       "      <td>295.437378</td>\n",
       "    </tr>\n",
       "    <tr>\n",
       "      <th>126578162</th>\n",
       "      <td>40.041039</td>\n",
       "      <td>-74.045807</td>\n",
       "      <td>2097-01-01</td>\n",
       "      <td>294.912170</td>\n",
       "    </tr>\n",
       "    <tr>\n",
       "      <th>126578163</th>\n",
       "      <td>40.041039</td>\n",
       "      <td>-74.045807</td>\n",
       "      <td>2098-01-01</td>\n",
       "      <td>296.226624</td>\n",
       "    </tr>\n",
       "    <tr>\n",
       "      <th>126578164</th>\n",
       "      <td>40.041039</td>\n",
       "      <td>-74.045807</td>\n",
       "      <td>2099-01-01</td>\n",
       "      <td>295.801758</td>\n",
       "    </tr>\n",
       "    <tr>\n",
       "      <th>126578165</th>\n",
       "      <td>40.041039</td>\n",
       "      <td>-74.045807</td>\n",
       "      <td>2100-01-01</td>\n",
       "      <td>296.634033</td>\n",
       "    </tr>\n",
       "  </tbody>\n",
       "</table>\n",
       "<p>126578166 rows × 4 columns</p>\n",
       "</div>"
      ],
      "text/plain": [
       "                 lat        lon       time     tx_mean\n",
       "0          66.623306 -89.045212 1950-01-01  261.465546\n",
       "1          66.623306 -89.045212 1951-01-01  260.108063\n",
       "2          66.623306 -89.045212 1952-01-01  262.473969\n",
       "3          66.623306 -89.045212 1953-01-01  262.028931\n",
       "4          66.623306 -89.045212 1954-01-01  260.705750\n",
       "...              ...        ...        ...         ...\n",
       "126578161  40.041039 -74.045807 2096-01-01  295.437378\n",
       "126578162  40.041039 -74.045807 2097-01-01  294.912170\n",
       "126578163  40.041039 -74.045807 2098-01-01  296.226624\n",
       "126578164  40.041039 -74.045807 2099-01-01  295.801758\n",
       "126578165  40.041039 -74.045807 2100-01-01  296.634033\n",
       "\n",
       "[126578166 rows x 4 columns]"
      ]
     },
     "execution_count": 12,
     "metadata": {},
     "output_type": "execute_result"
    }
   ],
   "source": [
    "dftgm"
   ]
  },
  {
   "cell_type": "markdown",
   "metadata": {},
   "source": [
    "# Get the mean for 11 models"
   ]
  },
  {
   "cell_type": "code",
   "execution_count": null,
   "metadata": {},
   "outputs": [],
   "source": [
    "#Takes 48s\n",
    "%time dftgm2 = dftgm.groupby([\"lat\", \"lon\", \"time\"]).mean()"
   ]
  },
  {
   "cell_type": "code",
   "execution_count": null,
   "metadata": {},
   "outputs": [],
   "source": [
    "dftgm2"
   ]
  },
  {
   "cell_type": "markdown",
   "metadata": {},
   "source": [
    "# Transform temp to Celsius"
   ]
  },
  {
   "cell_type": "code",
   "execution_count": null,
   "metadata": {},
   "outputs": [],
   "source": [
    "dfC = dftgm2.copy()\n",
    "dfC[\"tx_mean\"] = dfC[\"tx_mean\"] -273.15\n",
    "    "
   ]
  },
  {
   "cell_type": "markdown",
   "metadata": {},
   "source": [
    "# Define 3 periods of time: "
   ]
  },
  {
   "cell_type": "code",
   "execution_count": null,
   "metadata": {},
   "outputs": [],
   "source": [
    "year_groups = {y:0 for y in range(1980,2011)}\n",
    "year_groups.update({y:1 for y in range(2041,2071)})\n",
    "year_groups.update({y:2 for y in range(2071,2101)})\n",
    "#Get the mean of every period\n",
    "dfC2 = dfC.reset_index()\n",
    "dfp = dfC2.groupby([dfC2.time.dt.year.map(year_groups), \"lat\",\"lon\"]).mean()"
   ]
  },
  {
   "cell_type": "code",
   "execution_count": null,
   "metadata": {},
   "outputs": [],
   "source": [
    "dfp.reset_index()"
   ]
  },
  {
   "cell_type": "markdown",
   "metadata": {},
   "source": [
    "# Historic Period"
   ]
  },
  {
   "cell_type": "markdown",
   "metadata": {},
   "source": [
    "485,881/3 = 161,960. ---- instead 333,469 rows × 4 columns"
   ]
  },
  {
   "cell_type": "code",
   "execution_count": null,
   "metadata": {},
   "outputs": [],
   "source": [
    "df_h = dfp.query(\"time==0.0\")\n",
    "df_h.reset_index()"
   ]
  },
  {
   "cell_type": "code",
   "execution_count": null,
   "metadata": {},
   "outputs": [],
   "source": [
    "df2050 = dfp.query(\"time==1.0\")\n",
    "df2050.reset_index()"
   ]
  },
  {
   "cell_type": "code",
   "execution_count": null,
   "metadata": {},
   "outputs": [],
   "source": [
    "df2080 = dfp.query(\"time==2.0\")\n",
    "df2080.reset_index()"
   ]
  },
  {
   "cell_type": "markdown",
   "metadata": {},
   "source": [
    "## Import dataframe with polygons"
   ]
  },
  {
   "cell_type": "code",
   "execution_count": null,
   "metadata": {},
   "outputs": [],
   "source": [
    "dfpolyshape = from_geofeather('Grid-TerritoiresGuides.feather')"
   ]
  },
  {
   "cell_type": "code",
   "execution_count": null,
   "metadata": {},
   "outputs": [],
   "source": [
    "dfpolyshape"
   ]
  },
  {
   "cell_type": "markdown",
   "metadata": {},
   "source": [
    "## Merge data with mask "
   ]
  },
  {
   "cell_type": "code",
   "execution_count": null,
   "metadata": {},
   "outputs": [],
   "source": [
    "dftg11TG = pd.merge(df_h, dfpolyshape, on=[\"lat\",\"lon\"])"
   ]
  },
  {
   "cell_type": "code",
   "execution_count": null,
   "metadata": {},
   "outputs": [],
   "source": [
    "dftg11TG"
   ]
  },
  {
   "cell_type": "code",
   "execution_count": null,
   "metadata": {},
   "outputs": [],
   "source": [
    "dftg11TG.TER_GUIDE.value_counts()"
   ]
  },
  {
   "cell_type": "code",
   "execution_count": null,
   "metadata": {},
   "outputs": [],
   "source": [
    "TG4a = dftg11TG[dftg11TG.TER_GUIDE == \"4a\"]\n",
    "TG4a"
   ]
  },
  {
   "cell_type": "code",
   "execution_count": null,
   "metadata": {},
   "outputs": [],
   "source": [
    "TG4a.to_csv(\"/home/mlopez/EXEC/Tg_csv/TG4a11.csv\")"
   ]
  },
  {
   "cell_type": "markdown",
   "metadata": {},
   "source": [
    "# ---- Create GeoJson file ----"
   ]
  },
  {
   "cell_type": "code",
   "execution_count": null,
   "metadata": {},
   "outputs": [],
   "source": [
    "geometry = dftg11TG[\"geometry\"]"
   ]
  },
  {
   "cell_type": "code",
   "execution_count": null,
   "metadata": {},
   "outputs": [],
   "source": [
    "crs = {'init': \"epsg:4326\"}\n",
    "gdf = GeoDataFrame(dftg11TG, crs=crs, geometry=geometry)"
   ]
  },
  {
   "cell_type": "code",
   "execution_count": null,
   "metadata": {},
   "outputs": [],
   "source": [
    "gdf.to_file(\"TG11tg.json\", driver=\"GeoJSON\")"
   ]
  },
  {
   "cell_type": "code",
   "execution_count": null,
   "metadata": {},
   "outputs": [],
   "source": []
  }
 ],
 "metadata": {
  "kernelspec": {
   "display_name": "Python 3",
   "language": "python",
   "name": "python3"
  },
  "language_info": {
   "codemirror_mode": {
    "name": "ipython",
    "version": 3
   },
   "file_extension": ".py",
   "mimetype": "text/x-python",
   "name": "python",
   "nbconvert_exporter": "python",
   "pygments_lexer": "ipython3",
   "version": "3.8.1"
  }
 },
 "nbformat": 4,
 "nbformat_minor": 4
}

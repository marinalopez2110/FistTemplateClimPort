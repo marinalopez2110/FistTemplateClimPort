{
 "cells": [
  {
   "cell_type": "code",
   "execution_count": 1,
   "metadata": {},
   "outputs": [],
   "source": [
    "%load_ext autoreload\n",
    "%autoreload 2\n",
    "import xarray as xr\n",
    "import matplotlib.pyplot as plt\n",
    "import pandas as pd\n",
    "import processing_netcdf as pcdf\n",
    "import geopandas as gpd\n",
    "from geopandas import GeoDataFrame\n",
    "import shapely.geometry \n",
    "import numpy as np\n",
    "from shapely import geometry as gmty\n",
    "from geofeather import to_geofeather, from_geofeather\n",
    "import glob\n",
    "import os\n",
    "import pyarrow\n",
    "from xclim import ensembles as ens\n",
    "from xclim import subset\n",
    "import matplotlib.pyplot as plt"
   ]
  },
  {
   "cell_type": "code",
   "execution_count": 2,
   "metadata": {},
   "outputs": [],
   "source": [
    "folder = \"/scen3/scenario/netcdf/ouranos/portraits-clim-2.0/\""
   ]
  },
  {
   "cell_type": "markdown",
   "metadata": {},
   "source": [
    "# Select variable"
   ]
  },
  {
   "cell_type": "code",
   "execution_count": 3,
   "metadata": {},
   "outputs": [],
   "source": [
    "var = \"solidprcptot\""
   ]
  },
  {
   "cell_type": "code",
   "execution_count": 4,
   "metadata": {},
   "outputs": [
    {
     "data": {
      "text/plain": [
       "['/scen3/scenario/netcdf/ouranos/portraits-clim-2.0/ACCESS1-3_rcp45_solidprcptot_seasonal.nc',\n",
       " '/scen3/scenario/netcdf/ouranos/portraits-clim-2.0/BNU-ESM_rcp45_solidprcptot_seasonal.nc',\n",
       " '/scen3/scenario/netcdf/ouranos/portraits-clim-2.0/CanESM2_rcp45_solidprcptot_seasonal.nc',\n",
       " '/scen3/scenario/netcdf/ouranos/portraits-clim-2.0/CMCC-CMS_rcp45_solidprcptot_seasonal.nc',\n",
       " '/scen3/scenario/netcdf/ouranos/portraits-clim-2.0/GFDL-ESM2M_rcp45_solidprcptot_seasonal.nc',\n",
       " '/scen3/scenario/netcdf/ouranos/portraits-clim-2.0/HadGEM2-CC_rcp45_solidprcptot_seasonal.nc',\n",
       " '/scen3/scenario/netcdf/ouranos/portraits-clim-2.0/INM-CM4_rcp45_solidprcptot_seasonal.nc',\n",
       " '/scen3/scenario/netcdf/ouranos/portraits-clim-2.0/IPSL-CM5A-LR_rcp45_solidprcptot_seasonal.nc',\n",
       " '/scen3/scenario/netcdf/ouranos/portraits-clim-2.0/IPSL-CM5B-LR_rcp45_solidprcptot_seasonal.nc',\n",
       " '/scen3/scenario/netcdf/ouranos/portraits-clim-2.0/MPI-ESM-LR_rcp45_solidprcptot_seasonal.nc',\n",
       " '/scen3/scenario/netcdf/ouranos/portraits-clim-2.0/NorESM1-M_rcp45_solidprcptot_seasonal.nc']"
      ]
     },
     "execution_count": 4,
     "metadata": {},
     "output_type": "execute_result"
    }
   ],
   "source": [
    "#Variable \n",
    "variable85=\"rcp85_\"+var+\"_seasonal\"\n",
    "variable45=\"rcp45_\"+var+\"_seasonal\"\n",
    "#variable=\"rcp[48]5_tg_mean_annual\"\n",
    "\n",
    "files85 = glob.glob(folder+\"*\"+variable85+\".nc\")\n",
    "files45 = glob.glob(folder+\"*\"+variable45+\".nc\")\n",
    "#ex: ACCESS1-3_rcp45_tn_mean_annual.nc\n",
    "files85\n",
    "files45"
   ]
  },
  {
   "cell_type": "markdown",
   "metadata": {},
   "source": [
    "# FOR RCP 45"
   ]
  },
  {
   "cell_type": "markdown",
   "metadata": {},
   "source": [
    "## Subsetting arrays by periods of time with Xclim"
   ]
  },
  {
   "cell_type": "code",
   "execution_count": 5,
   "metadata": {},
   "outputs": [
    {
     "name": "stdout",
     "output_type": "stream",
     "text": [
      "0\n",
      "1\n",
      "2\n",
      "3\n"
     ]
    }
   ],
   "source": [
    "dsEns45= ens.create_ensemble(files45)\n",
    "dsEns45.time.dt.season[0:4]\n",
    "# Seasonal example 30 y means\n",
    "listds = []\n",
    "i=0\n",
    "for s in dsEns45.time.dt.season[0:4]:\n",
    "    print (i)\n",
    "    tmp1 = dsEns45.sel(time=(dsEns45.time.dt.year>=1981))\n",
    "    tmp1 = tmp1.sel(time=(tmp1.time.dt.season==s))\n",
    "    #print(tmp1)\n",
    "    i = i+1\n",
    "    listds.append(tmp1)"
   ]
  },
  {
   "cell_type": "markdown",
   "metadata": {},
   "source": [
    "## Loop to create all 4 dataframes"
   ]
  },
  {
   "cell_type": "code",
   "execution_count": 6,
   "metadata": {},
   "outputs": [
    {
     "name": "stdout",
     "output_type": "stream",
     "text": [
      "Dataset number:  0 --------------\n",
      "Percentiles Obteined\n",
      "Converted to DF\n",
      "Split in 3 different time periods\n",
      "Transformed in Celsiuds and rounded\n",
      "pivoted\n",
      "DF pivoted\n",
      "winter\n",
      "Columns renamed\n",
      "DF added to the list\n",
      "Dataset number:  1 --------------\n",
      "Percentiles Obteined\n",
      "Converted to DF\n",
      "Split in 3 different time periods\n",
      "Transformed in Celsiuds and rounded\n",
      "pivoted\n",
      "DF pivoted\n",
      "spring\n",
      "Columns renamed\n",
      "DF added to the list\n",
      "Dataset number:  2 --------------\n",
      "Percentiles Obteined\n",
      "Converted to DF\n",
      "Split in 3 different time periods\n",
      "Transformed in Celsiuds and rounded\n",
      "pivoted\n",
      "DF pivoted\n",
      "summer\n",
      "Columns renamed\n",
      "DF added to the list\n",
      "Dataset number:  3 --------------\n",
      "Percentiles Obteined\n",
      "Converted to DF\n",
      "Split in 3 different time periods\n",
      "Transformed in Celsiuds and rounded\n",
      "pivoted\n",
      "DF pivoted\n",
      "fall\n",
      "Columns renamed\n",
      "DF added to the list\n"
     ]
    }
   ],
   "source": [
    "i = 0\n",
    "df45list = []\n",
    "for ds in listds:\n",
    "    print (\"Dataset number: \", i, \"--------------\")\n",
    "    perc45 = ens.ensemble_percentiles(ds)\n",
    "    print (\"Percentiles Obteined\")\n",
    "    df45 = perc45.to_dataframe()\n",
    "    df452 = df45.reset_index()\n",
    "    df453 = df452.loc[df452[\"realization\"] == 0].dropna()\n",
    "    print (\"Converted to DF\")\n",
    "    year_groups = {y:0 for y in range(1980,2011)}\n",
    "    year_groups.update({y:1 for y in range(2041,2071)})\n",
    "    year_groups.update({y:2 for y in range(2071,2101)})\n",
    "    dfp = df453.groupby([df453.time.dt.year.map(year_groups), \"lat\",\"lon\", \"realization\"]).mean()\n",
    "    dfp452 =  dfp.reset_index()\n",
    "    print (\"Split in 3 different time periods\")\n",
    "    df45C = dfp452.copy()\n",
    "    df45C[var+\"_p10\"] = round(df45C[var+\"_p10\"]/10,2)\n",
    "    df45C[var+\"_p50\"] = round(df45C[var+\"_p50\"]/10,2)\n",
    "    df45C[var+\"_p90\"] = round(df45C[var+\"_p90\"]/10,2)\n",
    "    print (\"Transformed in Celsiuds and rounded\")\n",
    "    Region1i45 = df45C.drop(columns=[\"realization\"])\n",
    "    print (\"pivoted\")\n",
    "    df45f = Region1i45.pivot_table(index=[\"lat\",\"lon\"], columns=\"time\")\n",
    "    print (\"DF pivoted\")\n",
    "    if i== 0: season = \"winter\" \n",
    "    elif i == 1: season = \"spring\"\n",
    "    elif i == 2: season = \"summer\"\n",
    "    elif i == 3: season = \"fall\"\n",
    "    print (season)\n",
    "    df45f.columns = [season + \"_\" + year + \"rcp45_p\"+p\n",
    "                     for p in [\"10\", \"50\", \"90\"]\n",
    "                     for year in [\"hist_\",\"t2050_\", \"t2080_\"]]\n",
    "    print(\"Columns renamed\")\n",
    "    df45list.append(df45f)\n",
    "    print (\"DF added to the list\")\n",
    "    i = i + 1\n",
    "    "
   ]
  },
  {
   "cell_type": "code",
   "execution_count": 7,
   "metadata": {},
   "outputs": [],
   "source": [
    "#df45list\n"
   ]
  },
  {
   "cell_type": "code",
   "execution_count": 8,
   "metadata": {},
   "outputs": [],
   "source": [
    "dfw45 = df45list[0].reset_index()\n",
    "dfsp45 = df45list[1].reset_index()\n",
    "dfsu45 = df45list[2].reset_index()\n",
    "dff45 = df45list[3].reset_index()\n",
    "\n",
    "mkey = [\"lat\",\"lon\"]\n",
    "dfse45 = dfw45.merge(dfsp45, on=mkey).merge(dfsu45, on=mkey).merge(dff45, on=mkey)\n",
    "dfse45.to_feather(\"/home/mlopez/EXEC/Processed data to clip with regions/rcp45\"+var+\"_seasonal.feather\")"
   ]
  },
  {
   "cell_type": "code",
   "execution_count": 9,
   "metadata": {},
   "outputs": [
    {
     "data": {
      "text/html": [
       "<div>\n",
       "<style scoped>\n",
       "    .dataframe tbody tr th:only-of-type {\n",
       "        vertical-align: middle;\n",
       "    }\n",
       "\n",
       "    .dataframe tbody tr th {\n",
       "        vertical-align: top;\n",
       "    }\n",
       "\n",
       "    .dataframe thead th {\n",
       "        text-align: right;\n",
       "    }\n",
       "</style>\n",
       "<table border=\"1\" class=\"dataframe\">\n",
       "  <thead>\n",
       "    <tr style=\"text-align: right;\">\n",
       "      <th></th>\n",
       "      <th>lat</th>\n",
       "      <th>lon</th>\n",
       "      <th>winter_t2050_rcp45_p10</th>\n",
       "      <th>winter_t2080_rcp45_p10</th>\n",
       "      <th>winter_t2050_rcp45_p50</th>\n",
       "      <th>winter_t2080_rcp45_p50</th>\n",
       "      <th>winter_t2050_rcp45_p90</th>\n",
       "      <th>winter_t2080_rcp45_p90</th>\n",
       "      <th>spring_t2050_rcp45_p10</th>\n",
       "      <th>spring_t2080_rcp45_p10</th>\n",
       "      <th>...</th>\n",
       "      <th>summer_t2050_rcp45_p50</th>\n",
       "      <th>summer_t2080_rcp45_p50</th>\n",
       "      <th>summer_t2050_rcp45_p90</th>\n",
       "      <th>summer_t2080_rcp45_p90</th>\n",
       "      <th>fall_t2050_rcp45_p10</th>\n",
       "      <th>fall_t2080_rcp45_p10</th>\n",
       "      <th>fall_t2050_rcp45_p50</th>\n",
       "      <th>fall_t2080_rcp45_p50</th>\n",
       "      <th>fall_t2050_rcp45_p90</th>\n",
       "      <th>fall_t2080_rcp45_p90</th>\n",
       "    </tr>\n",
       "  </thead>\n",
       "  <tbody>\n",
       "    <tr>\n",
       "      <th>0</th>\n",
       "      <td>40.041039</td>\n",
       "      <td>-89.045212</td>\n",
       "      <td>1.94</td>\n",
       "      <td>1.32</td>\n",
       "      <td>4.33</td>\n",
       "      <td>3.74</td>\n",
       "      <td>7.50</td>\n",
       "      <td>7.43</td>\n",
       "      <td>0.00</td>\n",
       "      <td>0.00</td>\n",
       "      <td>...</td>\n",
       "      <td>0.00</td>\n",
       "      <td>0.00</td>\n",
       "      <td>0.00</td>\n",
       "      <td>0.00</td>\n",
       "      <td>0.00</td>\n",
       "      <td>0.00</td>\n",
       "      <td>0.03</td>\n",
       "      <td>0.01</td>\n",
       "      <td>0.64</td>\n",
       "      <td>0.52</td>\n",
       "    </tr>\n",
       "    <tr>\n",
       "      <th>1</th>\n",
       "      <td>40.041039</td>\n",
       "      <td>-88.961884</td>\n",
       "      <td>2.02</td>\n",
       "      <td>1.33</td>\n",
       "      <td>4.53</td>\n",
       "      <td>3.75</td>\n",
       "      <td>7.71</td>\n",
       "      <td>7.62</td>\n",
       "      <td>0.00</td>\n",
       "      <td>0.00</td>\n",
       "      <td>...</td>\n",
       "      <td>0.00</td>\n",
       "      <td>0.00</td>\n",
       "      <td>0.00</td>\n",
       "      <td>0.00</td>\n",
       "      <td>0.00</td>\n",
       "      <td>0.00</td>\n",
       "      <td>0.03</td>\n",
       "      <td>0.01</td>\n",
       "      <td>0.65</td>\n",
       "      <td>0.52</td>\n",
       "    </tr>\n",
       "    <tr>\n",
       "      <th>2</th>\n",
       "      <td>40.041039</td>\n",
       "      <td>-88.878548</td>\n",
       "      <td>2.06</td>\n",
       "      <td>1.37</td>\n",
       "      <td>4.57</td>\n",
       "      <td>3.81</td>\n",
       "      <td>7.76</td>\n",
       "      <td>7.67</td>\n",
       "      <td>0.00</td>\n",
       "      <td>0.00</td>\n",
       "      <td>...</td>\n",
       "      <td>0.00</td>\n",
       "      <td>0.00</td>\n",
       "      <td>0.00</td>\n",
       "      <td>0.00</td>\n",
       "      <td>0.00</td>\n",
       "      <td>0.00</td>\n",
       "      <td>0.03</td>\n",
       "      <td>0.01</td>\n",
       "      <td>0.64</td>\n",
       "      <td>0.52</td>\n",
       "    </tr>\n",
       "    <tr>\n",
       "      <th>3</th>\n",
       "      <td>40.041039</td>\n",
       "      <td>-88.795219</td>\n",
       "      <td>2.08</td>\n",
       "      <td>1.39</td>\n",
       "      <td>4.51</td>\n",
       "      <td>3.81</td>\n",
       "      <td>7.68</td>\n",
       "      <td>7.62</td>\n",
       "      <td>0.00</td>\n",
       "      <td>0.00</td>\n",
       "      <td>...</td>\n",
       "      <td>0.00</td>\n",
       "      <td>0.00</td>\n",
       "      <td>0.00</td>\n",
       "      <td>0.00</td>\n",
       "      <td>0.00</td>\n",
       "      <td>0.00</td>\n",
       "      <td>0.03</td>\n",
       "      <td>0.01</td>\n",
       "      <td>0.60</td>\n",
       "      <td>0.51</td>\n",
       "    </tr>\n",
       "    <tr>\n",
       "      <th>4</th>\n",
       "      <td>40.041039</td>\n",
       "      <td>-88.711891</td>\n",
       "      <td>2.07</td>\n",
       "      <td>1.39</td>\n",
       "      <td>4.45</td>\n",
       "      <td>3.78</td>\n",
       "      <td>7.58</td>\n",
       "      <td>7.60</td>\n",
       "      <td>0.00</td>\n",
       "      <td>0.00</td>\n",
       "      <td>...</td>\n",
       "      <td>0.00</td>\n",
       "      <td>0.00</td>\n",
       "      <td>0.00</td>\n",
       "      <td>0.00</td>\n",
       "      <td>0.00</td>\n",
       "      <td>0.00</td>\n",
       "      <td>0.02</td>\n",
       "      <td>0.01</td>\n",
       "      <td>0.55</td>\n",
       "      <td>0.46</td>\n",
       "    </tr>\n",
       "    <tr>\n",
       "      <th>...</th>\n",
       "      <td>...</td>\n",
       "      <td>...</td>\n",
       "      <td>...</td>\n",
       "      <td>...</td>\n",
       "      <td>...</td>\n",
       "      <td>...</td>\n",
       "      <td>...</td>\n",
       "      <td>...</td>\n",
       "      <td>...</td>\n",
       "      <td>...</td>\n",
       "      <td>...</td>\n",
       "      <td>...</td>\n",
       "      <td>...</td>\n",
       "      <td>...</td>\n",
       "      <td>...</td>\n",
       "      <td>...</td>\n",
       "      <td>...</td>\n",
       "      <td>...</td>\n",
       "      <td>...</td>\n",
       "      <td>...</td>\n",
       "      <td>...</td>\n",
       "    </tr>\n",
       "    <tr>\n",
       "      <th>76201</th>\n",
       "      <td>66.623306</td>\n",
       "      <td>-61.629639</td>\n",
       "      <td>7.28</td>\n",
       "      <td>7.50</td>\n",
       "      <td>12.22</td>\n",
       "      <td>12.51</td>\n",
       "      <td>19.04</td>\n",
       "      <td>19.30</td>\n",
       "      <td>5.71</td>\n",
       "      <td>6.59</td>\n",
       "      <td>...</td>\n",
       "      <td>0.33</td>\n",
       "      <td>0.44</td>\n",
       "      <td>2.18</td>\n",
       "      <td>2.70</td>\n",
       "      <td>8.37</td>\n",
       "      <td>7.91</td>\n",
       "      <td>12.90</td>\n",
       "      <td>12.87</td>\n",
       "      <td>19.35</td>\n",
       "      <td>19.44</td>\n",
       "    </tr>\n",
       "    <tr>\n",
       "      <th>76202</th>\n",
       "      <td>66.623306</td>\n",
       "      <td>-61.546310</td>\n",
       "      <td>7.56</td>\n",
       "      <td>7.74</td>\n",
       "      <td>12.50</td>\n",
       "      <td>12.83</td>\n",
       "      <td>19.41</td>\n",
       "      <td>19.62</td>\n",
       "      <td>5.99</td>\n",
       "      <td>6.98</td>\n",
       "      <td>...</td>\n",
       "      <td>0.46</td>\n",
       "      <td>0.66</td>\n",
       "      <td>2.50</td>\n",
       "      <td>3.16</td>\n",
       "      <td>9.12</td>\n",
       "      <td>8.92</td>\n",
       "      <td>14.27</td>\n",
       "      <td>13.80</td>\n",
       "      <td>20.27</td>\n",
       "      <td>20.25</td>\n",
       "    </tr>\n",
       "    <tr>\n",
       "      <th>76203</th>\n",
       "      <td>66.623306</td>\n",
       "      <td>-61.462978</td>\n",
       "      <td>7.43</td>\n",
       "      <td>7.62</td>\n",
       "      <td>12.33</td>\n",
       "      <td>12.71</td>\n",
       "      <td>19.25</td>\n",
       "      <td>19.42</td>\n",
       "      <td>5.82</td>\n",
       "      <td>6.75</td>\n",
       "      <td>...</td>\n",
       "      <td>0.37</td>\n",
       "      <td>0.54</td>\n",
       "      <td>2.26</td>\n",
       "      <td>2.76</td>\n",
       "      <td>8.49</td>\n",
       "      <td>8.26</td>\n",
       "      <td>13.67</td>\n",
       "      <td>13.26</td>\n",
       "      <td>19.71</td>\n",
       "      <td>19.78</td>\n",
       "    </tr>\n",
       "    <tr>\n",
       "      <th>76204</th>\n",
       "      <td>66.623306</td>\n",
       "      <td>-61.379650</td>\n",
       "      <td>7.35</td>\n",
       "      <td>7.58</td>\n",
       "      <td>12.20</td>\n",
       "      <td>12.60</td>\n",
       "      <td>19.21</td>\n",
       "      <td>19.26</td>\n",
       "      <td>5.79</td>\n",
       "      <td>6.69</td>\n",
       "      <td>...</td>\n",
       "      <td>0.37</td>\n",
       "      <td>0.50</td>\n",
       "      <td>2.26</td>\n",
       "      <td>2.65</td>\n",
       "      <td>8.41</td>\n",
       "      <td>8.03</td>\n",
       "      <td>13.25</td>\n",
       "      <td>12.96</td>\n",
       "      <td>19.52</td>\n",
       "      <td>19.58</td>\n",
       "    </tr>\n",
       "    <tr>\n",
       "      <th>76205</th>\n",
       "      <td>66.623306</td>\n",
       "      <td>-61.296322</td>\n",
       "      <td>6.82</td>\n",
       "      <td>7.02</td>\n",
       "      <td>11.32</td>\n",
       "      <td>11.67</td>\n",
       "      <td>17.99</td>\n",
       "      <td>17.92</td>\n",
       "      <td>5.10</td>\n",
       "      <td>5.93</td>\n",
       "      <td>...</td>\n",
       "      <td>0.18</td>\n",
       "      <td>0.26</td>\n",
       "      <td>1.52</td>\n",
       "      <td>1.90</td>\n",
       "      <td>7.21</td>\n",
       "      <td>6.64</td>\n",
       "      <td>11.23</td>\n",
       "      <td>10.85</td>\n",
       "      <td>17.02</td>\n",
       "      <td>17.53</td>\n",
       "    </tr>\n",
       "  </tbody>\n",
       "</table>\n",
       "<p>76206 rows × 26 columns</p>\n",
       "</div>"
      ],
      "text/plain": [
       "             lat        lon  winter_t2050_rcp45_p10  winter_t2080_rcp45_p10  \\\n",
       "0      40.041039 -89.045212                    1.94                    1.32   \n",
       "1      40.041039 -88.961884                    2.02                    1.33   \n",
       "2      40.041039 -88.878548                    2.06                    1.37   \n",
       "3      40.041039 -88.795219                    2.08                    1.39   \n",
       "4      40.041039 -88.711891                    2.07                    1.39   \n",
       "...          ...        ...                     ...                     ...   \n",
       "76201  66.623306 -61.629639                    7.28                    7.50   \n",
       "76202  66.623306 -61.546310                    7.56                    7.74   \n",
       "76203  66.623306 -61.462978                    7.43                    7.62   \n",
       "76204  66.623306 -61.379650                    7.35                    7.58   \n",
       "76205  66.623306 -61.296322                    6.82                    7.02   \n",
       "\n",
       "       winter_t2050_rcp45_p50  winter_t2080_rcp45_p50  winter_t2050_rcp45_p90  \\\n",
       "0                        4.33                    3.74                    7.50   \n",
       "1                        4.53                    3.75                    7.71   \n",
       "2                        4.57                    3.81                    7.76   \n",
       "3                        4.51                    3.81                    7.68   \n",
       "4                        4.45                    3.78                    7.58   \n",
       "...                       ...                     ...                     ...   \n",
       "76201                   12.22                   12.51                   19.04   \n",
       "76202                   12.50                   12.83                   19.41   \n",
       "76203                   12.33                   12.71                   19.25   \n",
       "76204                   12.20                   12.60                   19.21   \n",
       "76205                   11.32                   11.67                   17.99   \n",
       "\n",
       "       winter_t2080_rcp45_p90  spring_t2050_rcp45_p10  spring_t2080_rcp45_p10  \\\n",
       "0                        7.43                    0.00                    0.00   \n",
       "1                        7.62                    0.00                    0.00   \n",
       "2                        7.67                    0.00                    0.00   \n",
       "3                        7.62                    0.00                    0.00   \n",
       "4                        7.60                    0.00                    0.00   \n",
       "...                       ...                     ...                     ...   \n",
       "76201                   19.30                    5.71                    6.59   \n",
       "76202                   19.62                    5.99                    6.98   \n",
       "76203                   19.42                    5.82                    6.75   \n",
       "76204                   19.26                    5.79                    6.69   \n",
       "76205                   17.92                    5.10                    5.93   \n",
       "\n",
       "       ...  summer_t2050_rcp45_p50  summer_t2080_rcp45_p50  \\\n",
       "0      ...                    0.00                    0.00   \n",
       "1      ...                    0.00                    0.00   \n",
       "2      ...                    0.00                    0.00   \n",
       "3      ...                    0.00                    0.00   \n",
       "4      ...                    0.00                    0.00   \n",
       "...    ...                     ...                     ...   \n",
       "76201  ...                    0.33                    0.44   \n",
       "76202  ...                    0.46                    0.66   \n",
       "76203  ...                    0.37                    0.54   \n",
       "76204  ...                    0.37                    0.50   \n",
       "76205  ...                    0.18                    0.26   \n",
       "\n",
       "       summer_t2050_rcp45_p90  summer_t2080_rcp45_p90  fall_t2050_rcp45_p10  \\\n",
       "0                        0.00                    0.00                  0.00   \n",
       "1                        0.00                    0.00                  0.00   \n",
       "2                        0.00                    0.00                  0.00   \n",
       "3                        0.00                    0.00                  0.00   \n",
       "4                        0.00                    0.00                  0.00   \n",
       "...                       ...                     ...                   ...   \n",
       "76201                    2.18                    2.70                  8.37   \n",
       "76202                    2.50                    3.16                  9.12   \n",
       "76203                    2.26                    2.76                  8.49   \n",
       "76204                    2.26                    2.65                  8.41   \n",
       "76205                    1.52                    1.90                  7.21   \n",
       "\n",
       "       fall_t2080_rcp45_p10  fall_t2050_rcp45_p50  fall_t2080_rcp45_p50  \\\n",
       "0                      0.00                  0.03                  0.01   \n",
       "1                      0.00                  0.03                  0.01   \n",
       "2                      0.00                  0.03                  0.01   \n",
       "3                      0.00                  0.03                  0.01   \n",
       "4                      0.00                  0.02                  0.01   \n",
       "...                     ...                   ...                   ...   \n",
       "76201                  7.91                 12.90                 12.87   \n",
       "76202                  8.92                 14.27                 13.80   \n",
       "76203                  8.26                 13.67                 13.26   \n",
       "76204                  8.03                 13.25                 12.96   \n",
       "76205                  6.64                 11.23                 10.85   \n",
       "\n",
       "       fall_t2050_rcp45_p90  fall_t2080_rcp45_p90  \n",
       "0                      0.64                  0.52  \n",
       "1                      0.65                  0.52  \n",
       "2                      0.64                  0.52  \n",
       "3                      0.60                  0.51  \n",
       "4                      0.55                  0.46  \n",
       "...                     ...                   ...  \n",
       "76201                 19.35                 19.44  \n",
       "76202                 20.27                 20.25  \n",
       "76203                 19.71                 19.78  \n",
       "76204                 19.52                 19.58  \n",
       "76205                 17.02                 17.53  \n",
       "\n",
       "[76206 rows x 26 columns]"
      ]
     },
     "execution_count": 9,
     "metadata": {},
     "output_type": "execute_result"
    }
   ],
   "source": [
    "dfse452 = dfse45.drop(columns=[\"winter_hist_rcp45_p10\",\"winter_hist_rcp45_p50\", \"winter_hist_rcp45_p90\", \n",
    "                               \"spring_hist_rcp45_p10\", \"spring_hist_rcp45_p50\", \"spring_hist_rcp45_p90\", \n",
    "                               \"summer_hist_rcp45_p10\",\"summer_hist_rcp45_p50\", \"summer_hist_rcp45_p90\", \n",
    "                               \"fall_hist_rcp45_p10\",\"fall_hist_rcp45_p50\", \"fall_hist_rcp45_p90\"])\n",
    "dfse452\n"
   ]
  },
  {
   "cell_type": "code",
   "execution_count": 10,
   "metadata": {},
   "outputs": [],
   "source": [
    "dfsew = dfse45[[\"winter_hist_rcp45_p50\"]]\n",
    "dfsesp = dfse45[[\"spring_hist_rcp45_p50\"]]\n",
    "dfsesu = dfse45[[\"summer_hist_rcp45_p50\"]]\n",
    "dfsefa = dfse45[[\"fall_hist_rcp45_p50\"]]"
   ]
  },
  {
   "cell_type": "markdown",
   "metadata": {},
   "source": [
    "# FOR RCP 85"
   ]
  },
  {
   "cell_type": "markdown",
   "metadata": {},
   "source": [
    "## Subsetting arrays by periods of time with Xclim"
   ]
  },
  {
   "cell_type": "code",
   "execution_count": 11,
   "metadata": {},
   "outputs": [
    {
     "name": "stdout",
     "output_type": "stream",
     "text": [
      "0\n",
      "<xarray.Dataset>\n",
      "Dimensions:       (lat: 320, lon: 416, realization: 11, time: 120)\n",
      "Coordinates:\n",
      "  * lon           (lon) float32 -89.04521 -88.96188 ... -54.54659 -54.46326\n",
      "  * time          (time) datetime64[ns] 1981-12-01 1982-12-01 ... 2100-12-01\n",
      "  * lat           (lat) float32 66.62331 66.53998 66.45665 ... 40.12437 40.04104\n",
      "  * realization   (realization) int64 0 1 2 3 4 5 6 7 8 9 10\n",
      "Data variables:\n",
      "    solidprcptot  (realization, time, lat, lon) float32 dask.array<chunksize=(1, 1, 320, 416), meta=np.ndarray>\n",
      "Attributes:\n",
      "    Conventions:     CF-1.5\n",
      "    title:           ACCESS1-3 model output prepared for CMIP5 historical\n",
      "    history:         CMIP5 compliant file produced from raw ACCESS model outp...\n",
      "    institution:     CSIRO (Commonwealth Scientific and Industrial Research O...\n",
      "    source:          ACCESS1-3 2011. Atmosphere: AGCM v1.0 (N96 grid-point, 1...\n",
      "    redistribution:  Redistribution prohibited. For internal use only.\n",
      "1\n",
      "<xarray.Dataset>\n",
      "Dimensions:       (lat: 320, lon: 416, realization: 11, time: 120)\n",
      "Coordinates:\n",
      "  * lon           (lon) float32 -89.04521 -88.96188 ... -54.54659 -54.46326\n",
      "  * time          (time) datetime64[ns] 1981-03-01 1982-03-01 ... 2100-03-01\n",
      "  * lat           (lat) float32 66.62331 66.53998 66.45665 ... 40.12437 40.04104\n",
      "  * realization   (realization) int64 0 1 2 3 4 5 6 7 8 9 10\n",
      "Data variables:\n",
      "    solidprcptot  (realization, time, lat, lon) float32 dask.array<chunksize=(1, 2, 320, 416), meta=np.ndarray>\n",
      "Attributes:\n",
      "    Conventions:     CF-1.5\n",
      "    title:           ACCESS1-3 model output prepared for CMIP5 historical\n",
      "    history:         CMIP5 compliant file produced from raw ACCESS model outp...\n",
      "    institution:     CSIRO (Commonwealth Scientific and Industrial Research O...\n",
      "    source:          ACCESS1-3 2011. Atmosphere: AGCM v1.0 (N96 grid-point, 1...\n",
      "    redistribution:  Redistribution prohibited. For internal use only.\n",
      "2\n",
      "<xarray.Dataset>\n",
      "Dimensions:       (lat: 320, lon: 416, realization: 11, time: 120)\n",
      "Coordinates:\n",
      "  * lon           (lon) float32 -89.04521 -88.96188 ... -54.54659 -54.46326\n",
      "  * time          (time) datetime64[ns] 1981-06-01 1982-06-01 ... 2100-06-01\n",
      "  * lat           (lat) float32 66.62331 66.53998 66.45665 ... 40.12437 40.04104\n",
      "  * realization   (realization) int64 0 1 2 3 4 5 6 7 8 9 10\n",
      "Data variables:\n",
      "    solidprcptot  (realization, time, lat, lon) float32 dask.array<chunksize=(1, 1, 320, 416), meta=np.ndarray>\n",
      "Attributes:\n",
      "    Conventions:     CF-1.5\n",
      "    title:           ACCESS1-3 model output prepared for CMIP5 historical\n",
      "    history:         CMIP5 compliant file produced from raw ACCESS model outp...\n",
      "    institution:     CSIRO (Commonwealth Scientific and Industrial Research O...\n",
      "    source:          ACCESS1-3 2011. Atmosphere: AGCM v1.0 (N96 grid-point, 1...\n",
      "    redistribution:  Redistribution prohibited. For internal use only.\n",
      "3\n",
      "<xarray.Dataset>\n",
      "Dimensions:       (lat: 320, lon: 416, realization: 11, time: 120)\n",
      "Coordinates:\n",
      "  * lon           (lon) float32 -89.04521 -88.96188 ... -54.54659 -54.46326\n",
      "  * time          (time) datetime64[ns] 1981-09-01 1982-09-01 ... 2100-09-01\n",
      "  * lat           (lat) float32 66.62331 66.53998 66.45665 ... 40.12437 40.04104\n",
      "  * realization   (realization) int64 0 1 2 3 4 5 6 7 8 9 10\n",
      "Data variables:\n",
      "    solidprcptot  (realization, time, lat, lon) float32 dask.array<chunksize=(1, 1, 320, 416), meta=np.ndarray>\n",
      "Attributes:\n",
      "    Conventions:     CF-1.5\n",
      "    title:           ACCESS1-3 model output prepared for CMIP5 historical\n",
      "    history:         CMIP5 compliant file produced from raw ACCESS model outp...\n",
      "    institution:     CSIRO (Commonwealth Scientific and Industrial Research O...\n",
      "    source:          ACCESS1-3 2011. Atmosphere: AGCM v1.0 (N96 grid-point, 1...\n",
      "    redistribution:  Redistribution prohibited. For internal use only.\n"
     ]
    }
   ],
   "source": [
    "dsEns85= ens.create_ensemble(files85)\n",
    "dsEns85.time.dt.season[0:4]\n",
    "# Seasonal example 30 y means\n",
    "listds85 = []\n",
    "i=0\n",
    "for s in dsEns85.time.dt.season[0:4]:\n",
    "    print (i)\n",
    "    tmp1 = dsEns85.sel(time=(dsEns85.time.dt.year>=1981))\n",
    "    tmp1 = tmp1.sel(time=(tmp1.time.dt.season==s))\n",
    "    print(tmp1)\n",
    "    i = i+1\n",
    "    listds85.append(tmp1)"
   ]
  },
  {
   "cell_type": "markdown",
   "metadata": {},
   "source": [
    "## Loop to create all 4 dataframes"
   ]
  },
  {
   "cell_type": "code",
   "execution_count": null,
   "metadata": {},
   "outputs": [
    {
     "name": "stdout",
     "output_type": "stream",
     "text": [
      "Dataset number:  0\n",
      "Percentiles Obteined\n"
     ]
    }
   ],
   "source": [
    "i = 0\n",
    "df85list = []\n",
    "for ds in listds85:\n",
    "    print (\"Dataset number: \", i)\n",
    "    perc85 = ens.ensemble_percentiles(ds)\n",
    "    print (\"Percentiles Obteined\")\n",
    "    df85 = perc85.to_dataframe()\n",
    "    df852 = df85.reset_index()\n",
    "    df853 = df852.loc[df852[\"realization\"] == 0].dropna()\n",
    "    print (\"Converted to DF\")\n",
    "    year_groups = {y:0 for y in range(1980,2011)}\n",
    "    year_groups.update({y:1 for y in range(2041,2071)})\n",
    "    year_groups.update({y:2 for y in range(2071,2101)})\n",
    "    dfp = df853.groupby([df853.time.dt.year.map(year_groups), \"lat\",\"lon\", \"realization\"]).mean()\n",
    "    dfp852 =  dfp.reset_index()\n",
    "    print (\"Split in 3 different time periods\")\n",
    "    df85C = dfp852.copy()\n",
    "    df85C[var+\"_p10\"] = round(df85C[var+\"_p10\"]/10,2)\n",
    "    df85C[var+\"_p50\"] = round(df85C[var+\"_p50\"]/10,2)\n",
    "    df85C[var+\"_p90\"] = round(df85C[var+\"_p90\"]/10,2)\n",
    "    print (\"Transformed in Celsiuds and rounded\")\n",
    "    Region1i85 = df85C.drop(columns=[\"realization\"])\n",
    "    print (\"pivoted\")\n",
    "    df85f = Region1i85.pivot_table(index=[\"lat\",\"lon\"], columns=\"time\")\n",
    "    print (\"DF pivoted\")\n",
    "    if i== 0: season = \"winter\" \n",
    "    elif i == 1: season = \"spring\"\n",
    "    elif i == 2: season = \"summer\"\n",
    "    elif i == 3: season = \"fall\"\n",
    "    print (season)\n",
    "    df85f.columns = [season + \"_\" + year + \"rcp85_p\"+p\n",
    "                     for p in [\"10\", \"50\", \"90\"]\n",
    "                     for year in [\"hist_\",\"t2050_\", \"t2080_\"]]\n",
    "    print(\"Columns renamed\")\n",
    "    df85list.append(df85f)\n",
    "    print (\"DF added to the list\")\n",
    "    i = i + 1\n",
    "    "
   ]
  },
  {
   "cell_type": "code",
   "execution_count": null,
   "metadata": {},
   "outputs": [],
   "source": [
    "df85list\n"
   ]
  },
  {
   "cell_type": "code",
   "execution_count": null,
   "metadata": {},
   "outputs": [],
   "source": [
    "dfw85 = df85list[0].reset_index()\n",
    "dfsp85 = df85list[1].reset_index()\n",
    "dfsu85 = df85list[2].reset_index()\n",
    "dff85 = df85list[3].reset_index()\n",
    "mkey = [\"lat\",\"lon\"]\n",
    "dfse85 = dfw85.merge(dfsp85, on=mkey).merge(dfsu85, on=mkey).merge(dff85, on=mkey)\n",
    "dfse85"
   ]
  },
  {
   "cell_type": "code",
   "execution_count": null,
   "metadata": {},
   "outputs": [],
   "source": [
    "dfse85.to_feather(\"/home/mlopez/EXEC/Processed data to clip with regions/rcp85\"+var+\"_seasonal.feather\")"
   ]
  },
  {
   "cell_type": "markdown",
   "metadata": {},
   "source": [
    "# Merge df45 and 85"
   ]
  },
  {
   "cell_type": "markdown",
   "metadata": {},
   "source": [
    "# Extract hist"
   ]
  },
  {
   "cell_type": "code",
   "execution_count": null,
   "metadata": {},
   "outputs": [],
   "source": [
    "dfse852 = dfse85.drop(columns=[\"winter_hist_rcp85_p10\",\"winter_hist_rcp85_p50\", \"winter_hist_rcp85_p90\", \n",
    "                               \"spring_hist_rcp85_p10\", \"spring_hist_rcp85_p50\", \"spring_hist_rcp85_p90\", \n",
    "                               \"summer_hist_rcp85_p10\",\"summer_hist_rcp85_p50\", \"summer_hist_rcp85_p90\", \n",
    "                               \"fall_hist_rcp85_p10\",\"fall_hist_rcp85_p50\", \"fall_hist_rcp85_p90\"])\n",
    "dfse852\n"
   ]
  },
  {
   "cell_type": "markdown",
   "metadata": {},
   "source": [
    "## Getting historic mean for each season"
   ]
  },
  {
   "cell_type": "code",
   "execution_count": null,
   "metadata": {},
   "outputs": [],
   "source": [
    "### Function\n",
    "def mean_season(season, dfse45, dfse85):\n",
    "    dfw45 = dfse45[[\"lat\", \"lon\", season+\"_hist_rcp45_p50\"]]\n",
    "    dfw85 = dfse85[[\"lat\", \"lon\", season+\"_hist_rcp85_p50\"]]\n",
    "    dfsew = pd.merge(dfw45, dfw85, on=[\"lat\",\"lon\"])\n",
    "    dfsew[season+\"_hist_p50\"] = round((dfsew[season+\"_hist_rcp45_p50\"]+ dfsew[season+\"_hist_rcp85_p50\"])/2, 2)\n",
    "    dftgwh2 = dfsew.reset_index()\n",
    "    dftgwh3 = dftgwh2[[\"lat\", \"lon\", season+\"_hist_p50\"]]\n",
    "    return (dftgwh3)\n"
   ]
  },
  {
   "cell_type": "markdown",
   "metadata": {},
   "source": [
    "### Winter historic mean"
   ]
  },
  {
   "cell_type": "code",
   "execution_count": null,
   "metadata": {},
   "outputs": [],
   "source": [
    "dftgwh = mean_season(\"winter\", dfse45, dfse85)\n",
    "dftgwh"
   ]
  },
  {
   "cell_type": "markdown",
   "metadata": {},
   "source": [
    "### Spring historic mean"
   ]
  },
  {
   "cell_type": "code",
   "execution_count": null,
   "metadata": {},
   "outputs": [],
   "source": [
    "dftsph = mean_season(\"spring\", dfse45, dfse85)\n",
    "dftsph"
   ]
  },
  {
   "cell_type": "markdown",
   "metadata": {},
   "source": [
    "### Summer historic mean"
   ]
  },
  {
   "cell_type": "code",
   "execution_count": null,
   "metadata": {},
   "outputs": [],
   "source": [
    "dftsuh = mean_season(\"summer\", dfse45, dfse85)\n",
    "dftsuh"
   ]
  },
  {
   "cell_type": "markdown",
   "metadata": {},
   "source": [
    "### Fall historic mean"
   ]
  },
  {
   "cell_type": "code",
   "execution_count": null,
   "metadata": {},
   "outputs": [],
   "source": [
    "dftfah = mean_season(\"fall\", dfse45, dfse85)\n",
    "dftfah"
   ]
  },
  {
   "cell_type": "markdown",
   "metadata": {},
   "source": [
    "# Merge means with the 45 and 85 DF"
   ]
  },
  {
   "cell_type": "code",
   "execution_count": null,
   "metadata": {},
   "outputs": [],
   "source": [
    "dftgseall = dfse852.merge(dfse452, on=mkey).merge(dftfah, on=mkey).merge(dftsuh, on=mkey).merge(dftsph, on=mkey).merge(dftgwh, on=mkey)"
   ]
  },
  {
   "cell_type": "code",
   "execution_count": null,
   "metadata": {},
   "outputs": [],
   "source": [
    "dftgseall"
   ]
  },
  {
   "cell_type": "code",
   "execution_count": null,
   "metadata": {},
   "outputs": [],
   "source": [
    "dftgseall.to_feather(\"/home/mlopez/EXEC/Processed data to clip with regions/\"+var+\"_seasonal.feather\")"
   ]
  },
  {
   "cell_type": "code",
   "execution_count": null,
   "metadata": {},
   "outputs": [],
   "source": [
    "#dftgseall = pd.read_feather(\"/home/mlopez/EXEC/Processed data to clip with regions/\"+var+\"_annual.feather\")"
   ]
  },
  {
   "cell_type": "markdown",
   "metadata": {},
   "source": [
    "# Merge complete DF with Polygons for each spatial scale"
   ]
  },
  {
   "cell_type": "markdown",
   "metadata": {},
   "source": [
    "## Dictionary - regions: column name, short name"
   ]
  },
  {
   "cell_type": "code",
   "execution_count": null,
   "metadata": {},
   "outputs": [],
   "source": []
  },
  {
   "cell_type": "code",
   "execution_count": null,
   "metadata": {},
   "outputs": [],
   "source": [
    "short_dict = {\"DDE_STF_20K_REG_FOR_VUE_S\": (\"NM_REG_FOR\", \"RF\"), \n",
    "            \"DDE_STF_20K_UA_PER_VUE_S\": (\"PER_NO_UA\", \"UA\"), \n",
    "              \"DOM_BIO\": (\"NOM\", \"DB\"), \n",
    "              \"REG_ECO\": (\"NOM\", \"RE\"), \n",
    "              \"SDOM_BIO\": (\"NOM\", \"SDB\"), \n",
    "              \"Secteurs_Operations_Regionales\": (\"D_GENERAL\", \"SOR\"), \n",
    "              \"SREG_ECO\": (\"NOM\", \"SRE\"),  \n",
    "              \"territoire_guide\": (\"TER_GUIDE\", \"TG\") \n",
    "              }\n",
    "\n",
    "for region, (name, short) in short_dict.items():\n",
    "    print(region, name, short)"
   ]
  },
  {
   "cell_type": "code",
   "execution_count": null,
   "metadata": {},
   "outputs": [],
   "source": [
    "def replace_all(text, dic):\n",
    "    for i, j in dic.items():\n",
    "        text = text.replace(i, j)\n",
    "    return text"
   ]
  },
  {
   "cell_type": "code",
   "execution_count": null,
   "metadata": {},
   "outputs": [],
   "source": [
    "d = { 'BAS-SAINT-LAURENT':\"Bas-Saint-Laurent\", \n",
    "     'SAGUENAY -LAC-SAINT-JEAN': \"Saguenay -Lac-Saint-Jean\",\n",
    "     'CAPITALE-NATIONALE-CHAUDIÈRE-APPALACHES':\"Capitale-Nationale-Chaudiere-Appalaches\",\n",
    "     'MAURICIE-CENTRE-DU-QUÉBEC':'Mauricie-Centre-du-Quebec','OUTAOUAIS':'Outaouais', \n",
    "     'ABITIBI-TEMISCAMINGUE':'Abitibi-Temiscamingue', 'COTE-NORD':'Cote-Nord',\n",
    "     'NORD-DU-QUEBEC':'Nord-Du-Quebec', 'GASPESIE-ILES-DE-LA-MADELEINE':'Gaspesie-Iles-De-La-Madeleine', \n",
    "     'LANAUDIERE':'Lanaudiere','LAURENTIDES':\"Laurentides\", \n",
    "     \"ESTRIE-MONTÉRÉGIE-LAVAL-MONTRÉAL\":\"Estrie-Monteregie-Laval-Montreal\", \n",
    "     \"é\": \"e\", \"É\": \"E\", \"à\": \"a\", \"è\": \"e\", \"Î\": \"i\", \"È\": \"E\", \"ô\" : \"o\", \"Ç\":\"C\", \"ç\":\"c\",\n",
    "       } "
   ]
  },
  {
   "cell_type": "code",
   "execution_count": null,
   "metadata": {},
   "outputs": [],
   "source": [
    "for region, (name, short) in short_dict.items():\n",
    "    print(region)\n",
    "    dfpolyshape = from_geofeather('/home/mlopez/EXEC/Grids-polygons-regions/Grid-'+region+'.feather')\n",
    "    dftp = pd.merge(dftgseall, dfpolyshape, on=[\"lat\",\"lon\"])\n",
    "    print (\"Merged with polygons\")\n",
    "    listTG = []\n",
    "    for tg in dftp[name].unique().tolist():\n",
    "        df2 = dftp[dftp[name] == tg]\n",
    "        print (tg)\n",
    "        if tg != None:\n",
    "            listTG.append(df2)\n",
    "        #print (listTG)\n",
    "    for df in listTG:\n",
    "        geometry = df[\"geometry\"]\n",
    "        crs = {'init': \"epsg:4326\"}\n",
    "        gdf = GeoDataFrame(df, crs=crs, geometry=geometry)\n",
    "        print (gdf[name].iloc[0])\n",
    "        #Substitute filename accents\n",
    "        gdf.to_file(replace_all(\"/home/mlopez/EXEC/GeoJsonMFFP/\"+gdf[name].iloc[0], d)+\"_\"+var+\"_seasonal.json\", driver=\"GeoJSON\")\n",
    "    geometry = dftp[\"geometry\"]\n",
    "    crs = {'init': \"epsg:4326\"}\n",
    "    gdf = GeoDataFrame(dftp, crs=crs, geometry=geometry)\n",
    "    gdf.to_file(\"/home/mlopez/EXEC/GeoJsonMFFP/\"+short+\"_\"+var+\"_seasonal.json\", driver=\"GeoJSON\")"
   ]
  },
  {
   "cell_type": "code",
   "execution_count": null,
   "metadata": {},
   "outputs": [],
   "source": []
  }
 ],
 "metadata": {
  "kernelspec": {
   "display_name": "Python 3",
   "language": "python",
   "name": "python3"
  },
  "language_info": {
   "codemirror_mode": {
    "name": "ipython",
    "version": 3
   },
   "file_extension": ".py",
   "mimetype": "text/x-python",
   "name": "python",
   "nbconvert_exporter": "python",
   "pygments_lexer": "ipython3",
   "version": "3.8.1"
  }
 },
 "nbformat": 4,
 "nbformat_minor": 4
}

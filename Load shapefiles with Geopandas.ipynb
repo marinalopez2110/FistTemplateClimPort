{
 "cells": [
  {
   "cell_type": "code",
   "execution_count": 1,
   "metadata": {},
   "outputs": [],
   "source": [
    "import geopandas as gpd"
   ]
  },
  {
   "cell_type": "code",
   "execution_count": 5,
   "metadata": {},
   "outputs": [],
   "source": [
    "import matplotlib.pyplot as plt\n",
    "%matplotlib inline"
   ]
  },
  {
   "cell_type": "code",
   "execution_count": 9,
   "metadata": {},
   "outputs": [],
   "source": [
    "from descartes import PolygonPatch"
   ]
  },
  {
   "cell_type": "code",
   "execution_count": 4,
   "metadata": {},
   "outputs": [
    {
     "data": {
      "text/plain": [
       "array(['OBJECTID', 'ZONE_VEG', 'SZONE_VEG', 'DOM_BIO', 'NOM',\n",
       "       'SUPERFICIE', 'Shape_Leng', 'Shape_Area', 'TemMax', 'geometry'],\n",
       "      dtype=object)"
      ]
     },
     "execution_count": 4,
     "metadata": {},
     "output_type": "execute_result"
    }
   ],
   "source": [
    "df = gpd.read_file(\"/home/mlopez/EXEC/Shapefiles/DOM_BIO.shp\")\n",
    "df.columns.values"
   ]
  },
  {
   "cell_type": "code",
   "execution_count": 6,
   "metadata": {},
   "outputs": [
    {
     "data": {
      "text/html": [
       "<div>\n",
       "<style scoped>\n",
       "    .dataframe tbody tr th:only-of-type {\n",
       "        vertical-align: middle;\n",
       "    }\n",
       "\n",
       "    .dataframe tbody tr th {\n",
       "        vertical-align: top;\n",
       "    }\n",
       "\n",
       "    .dataframe thead th {\n",
       "        text-align: right;\n",
       "    }\n",
       "</style>\n",
       "<table border=\"1\" class=\"dataframe\">\n",
       "  <thead>\n",
       "    <tr style=\"text-align: right;\">\n",
       "      <th></th>\n",
       "      <th>OBJECTID</th>\n",
       "      <th>ZONE_VEG</th>\n",
       "      <th>SZONE_VEG</th>\n",
       "      <th>DOM_BIO</th>\n",
       "      <th>NOM</th>\n",
       "      <th>SUPERFICIE</th>\n",
       "      <th>Shape_Leng</th>\n",
       "      <th>Shape_Area</th>\n",
       "      <th>TemMax</th>\n",
       "      <th>geometry</th>\n",
       "    </tr>\n",
       "  </thead>\n",
       "  <tbody>\n",
       "    <tr>\n",
       "      <th>0</th>\n",
       "      <td>1</td>\n",
       "      <td>None</td>\n",
       "      <td>None</td>\n",
       "      <td>None</td>\n",
       "      <td>None</td>\n",
       "      <td>25607428.6</td>\n",
       "      <td>164.992897</td>\n",
       "      <td>35.988962</td>\n",
       "      <td>None</td>\n",
       "      <td>POLYGON ((-57.10894 51.41622, -57.10843 51.425...</td>\n",
       "    </tr>\n",
       "    <tr>\n",
       "      <th>1</th>\n",
       "      <td>2</td>\n",
       "      <td>Z2</td>\n",
       "      <td>Z21</td>\n",
       "      <td>6</td>\n",
       "      <td>Pessière à mousses</td>\n",
       "      <td>2703332.1</td>\n",
       "      <td>19.934361</td>\n",
       "      <td>3.614118</td>\n",
       "      <td>None</td>\n",
       "      <td>POLYGON ((-57.10885 51.80453, -57.10871 51.894...</td>\n",
       "    </tr>\n",
       "    <tr>\n",
       "      <th>2</th>\n",
       "      <td>3</td>\n",
       "      <td>Z2</td>\n",
       "      <td>Z22</td>\n",
       "      <td>7</td>\n",
       "      <td>Pessière à lichens</td>\n",
       "      <td>146331.8</td>\n",
       "      <td>3.433543</td>\n",
       "      <td>0.197042</td>\n",
       "      <td>None</td>\n",
       "      <td>POLYGON ((-63.62106 52.87605, -63.61877 52.885...</td>\n",
       "    </tr>\n",
       "    <tr>\n",
       "      <th>3</th>\n",
       "      <td>4</td>\n",
       "      <td>Z2</td>\n",
       "      <td>Z22</td>\n",
       "      <td>7</td>\n",
       "      <td>Pessière à lichens</td>\n",
       "      <td>297815.4</td>\n",
       "      <td>7.177941</td>\n",
       "      <td>0.397690</td>\n",
       "      <td>None</td>\n",
       "      <td>POLYGON ((-64.00001 52.73757, -63.99938 52.732...</td>\n",
       "    </tr>\n",
       "    <tr>\n",
       "      <th>4</th>\n",
       "      <td>5</td>\n",
       "      <td>Z3</td>\n",
       "      <td>Z31</td>\n",
       "      <td>9</td>\n",
       "      <td>Toundra arctique arbustive</td>\n",
       "      <td>19449981.6</td>\n",
       "      <td>83.116253</td>\n",
       "      <td>30.841645</td>\n",
       "      <td>None</td>\n",
       "      <td>POLYGON ((-69.59218 60.21848, -69.59202 60.214...</td>\n",
       "    </tr>\n",
       "    <tr>\n",
       "      <th>...</th>\n",
       "      <td>...</td>\n",
       "      <td>...</td>\n",
       "      <td>...</td>\n",
       "      <td>...</td>\n",
       "      <td>...</td>\n",
       "      <td>...</td>\n",
       "      <td>...</td>\n",
       "      <td>...</td>\n",
       "      <td>...</td>\n",
       "      <td>...</td>\n",
       "    </tr>\n",
       "    <tr>\n",
       "      <th>1287</th>\n",
       "      <td>1288</td>\n",
       "      <td>Z2</td>\n",
       "      <td>Z22</td>\n",
       "      <td>7</td>\n",
       "      <td>Pessière à lichens</td>\n",
       "      <td>29016262.2</td>\n",
       "      <td>60.028484</td>\n",
       "      <td>40.552338</td>\n",
       "      <td>None</td>\n",
       "      <td>POLYGON ((-66.93699 57.86419, -66.88774 57.855...</td>\n",
       "    </tr>\n",
       "    <tr>\n",
       "      <th>1288</th>\n",
       "      <td>1289</td>\n",
       "      <td>Z2</td>\n",
       "      <td>Z23</td>\n",
       "      <td>8</td>\n",
       "      <td>Toundra forestière</td>\n",
       "      <td>629112.4</td>\n",
       "      <td>6.975767</td>\n",
       "      <td>0.894753</td>\n",
       "      <td>None</td>\n",
       "      <td>POLYGON ((-67.48167 55.28456, -67.40291 55.279...</td>\n",
       "    </tr>\n",
       "    <tr>\n",
       "      <th>1289</th>\n",
       "      <td>1290</td>\n",
       "      <td>Z2</td>\n",
       "      <td>Z23</td>\n",
       "      <td>8</td>\n",
       "      <td>Toundra forestière</td>\n",
       "      <td>20713843.3</td>\n",
       "      <td>54.337240</td>\n",
       "      <td>30.710562</td>\n",
       "      <td>None</td>\n",
       "      <td>POLYGON ((-69.92814 58.55252, -69.88419 58.547...</td>\n",
       "    </tr>\n",
       "    <tr>\n",
       "      <th>1290</th>\n",
       "      <td>1291</td>\n",
       "      <td>Z3</td>\n",
       "      <td>Z31</td>\n",
       "      <td>10</td>\n",
       "      <td>Toundra arctique herbacée</td>\n",
       "      <td>35894.8</td>\n",
       "      <td>1.755321</td>\n",
       "      <td>0.050682</td>\n",
       "      <td>None</td>\n",
       "      <td>POLYGON ((-79.23661 54.79864, -79.25587 54.784...</td>\n",
       "    </tr>\n",
       "    <tr>\n",
       "      <th>1291</th>\n",
       "      <td>1292</td>\n",
       "      <td>Z3</td>\n",
       "      <td>Z31</td>\n",
       "      <td>10</td>\n",
       "      <td>Toundra arctique herbacée</td>\n",
       "      <td>3722197.1</td>\n",
       "      <td>28.652720</td>\n",
       "      <td>6.248131</td>\n",
       "      <td>None</td>\n",
       "      <td>POLYGON ((-77.41332 62.53707, -77.40959 62.530...</td>\n",
       "    </tr>\n",
       "  </tbody>\n",
       "</table>\n",
       "<p>1292 rows × 10 columns</p>\n",
       "</div>"
      ],
      "text/plain": [
       "      OBJECTID ZONE_VEG SZONE_VEG DOM_BIO                         NOM  \\\n",
       "0            1     None      None    None                        None   \n",
       "1            2       Z2       Z21       6          Pessière à mousses   \n",
       "2            3       Z2       Z22       7          Pessière à lichens   \n",
       "3            4       Z2       Z22       7          Pessière à lichens   \n",
       "4            5       Z3       Z31       9  Toundra arctique arbustive   \n",
       "...        ...      ...       ...     ...                         ...   \n",
       "1287      1288       Z2       Z22       7          Pessière à lichens   \n",
       "1288      1289       Z2       Z23       8          Toundra forestière   \n",
       "1289      1290       Z2       Z23       8          Toundra forestière   \n",
       "1290      1291       Z3       Z31      10   Toundra arctique herbacée   \n",
       "1291      1292       Z3       Z31      10   Toundra arctique herbacée   \n",
       "\n",
       "      SUPERFICIE  Shape_Leng  Shape_Area TemMax  \\\n",
       "0     25607428.6  164.992897   35.988962   None   \n",
       "1      2703332.1   19.934361    3.614118   None   \n",
       "2       146331.8    3.433543    0.197042   None   \n",
       "3       297815.4    7.177941    0.397690   None   \n",
       "4     19449981.6   83.116253   30.841645   None   \n",
       "...          ...         ...         ...    ...   \n",
       "1287  29016262.2   60.028484   40.552338   None   \n",
       "1288    629112.4    6.975767    0.894753   None   \n",
       "1289  20713843.3   54.337240   30.710562   None   \n",
       "1290     35894.8    1.755321    0.050682   None   \n",
       "1291   3722197.1   28.652720    6.248131   None   \n",
       "\n",
       "                                               geometry  \n",
       "0     POLYGON ((-57.10894 51.41622, -57.10843 51.425...  \n",
       "1     POLYGON ((-57.10885 51.80453, -57.10871 51.894...  \n",
       "2     POLYGON ((-63.62106 52.87605, -63.61877 52.885...  \n",
       "3     POLYGON ((-64.00001 52.73757, -63.99938 52.732...  \n",
       "4     POLYGON ((-69.59218 60.21848, -69.59202 60.214...  \n",
       "...                                                 ...  \n",
       "1287  POLYGON ((-66.93699 57.86419, -66.88774 57.855...  \n",
       "1288  POLYGON ((-67.48167 55.28456, -67.40291 55.279...  \n",
       "1289  POLYGON ((-69.92814 58.55252, -69.88419 58.547...  \n",
       "1290  POLYGON ((-79.23661 54.79864, -79.25587 54.784...  \n",
       "1291  POLYGON ((-77.41332 62.53707, -77.40959 62.530...  \n",
       "\n",
       "[1292 rows x 10 columns]"
      ]
     },
     "execution_count": 6,
     "metadata": {},
     "output_type": "execute_result"
    }
   ],
   "source": [
    "df"
   ]
  },
  {
   "cell_type": "code",
   "execution_count": 10,
   "metadata": {},
   "outputs": [
    {
     "data": {
      "text/plain": [
       "<matplotlib.axes._subplots.AxesSubplot at 0x7f15dc636a58>"
      ]
     },
     "execution_count": 10,
     "metadata": {},
     "output_type": "execute_result"
    },
    {
     "data": {
      "image/png": "[encoded data removed]",
      "text/plain": [
       "<Figure size 432x288 with 1 Axes>"
      ]
     },
     "metadata": {
      "needs_background": "light"
     },
     "output_type": "display_data"
    }
   ],
   "source": [
    "df.plot()"
   ]
  }
 ],
 "metadata": {
  "kernelspec": {
   "display_name": "Python 3",
   "language": "python",
   "name": "python3"
  },
  "language_info": {
   "codemirror_mode": {
    "name": "ipython",
    "version": 3
   },
   "file_extension": ".py",
   "mimetype": "text/x-python",
   "name": "python",
   "nbconvert_exporter": "python",
   "pygments_lexer": "ipython3",
   "version": "3.7.3"
  }
 },
 "nbformat": 4,
 "nbformat_minor": 2
}
